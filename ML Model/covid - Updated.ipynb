{
 "cells": [
  {
   "cell_type": "markdown",
   "metadata": {
    "colab": {},
    "colab_type": "code",
    "id": "P0Pffkxc5Mp8"
   },
   "source": [
    "### What is COVID-19?"
   ]
  },
  {
   "cell_type": "markdown",
   "metadata": {},
   "source": [
    "COVID-19 is a respiratory illness caused by a new virus. Symptoms include fever, coughing, sore throat and shortness of breath. The virus can spread from person to person, but good hygiene can prevent infection."
   ]
  },
  {
   "cell_type": "markdown",
   "metadata": {},
   "source": [
    "### Related Information about COVID-19"
   ]
  },
  {
   "cell_type": "markdown",
   "metadata": {},
   "source": [
    "COVID-19 may not be fatal but it spreads faster than other diseases, like common cold. Every virus has Basic Reproduction number (R0) which implies how many people will get the disease from the infected person. As per inital reseach work R0 of COVID-19 is 2.7.\n",
    "\n",
    "Currently the goal of all scientists around the world is to \"Flatten the Curve\". COVID-19 currently has exponential growth rate around the world which we will be seeing in the notebook ahead. Flattening the Curve typically implies even if the number of Confirmed Cases are increasing but the distribution of those cases should be over longer timestamp. To put it in simple words if say suppose COVID-19 is going infect 100K people then those many people should be infected in 1 year but not in a month. \n",
    "\n",
    "The sole reason to Flatten the Curve is to reudce the load on the Medical Systems so as to increase the focus of Research to find the Medicine for the disease.\n",
    "\n",
    "Every Pandemic has four stages:\n",
    "\n",
    "Stage 1: Confirmed Cases come from other countries\n",
    "\n",
    "Stage 2: Local Transmission Begins\n",
    "\n",
    "Stage 3: Communities impacted with local transimission\n",
    "\n",
    "Stage 4: Significant Transmission with no end in sight\n",
    "\n",
    "Italy, USA, UK and France are the two countries which are currently in Stage 4\n",
    "While India is in on the edge of Stage 3.\n",
    "\n",
    "Other ways to tackle the disease like Corona other than Travel Ban, Cross-Border shutdown, Ban on immigrants are Testing, Contact Tracing and Quarantine."
   ]
  },
  {
   "cell_type": "markdown",
   "metadata": {},
   "source": [
    "#### Interesting YouTube Videos related to COVID-19\n",
    "Gravitas: Why is the WHO Director General toeing China's line? | Coronavirus: \n",
    "https://www.youtube.com/watch?v=O1NGzmDVWxA\n",
    "\n",
    "Gravitas: Demand grows for W.H.O Boss' resignation:\n",
    "https://www.youtube.com/watch?v=J8TfKok9Rns&t=157s\n",
    "\n",
    "Gravitas: Wuhan Coronavirus, countries that are setting an example for the world:\n",
    "https://www.youtube.com/watch?v=peBNIHRtUY8&t=298s\n",
    "\n",
    "Gravitas: Wuhan Coronavirus, Is China downplaying the number of victims?:\n",
    "https://www.youtube.com/watch?v=0VEcyEhrtgI\n",
    "\n",
    "Gravitas: UNSC fails to pin responsibility on China | Coronavirus:\n",
    "https://www.youtube.com/watch?v=op43xZ1XMQY\n",
    "\n",
    "Gravitas: Will China change its eating habits? | Wuhan Coronavirus:\n",
    "https://www.youtube.com/watch?v=wjGw36K0RCU\n",
    "\n",
    "Gravitas: Taiwan unearths China's 'Fake apology' plot | Coronavirus outbreak\n",
    "https://www.youtube.com/watch?v=3kLYAiv4TkA\n",
    "\n",
    "Leaders around the world determined to flatten the COVID-19 curve | Coronavirus | World News:\n",
    "https://www.youtube.com/watch?v=licXTAyMx3c&list=WL&index=2&t=164s"
   ]
  },
  {
   "cell_type": "markdown",
   "metadata": {},
   "source": [
    "### Objective of the Notebook"
   ]
  },
  {
   "cell_type": "markdown",
   "metadata": {},
   "source": [
    "Objective of this notebook is to study COVID-19 outbreak with the help of some basic visualizations techniques. Perform predictions and Time Series forecasting in order to study the impact and spread of the COVID-19 in comming days using Machine Learning. "
   ]
  },
  {
   "cell_type": "markdown",
   "metadata": {},
   "source": [
    "### ................................................................................................................................................................................................................................................................................................................."
   ]
  },
  {
   "cell_type": "markdown",
   "metadata": {},
   "source": [
    "## <- Importing required Python Packages and Libraries ->"
   ]
  },
  {
   "cell_type": "code",
   "execution_count": 2,
   "metadata": {},
   "outputs": [],
   "source": [
    "import pandas as pd\n",
    "import matplotlib.pyplot as plt\n",
    "import seaborn as sns\n",
    "import plotly.express as px\n",
    "import plotly.graph_objects as go\n",
    "from plotly.subplots import make_subplots\n",
    "import numpy as np\n",
    "import datetime as dt\n",
    "from datetime import timedelta\n",
    "from sklearn.linear_model import LinearRegression\n",
    "from sklearn.svm import SVR\n",
    "from statsmodels.tsa.api import Holt\n"
   ]
  },
  {
   "cell_type": "code",
   "execution_count": 3,
   "metadata": {
    "colab": {
     "base_uri": "https://localhost:8080/",
     "height": 355
    },
    "colab_type": "code",
    "id": "_B0aAhNh6VKk",
    "outputId": "d05e3fc9-fa06-46cd-caa6-906d94ad4d52"
   },
   "outputs": [
    {
     "data": {
      "text/html": [
       "<div>\n",
       "<style scoped>\n",
       "    .dataframe tbody tr th:only-of-type {\n",
       "        vertical-align: middle;\n",
       "    }\n",
       "\n",
       "    .dataframe tbody tr th {\n",
       "        vertical-align: top;\n",
       "    }\n",
       "\n",
       "    .dataframe thead th {\n",
       "        text-align: right;\n",
       "    }\n",
       "</style>\n",
       "<table border=\"1\" class=\"dataframe\">\n",
       "  <thead>\n",
       "    <tr style=\"text-align: right;\">\n",
       "      <th></th>\n",
       "      <th>SNo</th>\n",
       "      <th>ObservationDate</th>\n",
       "      <th>Province/State</th>\n",
       "      <th>Country/Region</th>\n",
       "      <th>Last Update</th>\n",
       "      <th>Confirmed</th>\n",
       "      <th>Deaths</th>\n",
       "      <th>Recovered</th>\n",
       "    </tr>\n",
       "  </thead>\n",
       "  <tbody>\n",
       "    <tr>\n",
       "      <th>0</th>\n",
       "      <td>1</td>\n",
       "      <td>01/22/2020</td>\n",
       "      <td>Anhui</td>\n",
       "      <td>Mainland China</td>\n",
       "      <td>1/22/2020 17:00</td>\n",
       "      <td>1.0</td>\n",
       "      <td>0.0</td>\n",
       "      <td>0.0</td>\n",
       "    </tr>\n",
       "    <tr>\n",
       "      <th>1</th>\n",
       "      <td>2</td>\n",
       "      <td>01/22/2020</td>\n",
       "      <td>Beijing</td>\n",
       "      <td>Mainland China</td>\n",
       "      <td>1/22/2020 17:00</td>\n",
       "      <td>14.0</td>\n",
       "      <td>0.0</td>\n",
       "      <td>0.0</td>\n",
       "    </tr>\n",
       "    <tr>\n",
       "      <th>2</th>\n",
       "      <td>3</td>\n",
       "      <td>01/22/2020</td>\n",
       "      <td>Chongqing</td>\n",
       "      <td>Mainland China</td>\n",
       "      <td>1/22/2020 17:00</td>\n",
       "      <td>6.0</td>\n",
       "      <td>0.0</td>\n",
       "      <td>0.0</td>\n",
       "    </tr>\n",
       "    <tr>\n",
       "      <th>3</th>\n",
       "      <td>4</td>\n",
       "      <td>01/22/2020</td>\n",
       "      <td>Fujian</td>\n",
       "      <td>Mainland China</td>\n",
       "      <td>1/22/2020 17:00</td>\n",
       "      <td>1.0</td>\n",
       "      <td>0.0</td>\n",
       "      <td>0.0</td>\n",
       "    </tr>\n",
       "    <tr>\n",
       "      <th>4</th>\n",
       "      <td>5</td>\n",
       "      <td>01/22/2020</td>\n",
       "      <td>Gansu</td>\n",
       "      <td>Mainland China</td>\n",
       "      <td>1/22/2020 17:00</td>\n",
       "      <td>0.0</td>\n",
       "      <td>0.0</td>\n",
       "      <td>0.0</td>\n",
       "    </tr>\n",
       "    <tr>\n",
       "      <th>5</th>\n",
       "      <td>6</td>\n",
       "      <td>01/22/2020</td>\n",
       "      <td>Guangdong</td>\n",
       "      <td>Mainland China</td>\n",
       "      <td>1/22/2020 17:00</td>\n",
       "      <td>26.0</td>\n",
       "      <td>0.0</td>\n",
       "      <td>0.0</td>\n",
       "    </tr>\n",
       "    <tr>\n",
       "      <th>6</th>\n",
       "      <td>7</td>\n",
       "      <td>01/22/2020</td>\n",
       "      <td>Guangxi</td>\n",
       "      <td>Mainland China</td>\n",
       "      <td>1/22/2020 17:00</td>\n",
       "      <td>2.0</td>\n",
       "      <td>0.0</td>\n",
       "      <td>0.0</td>\n",
       "    </tr>\n",
       "    <tr>\n",
       "      <th>7</th>\n",
       "      <td>8</td>\n",
       "      <td>01/22/2020</td>\n",
       "      <td>Guizhou</td>\n",
       "      <td>Mainland China</td>\n",
       "      <td>1/22/2020 17:00</td>\n",
       "      <td>1.0</td>\n",
       "      <td>0.0</td>\n",
       "      <td>0.0</td>\n",
       "    </tr>\n",
       "    <tr>\n",
       "      <th>8</th>\n",
       "      <td>9</td>\n",
       "      <td>01/22/2020</td>\n",
       "      <td>Hainan</td>\n",
       "      <td>Mainland China</td>\n",
       "      <td>1/22/2020 17:00</td>\n",
       "      <td>4.0</td>\n",
       "      <td>0.0</td>\n",
       "      <td>0.0</td>\n",
       "    </tr>\n",
       "    <tr>\n",
       "      <th>9</th>\n",
       "      <td>10</td>\n",
       "      <td>01/22/2020</td>\n",
       "      <td>Hebei</td>\n",
       "      <td>Mainland China</td>\n",
       "      <td>1/22/2020 17:00</td>\n",
       "      <td>1.0</td>\n",
       "      <td>0.0</td>\n",
       "      <td>0.0</td>\n",
       "    </tr>\n",
       "  </tbody>\n",
       "</table>\n",
       "</div>"
      ],
      "text/plain": [
       "   SNo ObservationDate Province/State  Country/Region      Last Update  \\\n",
       "0    1      01/22/2020          Anhui  Mainland China  1/22/2020 17:00   \n",
       "1    2      01/22/2020        Beijing  Mainland China  1/22/2020 17:00   \n",
       "2    3      01/22/2020      Chongqing  Mainland China  1/22/2020 17:00   \n",
       "3    4      01/22/2020         Fujian  Mainland China  1/22/2020 17:00   \n",
       "4    5      01/22/2020          Gansu  Mainland China  1/22/2020 17:00   \n",
       "5    6      01/22/2020      Guangdong  Mainland China  1/22/2020 17:00   \n",
       "6    7      01/22/2020        Guangxi  Mainland China  1/22/2020 17:00   \n",
       "7    8      01/22/2020        Guizhou  Mainland China  1/22/2020 17:00   \n",
       "8    9      01/22/2020         Hainan  Mainland China  1/22/2020 17:00   \n",
       "9   10      01/22/2020          Hebei  Mainland China  1/22/2020 17:00   \n",
       "\n",
       "   Confirmed  Deaths  Recovered  \n",
       "0        1.0     0.0        0.0  \n",
       "1       14.0     0.0        0.0  \n",
       "2        6.0     0.0        0.0  \n",
       "3        1.0     0.0        0.0  \n",
       "4        0.0     0.0        0.0  \n",
       "5       26.0     0.0        0.0  \n",
       "6        2.0     0.0        0.0  \n",
       "7        1.0     0.0        0.0  \n",
       "8        4.0     0.0        0.0  \n",
       "9        1.0     0.0        0.0  "
      ]
     },
     "execution_count": 3,
     "metadata": {},
     "output_type": "execute_result"
    }
   ],
   "source": [
    "covid = pd.read_csv(\"covid_19_data.csv\")\n",
    "covid.head(10)"
   ]
  },
  {
   "cell_type": "code",
   "execution_count": 4,
   "metadata": {
    "colab": {
     "base_uri": "https://localhost:8080/",
     "height": 347
    },
    "colab_type": "code",
    "id": "cHHaAVo98ksl",
    "outputId": "7ecc92e1-469e-4ee5-8772-29a2d90af68f"
   },
   "outputs": [
    {
     "name": "stdout",
     "output_type": "stream",
     "text": [
      "Size/Shape of the dataset \n",
      " (18327, 8)\n",
      "Checking for null values \n",
      " SNo                   0\n",
      "ObservationDate       0\n",
      "Province/State     9277\n",
      "Country/Region        0\n",
      "Last Update           0\n",
      "Confirmed             0\n",
      "Deaths                0\n",
      "Recovered             0\n",
      "dtype: int64\n",
      "Checking Data-type \n",
      " SNo                  int64\n",
      "ObservationDate     object\n",
      "Province/State      object\n",
      "Country/Region      object\n",
      "Last Update         object\n",
      "Confirmed          float64\n",
      "Deaths             float64\n",
      "Recovered          float64\n",
      "dtype: object\n"
     ]
    }
   ],
   "source": [
    "print(\"Size/Shape of the dataset\",\"\\n\",covid.shape)\n",
    "print(\"Checking for null values\",\"\\n\",covid.isnull().sum())\n",
    "print(\"Checking Data-type\",\"\\n\", covid.dtypes)"
   ]
  },
  {
   "cell_type": "code",
   "execution_count": 5,
   "metadata": {
    "colab": {},
    "colab_type": "code",
    "id": "_rnPaCMq9j14"
   },
   "outputs": [
    {
     "name": "stderr",
     "output_type": "stream",
     "text": [
      "C:\\Users\\abhis\\AppData\\Local\\Temp\\ipykernel_15064\\3331810630.py:2: FutureWarning: In a future version of pandas all arguments of DataFrame.drop except for the argument 'labels' will be keyword-only.\n",
      "  covid.drop([\"SNo\"],1,inplace=True)\n"
     ]
    }
   ],
   "source": [
    "#Dropping column as SNo is of no use, and \"Province/State\" contains too many missing values\n",
    "covid.drop([\"SNo\"],1,inplace=True)"
   ]
  },
  {
   "cell_type": "code",
   "execution_count": 6,
   "metadata": {
    "colab": {
     "base_uri": "https://localhost:8080/",
     "height": 156
    },
    "colab_type": "code",
    "id": "4ugvWmzo-CKH",
    "outputId": "2645e7e6-7595-489d-ab9e-5f7c00ddeebf"
   },
   "outputs": [
    {
     "data": {
      "text/plain": [
       "ObservationDate       0\n",
       "Province/State     9277\n",
       "Country/Region        0\n",
       "Last Update           0\n",
       "Confirmed             0\n",
       "Deaths                0\n",
       "Recovered             0\n",
       "dtype: int64"
      ]
     },
     "execution_count": 6,
     "metadata": {},
     "output_type": "execute_result"
    }
   ],
   "source": [
    "covid.isnull().sum()"
   ]
  },
  {
   "cell_type": "code",
   "execution_count": 7,
   "metadata": {
    "colab": {},
    "colab_type": "code",
    "id": "zqTvvoU9-Ouf"
   },
   "outputs": [
    {
     "data": {
      "text/plain": [
       "0       2020-01-22\n",
       "1       2020-01-22\n",
       "2       2020-01-22\n",
       "3       2020-01-22\n",
       "4       2020-01-22\n",
       "           ...    \n",
       "18322   2020-04-24\n",
       "18323   2020-04-24\n",
       "18324   2020-04-24\n",
       "18325   2020-04-24\n",
       "18326   2020-04-24\n",
       "Name: ObservationDate, Length: 18327, dtype: datetime64[ns]"
      ]
     },
     "execution_count": 7,
     "metadata": {},
     "output_type": "execute_result"
    }
   ],
   "source": [
    "#Converting \"Observation Date\" into Datetime format\n",
    "covid[\"ObservationDate\"] = pd.to_datetime(covid[\"ObservationDate\"])\n",
    "covid[\"ObservationDate\"]"
   ]
  },
  {
   "cell_type": "code",
   "execution_count": 8,
   "metadata": {},
   "outputs": [
    {
     "name": "stderr",
     "output_type": "stream",
     "text": [
      "C:\\Users\\abhis\\AppData\\Roaming\\Python\\Python310\\site-packages\\pandas\\core\\arraylike.py:397: RuntimeWarning: divide by zero encountered in log\n",
      "  result = getattr(ufunc, method)(*inputs, **kwargs)\n",
      "C:\\Users\\abhis\\AppData\\Roaming\\Python\\Python310\\site-packages\\pandas\\core\\arraylike.py:397: RuntimeWarning: divide by zero encountered in log\n",
      "  result = getattr(ufunc, method)(*inputs, **kwargs)\n"
     ]
    }
   ],
   "source": [
    "grouped_country=covid.groupby([\"Country/Region\",\"ObservationDate\"]).agg({\"Confirmed\":'sum',\"Recovered\":'sum',\"Deaths\":'sum'})\n",
    "\n",
    "grouped_country[\"Active Cases\"]=grouped_country[\"Confirmed\"]-grouped_country[\"Recovered\"]-grouped_country[\"Deaths\"]\n",
    "grouped_country[\"log_confirmed\"]=np.log(grouped_country[\"Confirmed\"])\n",
    "grouped_country[\"log_active\"]=np.log(grouped_country[\"Active Cases\"])"
   ]
  },
  {
   "cell_type": "markdown",
   "metadata": {},
   "source": [
    "## <- Datewise analysis ->"
   ]
  },
  {
   "cell_type": "code",
   "execution_count": 9,
   "metadata": {
    "colab": {},
    "colab_type": "code",
    "id": "HMwOFbap-uVw"
   },
   "outputs": [
    {
     "data": {
      "text/html": [
       "<div>\n",
       "<style scoped>\n",
       "    .dataframe tbody tr th:only-of-type {\n",
       "        vertical-align: middle;\n",
       "    }\n",
       "\n",
       "    .dataframe tbody tr th {\n",
       "        vertical-align: top;\n",
       "    }\n",
       "\n",
       "    .dataframe thead th {\n",
       "        text-align: right;\n",
       "    }\n",
       "</style>\n",
       "<table border=\"1\" class=\"dataframe\">\n",
       "  <thead>\n",
       "    <tr style=\"text-align: right;\">\n",
       "      <th></th>\n",
       "      <th>Confirmed</th>\n",
       "      <th>Recovered</th>\n",
       "      <th>Deaths</th>\n",
       "      <th>Days Since</th>\n",
       "    </tr>\n",
       "    <tr>\n",
       "      <th>ObservationDate</th>\n",
       "      <th></th>\n",
       "      <th></th>\n",
       "      <th></th>\n",
       "      <th></th>\n",
       "    </tr>\n",
       "  </thead>\n",
       "  <tbody>\n",
       "    <tr>\n",
       "      <th>2020-01-22</th>\n",
       "      <td>555.0</td>\n",
       "      <td>28.0</td>\n",
       "      <td>17.0</td>\n",
       "      <td>0 days</td>\n",
       "    </tr>\n",
       "    <tr>\n",
       "      <th>2020-01-23</th>\n",
       "      <td>653.0</td>\n",
       "      <td>30.0</td>\n",
       "      <td>18.0</td>\n",
       "      <td>1 days</td>\n",
       "    </tr>\n",
       "    <tr>\n",
       "      <th>2020-01-24</th>\n",
       "      <td>941.0</td>\n",
       "      <td>36.0</td>\n",
       "      <td>26.0</td>\n",
       "      <td>2 days</td>\n",
       "    </tr>\n",
       "    <tr>\n",
       "      <th>2020-01-25</th>\n",
       "      <td>1438.0</td>\n",
       "      <td>39.0</td>\n",
       "      <td>42.0</td>\n",
       "      <td>3 days</td>\n",
       "    </tr>\n",
       "    <tr>\n",
       "      <th>2020-01-26</th>\n",
       "      <td>2118.0</td>\n",
       "      <td>52.0</td>\n",
       "      <td>56.0</td>\n",
       "      <td>4 days</td>\n",
       "    </tr>\n",
       "    <tr>\n",
       "      <th>...</th>\n",
       "      <td>...</td>\n",
       "      <td>...</td>\n",
       "      <td>...</td>\n",
       "      <td>...</td>\n",
       "    </tr>\n",
       "    <tr>\n",
       "      <th>2020-04-20</th>\n",
       "      <td>2472259.0</td>\n",
       "      <td>645738.0</td>\n",
       "      <td>169986.0</td>\n",
       "      <td>89 days</td>\n",
       "    </tr>\n",
       "    <tr>\n",
       "      <th>2020-04-21</th>\n",
       "      <td>2549123.0</td>\n",
       "      <td>679819.0</td>\n",
       "      <td>176583.0</td>\n",
       "      <td>90 days</td>\n",
       "    </tr>\n",
       "    <tr>\n",
       "      <th>2020-04-22</th>\n",
       "      <td>2623960.0</td>\n",
       "      <td>709694.0</td>\n",
       "      <td>183066.0</td>\n",
       "      <td>91 days</td>\n",
       "    </tr>\n",
       "    <tr>\n",
       "      <th>2020-04-23</th>\n",
       "      <td>2708885.0</td>\n",
       "      <td>738486.0</td>\n",
       "      <td>190858.0</td>\n",
       "      <td>92 days</td>\n",
       "    </tr>\n",
       "    <tr>\n",
       "      <th>2020-04-24</th>\n",
       "      <td>2811193.0</td>\n",
       "      <td>793601.0</td>\n",
       "      <td>197159.0</td>\n",
       "      <td>93 days</td>\n",
       "    </tr>\n",
       "  </tbody>\n",
       "</table>\n",
       "<p>94 rows × 4 columns</p>\n",
       "</div>"
      ],
      "text/plain": [
       "                 Confirmed  Recovered    Deaths Days Since\n",
       "ObservationDate                                           \n",
       "2020-01-22           555.0       28.0      17.0     0 days\n",
       "2020-01-23           653.0       30.0      18.0     1 days\n",
       "2020-01-24           941.0       36.0      26.0     2 days\n",
       "2020-01-25          1438.0       39.0      42.0     3 days\n",
       "2020-01-26          2118.0       52.0      56.0     4 days\n",
       "...                    ...        ...       ...        ...\n",
       "2020-04-20       2472259.0   645738.0  169986.0    89 days\n",
       "2020-04-21       2549123.0   679819.0  176583.0    90 days\n",
       "2020-04-22       2623960.0   709694.0  183066.0    91 days\n",
       "2020-04-23       2708885.0   738486.0  190858.0    92 days\n",
       "2020-04-24       2811193.0   793601.0  197159.0    93 days\n",
       "\n",
       "[94 rows x 4 columns]"
      ]
     },
     "execution_count": 9,
     "metadata": {},
     "output_type": "execute_result"
    }
   ],
   "source": [
    "#Grouping differnent types of cases as per the date\n",
    "datewise = covid.groupby([\"ObservationDate\"]).agg({\"Confirmed\":\"sum\",\"Recovered\":\"sum\",\"Deaths\":\"sum\"})\n",
    "datewise[\"Days Since\"]=datewise.index-datewise.index.min()  #Creating 'Days Since' which will help us to get idea about rate of growth in cases\n",
    "datewise"
   ]
  },
  {
   "cell_type": "code",
   "execution_count": 10,
   "metadata": {
    "colab": {
     "base_uri": "https://localhost:8080/",
     "height": 121
    },
    "colab_type": "code",
    "id": "sD_c8lcj_1FY",
    "outputId": "68d53054-02bf-425e-f89b-5f56070f016b"
   },
   "outputs": [
    {
     "name": "stdout",
     "output_type": "stream",
     "text": [
      "Basic Information\n",
      "Totol number of countries with Disease Spread:  220\n",
      "Total number of Confirmed Cases around the World:  2811193.0\n",
      "Total number of Recovered Cases around the World:  793601.0\n",
      "Total number of Deaths Cases around the World:  197159.0\n",
      "Total number of Active Cases around the World:  1820433.0\n",
      "Total number of Closed Cases around the World:  990760.0\n",
      "Approximate number of Confirmed Cases per Day around the World:  29906.0\n",
      "Approximate number of Recovered Cases per Day around the World:  8443.0\n",
      "Approximate number of Death Cases per Day around the World:  2097.0\n",
      "Approximate number of Confirmed Cases per hour around the World:  1246.0\n",
      "Approximate number of Recovered Cases per hour around the World:  352.0\n",
      "Approximate number of Death Cases per hour around the World:  87.0\n",
      "Number of Confirmed Cases in last 24 hours:  102308.0\n",
      "Number of Recovered Cases in last 24 hours:  55115.0\n",
      "Number of Death Cases in last 24 hours:  6301.0\n"
     ]
    }
   ],
   "source": [
    "print(\"Basic Information\")\n",
    "print(\"Totol number of countries with Disease Spread: \",len(covid[\"Country/Region\"].unique()))\n",
    "print(\"Total number of Confirmed Cases around the World: \",datewise[\"Confirmed\"].iloc[-1])\n",
    "print(\"Total number of Recovered Cases around the World: \",datewise[\"Recovered\"].iloc[-1])\n",
    "print(\"Total number of Deaths Cases around the World: \",datewise[\"Deaths\"].iloc[-1])\n",
    "print(\"Total number of Active Cases around the World: \",(datewise[\"Confirmed\"].iloc[-1]-datewise[\"Recovered\"].iloc[-1]-datewise[\"Deaths\"].iloc[-1]))\n",
    "print(\"Total number of Closed Cases around the World: \",datewise[\"Recovered\"].iloc[-1]+datewise[\"Deaths\"].iloc[-1])\n",
    "print(\"Approximate number of Confirmed Cases per Day around the World: \",np.round(datewise[\"Confirmed\"].iloc[-1]/datewise.shape[0]))\n",
    "print(\"Approximate number of Recovered Cases per Day around the World: \",np.round(datewise[\"Recovered\"].iloc[-1]/datewise.shape[0]))\n",
    "print(\"Approximate number of Death Cases per Day around the World: \",np.round(datewise[\"Deaths\"].iloc[-1]/datewise.shape[0]))\n",
    "print(\"Approximate number of Confirmed Cases per hour around the World: \",np.round(datewise[\"Confirmed\"].iloc[-1]/((datewise.shape[0])*24)))\n",
    "print(\"Approximate number of Recovered Cases per hour around the World: \",np.round(datewise[\"Recovered\"].iloc[-1]/((datewise.shape[0])*24)))\n",
    "print(\"Approximate number of Death Cases per hour around the World: \",np.round(datewise[\"Deaths\"].iloc[-1]/((datewise.shape[0])*24)))\n",
    "print(\"Number of Confirmed Cases in last 24 hours: \",datewise[\"Confirmed\"].iloc[-1]-datewise[\"Confirmed\"].iloc[-2])\n",
    "print(\"Number of Recovered Cases in last 24 hours: \",datewise[\"Recovered\"].iloc[-1]-datewise[\"Recovered\"].iloc[-2])\n",
    "print(\"Number of Death Cases in last 24 hours: \",datewise[\"Deaths\"].iloc[-1]-datewise[\"Deaths\"].iloc[-2])"
   ]
  },
  {
   "cell_type": "markdown",
   "metadata": {},
   "source": [
    "#### <- Active Cases = Number of Confirmed Cases - Number of Recovered Cases - Number of Death Cases ->\n",
    "#### Increase in number of Active Cases is probably an indication of Recovered case or Death case number is dropping in comparison to number of Confirmed Cases drastically. Will look for the conclusive evidence for the same in the notebook ahead."
   ]
  },
  {
   "cell_type": "code",
   "execution_count": 11,
   "metadata": {},
   "outputs": [
    {
     "data": {
      "application/vnd.plotly.v1+json": {
       "config": {
        "plotlyServerURL": "https://plot.ly"
       },
       "data": [
        {
         "alignmentgroup": "True",
         "hovertemplate": "x=%{x}<br>y=%{y}<extra></extra>",
         "legendgroup": "",
         "marker": {
          "color": "#636efa",
          "pattern": {
           "shape": ""
          }
         },
         "name": "",
         "offsetgroup": "",
         "orientation": "v",
         "showlegend": false,
         "textposition": "auto",
         "type": "bar",
         "x": [
          "2020-01-22T00:00:00",
          "2020-01-23T00:00:00",
          "2020-01-24T00:00:00",
          "2020-01-25T00:00:00",
          "2020-01-26T00:00:00",
          "2020-01-27T00:00:00",
          "2020-01-28T00:00:00",
          "2020-01-29T00:00:00",
          "2020-01-30T00:00:00",
          "2020-01-31T00:00:00",
          "2020-02-01T00:00:00",
          "2020-02-02T00:00:00",
          "2020-02-03T00:00:00",
          "2020-02-04T00:00:00",
          "2020-02-05T00:00:00",
          "2020-02-06T00:00:00",
          "2020-02-07T00:00:00",
          "2020-02-08T00:00:00",
          "2020-02-09T00:00:00",
          "2020-02-10T00:00:00",
          "2020-02-11T00:00:00",
          "2020-02-12T00:00:00",
          "2020-02-13T00:00:00",
          "2020-02-14T00:00:00",
          "2020-02-15T00:00:00",
          "2020-02-16T00:00:00",
          "2020-02-17T00:00:00",
          "2020-02-18T00:00:00",
          "2020-02-19T00:00:00",
          "2020-02-20T00:00:00",
          "2020-02-21T00:00:00",
          "2020-02-22T00:00:00",
          "2020-02-23T00:00:00",
          "2020-02-24T00:00:00",
          "2020-02-25T00:00:00",
          "2020-02-26T00:00:00",
          "2020-02-27T00:00:00",
          "2020-02-28T00:00:00",
          "2020-02-29T00:00:00",
          "2020-03-01T00:00:00",
          "2020-03-02T00:00:00",
          "2020-03-03T00:00:00",
          "2020-03-04T00:00:00",
          "2020-03-05T00:00:00",
          "2020-03-06T00:00:00",
          "2020-03-07T00:00:00",
          "2020-03-08T00:00:00",
          "2020-03-09T00:00:00",
          "2020-03-10T00:00:00",
          "2020-03-11T00:00:00",
          "2020-03-12T00:00:00",
          "2020-03-13T00:00:00",
          "2020-03-14T00:00:00",
          "2020-03-15T00:00:00",
          "2020-03-16T00:00:00",
          "2020-03-17T00:00:00",
          "2020-03-18T00:00:00",
          "2020-03-19T00:00:00",
          "2020-03-20T00:00:00",
          "2020-03-21T00:00:00",
          "2020-03-22T00:00:00",
          "2020-03-23T00:00:00",
          "2020-03-24T00:00:00",
          "2020-03-25T00:00:00",
          "2020-03-26T00:00:00",
          "2020-03-27T00:00:00",
          "2020-03-28T00:00:00",
          "2020-03-29T00:00:00",
          "2020-03-30T00:00:00",
          "2020-03-31T00:00:00",
          "2020-04-01T00:00:00",
          "2020-04-02T00:00:00",
          "2020-04-03T00:00:00",
          "2020-04-04T00:00:00",
          "2020-04-05T00:00:00",
          "2020-04-06T00:00:00",
          "2020-04-07T00:00:00",
          "2020-04-08T00:00:00",
          "2020-04-09T00:00:00",
          "2020-04-10T00:00:00",
          "2020-04-11T00:00:00",
          "2020-04-12T00:00:00",
          "2020-04-13T00:00:00",
          "2020-04-14T00:00:00",
          "2020-04-15T00:00:00",
          "2020-04-16T00:00:00",
          "2020-04-17T00:00:00",
          "2020-04-18T00:00:00",
          "2020-04-19T00:00:00",
          "2020-04-20T00:00:00",
          "2020-04-21T00:00:00",
          "2020-04-22T00:00:00",
          "2020-04-23T00:00:00",
          "2020-04-24T00:00:00"
         ],
         "xaxis": "x",
         "y": [
          510,
          605,
          879,
          1357,
          2010,
          2784,
          5340,
          5906,
          7921,
          9490,
          11495,
          15953,
          18832,
          22548,
          25948,
          28697,
          31662,
          33699,
          36001,
          37804,
          39007,
          38954,
          52704,
          57306,
          57971,
          58591,
          58809,
          58779,
          57398,
          55775,
          55702,
          53255,
          53122,
          51714,
          49802,
          48243,
          46665,
          44541,
          43290,
          42659,
          41622,
          41455,
          40699,
          40741,
          42474,
          43919,
          45337,
          47074,
          49916,
          54247,
          55299,
          69538,
          77656,
          84973,
          96332,
          108423,
          122869,
          147884,
          173465,
          199900,
          225256,
          260828,
          291648,
          332649,
          383477,
          435184,
          490632,
          537139,
          580247,
          637352,
          692625,
          750057,
          811334,
          886650,
          942729,
          994021,
          1044177,
          1094105,
          1145920,
          1213098,
          1260902,
          1310869,
          1349183,
          1375947,
          1410859,
          1466739,
          1518026,
          1565930,
          1612432,
          1656535,
          1692721,
          1731200,
          1779541,
          1820433
         ],
         "yaxis": "y"
        }
       ],
       "layout": {
        "barmode": "relative",
        "legend": {
         "tracegroupgap": 0
        },
        "margin": {
         "t": 60
        },
        "template": {
         "data": {
          "bar": [
           {
            "error_x": {
             "color": "#2a3f5f"
            },
            "error_y": {
             "color": "#2a3f5f"
            },
            "marker": {
             "line": {
              "color": "#E5ECF6",
              "width": 0.5
             },
             "pattern": {
              "fillmode": "overlay",
              "size": 10,
              "solidity": 0.2
             }
            },
            "type": "bar"
           }
          ],
          "barpolar": [
           {
            "marker": {
             "line": {
              "color": "#E5ECF6",
              "width": 0.5
             },
             "pattern": {
              "fillmode": "overlay",
              "size": 10,
              "solidity": 0.2
             }
            },
            "type": "barpolar"
           }
          ],
          "carpet": [
           {
            "aaxis": {
             "endlinecolor": "#2a3f5f",
             "gridcolor": "white",
             "linecolor": "white",
             "minorgridcolor": "white",
             "startlinecolor": "#2a3f5f"
            },
            "baxis": {
             "endlinecolor": "#2a3f5f",
             "gridcolor": "white",
             "linecolor": "white",
             "minorgridcolor": "white",
             "startlinecolor": "#2a3f5f"
            },
            "type": "carpet"
           }
          ],
          "choropleth": [
           {
            "colorbar": {
             "outlinewidth": 0,
             "ticks": ""
            },
            "type": "choropleth"
           }
          ],
          "contour": [
           {
            "colorbar": {
             "outlinewidth": 0,
             "ticks": ""
            },
            "colorscale": [
             [
              0,
              "#0d0887"
             ],
             [
              0.1111111111111111,
              "#46039f"
             ],
             [
              0.2222222222222222,
              "#7201a8"
             ],
             [
              0.3333333333333333,
              "#9c179e"
             ],
             [
              0.4444444444444444,
              "#bd3786"
             ],
             [
              0.5555555555555556,
              "#d8576b"
             ],
             [
              0.6666666666666666,
              "#ed7953"
             ],
             [
              0.7777777777777778,
              "#fb9f3a"
             ],
             [
              0.8888888888888888,
              "#fdca26"
             ],
             [
              1,
              "#f0f921"
             ]
            ],
            "type": "contour"
           }
          ],
          "contourcarpet": [
           {
            "colorbar": {
             "outlinewidth": 0,
             "ticks": ""
            },
            "type": "contourcarpet"
           }
          ],
          "heatmap": [
           {
            "colorbar": {
             "outlinewidth": 0,
             "ticks": ""
            },
            "colorscale": [
             [
              0,
              "#0d0887"
             ],
             [
              0.1111111111111111,
              "#46039f"
             ],
             [
              0.2222222222222222,
              "#7201a8"
             ],
             [
              0.3333333333333333,
              "#9c179e"
             ],
             [
              0.4444444444444444,
              "#bd3786"
             ],
             [
              0.5555555555555556,
              "#d8576b"
             ],
             [
              0.6666666666666666,
              "#ed7953"
             ],
             [
              0.7777777777777778,
              "#fb9f3a"
             ],
             [
              0.8888888888888888,
              "#fdca26"
             ],
             [
              1,
              "#f0f921"
             ]
            ],
            "type": "heatmap"
           }
          ],
          "heatmapgl": [
           {
            "colorbar": {
             "outlinewidth": 0,
             "ticks": ""
            },
            "colorscale": [
             [
              0,
              "#0d0887"
             ],
             [
              0.1111111111111111,
              "#46039f"
             ],
             [
              0.2222222222222222,
              "#7201a8"
             ],
             [
              0.3333333333333333,
              "#9c179e"
             ],
             [
              0.4444444444444444,
              "#bd3786"
             ],
             [
              0.5555555555555556,
              "#d8576b"
             ],
             [
              0.6666666666666666,
              "#ed7953"
             ],
             [
              0.7777777777777778,
              "#fb9f3a"
             ],
             [
              0.8888888888888888,
              "#fdca26"
             ],
             [
              1,
              "#f0f921"
             ]
            ],
            "type": "heatmapgl"
           }
          ],
          "histogram": [
           {
            "marker": {
             "pattern": {
              "fillmode": "overlay",
              "size": 10,
              "solidity": 0.2
             }
            },
            "type": "histogram"
           }
          ],
          "histogram2d": [
           {
            "colorbar": {
             "outlinewidth": 0,
             "ticks": ""
            },
            "colorscale": [
             [
              0,
              "#0d0887"
             ],
             [
              0.1111111111111111,
              "#46039f"
             ],
             [
              0.2222222222222222,
              "#7201a8"
             ],
             [
              0.3333333333333333,
              "#9c179e"
             ],
             [
              0.4444444444444444,
              "#bd3786"
             ],
             [
              0.5555555555555556,
              "#d8576b"
             ],
             [
              0.6666666666666666,
              "#ed7953"
             ],
             [
              0.7777777777777778,
              "#fb9f3a"
             ],
             [
              0.8888888888888888,
              "#fdca26"
             ],
             [
              1,
              "#f0f921"
             ]
            ],
            "type": "histogram2d"
           }
          ],
          "histogram2dcontour": [
           {
            "colorbar": {
             "outlinewidth": 0,
             "ticks": ""
            },
            "colorscale": [
             [
              0,
              "#0d0887"
             ],
             [
              0.1111111111111111,
              "#46039f"
             ],
             [
              0.2222222222222222,
              "#7201a8"
             ],
             [
              0.3333333333333333,
              "#9c179e"
             ],
             [
              0.4444444444444444,
              "#bd3786"
             ],
             [
              0.5555555555555556,
              "#d8576b"
             ],
             [
              0.6666666666666666,
              "#ed7953"
             ],
             [
              0.7777777777777778,
              "#fb9f3a"
             ],
             [
              0.8888888888888888,
              "#fdca26"
             ],
             [
              1,
              "#f0f921"
             ]
            ],
            "type": "histogram2dcontour"
           }
          ],
          "mesh3d": [
           {
            "colorbar": {
             "outlinewidth": 0,
             "ticks": ""
            },
            "type": "mesh3d"
           }
          ],
          "parcoords": [
           {
            "line": {
             "colorbar": {
              "outlinewidth": 0,
              "ticks": ""
             }
            },
            "type": "parcoords"
           }
          ],
          "pie": [
           {
            "automargin": true,
            "type": "pie"
           }
          ],
          "scatter": [
           {
            "marker": {
             "colorbar": {
              "outlinewidth": 0,
              "ticks": ""
             }
            },
            "type": "scatter"
           }
          ],
          "scatter3d": [
           {
            "line": {
             "colorbar": {
              "outlinewidth": 0,
              "ticks": ""
             }
            },
            "marker": {
             "colorbar": {
              "outlinewidth": 0,
              "ticks": ""
             }
            },
            "type": "scatter3d"
           }
          ],
          "scattercarpet": [
           {
            "marker": {
             "colorbar": {
              "outlinewidth": 0,
              "ticks": ""
             }
            },
            "type": "scattercarpet"
           }
          ],
          "scattergeo": [
           {
            "marker": {
             "colorbar": {
              "outlinewidth": 0,
              "ticks": ""
             }
            },
            "type": "scattergeo"
           }
          ],
          "scattergl": [
           {
            "marker": {
             "colorbar": {
              "outlinewidth": 0,
              "ticks": ""
             }
            },
            "type": "scattergl"
           }
          ],
          "scattermapbox": [
           {
            "marker": {
             "colorbar": {
              "outlinewidth": 0,
              "ticks": ""
             }
            },
            "type": "scattermapbox"
           }
          ],
          "scatterpolar": [
           {
            "marker": {
             "colorbar": {
              "outlinewidth": 0,
              "ticks": ""
             }
            },
            "type": "scatterpolar"
           }
          ],
          "scatterpolargl": [
           {
            "marker": {
             "colorbar": {
              "outlinewidth": 0,
              "ticks": ""
             }
            },
            "type": "scatterpolargl"
           }
          ],
          "scatterternary": [
           {
            "marker": {
             "colorbar": {
              "outlinewidth": 0,
              "ticks": ""
             }
            },
            "type": "scatterternary"
           }
          ],
          "surface": [
           {
            "colorbar": {
             "outlinewidth": 0,
             "ticks": ""
            },
            "colorscale": [
             [
              0,
              "#0d0887"
             ],
             [
              0.1111111111111111,
              "#46039f"
             ],
             [
              0.2222222222222222,
              "#7201a8"
             ],
             [
              0.3333333333333333,
              "#9c179e"
             ],
             [
              0.4444444444444444,
              "#bd3786"
             ],
             [
              0.5555555555555556,
              "#d8576b"
             ],
             [
              0.6666666666666666,
              "#ed7953"
             ],
             [
              0.7777777777777778,
              "#fb9f3a"
             ],
             [
              0.8888888888888888,
              "#fdca26"
             ],
             [
              1,
              "#f0f921"
             ]
            ],
            "type": "surface"
           }
          ],
          "table": [
           {
            "cells": {
             "fill": {
              "color": "#EBF0F8"
             },
             "line": {
              "color": "white"
             }
            },
            "header": {
             "fill": {
              "color": "#C8D4E3"
             },
             "line": {
              "color": "white"
             }
            },
            "type": "table"
           }
          ]
         },
         "layout": {
          "annotationdefaults": {
           "arrowcolor": "#2a3f5f",
           "arrowhead": 0,
           "arrowwidth": 1
          },
          "autotypenumbers": "strict",
          "coloraxis": {
           "colorbar": {
            "outlinewidth": 0,
            "ticks": ""
           }
          },
          "colorscale": {
           "diverging": [
            [
             0,
             "#8e0152"
            ],
            [
             0.1,
             "#c51b7d"
            ],
            [
             0.2,
             "#de77ae"
            ],
            [
             0.3,
             "#f1b6da"
            ],
            [
             0.4,
             "#fde0ef"
            ],
            [
             0.5,
             "#f7f7f7"
            ],
            [
             0.6,
             "#e6f5d0"
            ],
            [
             0.7,
             "#b8e186"
            ],
            [
             0.8,
             "#7fbc41"
            ],
            [
             0.9,
             "#4d9221"
            ],
            [
             1,
             "#276419"
            ]
           ],
           "sequential": [
            [
             0,
             "#0d0887"
            ],
            [
             0.1111111111111111,
             "#46039f"
            ],
            [
             0.2222222222222222,
             "#7201a8"
            ],
            [
             0.3333333333333333,
             "#9c179e"
            ],
            [
             0.4444444444444444,
             "#bd3786"
            ],
            [
             0.5555555555555556,
             "#d8576b"
            ],
            [
             0.6666666666666666,
             "#ed7953"
            ],
            [
             0.7777777777777778,
             "#fb9f3a"
            ],
            [
             0.8888888888888888,
             "#fdca26"
            ],
            [
             1,
             "#f0f921"
            ]
           ],
           "sequentialminus": [
            [
             0,
             "#0d0887"
            ],
            [
             0.1111111111111111,
             "#46039f"
            ],
            [
             0.2222222222222222,
             "#7201a8"
            ],
            [
             0.3333333333333333,
             "#9c179e"
            ],
            [
             0.4444444444444444,
             "#bd3786"
            ],
            [
             0.5555555555555556,
             "#d8576b"
            ],
            [
             0.6666666666666666,
             "#ed7953"
            ],
            [
             0.7777777777777778,
             "#fb9f3a"
            ],
            [
             0.8888888888888888,
             "#fdca26"
            ],
            [
             1,
             "#f0f921"
            ]
           ]
          },
          "colorway": [
           "#636efa",
           "#EF553B",
           "#00cc96",
           "#ab63fa",
           "#FFA15A",
           "#19d3f3",
           "#FF6692",
           "#B6E880",
           "#FF97FF",
           "#FECB52"
          ],
          "font": {
           "color": "#2a3f5f"
          },
          "geo": {
           "bgcolor": "white",
           "lakecolor": "white",
           "landcolor": "#E5ECF6",
           "showlakes": true,
           "showland": true,
           "subunitcolor": "white"
          },
          "hoverlabel": {
           "align": "left"
          },
          "hovermode": "closest",
          "mapbox": {
           "style": "light"
          },
          "paper_bgcolor": "white",
          "plot_bgcolor": "#E5ECF6",
          "polar": {
           "angularaxis": {
            "gridcolor": "white",
            "linecolor": "white",
            "ticks": ""
           },
           "bgcolor": "#E5ECF6",
           "radialaxis": {
            "gridcolor": "white",
            "linecolor": "white",
            "ticks": ""
           }
          },
          "scene": {
           "xaxis": {
            "backgroundcolor": "#E5ECF6",
            "gridcolor": "white",
            "gridwidth": 2,
            "linecolor": "white",
            "showbackground": true,
            "ticks": "",
            "zerolinecolor": "white"
           },
           "yaxis": {
            "backgroundcolor": "#E5ECF6",
            "gridcolor": "white",
            "gridwidth": 2,
            "linecolor": "white",
            "showbackground": true,
            "ticks": "",
            "zerolinecolor": "white"
           },
           "zaxis": {
            "backgroundcolor": "#E5ECF6",
            "gridcolor": "white",
            "gridwidth": 2,
            "linecolor": "white",
            "showbackground": true,
            "ticks": "",
            "zerolinecolor": "white"
           }
          },
          "shapedefaults": {
           "line": {
            "color": "#2a3f5f"
           }
          },
          "ternary": {
           "aaxis": {
            "gridcolor": "white",
            "linecolor": "white",
            "ticks": ""
           },
           "baxis": {
            "gridcolor": "white",
            "linecolor": "white",
            "ticks": ""
           },
           "bgcolor": "#E5ECF6",
           "caxis": {
            "gridcolor": "white",
            "linecolor": "white",
            "ticks": ""
           }
          },
          "title": {
           "x": 0.05
          },
          "xaxis": {
           "automargin": true,
           "gridcolor": "white",
           "linecolor": "white",
           "ticks": "",
           "title": {
            "standoff": 15
           },
           "zerolinecolor": "white",
           "zerolinewidth": 2
          },
          "yaxis": {
           "automargin": true,
           "gridcolor": "white",
           "linecolor": "white",
           "ticks": "",
           "title": {
            "standoff": 15
           },
           "zerolinecolor": "white",
           "zerolinewidth": 2
          }
         }
        },
        "title": {
         "text": "Distribution of Number of Active Cases"
        },
        "xaxis": {
         "anchor": "y",
         "domain": [
          0,
          1
         ],
         "title": {
          "text": "Date"
         }
        },
        "yaxis": {
         "anchor": "x",
         "domain": [
          0,
          1
         ],
         "title": {
          "text": "Number of Cases"
         }
        }
       }
      }
     },
     "metadata": {},
     "output_type": "display_data"
    }
   ],
   "source": [
    "fig=px.bar(x=datewise.index,y=datewise[\"Confirmed\"]-datewise[\"Recovered\"]-datewise[\"Deaths\"])\n",
    "fig.update_layout(title=\"Distribution of Number of Active Cases\",\n",
    "                  xaxis_title=\"Date\",yaxis_title=\"Number of Cases\",)\n",
    "fig.show()"
   ]
  },
  {
   "cell_type": "markdown",
   "metadata": {},
   "source": [
    "#### <- Closed Cases = Number of Recovered Cases + Number of Death Cases ->\n",
    "#### Increase in number of Closed classes imply either more patients are getting recovered from the disease or more pepole are dying because of COVID-19"
   ]
  },
  {
   "cell_type": "code",
   "execution_count": 12,
   "metadata": {},
   "outputs": [
    {
     "data": {
      "application/vnd.plotly.v1+json": {
       "config": {
        "plotlyServerURL": "https://plot.ly"
       },
       "data": [
        {
         "alignmentgroup": "True",
         "hovertemplate": "x=%{x}<br>y=%{y}<extra></extra>",
         "legendgroup": "",
         "marker": {
          "color": "#636efa",
          "pattern": {
           "shape": ""
          }
         },
         "name": "",
         "offsetgroup": "",
         "orientation": "v",
         "showlegend": false,
         "textposition": "auto",
         "type": "bar",
         "x": [
          "2020-01-22T00:00:00",
          "2020-01-23T00:00:00",
          "2020-01-24T00:00:00",
          "2020-01-25T00:00:00",
          "2020-01-26T00:00:00",
          "2020-01-27T00:00:00",
          "2020-01-28T00:00:00",
          "2020-01-29T00:00:00",
          "2020-01-30T00:00:00",
          "2020-01-31T00:00:00",
          "2020-02-01T00:00:00",
          "2020-02-02T00:00:00",
          "2020-02-03T00:00:00",
          "2020-02-04T00:00:00",
          "2020-02-05T00:00:00",
          "2020-02-06T00:00:00",
          "2020-02-07T00:00:00",
          "2020-02-08T00:00:00",
          "2020-02-09T00:00:00",
          "2020-02-10T00:00:00",
          "2020-02-11T00:00:00",
          "2020-02-12T00:00:00",
          "2020-02-13T00:00:00",
          "2020-02-14T00:00:00",
          "2020-02-15T00:00:00",
          "2020-02-16T00:00:00",
          "2020-02-17T00:00:00",
          "2020-02-18T00:00:00",
          "2020-02-19T00:00:00",
          "2020-02-20T00:00:00",
          "2020-02-21T00:00:00",
          "2020-02-22T00:00:00",
          "2020-02-23T00:00:00",
          "2020-02-24T00:00:00",
          "2020-02-25T00:00:00",
          "2020-02-26T00:00:00",
          "2020-02-27T00:00:00",
          "2020-02-28T00:00:00",
          "2020-02-29T00:00:00",
          "2020-03-01T00:00:00",
          "2020-03-02T00:00:00",
          "2020-03-03T00:00:00",
          "2020-03-04T00:00:00",
          "2020-03-05T00:00:00",
          "2020-03-06T00:00:00",
          "2020-03-07T00:00:00",
          "2020-03-08T00:00:00",
          "2020-03-09T00:00:00",
          "2020-03-10T00:00:00",
          "2020-03-11T00:00:00",
          "2020-03-12T00:00:00",
          "2020-03-13T00:00:00",
          "2020-03-14T00:00:00",
          "2020-03-15T00:00:00",
          "2020-03-16T00:00:00",
          "2020-03-17T00:00:00",
          "2020-03-18T00:00:00",
          "2020-03-19T00:00:00",
          "2020-03-20T00:00:00",
          "2020-03-21T00:00:00",
          "2020-03-22T00:00:00",
          "2020-03-23T00:00:00",
          "2020-03-24T00:00:00",
          "2020-03-25T00:00:00",
          "2020-03-26T00:00:00",
          "2020-03-27T00:00:00",
          "2020-03-28T00:00:00",
          "2020-03-29T00:00:00",
          "2020-03-30T00:00:00",
          "2020-03-31T00:00:00",
          "2020-04-01T00:00:00",
          "2020-04-02T00:00:00",
          "2020-04-03T00:00:00",
          "2020-04-04T00:00:00",
          "2020-04-05T00:00:00",
          "2020-04-06T00:00:00",
          "2020-04-07T00:00:00",
          "2020-04-08T00:00:00",
          "2020-04-09T00:00:00",
          "2020-04-10T00:00:00",
          "2020-04-11T00:00:00",
          "2020-04-12T00:00:00",
          "2020-04-13T00:00:00",
          "2020-04-14T00:00:00",
          "2020-04-15T00:00:00",
          "2020-04-16T00:00:00",
          "2020-04-17T00:00:00",
          "2020-04-18T00:00:00",
          "2020-04-19T00:00:00",
          "2020-04-20T00:00:00",
          "2020-04-21T00:00:00",
          "2020-04-22T00:00:00",
          "2020-04-23T00:00:00",
          "2020-04-24T00:00:00"
         ],
         "xaxis": "x",
         "y": [
          45,
          48,
          62,
          81,
          108,
          143,
          238,
          259,
          314,
          435,
          543,
          834,
          1049,
          1344,
          1688,
          2121,
          2730,
          3422,
          4150,
          4959,
          5796,
          6268,
          7666,
          9581,
          11061,
          12635,
          14451,
          16359,
          18243,
          20424,
          21141,
          25344,
          25863,
          27856,
          30613,
          33154,
          36091,
          39583,
          42723,
          45712,
          48687,
          51389,
          54425,
          57145,
          59326,
          61917,
          64498,
          66508,
          68666,
          71618,
          73044,
          75655,
          78443,
          82474,
          85214,
          88745,
          92046,
          94829,
          98702,
          104649,
          111866,
          117455,
          126314,
          134945,
          146114,
          158107,
          170061,
          183001,
          202142,
          220135,
          239980,
          263246,
          284583,
          310758,
          329386,
          351080,
          381919,
          416999,
          449430,
          478621,
          510612,
          535811,
          568137,
          600245,
          645196,
          685908,
          722165,
          751829,
          788947,
          815724,
          856402,
          892760,
          929344,
          990760
         ],
         "yaxis": "y"
        }
       ],
       "layout": {
        "barmode": "relative",
        "legend": {
         "tracegroupgap": 0
        },
        "margin": {
         "t": 60
        },
        "template": {
         "data": {
          "bar": [
           {
            "error_x": {
             "color": "#2a3f5f"
            },
            "error_y": {
             "color": "#2a3f5f"
            },
            "marker": {
             "line": {
              "color": "#E5ECF6",
              "width": 0.5
             },
             "pattern": {
              "fillmode": "overlay",
              "size": 10,
              "solidity": 0.2
             }
            },
            "type": "bar"
           }
          ],
          "barpolar": [
           {
            "marker": {
             "line": {
              "color": "#E5ECF6",
              "width": 0.5
             },
             "pattern": {
              "fillmode": "overlay",
              "size": 10,
              "solidity": 0.2
             }
            },
            "type": "barpolar"
           }
          ],
          "carpet": [
           {
            "aaxis": {
             "endlinecolor": "#2a3f5f",
             "gridcolor": "white",
             "linecolor": "white",
             "minorgridcolor": "white",
             "startlinecolor": "#2a3f5f"
            },
            "baxis": {
             "endlinecolor": "#2a3f5f",
             "gridcolor": "white",
             "linecolor": "white",
             "minorgridcolor": "white",
             "startlinecolor": "#2a3f5f"
            },
            "type": "carpet"
           }
          ],
          "choropleth": [
           {
            "colorbar": {
             "outlinewidth": 0,
             "ticks": ""
            },
            "type": "choropleth"
           }
          ],
          "contour": [
           {
            "colorbar": {
             "outlinewidth": 0,
             "ticks": ""
            },
            "colorscale": [
             [
              0,
              "#0d0887"
             ],
             [
              0.1111111111111111,
              "#46039f"
             ],
             [
              0.2222222222222222,
              "#7201a8"
             ],
             [
              0.3333333333333333,
              "#9c179e"
             ],
             [
              0.4444444444444444,
              "#bd3786"
             ],
             [
              0.5555555555555556,
              "#d8576b"
             ],
             [
              0.6666666666666666,
              "#ed7953"
             ],
             [
              0.7777777777777778,
              "#fb9f3a"
             ],
             [
              0.8888888888888888,
              "#fdca26"
             ],
             [
              1,
              "#f0f921"
             ]
            ],
            "type": "contour"
           }
          ],
          "contourcarpet": [
           {
            "colorbar": {
             "outlinewidth": 0,
             "ticks": ""
            },
            "type": "contourcarpet"
           }
          ],
          "heatmap": [
           {
            "colorbar": {
             "outlinewidth": 0,
             "ticks": ""
            },
            "colorscale": [
             [
              0,
              "#0d0887"
             ],
             [
              0.1111111111111111,
              "#46039f"
             ],
             [
              0.2222222222222222,
              "#7201a8"
             ],
             [
              0.3333333333333333,
              "#9c179e"
             ],
             [
              0.4444444444444444,
              "#bd3786"
             ],
             [
              0.5555555555555556,
              "#d8576b"
             ],
             [
              0.6666666666666666,
              "#ed7953"
             ],
             [
              0.7777777777777778,
              "#fb9f3a"
             ],
             [
              0.8888888888888888,
              "#fdca26"
             ],
             [
              1,
              "#f0f921"
             ]
            ],
            "type": "heatmap"
           }
          ],
          "heatmapgl": [
           {
            "colorbar": {
             "outlinewidth": 0,
             "ticks": ""
            },
            "colorscale": [
             [
              0,
              "#0d0887"
             ],
             [
              0.1111111111111111,
              "#46039f"
             ],
             [
              0.2222222222222222,
              "#7201a8"
             ],
             [
              0.3333333333333333,
              "#9c179e"
             ],
             [
              0.4444444444444444,
              "#bd3786"
             ],
             [
              0.5555555555555556,
              "#d8576b"
             ],
             [
              0.6666666666666666,
              "#ed7953"
             ],
             [
              0.7777777777777778,
              "#fb9f3a"
             ],
             [
              0.8888888888888888,
              "#fdca26"
             ],
             [
              1,
              "#f0f921"
             ]
            ],
            "type": "heatmapgl"
           }
          ],
          "histogram": [
           {
            "marker": {
             "pattern": {
              "fillmode": "overlay",
              "size": 10,
              "solidity": 0.2
             }
            },
            "type": "histogram"
           }
          ],
          "histogram2d": [
           {
            "colorbar": {
             "outlinewidth": 0,
             "ticks": ""
            },
            "colorscale": [
             [
              0,
              "#0d0887"
             ],
             [
              0.1111111111111111,
              "#46039f"
             ],
             [
              0.2222222222222222,
              "#7201a8"
             ],
             [
              0.3333333333333333,
              "#9c179e"
             ],
             [
              0.4444444444444444,
              "#bd3786"
             ],
             [
              0.5555555555555556,
              "#d8576b"
             ],
             [
              0.6666666666666666,
              "#ed7953"
             ],
             [
              0.7777777777777778,
              "#fb9f3a"
             ],
             [
              0.8888888888888888,
              "#fdca26"
             ],
             [
              1,
              "#f0f921"
             ]
            ],
            "type": "histogram2d"
           }
          ],
          "histogram2dcontour": [
           {
            "colorbar": {
             "outlinewidth": 0,
             "ticks": ""
            },
            "colorscale": [
             [
              0,
              "#0d0887"
             ],
             [
              0.1111111111111111,
              "#46039f"
             ],
             [
              0.2222222222222222,
              "#7201a8"
             ],
             [
              0.3333333333333333,
              "#9c179e"
             ],
             [
              0.4444444444444444,
              "#bd3786"
             ],
             [
              0.5555555555555556,
              "#d8576b"
             ],
             [
              0.6666666666666666,
              "#ed7953"
             ],
             [
              0.7777777777777778,
              "#fb9f3a"
             ],
             [
              0.8888888888888888,
              "#fdca26"
             ],
             [
              1,
              "#f0f921"
             ]
            ],
            "type": "histogram2dcontour"
           }
          ],
          "mesh3d": [
           {
            "colorbar": {
             "outlinewidth": 0,
             "ticks": ""
            },
            "type": "mesh3d"
           }
          ],
          "parcoords": [
           {
            "line": {
             "colorbar": {
              "outlinewidth": 0,
              "ticks": ""
             }
            },
            "type": "parcoords"
           }
          ],
          "pie": [
           {
            "automargin": true,
            "type": "pie"
           }
          ],
          "scatter": [
           {
            "marker": {
             "colorbar": {
              "outlinewidth": 0,
              "ticks": ""
             }
            },
            "type": "scatter"
           }
          ],
          "scatter3d": [
           {
            "line": {
             "colorbar": {
              "outlinewidth": 0,
              "ticks": ""
             }
            },
            "marker": {
             "colorbar": {
              "outlinewidth": 0,
              "ticks": ""
             }
            },
            "type": "scatter3d"
           }
          ],
          "scattercarpet": [
           {
            "marker": {
             "colorbar": {
              "outlinewidth": 0,
              "ticks": ""
             }
            },
            "type": "scattercarpet"
           }
          ],
          "scattergeo": [
           {
            "marker": {
             "colorbar": {
              "outlinewidth": 0,
              "ticks": ""
             }
            },
            "type": "scattergeo"
           }
          ],
          "scattergl": [
           {
            "marker": {
             "colorbar": {
              "outlinewidth": 0,
              "ticks": ""
             }
            },
            "type": "scattergl"
           }
          ],
          "scattermapbox": [
           {
            "marker": {
             "colorbar": {
              "outlinewidth": 0,
              "ticks": ""
             }
            },
            "type": "scattermapbox"
           }
          ],
          "scatterpolar": [
           {
            "marker": {
             "colorbar": {
              "outlinewidth": 0,
              "ticks": ""
             }
            },
            "type": "scatterpolar"
           }
          ],
          "scatterpolargl": [
           {
            "marker": {
             "colorbar": {
              "outlinewidth": 0,
              "ticks": ""
             }
            },
            "type": "scatterpolargl"
           }
          ],
          "scatterternary": [
           {
            "marker": {
             "colorbar": {
              "outlinewidth": 0,
              "ticks": ""
             }
            },
            "type": "scatterternary"
           }
          ],
          "surface": [
           {
            "colorbar": {
             "outlinewidth": 0,
             "ticks": ""
            },
            "colorscale": [
             [
              0,
              "#0d0887"
             ],
             [
              0.1111111111111111,
              "#46039f"
             ],
             [
              0.2222222222222222,
              "#7201a8"
             ],
             [
              0.3333333333333333,
              "#9c179e"
             ],
             [
              0.4444444444444444,
              "#bd3786"
             ],
             [
              0.5555555555555556,
              "#d8576b"
             ],
             [
              0.6666666666666666,
              "#ed7953"
             ],
             [
              0.7777777777777778,
              "#fb9f3a"
             ],
             [
              0.8888888888888888,
              "#fdca26"
             ],
             [
              1,
              "#f0f921"
             ]
            ],
            "type": "surface"
           }
          ],
          "table": [
           {
            "cells": {
             "fill": {
              "color": "#EBF0F8"
             },
             "line": {
              "color": "white"
             }
            },
            "header": {
             "fill": {
              "color": "#C8D4E3"
             },
             "line": {
              "color": "white"
             }
            },
            "type": "table"
           }
          ]
         },
         "layout": {
          "annotationdefaults": {
           "arrowcolor": "#2a3f5f",
           "arrowhead": 0,
           "arrowwidth": 1
          },
          "autotypenumbers": "strict",
          "coloraxis": {
           "colorbar": {
            "outlinewidth": 0,
            "ticks": ""
           }
          },
          "colorscale": {
           "diverging": [
            [
             0,
             "#8e0152"
            ],
            [
             0.1,
             "#c51b7d"
            ],
            [
             0.2,
             "#de77ae"
            ],
            [
             0.3,
             "#f1b6da"
            ],
            [
             0.4,
             "#fde0ef"
            ],
            [
             0.5,
             "#f7f7f7"
            ],
            [
             0.6,
             "#e6f5d0"
            ],
            [
             0.7,
             "#b8e186"
            ],
            [
             0.8,
             "#7fbc41"
            ],
            [
             0.9,
             "#4d9221"
            ],
            [
             1,
             "#276419"
            ]
           ],
           "sequential": [
            [
             0,
             "#0d0887"
            ],
            [
             0.1111111111111111,
             "#46039f"
            ],
            [
             0.2222222222222222,
             "#7201a8"
            ],
            [
             0.3333333333333333,
             "#9c179e"
            ],
            [
             0.4444444444444444,
             "#bd3786"
            ],
            [
             0.5555555555555556,
             "#d8576b"
            ],
            [
             0.6666666666666666,
             "#ed7953"
            ],
            [
             0.7777777777777778,
             "#fb9f3a"
            ],
            [
             0.8888888888888888,
             "#fdca26"
            ],
            [
             1,
             "#f0f921"
            ]
           ],
           "sequentialminus": [
            [
             0,
             "#0d0887"
            ],
            [
             0.1111111111111111,
             "#46039f"
            ],
            [
             0.2222222222222222,
             "#7201a8"
            ],
            [
             0.3333333333333333,
             "#9c179e"
            ],
            [
             0.4444444444444444,
             "#bd3786"
            ],
            [
             0.5555555555555556,
             "#d8576b"
            ],
            [
             0.6666666666666666,
             "#ed7953"
            ],
            [
             0.7777777777777778,
             "#fb9f3a"
            ],
            [
             0.8888888888888888,
             "#fdca26"
            ],
            [
             1,
             "#f0f921"
            ]
           ]
          },
          "colorway": [
           "#636efa",
           "#EF553B",
           "#00cc96",
           "#ab63fa",
           "#FFA15A",
           "#19d3f3",
           "#FF6692",
           "#B6E880",
           "#FF97FF",
           "#FECB52"
          ],
          "font": {
           "color": "#2a3f5f"
          },
          "geo": {
           "bgcolor": "white",
           "lakecolor": "white",
           "landcolor": "#E5ECF6",
           "showlakes": true,
           "showland": true,
           "subunitcolor": "white"
          },
          "hoverlabel": {
           "align": "left"
          },
          "hovermode": "closest",
          "mapbox": {
           "style": "light"
          },
          "paper_bgcolor": "white",
          "plot_bgcolor": "#E5ECF6",
          "polar": {
           "angularaxis": {
            "gridcolor": "white",
            "linecolor": "white",
            "ticks": ""
           },
           "bgcolor": "#E5ECF6",
           "radialaxis": {
            "gridcolor": "white",
            "linecolor": "white",
            "ticks": ""
           }
          },
          "scene": {
           "xaxis": {
            "backgroundcolor": "#E5ECF6",
            "gridcolor": "white",
            "gridwidth": 2,
            "linecolor": "white",
            "showbackground": true,
            "ticks": "",
            "zerolinecolor": "white"
           },
           "yaxis": {
            "backgroundcolor": "#E5ECF6",
            "gridcolor": "white",
            "gridwidth": 2,
            "linecolor": "white",
            "showbackground": true,
            "ticks": "",
            "zerolinecolor": "white"
           },
           "zaxis": {
            "backgroundcolor": "#E5ECF6",
            "gridcolor": "white",
            "gridwidth": 2,
            "linecolor": "white",
            "showbackground": true,
            "ticks": "",
            "zerolinecolor": "white"
           }
          },
          "shapedefaults": {
           "line": {
            "color": "#2a3f5f"
           }
          },
          "ternary": {
           "aaxis": {
            "gridcolor": "white",
            "linecolor": "white",
            "ticks": ""
           },
           "baxis": {
            "gridcolor": "white",
            "linecolor": "white",
            "ticks": ""
           },
           "bgcolor": "#E5ECF6",
           "caxis": {
            "gridcolor": "white",
            "linecolor": "white",
            "ticks": ""
           }
          },
          "title": {
           "x": 0.05
          },
          "xaxis": {
           "automargin": true,
           "gridcolor": "white",
           "linecolor": "white",
           "ticks": "",
           "title": {
            "standoff": 15
           },
           "zerolinecolor": "white",
           "zerolinewidth": 2
          },
          "yaxis": {
           "automargin": true,
           "gridcolor": "white",
           "linecolor": "white",
           "ticks": "",
           "title": {
            "standoff": 15
           },
           "zerolinecolor": "white",
           "zerolinewidth": 2
          }
         }
        },
        "title": {
         "text": "Distribution of Number of Closed Cases"
        },
        "xaxis": {
         "anchor": "y",
         "domain": [
          0,
          1
         ],
         "title": {
          "text": "Date"
         }
        },
        "yaxis": {
         "anchor": "x",
         "domain": [
          0,
          1
         ],
         "title": {
          "text": "Number of Cases"
         }
        }
       }
      }
     },
     "metadata": {},
     "output_type": "display_data"
    }
   ],
   "source": [
    "fig=px.bar(x=datewise.index,y=datewise[\"Recovered\"]+datewise[\"Deaths\"])\n",
    "fig.update_layout(title=\"Distribution of Number of Closed Cases\",\n",
    "                  xaxis_title=\"Date\",yaxis_title=\"Number of Cases\")\n",
    "fig.show()"
   ]
  },
  {
   "cell_type": "code",
   "execution_count": 13,
   "metadata": {},
   "outputs": [
    {
     "name": "stderr",
     "output_type": "stream",
     "text": [
      "C:\\Users\\abhis\\AppData\\Local\\Temp\\ipykernel_15064\\1914995203.py:1: FutureWarning:\n",
      "\n",
      "weekofyear and week have been deprecated, please use DatetimeIndex.isocalendar().week instead, which returns a Series. To exactly reproduce the behavior of week and weekofyear and return an Index, you may call pd.Int64Index(idx.isocalendar().week)\n",
      "\n"
     ]
    },
    {
     "data": {
      "application/vnd.plotly.v1+json": {
       "config": {
        "plotlyServerURL": "https://plot.ly"
       },
       "data": [
        {
         "mode": "lines+markers",
         "name": "Weekly Growth of Confirmed Cases",
         "type": "scatter",
         "x": [
          1,
          2,
          3,
          4,
          5,
          6,
          7,
          8,
          9,
          10,
          11,
          12,
          13,
          14
         ],
         "y": [
          2118,
          16787,
          40151,
          71226,
          78985,
          88371,
          109835,
          167447,
          337122,
          720140,
          1272115,
          1846680,
          2401379,
          2811193
         ]
        },
        {
         "mode": "lines+markers",
         "name": "Weekly Growth of Recovered Cases",
         "type": "scatter",
         "x": [
          1,
          2,
          3,
          4,
          5,
          6,
          7,
          8,
          9,
          10,
          11,
          12,
          13,
          14
         ],
         "y": [
          52,
          472,
          3244,
          10865,
          23394,
          42716,
          60695,
          76034,
          97243,
          149076,
          260012,
          421722,
          623903,
          793601
         ]
        },
        {
         "mode": "lines+markers",
         "name": "Weekly Growth of Death Cases",
         "type": "scatter",
         "x": [
          1,
          2,
          3,
          4,
          5,
          6,
          7,
          8,
          9,
          10,
          11,
          12,
          13,
          14
         ],
         "y": [
          56,
          362,
          906,
          1770,
          2469,
          2996,
          3803,
          6440,
          14623,
          33925,
          69374,
          114089,
          165044,
          197159
         ]
        }
       ],
       "layout": {
        "legend": {
         "traceorder": "normal",
         "x": 0,
         "y": 1
        },
        "template": {
         "data": {
          "bar": [
           {
            "error_x": {
             "color": "#2a3f5f"
            },
            "error_y": {
             "color": "#2a3f5f"
            },
            "marker": {
             "line": {
              "color": "#E5ECF6",
              "width": 0.5
             },
             "pattern": {
              "fillmode": "overlay",
              "size": 10,
              "solidity": 0.2
             }
            },
            "type": "bar"
           }
          ],
          "barpolar": [
           {
            "marker": {
             "line": {
              "color": "#E5ECF6",
              "width": 0.5
             },
             "pattern": {
              "fillmode": "overlay",
              "size": 10,
              "solidity": 0.2
             }
            },
            "type": "barpolar"
           }
          ],
          "carpet": [
           {
            "aaxis": {
             "endlinecolor": "#2a3f5f",
             "gridcolor": "white",
             "linecolor": "white",
             "minorgridcolor": "white",
             "startlinecolor": "#2a3f5f"
            },
            "baxis": {
             "endlinecolor": "#2a3f5f",
             "gridcolor": "white",
             "linecolor": "white",
             "minorgridcolor": "white",
             "startlinecolor": "#2a3f5f"
            },
            "type": "carpet"
           }
          ],
          "choropleth": [
           {
            "colorbar": {
             "outlinewidth": 0,
             "ticks": ""
            },
            "type": "choropleth"
           }
          ],
          "contour": [
           {
            "colorbar": {
             "outlinewidth": 0,
             "ticks": ""
            },
            "colorscale": [
             [
              0,
              "#0d0887"
             ],
             [
              0.1111111111111111,
              "#46039f"
             ],
             [
              0.2222222222222222,
              "#7201a8"
             ],
             [
              0.3333333333333333,
              "#9c179e"
             ],
             [
              0.4444444444444444,
              "#bd3786"
             ],
             [
              0.5555555555555556,
              "#d8576b"
             ],
             [
              0.6666666666666666,
              "#ed7953"
             ],
             [
              0.7777777777777778,
              "#fb9f3a"
             ],
             [
              0.8888888888888888,
              "#fdca26"
             ],
             [
              1,
              "#f0f921"
             ]
            ],
            "type": "contour"
           }
          ],
          "contourcarpet": [
           {
            "colorbar": {
             "outlinewidth": 0,
             "ticks": ""
            },
            "type": "contourcarpet"
           }
          ],
          "heatmap": [
           {
            "colorbar": {
             "outlinewidth": 0,
             "ticks": ""
            },
            "colorscale": [
             [
              0,
              "#0d0887"
             ],
             [
              0.1111111111111111,
              "#46039f"
             ],
             [
              0.2222222222222222,
              "#7201a8"
             ],
             [
              0.3333333333333333,
              "#9c179e"
             ],
             [
              0.4444444444444444,
              "#bd3786"
             ],
             [
              0.5555555555555556,
              "#d8576b"
             ],
             [
              0.6666666666666666,
              "#ed7953"
             ],
             [
              0.7777777777777778,
              "#fb9f3a"
             ],
             [
              0.8888888888888888,
              "#fdca26"
             ],
             [
              1,
              "#f0f921"
             ]
            ],
            "type": "heatmap"
           }
          ],
          "heatmapgl": [
           {
            "colorbar": {
             "outlinewidth": 0,
             "ticks": ""
            },
            "colorscale": [
             [
              0,
              "#0d0887"
             ],
             [
              0.1111111111111111,
              "#46039f"
             ],
             [
              0.2222222222222222,
              "#7201a8"
             ],
             [
              0.3333333333333333,
              "#9c179e"
             ],
             [
              0.4444444444444444,
              "#bd3786"
             ],
             [
              0.5555555555555556,
              "#d8576b"
             ],
             [
              0.6666666666666666,
              "#ed7953"
             ],
             [
              0.7777777777777778,
              "#fb9f3a"
             ],
             [
              0.8888888888888888,
              "#fdca26"
             ],
             [
              1,
              "#f0f921"
             ]
            ],
            "type": "heatmapgl"
           }
          ],
          "histogram": [
           {
            "marker": {
             "pattern": {
              "fillmode": "overlay",
              "size": 10,
              "solidity": 0.2
             }
            },
            "type": "histogram"
           }
          ],
          "histogram2d": [
           {
            "colorbar": {
             "outlinewidth": 0,
             "ticks": ""
            },
            "colorscale": [
             [
              0,
              "#0d0887"
             ],
             [
              0.1111111111111111,
              "#46039f"
             ],
             [
              0.2222222222222222,
              "#7201a8"
             ],
             [
              0.3333333333333333,
              "#9c179e"
             ],
             [
              0.4444444444444444,
              "#bd3786"
             ],
             [
              0.5555555555555556,
              "#d8576b"
             ],
             [
              0.6666666666666666,
              "#ed7953"
             ],
             [
              0.7777777777777778,
              "#fb9f3a"
             ],
             [
              0.8888888888888888,
              "#fdca26"
             ],
             [
              1,
              "#f0f921"
             ]
            ],
            "type": "histogram2d"
           }
          ],
          "histogram2dcontour": [
           {
            "colorbar": {
             "outlinewidth": 0,
             "ticks": ""
            },
            "colorscale": [
             [
              0,
              "#0d0887"
             ],
             [
              0.1111111111111111,
              "#46039f"
             ],
             [
              0.2222222222222222,
              "#7201a8"
             ],
             [
              0.3333333333333333,
              "#9c179e"
             ],
             [
              0.4444444444444444,
              "#bd3786"
             ],
             [
              0.5555555555555556,
              "#d8576b"
             ],
             [
              0.6666666666666666,
              "#ed7953"
             ],
             [
              0.7777777777777778,
              "#fb9f3a"
             ],
             [
              0.8888888888888888,
              "#fdca26"
             ],
             [
              1,
              "#f0f921"
             ]
            ],
            "type": "histogram2dcontour"
           }
          ],
          "mesh3d": [
           {
            "colorbar": {
             "outlinewidth": 0,
             "ticks": ""
            },
            "type": "mesh3d"
           }
          ],
          "parcoords": [
           {
            "line": {
             "colorbar": {
              "outlinewidth": 0,
              "ticks": ""
             }
            },
            "type": "parcoords"
           }
          ],
          "pie": [
           {
            "automargin": true,
            "type": "pie"
           }
          ],
          "scatter": [
           {
            "marker": {
             "colorbar": {
              "outlinewidth": 0,
              "ticks": ""
             }
            },
            "type": "scatter"
           }
          ],
          "scatter3d": [
           {
            "line": {
             "colorbar": {
              "outlinewidth": 0,
              "ticks": ""
             }
            },
            "marker": {
             "colorbar": {
              "outlinewidth": 0,
              "ticks": ""
             }
            },
            "type": "scatter3d"
           }
          ],
          "scattercarpet": [
           {
            "marker": {
             "colorbar": {
              "outlinewidth": 0,
              "ticks": ""
             }
            },
            "type": "scattercarpet"
           }
          ],
          "scattergeo": [
           {
            "marker": {
             "colorbar": {
              "outlinewidth": 0,
              "ticks": ""
             }
            },
            "type": "scattergeo"
           }
          ],
          "scattergl": [
           {
            "marker": {
             "colorbar": {
              "outlinewidth": 0,
              "ticks": ""
             }
            },
            "type": "scattergl"
           }
          ],
          "scattermapbox": [
           {
            "marker": {
             "colorbar": {
              "outlinewidth": 0,
              "ticks": ""
             }
            },
            "type": "scattermapbox"
           }
          ],
          "scatterpolar": [
           {
            "marker": {
             "colorbar": {
              "outlinewidth": 0,
              "ticks": ""
             }
            },
            "type": "scatterpolar"
           }
          ],
          "scatterpolargl": [
           {
            "marker": {
             "colorbar": {
              "outlinewidth": 0,
              "ticks": ""
             }
            },
            "type": "scatterpolargl"
           }
          ],
          "scatterternary": [
           {
            "marker": {
             "colorbar": {
              "outlinewidth": 0,
              "ticks": ""
             }
            },
            "type": "scatterternary"
           }
          ],
          "surface": [
           {
            "colorbar": {
             "outlinewidth": 0,
             "ticks": ""
            },
            "colorscale": [
             [
              0,
              "#0d0887"
             ],
             [
              0.1111111111111111,
              "#46039f"
             ],
             [
              0.2222222222222222,
              "#7201a8"
             ],
             [
              0.3333333333333333,
              "#9c179e"
             ],
             [
              0.4444444444444444,
              "#bd3786"
             ],
             [
              0.5555555555555556,
              "#d8576b"
             ],
             [
              0.6666666666666666,
              "#ed7953"
             ],
             [
              0.7777777777777778,
              "#fb9f3a"
             ],
             [
              0.8888888888888888,
              "#fdca26"
             ],
             [
              1,
              "#f0f921"
             ]
            ],
            "type": "surface"
           }
          ],
          "table": [
           {
            "cells": {
             "fill": {
              "color": "#EBF0F8"
             },
             "line": {
              "color": "white"
             }
            },
            "header": {
             "fill": {
              "color": "#C8D4E3"
             },
             "line": {
              "color": "white"
             }
            },
            "type": "table"
           }
          ]
         },
         "layout": {
          "annotationdefaults": {
           "arrowcolor": "#2a3f5f",
           "arrowhead": 0,
           "arrowwidth": 1
          },
          "autotypenumbers": "strict",
          "coloraxis": {
           "colorbar": {
            "outlinewidth": 0,
            "ticks": ""
           }
          },
          "colorscale": {
           "diverging": [
            [
             0,
             "#8e0152"
            ],
            [
             0.1,
             "#c51b7d"
            ],
            [
             0.2,
             "#de77ae"
            ],
            [
             0.3,
             "#f1b6da"
            ],
            [
             0.4,
             "#fde0ef"
            ],
            [
             0.5,
             "#f7f7f7"
            ],
            [
             0.6,
             "#e6f5d0"
            ],
            [
             0.7,
             "#b8e186"
            ],
            [
             0.8,
             "#7fbc41"
            ],
            [
             0.9,
             "#4d9221"
            ],
            [
             1,
             "#276419"
            ]
           ],
           "sequential": [
            [
             0,
             "#0d0887"
            ],
            [
             0.1111111111111111,
             "#46039f"
            ],
            [
             0.2222222222222222,
             "#7201a8"
            ],
            [
             0.3333333333333333,
             "#9c179e"
            ],
            [
             0.4444444444444444,
             "#bd3786"
            ],
            [
             0.5555555555555556,
             "#d8576b"
            ],
            [
             0.6666666666666666,
             "#ed7953"
            ],
            [
             0.7777777777777778,
             "#fb9f3a"
            ],
            [
             0.8888888888888888,
             "#fdca26"
            ],
            [
             1,
             "#f0f921"
            ]
           ],
           "sequentialminus": [
            [
             0,
             "#0d0887"
            ],
            [
             0.1111111111111111,
             "#46039f"
            ],
            [
             0.2222222222222222,
             "#7201a8"
            ],
            [
             0.3333333333333333,
             "#9c179e"
            ],
            [
             0.4444444444444444,
             "#bd3786"
            ],
            [
             0.5555555555555556,
             "#d8576b"
            ],
            [
             0.6666666666666666,
             "#ed7953"
            ],
            [
             0.7777777777777778,
             "#fb9f3a"
            ],
            [
             0.8888888888888888,
             "#fdca26"
            ],
            [
             1,
             "#f0f921"
            ]
           ]
          },
          "colorway": [
           "#636efa",
           "#EF553B",
           "#00cc96",
           "#ab63fa",
           "#FFA15A",
           "#19d3f3",
           "#FF6692",
           "#B6E880",
           "#FF97FF",
           "#FECB52"
          ],
          "font": {
           "color": "#2a3f5f"
          },
          "geo": {
           "bgcolor": "white",
           "lakecolor": "white",
           "landcolor": "#E5ECF6",
           "showlakes": true,
           "showland": true,
           "subunitcolor": "white"
          },
          "hoverlabel": {
           "align": "left"
          },
          "hovermode": "closest",
          "mapbox": {
           "style": "light"
          },
          "paper_bgcolor": "white",
          "plot_bgcolor": "#E5ECF6",
          "polar": {
           "angularaxis": {
            "gridcolor": "white",
            "linecolor": "white",
            "ticks": ""
           },
           "bgcolor": "#E5ECF6",
           "radialaxis": {
            "gridcolor": "white",
            "linecolor": "white",
            "ticks": ""
           }
          },
          "scene": {
           "xaxis": {
            "backgroundcolor": "#E5ECF6",
            "gridcolor": "white",
            "gridwidth": 2,
            "linecolor": "white",
            "showbackground": true,
            "ticks": "",
            "zerolinecolor": "white"
           },
           "yaxis": {
            "backgroundcolor": "#E5ECF6",
            "gridcolor": "white",
            "gridwidth": 2,
            "linecolor": "white",
            "showbackground": true,
            "ticks": "",
            "zerolinecolor": "white"
           },
           "zaxis": {
            "backgroundcolor": "#E5ECF6",
            "gridcolor": "white",
            "gridwidth": 2,
            "linecolor": "white",
            "showbackground": true,
            "ticks": "",
            "zerolinecolor": "white"
           }
          },
          "shapedefaults": {
           "line": {
            "color": "#2a3f5f"
           }
          },
          "ternary": {
           "aaxis": {
            "gridcolor": "white",
            "linecolor": "white",
            "ticks": ""
           },
           "baxis": {
            "gridcolor": "white",
            "linecolor": "white",
            "ticks": ""
           },
           "bgcolor": "#E5ECF6",
           "caxis": {
            "gridcolor": "white",
            "linecolor": "white",
            "ticks": ""
           }
          },
          "title": {
           "x": 0.05
          },
          "xaxis": {
           "automargin": true,
           "gridcolor": "white",
           "linecolor": "white",
           "ticks": "",
           "title": {
            "standoff": 15
           },
           "zerolinecolor": "white",
           "zerolinewidth": 2
          },
          "yaxis": {
           "automargin": true,
           "gridcolor": "white",
           "linecolor": "white",
           "ticks": "",
           "title": {
            "standoff": 15
           },
           "zerolinecolor": "white",
           "zerolinewidth": 2
          }
         }
        },
        "title": {
         "text": "Weekly Growth of different types of Cases"
        },
        "xaxis": {
         "title": {
          "text": "Week Number"
         }
        },
        "yaxis": {
         "title": {
          "text": "Number of Cases"
         }
        }
       }
      }
     },
     "metadata": {},
     "output_type": "display_data"
    }
   ],
   "source": [
    "datewise[\"WeekOfYear\"]=datewise.index.weekofyear\n",
    "\n",
    "week_num=[]\n",
    "weekwise_confirmed=[]\n",
    "weekwise_recovered=[]\n",
    "weekwise_deaths=[]\n",
    "w=1\n",
    "for i in list(datewise[\"WeekOfYear\"].unique()):\n",
    "    weekwise_confirmed.append(datewise[datewise[\"WeekOfYear\"]==i][\"Confirmed\"].iloc[-1])\n",
    "    weekwise_recovered.append(datewise[datewise[\"WeekOfYear\"]==i][\"Recovered\"].iloc[-1])\n",
    "    weekwise_deaths.append(datewise[datewise[\"WeekOfYear\"]==i][\"Deaths\"].iloc[-1])\n",
    "    week_num.append(w)\n",
    "    w=w+1\n",
    "\n",
    "fig=go.Figure()\n",
    "fig.add_trace(go.Scatter(x=week_num, y=weekwise_confirmed,\n",
    "                    mode='lines+markers',\n",
    "                    name='Weekly Growth of Confirmed Cases'))\n",
    "fig.add_trace(go.Scatter(x=week_num, y=weekwise_recovered,\n",
    "                    mode='lines+markers',\n",
    "                    name='Weekly Growth of Recovered Cases'))\n",
    "fig.add_trace(go.Scatter(x=week_num, y=weekwise_deaths,\n",
    "                    mode='lines+markers',\n",
    "                    name='Weekly Growth of Death Cases'))\n",
    "fig.update_layout(title=\"Weekly Growth of different types of Cases\",\n",
    "                 xaxis_title=\"Week Number\",yaxis_title=\"Number of Cases\",legend=dict(x=0,y=1,traceorder=\"normal\"))\n",
    "fig.show()"
   ]
  },
  {
   "cell_type": "code",
   "execution_count": 14,
   "metadata": {
    "colab": {
     "base_uri": "https://localhost:8080/",
     "height": 295
    },
    "colab_type": "code",
    "id": "eOU60zEKETQV",
    "outputId": "6fa3e61f-ce97-44f5-9538-252588cd10e9"
   },
   "outputs": [
    {
     "data": {
      "text/plain": [
       "Text(0.5, 1.0, 'Weekly increase in Number of Death Cases')"
      ]
     },
     "execution_count": 14,
     "metadata": {},
     "output_type": "execute_result"
    },
    {
     "data": {
      "image/png": "[encoded data removed]",
      "text/plain": [
       "<Figure size 1296x360 with 2 Axes>"
      ]
     },
     "metadata": {
      "needs_background": "light"
     },
     "output_type": "display_data"
    }
   ],
   "source": [
    "fig, (ax1,ax2) = plt.subplots(1, 2,figsize=(18,5))\n",
    "sns.barplot(x=week_num,y=pd.Series(weekwise_confirmed).diff().fillna(0),ax=ax1)\n",
    "sns.barplot(x=week_num,y=pd.Series(weekwise_deaths).diff().fillna(0),ax=ax2)\n",
    "ax1.set_xlabel(\"Week Number\")\n",
    "ax2.set_xlabel(\"Week Number\")\n",
    "ax1.set_ylabel(\"Number of Confirmed Cases\")\n",
    "ax2.set_ylabel(\"Number of Death Cases\")\n",
    "ax1.set_title(\"Weekly increase in Number of Confirmed Cases\")\n",
    "ax2.set_title(\"Weekly increase in Number of Death Cases\")"
   ]
  },
  {
   "cell_type": "markdown",
   "metadata": {},
   "source": [
    "#### <- Growth rate of Confirmed, Recovered and Death Cases ->"
   ]
  },
  {
   "cell_type": "code",
   "execution_count": 16,
   "metadata": {
    "colab": {
     "base_uri": "https://localhost:8080/",
     "height": 446
    },
    "colab_type": "code",
    "id": "2xofznbZFp-X",
    "outputId": "d30c5b35-a770-4235-9e0a-202897b572c6"
   },
   "outputs": [
    {
     "name": "stdout",
     "output_type": "stream",
     "text": [
      "Average increase in number of Confirmed cases everyday: 29900.0\n",
      "Average increase in number of Recovered cases everyday: 8442.0\n",
      "Average increase in number of Death cases everyday: 2097.0\n"
     ]
    },
    {
     "data": {
      "application/vnd.plotly.v1+json": {
       "config": {
        "plotlyServerURL": "https://plot.ly"
       },
       "data": [
        {
         "mode": "lines+markers",
         "name": "Confirmed Cases",
         "type": "scatter",
         "x": [
          "2020-01-22T00:00:00",
          "2020-01-23T00:00:00",
          "2020-01-24T00:00:00",
          "2020-01-25T00:00:00",
          "2020-01-26T00:00:00",
          "2020-01-27T00:00:00",
          "2020-01-28T00:00:00",
          "2020-01-29T00:00:00",
          "2020-01-30T00:00:00",
          "2020-01-31T00:00:00",
          "2020-02-01T00:00:00",
          "2020-02-02T00:00:00",
          "2020-02-03T00:00:00",
          "2020-02-04T00:00:00",
          "2020-02-05T00:00:00",
          "2020-02-06T00:00:00",
          "2020-02-07T00:00:00",
          "2020-02-08T00:00:00",
          "2020-02-09T00:00:00",
          "2020-02-10T00:00:00",
          "2020-02-11T00:00:00",
          "2020-02-12T00:00:00",
          "2020-02-13T00:00:00",
          "2020-02-14T00:00:00",
          "2020-02-15T00:00:00",
          "2020-02-16T00:00:00",
          "2020-02-17T00:00:00",
          "2020-02-18T00:00:00",
          "2020-02-19T00:00:00",
          "2020-02-20T00:00:00",
          "2020-02-21T00:00:00",
          "2020-02-22T00:00:00",
          "2020-02-23T00:00:00",
          "2020-02-24T00:00:00",
          "2020-02-25T00:00:00",
          "2020-02-26T00:00:00",
          "2020-02-27T00:00:00",
          "2020-02-28T00:00:00",
          "2020-02-29T00:00:00",
          "2020-03-01T00:00:00",
          "2020-03-02T00:00:00",
          "2020-03-03T00:00:00",
          "2020-03-04T00:00:00",
          "2020-03-05T00:00:00",
          "2020-03-06T00:00:00",
          "2020-03-07T00:00:00",
          "2020-03-08T00:00:00",
          "2020-03-09T00:00:00",
          "2020-03-10T00:00:00",
          "2020-03-11T00:00:00",
          "2020-03-12T00:00:00",
          "2020-03-13T00:00:00",
          "2020-03-14T00:00:00",
          "2020-03-15T00:00:00",
          "2020-03-16T00:00:00",
          "2020-03-17T00:00:00",
          "2020-03-18T00:00:00",
          "2020-03-19T00:00:00",
          "2020-03-20T00:00:00",
          "2020-03-21T00:00:00",
          "2020-03-22T00:00:00",
          "2020-03-23T00:00:00",
          "2020-03-24T00:00:00",
          "2020-03-25T00:00:00",
          "2020-03-26T00:00:00",
          "2020-03-27T00:00:00",
          "2020-03-28T00:00:00",
          "2020-03-29T00:00:00",
          "2020-03-30T00:00:00",
          "2020-03-31T00:00:00",
          "2020-04-01T00:00:00",
          "2020-04-02T00:00:00",
          "2020-04-03T00:00:00",
          "2020-04-04T00:00:00",
          "2020-04-05T00:00:00",
          "2020-04-06T00:00:00",
          "2020-04-07T00:00:00",
          "2020-04-08T00:00:00",
          "2020-04-09T00:00:00",
          "2020-04-10T00:00:00",
          "2020-04-11T00:00:00",
          "2020-04-12T00:00:00",
          "2020-04-13T00:00:00",
          "2020-04-14T00:00:00",
          "2020-04-15T00:00:00",
          "2020-04-16T00:00:00",
          "2020-04-17T00:00:00",
          "2020-04-18T00:00:00",
          "2020-04-19T00:00:00",
          "2020-04-20T00:00:00",
          "2020-04-21T00:00:00",
          "2020-04-22T00:00:00",
          "2020-04-23T00:00:00",
          "2020-04-24T00:00:00"
         ],
         "y": [
          555,
          653,
          941,
          1438,
          2118,
          2927,
          5578,
          6165,
          8235,
          9925,
          12038,
          16787,
          19881,
          23892,
          27636,
          30818,
          34392,
          37121,
          40151,
          42763,
          44803,
          45222,
          60370,
          66887,
          69032,
          71226,
          73260,
          75138,
          75641,
          76199,
          76843,
          78599,
          78985,
          79570,
          80415,
          81397,
          82756,
          84124,
          86013,
          88371,
          90309,
          92844,
          95124,
          97886,
          101800,
          105836,
          109835,
          113582,
          118582,
          125865,
          128343,
          145193,
          156099,
          167447,
          181546,
          197168,
          214915,
          242713,
          272167,
          304549,
          337122,
          378283,
          417962,
          467594,
          529591,
          593291,
          660693,
          720140,
          782389,
          857487,
          932605,
          1013303,
          1095917,
          1197408,
          1272115,
          1345101,
          1426096,
          1511104,
          1595350,
          1691719,
          1771514,
          1846680,
          1917320,
          1976192,
          2056055,
          2152647,
          2240191,
          2317759,
          2401379,
          2472259,
          2549123,
          2623960,
          2708885,
          2811193
         ]
        },
        {
         "mode": "lines+markers",
         "name": "Recovered Cases",
         "type": "scatter",
         "x": [
          "2020-01-22T00:00:00",
          "2020-01-23T00:00:00",
          "2020-01-24T00:00:00",
          "2020-01-25T00:00:00",
          "2020-01-26T00:00:00",
          "2020-01-27T00:00:00",
          "2020-01-28T00:00:00",
          "2020-01-29T00:00:00",
          "2020-01-30T00:00:00",
          "2020-01-31T00:00:00",
          "2020-02-01T00:00:00",
          "2020-02-02T00:00:00",
          "2020-02-03T00:00:00",
          "2020-02-04T00:00:00",
          "2020-02-05T00:00:00",
          "2020-02-06T00:00:00",
          "2020-02-07T00:00:00",
          "2020-02-08T00:00:00",
          "2020-02-09T00:00:00",
          "2020-02-10T00:00:00",
          "2020-02-11T00:00:00",
          "2020-02-12T00:00:00",
          "2020-02-13T00:00:00",
          "2020-02-14T00:00:00",
          "2020-02-15T00:00:00",
          "2020-02-16T00:00:00",
          "2020-02-17T00:00:00",
          "2020-02-18T00:00:00",
          "2020-02-19T00:00:00",
          "2020-02-20T00:00:00",
          "2020-02-21T00:00:00",
          "2020-02-22T00:00:00",
          "2020-02-23T00:00:00",
          "2020-02-24T00:00:00",
          "2020-02-25T00:00:00",
          "2020-02-26T00:00:00",
          "2020-02-27T00:00:00",
          "2020-02-28T00:00:00",
          "2020-02-29T00:00:00",
          "2020-03-01T00:00:00",
          "2020-03-02T00:00:00",
          "2020-03-03T00:00:00",
          "2020-03-04T00:00:00",
          "2020-03-05T00:00:00",
          "2020-03-06T00:00:00",
          "2020-03-07T00:00:00",
          "2020-03-08T00:00:00",
          "2020-03-09T00:00:00",
          "2020-03-10T00:00:00",
          "2020-03-11T00:00:00",
          "2020-03-12T00:00:00",
          "2020-03-13T00:00:00",
          "2020-03-14T00:00:00",
          "2020-03-15T00:00:00",
          "2020-03-16T00:00:00",
          "2020-03-17T00:00:00",
          "2020-03-18T00:00:00",
          "2020-03-19T00:00:00",
          "2020-03-20T00:00:00",
          "2020-03-21T00:00:00",
          "2020-03-22T00:00:00",
          "2020-03-23T00:00:00",
          "2020-03-24T00:00:00",
          "2020-03-25T00:00:00",
          "2020-03-26T00:00:00",
          "2020-03-27T00:00:00",
          "2020-03-28T00:00:00",
          "2020-03-29T00:00:00",
          "2020-03-30T00:00:00",
          "2020-03-31T00:00:00",
          "2020-04-01T00:00:00",
          "2020-04-02T00:00:00",
          "2020-04-03T00:00:00",
          "2020-04-04T00:00:00",
          "2020-04-05T00:00:00",
          "2020-04-06T00:00:00",
          "2020-04-07T00:00:00",
          "2020-04-08T00:00:00",
          "2020-04-09T00:00:00",
          "2020-04-10T00:00:00",
          "2020-04-11T00:00:00",
          "2020-04-12T00:00:00",
          "2020-04-13T00:00:00",
          "2020-04-14T00:00:00",
          "2020-04-15T00:00:00",
          "2020-04-16T00:00:00",
          "2020-04-17T00:00:00",
          "2020-04-18T00:00:00",
          "2020-04-19T00:00:00",
          "2020-04-20T00:00:00",
          "2020-04-21T00:00:00",
          "2020-04-22T00:00:00",
          "2020-04-23T00:00:00",
          "2020-04-24T00:00:00"
         ],
         "y": [
          28,
          30,
          36,
          39,
          52,
          61,
          107,
          126,
          143,
          222,
          284,
          472,
          623,
          852,
          1124,
          1487,
          2011,
          2616,
          3244,
          3946,
          4683,
          5150,
          6295,
          8058,
          9395,
          10865,
          12583,
          14352,
          16121,
          18177,
          18890,
          22886,
          23394,
          25227,
          27905,
          30384,
          33277,
          36711,
          39782,
          42716,
          45602,
          48229,
          51171,
          53797,
          55866,
          58359,
          60695,
          62512,
          64404,
          67003,
          68324,
          70251,
          72624,
          76034,
          78088,
          80840,
          83313,
          84962,
          87403,
          91676,
          97243,
          100958,
          107699,
          113764,
          122144,
          130909,
          139409,
          149076,
          164560,
          178028,
          193171,
          210263,
          225796,
          246152,
          260012,
          276515,
          300054,
          328661,
          353975,
          376096,
          402110,
          421722,
          448655,
          474261,
          511019,
          542107,
          568343,
          592319,
          623903,
          645738,
          679819,
          709694,
          738486,
          793601
         ]
        },
        {
         "mode": "lines+markers",
         "name": "Death Cases",
         "type": "scatter",
         "x": [
          "2020-01-22T00:00:00",
          "2020-01-23T00:00:00",
          "2020-01-24T00:00:00",
          "2020-01-25T00:00:00",
          "2020-01-26T00:00:00",
          "2020-01-27T00:00:00",
          "2020-01-28T00:00:00",
          "2020-01-29T00:00:00",
          "2020-01-30T00:00:00",
          "2020-01-31T00:00:00",
          "2020-02-01T00:00:00",
          "2020-02-02T00:00:00",
          "2020-02-03T00:00:00",
          "2020-02-04T00:00:00",
          "2020-02-05T00:00:00",
          "2020-02-06T00:00:00",
          "2020-02-07T00:00:00",
          "2020-02-08T00:00:00",
          "2020-02-09T00:00:00",
          "2020-02-10T00:00:00",
          "2020-02-11T00:00:00",
          "2020-02-12T00:00:00",
          "2020-02-13T00:00:00",
          "2020-02-14T00:00:00",
          "2020-02-15T00:00:00",
          "2020-02-16T00:00:00",
          "2020-02-17T00:00:00",
          "2020-02-18T00:00:00",
          "2020-02-19T00:00:00",
          "2020-02-20T00:00:00",
          "2020-02-21T00:00:00",
          "2020-02-22T00:00:00",
          "2020-02-23T00:00:00",
          "2020-02-24T00:00:00",
          "2020-02-25T00:00:00",
          "2020-02-26T00:00:00",
          "2020-02-27T00:00:00",
          "2020-02-28T00:00:00",
          "2020-02-29T00:00:00",
          "2020-03-01T00:00:00",
          "2020-03-02T00:00:00",
          "2020-03-03T00:00:00",
          "2020-03-04T00:00:00",
          "2020-03-05T00:00:00",
          "2020-03-06T00:00:00",
          "2020-03-07T00:00:00",
          "2020-03-08T00:00:00",
          "2020-03-09T00:00:00",
          "2020-03-10T00:00:00",
          "2020-03-11T00:00:00",
          "2020-03-12T00:00:00",
          "2020-03-13T00:00:00",
          "2020-03-14T00:00:00",
          "2020-03-15T00:00:00",
          "2020-03-16T00:00:00",
          "2020-03-17T00:00:00",
          "2020-03-18T00:00:00",
          "2020-03-19T00:00:00",
          "2020-03-20T00:00:00",
          "2020-03-21T00:00:00",
          "2020-03-22T00:00:00",
          "2020-03-23T00:00:00",
          "2020-03-24T00:00:00",
          "2020-03-25T00:00:00",
          "2020-03-26T00:00:00",
          "2020-03-27T00:00:00",
          "2020-03-28T00:00:00",
          "2020-03-29T00:00:00",
          "2020-03-30T00:00:00",
          "2020-03-31T00:00:00",
          "2020-04-01T00:00:00",
          "2020-04-02T00:00:00",
          "2020-04-03T00:00:00",
          "2020-04-04T00:00:00",
          "2020-04-05T00:00:00",
          "2020-04-06T00:00:00",
          "2020-04-07T00:00:00",
          "2020-04-08T00:00:00",
          "2020-04-09T00:00:00",
          "2020-04-10T00:00:00",
          "2020-04-11T00:00:00",
          "2020-04-12T00:00:00",
          "2020-04-13T00:00:00",
          "2020-04-14T00:00:00",
          "2020-04-15T00:00:00",
          "2020-04-16T00:00:00",
          "2020-04-17T00:00:00",
          "2020-04-18T00:00:00",
          "2020-04-19T00:00:00",
          "2020-04-20T00:00:00",
          "2020-04-21T00:00:00",
          "2020-04-22T00:00:00",
          "2020-04-23T00:00:00",
          "2020-04-24T00:00:00"
         ],
         "y": [
          17,
          18,
          26,
          42,
          56,
          82,
          131,
          133,
          171,
          213,
          259,
          362,
          426,
          492,
          564,
          634,
          719,
          806,
          906,
          1013,
          1113,
          1118,
          1371,
          1523,
          1666,
          1770,
          1868,
          2007,
          2122,
          2247,
          2251,
          2458,
          2469,
          2629,
          2708,
          2770,
          2814,
          2872,
          2941,
          2996,
          3085,
          3160,
          3254,
          3348,
          3460,
          3558,
          3803,
          3996,
          4262,
          4615,
          4720,
          5404,
          5819,
          6440,
          7126,
          7905,
          8733,
          9867,
          11299,
          12973,
          14623,
          16497,
          18615,
          21181,
          23970,
          27198,
          30652,
          33925,
          37582,
          42107,
          46809,
          52983,
          58787,
          64606,
          69374,
          74565,
          81865,
          88338,
          95455,
          102525,
          108502,
          114089,
          119482,
          125984,
          134177,
          143801,
          153822,
          159510,
          165044,
          169986,
          176583,
          183066,
          190858,
          197159
         ]
        }
       ],
       "layout": {
        "legend": {
         "traceorder": "normal",
         "x": 0,
         "y": 1
        },
        "template": {
         "data": {
          "bar": [
           {
            "error_x": {
             "color": "#2a3f5f"
            },
            "error_y": {
             "color": "#2a3f5f"
            },
            "marker": {
             "line": {
              "color": "#E5ECF6",
              "width": 0.5
             },
             "pattern": {
              "fillmode": "overlay",
              "size": 10,
              "solidity": 0.2
             }
            },
            "type": "bar"
           }
          ],
          "barpolar": [
           {
            "marker": {
             "line": {
              "color": "#E5ECF6",
              "width": 0.5
             },
             "pattern": {
              "fillmode": "overlay",
              "size": 10,
              "solidity": 0.2
             }
            },
            "type": "barpolar"
           }
          ],
          "carpet": [
           {
            "aaxis": {
             "endlinecolor": "#2a3f5f",
             "gridcolor": "white",
             "linecolor": "white",
             "minorgridcolor": "white",
             "startlinecolor": "#2a3f5f"
            },
            "baxis": {
             "endlinecolor": "#2a3f5f",
             "gridcolor": "white",
             "linecolor": "white",
             "minorgridcolor": "white",
             "startlinecolor": "#2a3f5f"
            },
            "type": "carpet"
           }
          ],
          "choropleth": [
           {
            "colorbar": {
             "outlinewidth": 0,
             "ticks": ""
            },
            "type": "choropleth"
           }
          ],
          "contour": [
           {
            "colorbar": {
             "outlinewidth": 0,
             "ticks": ""
            },
            "colorscale": [
             [
              0,
              "#0d0887"
             ],
             [
              0.1111111111111111,
              "#46039f"
             ],
             [
              0.2222222222222222,
              "#7201a8"
             ],
             [
              0.3333333333333333,
              "#9c179e"
             ],
             [
              0.4444444444444444,
              "#bd3786"
             ],
             [
              0.5555555555555556,
              "#d8576b"
             ],
             [
              0.6666666666666666,
              "#ed7953"
             ],
             [
              0.7777777777777778,
              "#fb9f3a"
             ],
             [
              0.8888888888888888,
              "#fdca26"
             ],
             [
              1,
              "#f0f921"
             ]
            ],
            "type": "contour"
           }
          ],
          "contourcarpet": [
           {
            "colorbar": {
             "outlinewidth": 0,
             "ticks": ""
            },
            "type": "contourcarpet"
           }
          ],
          "heatmap": [
           {
            "colorbar": {
             "outlinewidth": 0,
             "ticks": ""
            },
            "colorscale": [
             [
              0,
              "#0d0887"
             ],
             [
              0.1111111111111111,
              "#46039f"
             ],
             [
              0.2222222222222222,
              "#7201a8"
             ],
             [
              0.3333333333333333,
              "#9c179e"
             ],
             [
              0.4444444444444444,
              "#bd3786"
             ],
             [
              0.5555555555555556,
              "#d8576b"
             ],
             [
              0.6666666666666666,
              "#ed7953"
             ],
             [
              0.7777777777777778,
              "#fb9f3a"
             ],
             [
              0.8888888888888888,
              "#fdca26"
             ],
             [
              1,
              "#f0f921"
             ]
            ],
            "type": "heatmap"
           }
          ],
          "heatmapgl": [
           {
            "colorbar": {
             "outlinewidth": 0,
             "ticks": ""
            },
            "colorscale": [
             [
              0,
              "#0d0887"
             ],
             [
              0.1111111111111111,
              "#46039f"
             ],
             [
              0.2222222222222222,
              "#7201a8"
             ],
             [
              0.3333333333333333,
              "#9c179e"
             ],
             [
              0.4444444444444444,
              "#bd3786"
             ],
             [
              0.5555555555555556,
              "#d8576b"
             ],
             [
              0.6666666666666666,
              "#ed7953"
             ],
             [
              0.7777777777777778,
              "#fb9f3a"
             ],
             [
              0.8888888888888888,
              "#fdca26"
             ],
             [
              1,
              "#f0f921"
             ]
            ],
            "type": "heatmapgl"
           }
          ],
          "histogram": [
           {
            "marker": {
             "pattern": {
              "fillmode": "overlay",
              "size": 10,
              "solidity": 0.2
             }
            },
            "type": "histogram"
           }
          ],
          "histogram2d": [
           {
            "colorbar": {
             "outlinewidth": 0,
             "ticks": ""
            },
            "colorscale": [
             [
              0,
              "#0d0887"
             ],
             [
              0.1111111111111111,
              "#46039f"
             ],
             [
              0.2222222222222222,
              "#7201a8"
             ],
             [
              0.3333333333333333,
              "#9c179e"
             ],
             [
              0.4444444444444444,
              "#bd3786"
             ],
             [
              0.5555555555555556,
              "#d8576b"
             ],
             [
              0.6666666666666666,
              "#ed7953"
             ],
             [
              0.7777777777777778,
              "#fb9f3a"
             ],
             [
              0.8888888888888888,
              "#fdca26"
             ],
             [
              1,
              "#f0f921"
             ]
            ],
            "type": "histogram2d"
           }
          ],
          "histogram2dcontour": [
           {
            "colorbar": {
             "outlinewidth": 0,
             "ticks": ""
            },
            "colorscale": [
             [
              0,
              "#0d0887"
             ],
             [
              0.1111111111111111,
              "#46039f"
             ],
             [
              0.2222222222222222,
              "#7201a8"
             ],
             [
              0.3333333333333333,
              "#9c179e"
             ],
             [
              0.4444444444444444,
              "#bd3786"
             ],
             [
              0.5555555555555556,
              "#d8576b"
             ],
             [
              0.6666666666666666,
              "#ed7953"
             ],
             [
              0.7777777777777778,
              "#fb9f3a"
             ],
             [
              0.8888888888888888,
              "#fdca26"
             ],
             [
              1,
              "#f0f921"
             ]
            ],
            "type": "histogram2dcontour"
           }
          ],
          "mesh3d": [
           {
            "colorbar": {
             "outlinewidth": 0,
             "ticks": ""
            },
            "type": "mesh3d"
           }
          ],
          "parcoords": [
           {
            "line": {
             "colorbar": {
              "outlinewidth": 0,
              "ticks": ""
             }
            },
            "type": "parcoords"
           }
          ],
          "pie": [
           {
            "automargin": true,
            "type": "pie"
           }
          ],
          "scatter": [
           {
            "marker": {
             "colorbar": {
              "outlinewidth": 0,
              "ticks": ""
             }
            },
            "type": "scatter"
           }
          ],
          "scatter3d": [
           {
            "line": {
             "colorbar": {
              "outlinewidth": 0,
              "ticks": ""
             }
            },
            "marker": {
             "colorbar": {
              "outlinewidth": 0,
              "ticks": ""
             }
            },
            "type": "scatter3d"
           }
          ],
          "scattercarpet": [
           {
            "marker": {
             "colorbar": {
              "outlinewidth": 0,
              "ticks": ""
             }
            },
            "type": "scattercarpet"
           }
          ],
          "scattergeo": [
           {
            "marker": {
             "colorbar": {
              "outlinewidth": 0,
              "ticks": ""
             }
            },
            "type": "scattergeo"
           }
          ],
          "scattergl": [
           {
            "marker": {
             "colorbar": {
              "outlinewidth": 0,
              "ticks": ""
             }
            },
            "type": "scattergl"
           }
          ],
          "scattermapbox": [
           {
            "marker": {
             "colorbar": {
              "outlinewidth": 0,
              "ticks": ""
             }
            },
            "type": "scattermapbox"
           }
          ],
          "scatterpolar": [
           {
            "marker": {
             "colorbar": {
              "outlinewidth": 0,
              "ticks": ""
             }
            },
            "type": "scatterpolar"
           }
          ],
          "scatterpolargl": [
           {
            "marker": {
             "colorbar": {
              "outlinewidth": 0,
              "ticks": ""
             }
            },
            "type": "scatterpolargl"
           }
          ],
          "scatterternary": [
           {
            "marker": {
             "colorbar": {
              "outlinewidth": 0,
              "ticks": ""
             }
            },
            "type": "scatterternary"
           }
          ],
          "surface": [
           {
            "colorbar": {
             "outlinewidth": 0,
             "ticks": ""
            },
            "colorscale": [
             [
              0,
              "#0d0887"
             ],
             [
              0.1111111111111111,
              "#46039f"
             ],
             [
              0.2222222222222222,
              "#7201a8"
             ],
             [
              0.3333333333333333,
              "#9c179e"
             ],
             [
              0.4444444444444444,
              "#bd3786"
             ],
             [
              0.5555555555555556,
              "#d8576b"
             ],
             [
              0.6666666666666666,
              "#ed7953"
             ],
             [
              0.7777777777777778,
              "#fb9f3a"
             ],
             [
              0.8888888888888888,
              "#fdca26"
             ],
             [
              1,
              "#f0f921"
             ]
            ],
            "type": "surface"
           }
          ],
          "table": [
           {
            "cells": {
             "fill": {
              "color": "#EBF0F8"
             },
             "line": {
              "color": "white"
             }
            },
            "header": {
             "fill": {
              "color": "#C8D4E3"
             },
             "line": {
              "color": "white"
             }
            },
            "type": "table"
           }
          ]
         },
         "layout": {
          "annotationdefaults": {
           "arrowcolor": "#2a3f5f",
           "arrowhead": 0,
           "arrowwidth": 1
          },
          "autotypenumbers": "strict",
          "coloraxis": {
           "colorbar": {
            "outlinewidth": 0,
            "ticks": ""
           }
          },
          "colorscale": {
           "diverging": [
            [
             0,
             "#8e0152"
            ],
            [
             0.1,
             "#c51b7d"
            ],
            [
             0.2,
             "#de77ae"
            ],
            [
             0.3,
             "#f1b6da"
            ],
            [
             0.4,
             "#fde0ef"
            ],
            [
             0.5,
             "#f7f7f7"
            ],
            [
             0.6,
             "#e6f5d0"
            ],
            [
             0.7,
             "#b8e186"
            ],
            [
             0.8,
             "#7fbc41"
            ],
            [
             0.9,
             "#4d9221"
            ],
            [
             1,
             "#276419"
            ]
           ],
           "sequential": [
            [
             0,
             "#0d0887"
            ],
            [
             0.1111111111111111,
             "#46039f"
            ],
            [
             0.2222222222222222,
             "#7201a8"
            ],
            [
             0.3333333333333333,
             "#9c179e"
            ],
            [
             0.4444444444444444,
             "#bd3786"
            ],
            [
             0.5555555555555556,
             "#d8576b"
            ],
            [
             0.6666666666666666,
             "#ed7953"
            ],
            [
             0.7777777777777778,
             "#fb9f3a"
            ],
            [
             0.8888888888888888,
             "#fdca26"
            ],
            [
             1,
             "#f0f921"
            ]
           ],
           "sequentialminus": [
            [
             0,
             "#0d0887"
            ],
            [
             0.1111111111111111,
             "#46039f"
            ],
            [
             0.2222222222222222,
             "#7201a8"
            ],
            [
             0.3333333333333333,
             "#9c179e"
            ],
            [
             0.4444444444444444,
             "#bd3786"
            ],
            [
             0.5555555555555556,
             "#d8576b"
            ],
            [
             0.6666666666666666,
             "#ed7953"
            ],
            [
             0.7777777777777778,
             "#fb9f3a"
            ],
            [
             0.8888888888888888,
             "#fdca26"
            ],
            [
             1,
             "#f0f921"
            ]
           ]
          },
          "colorway": [
           "#636efa",
           "#EF553B",
           "#00cc96",
           "#ab63fa",
           "#FFA15A",
           "#19d3f3",
           "#FF6692",
           "#B6E880",
           "#FF97FF",
           "#FECB52"
          ],
          "font": {
           "color": "#2a3f5f"
          },
          "geo": {
           "bgcolor": "white",
           "lakecolor": "white",
           "landcolor": "#E5ECF6",
           "showlakes": true,
           "showland": true,
           "subunitcolor": "white"
          },
          "hoverlabel": {
           "align": "left"
          },
          "hovermode": "closest",
          "mapbox": {
           "style": "light"
          },
          "paper_bgcolor": "white",
          "plot_bgcolor": "#E5ECF6",
          "polar": {
           "angularaxis": {
            "gridcolor": "white",
            "linecolor": "white",
            "ticks": ""
           },
           "bgcolor": "#E5ECF6",
           "radialaxis": {
            "gridcolor": "white",
            "linecolor": "white",
            "ticks": ""
           }
          },
          "scene": {
           "xaxis": {
            "backgroundcolor": "#E5ECF6",
            "gridcolor": "white",
            "gridwidth": 2,
            "linecolor": "white",
            "showbackground": true,
            "ticks": "",
            "zerolinecolor": "white"
           },
           "yaxis": {
            "backgroundcolor": "#E5ECF6",
            "gridcolor": "white",
            "gridwidth": 2,
            "linecolor": "white",
            "showbackground": true,
            "ticks": "",
            "zerolinecolor": "white"
           },
           "zaxis": {
            "backgroundcolor": "#E5ECF6",
            "gridcolor": "white",
            "gridwidth": 2,
            "linecolor": "white",
            "showbackground": true,
            "ticks": "",
            "zerolinecolor": "white"
           }
          },
          "shapedefaults": {
           "line": {
            "color": "#2a3f5f"
           }
          },
          "ternary": {
           "aaxis": {
            "gridcolor": "white",
            "linecolor": "white",
            "ticks": ""
           },
           "baxis": {
            "gridcolor": "white",
            "linecolor": "white",
            "ticks": ""
           },
           "bgcolor": "#E5ECF6",
           "caxis": {
            "gridcolor": "white",
            "linecolor": "white",
            "ticks": ""
           }
          },
          "title": {
           "x": 0.05
          },
          "xaxis": {
           "automargin": true,
           "gridcolor": "white",
           "linecolor": "white",
           "ticks": "",
           "title": {
            "standoff": 15
           },
           "zerolinecolor": "white",
           "zerolinewidth": 2
          },
          "yaxis": {
           "automargin": true,
           "gridcolor": "white",
           "linecolor": "white",
           "ticks": "",
           "title": {
            "standoff": 15
           },
           "zerolinecolor": "white",
           "zerolinewidth": 2
          }
         }
        },
        "title": {
         "text": "Growth of different types of cases"
        },
        "xaxis": {
         "title": {
          "text": "Date"
         }
        },
        "yaxis": {
         "title": {
          "text": "Number of Cases"
         }
        }
       }
      }
     },
     "metadata": {},
     "output_type": "display_data"
    }
   ],
   "source": [
    "print(\"Average increase in number of Confirmed cases everyday:\",np.round(datewise[\"Confirmed\"].diff().fillna(0).mean()))\n",
    "print(\"Average increase in number of Recovered cases everyday:\",np.round(datewise[\"Recovered\"].diff().fillna(0).mean()))\n",
    "print(\"Average increase in number of Death cases everyday:\",np.round(datewise[\"Deaths\"].diff().fillna(0).mean()))\n",
    "\n",
    "fig=go.Figure()\n",
    "fig.add_trace(go.Scatter(x=datewise.index, y=datewise[\"Confirmed\"],\n",
    "                    mode='lines+markers',\n",
    "                    name='Confirmed Cases'))\n",
    "fig.add_trace(go.Scatter(x=datewise.index, y=datewise[\"Recovered\"],\n",
    "                    mode='lines+markers',\n",
    "                    name='Recovered Cases'))\n",
    "fig.add_trace(go.Scatter(x=datewise.index, y=datewise[\"Deaths\"],\n",
    "                    mode='lines+markers',\n",
    "                    name='Death Cases'))\n",
    "fig.update_layout(title=\"Growth of different types of cases\",\n",
    "                 xaxis_title=\"Date\",yaxis_title=\"Number of Cases\",legend=dict(x=0,y=1,traceorder=\"normal\"))\n",
    "fig.show()"
   ]
  },
  {
   "cell_type": "code",
   "execution_count": 17,
   "metadata": {
    "colab": {},
    "colab_type": "code",
    "id": "iZ3OXFn0HBKl"
   },
   "outputs": [],
   "source": [
    "#Country wise analysis\n",
    "#Calculating Country wise Mortality rate\n",
    "countrywise= covid[covid[\"ObservationDate\"]==covid[\"ObservationDate\"].max()].groupby([\"Country/Region\"]).agg({\"Confirmed\":\"sum\",\"Recovered\":\"sum\",\"Deaths\":\"sum\"}).sort_values([\"Confirmed\"],ascending=False)\n",
    "countrywise[\"Mortality\"]=(countrywise[\"Deaths\"]/countrywise[\"Recovered\"])*100\n",
    "countrywise[\"Recovered\"]=(countrywise[\"Recovered\"]/countrywise[\"Confirmed\"])*100"
   ]
  },
  {
   "cell_type": "code",
   "execution_count": 18,
   "metadata": {
    "colab": {
     "base_uri": "https://localhost:8080/",
     "height": 351
    },
    "colab_type": "code",
    "id": "ksTfgDoNIIFQ",
    "outputId": "bd2d4281-0c6f-4c2e-cb71-5801e50a85bc"
   },
   "outputs": [
    {
     "data": {
      "text/plain": [
       "Text(0.5, 1.0, 'Top 15 countries as per number of death cases')"
      ]
     },
     "execution_count": 18,
     "metadata": {},
     "output_type": "execute_result"
    },
    {
     "data": {
      "image/png": "[encoded data removed]",
      "text/plain": [
       "<Figure size 1800x720 with 2 Axes>"
      ]
     },
     "metadata": {
      "needs_background": "light"
     },
     "output_type": "display_data"
    }
   ],
   "source": [
    "fig,(ax1,ax2)=plt.subplots(1,2,figsize=(25,10))\n",
    "top_15confirmed = countrywise.sort_values([\"Confirmed\"],ascending=False).head(15)\n",
    "top_15deaths = countrywise.sort_values([\"Deaths\"],ascending=False).head(15)\n",
    "sns.barplot(x=top_15confirmed[\"Confirmed\"],y=top_15confirmed.index,ax=ax1)\n",
    "ax1.set_title(\"Top 15 countries as per number of confirmed cases\")\n",
    "sns.barplot(x=top_15deaths[\"Deaths\"],y=top_15deaths.index,ax=ax2)\n",
    "ax1.set_title(\"Top 15 countries as per number of death cases\")"
   ]
  },
  {
   "cell_type": "markdown",
   "metadata": {},
   "source": [
    "#### <- Moratality and Recovery Rate analysis around the World ->"
   ]
  },
  {
   "cell_type": "markdown",
   "metadata": {},
   "source": [
    "#### Mortality rate = (Number of Death Cases / Number of Confirmed Cases) x 100\n",
    "#### Recovery Rate= (Number of Recoverd Cases / Number of Confirmed Cases) x 100\n",
    "#### Mortality rate is showing a considerable for a pretty long time, which is positive sign\n",
    "#### Recovery Rate has started to pick up again which is a good sign, another supportive reason to why number of Closed Cases are increasing"
   ]
  },
  {
   "cell_type": "code",
   "execution_count": 19,
   "metadata": {},
   "outputs": [
    {
     "name": "stdout",
     "output_type": "stream",
     "text": [
      "Average Mortality Rate 3.9852058651746134\n",
      "Median Mortality Rate 3.4903147580674903\n",
      "Average Recovery Rate 25.029028738061083\n",
      "Median Recovery Rate 23.231973312810545\n"
     ]
    },
    {
     "data": {
      "application/vnd.plotly.v1+json": {
       "config": {
        "plotlyServerURL": "https://plot.ly"
       },
       "data": [
        {
         "name": "Recovery Rate",
         "type": "scatter",
         "x": [
          "2020-01-22T00:00:00",
          "2020-01-23T00:00:00",
          "2020-01-24T00:00:00",
          "2020-01-25T00:00:00",
          "2020-01-26T00:00:00",
          "2020-01-27T00:00:00",
          "2020-01-28T00:00:00",
          "2020-01-29T00:00:00",
          "2020-01-30T00:00:00",
          "2020-01-31T00:00:00",
          "2020-02-01T00:00:00",
          "2020-02-02T00:00:00",
          "2020-02-03T00:00:00",
          "2020-02-04T00:00:00",
          "2020-02-05T00:00:00",
          "2020-02-06T00:00:00",
          "2020-02-07T00:00:00",
          "2020-02-08T00:00:00",
          "2020-02-09T00:00:00",
          "2020-02-10T00:00:00",
          "2020-02-11T00:00:00",
          "2020-02-12T00:00:00",
          "2020-02-13T00:00:00",
          "2020-02-14T00:00:00",
          "2020-02-15T00:00:00",
          "2020-02-16T00:00:00",
          "2020-02-17T00:00:00",
          "2020-02-18T00:00:00",
          "2020-02-19T00:00:00",
          "2020-02-20T00:00:00",
          "2020-02-21T00:00:00",
          "2020-02-22T00:00:00",
          "2020-02-23T00:00:00",
          "2020-02-24T00:00:00",
          "2020-02-25T00:00:00",
          "2020-02-26T00:00:00",
          "2020-02-27T00:00:00",
          "2020-02-28T00:00:00",
          "2020-02-29T00:00:00",
          "2020-03-01T00:00:00",
          "2020-03-02T00:00:00",
          "2020-03-03T00:00:00",
          "2020-03-04T00:00:00",
          "2020-03-05T00:00:00",
          "2020-03-06T00:00:00",
          "2020-03-07T00:00:00",
          "2020-03-08T00:00:00",
          "2020-03-09T00:00:00",
          "2020-03-10T00:00:00",
          "2020-03-11T00:00:00",
          "2020-03-12T00:00:00",
          "2020-03-13T00:00:00",
          "2020-03-14T00:00:00",
          "2020-03-15T00:00:00",
          "2020-03-16T00:00:00",
          "2020-03-17T00:00:00",
          "2020-03-18T00:00:00",
          "2020-03-19T00:00:00",
          "2020-03-20T00:00:00",
          "2020-03-21T00:00:00",
          "2020-03-22T00:00:00",
          "2020-03-23T00:00:00",
          "2020-03-24T00:00:00",
          "2020-03-25T00:00:00",
          "2020-03-26T00:00:00",
          "2020-03-27T00:00:00",
          "2020-03-28T00:00:00",
          "2020-03-29T00:00:00",
          "2020-03-30T00:00:00",
          "2020-03-31T00:00:00",
          "2020-04-01T00:00:00",
          "2020-04-02T00:00:00",
          "2020-04-03T00:00:00",
          "2020-04-04T00:00:00",
          "2020-04-05T00:00:00",
          "2020-04-06T00:00:00",
          "2020-04-07T00:00:00",
          "2020-04-08T00:00:00",
          "2020-04-09T00:00:00",
          "2020-04-10T00:00:00",
          "2020-04-11T00:00:00",
          "2020-04-12T00:00:00",
          "2020-04-13T00:00:00",
          "2020-04-14T00:00:00",
          "2020-04-15T00:00:00",
          "2020-04-16T00:00:00",
          "2020-04-17T00:00:00",
          "2020-04-18T00:00:00",
          "2020-04-19T00:00:00",
          "2020-04-20T00:00:00",
          "2020-04-21T00:00:00",
          "2020-04-22T00:00:00",
          "2020-04-23T00:00:00",
          "2020-04-24T00:00:00"
         ],
         "xaxis": "x",
         "y": [
          5.045045045045045,
          4.594180704441041,
          3.825717321997875,
          2.7121001390820583,
          2.4551463644948064,
          2.0840450973693203,
          1.9182502689135892,
          2.0437956204379564,
          1.7364905889496054,
          2.2367758186397984,
          2.3591958797142385,
          2.8116995293977483,
          3.1336451888737993,
          3.566047212456052,
          4.06715877840498,
          4.825102212992407,
          5.847290067457548,
          7.047223943320493,
          8.07949988792309,
          9.227603301919885,
          10.45242506082182,
          11.38826235018354,
          10.427364585058804,
          12.04718405669263,
          13.609630316375016,
          15.254261084435457,
          17.175812175812176,
          19.100854427852752,
          21.312515699157863,
          23.854643761729157,
          24.58259047668623,
          29.1174187966768,
          29.61828195226942,
          31.704159859243436,
          34.701237331343656,
          37.32815705738541,
          40.210981681086565,
          43.63915172840093,
          46.25114808226664,
          48.33712416969368,
          50.495520933683245,
          51.946275472836156,
          53.793995206257094,
          54.95882965899107,
          54.87819253438114,
          55.14097282588155,
          55.26016297173032,
          55.0368896480076,
          54.31178425056079,
          53.23402057760299,
          53.23547057494371,
          48.384563994131945,
          46.52432110391482,
          45.40780067722922,
          43.01279014684983,
          41.0005680434959,
          38.76555847660703,
          35.00512951510632,
          32.11373899113412,
          30.10221672046206,
          28.845047193597573,
          26.68848454728338,
          25.76765351874094,
          24.3296535028251,
          23.063836054615734,
          22.064888899376527,
          21.1004203162437,
          20.700974810453523,
          21.03301554597521,
          20.76159755191624,
          20.713056438685186,
          20.750259300525116,
          20.60338511036876,
          20.557069937732166,
          20.43934707160909,
          20.557192359532852,
          21.040238525316667,
          21.749727351658123,
          22.18792114583007,
          22.231588106535423,
          22.698663403168137,
          22.83676652154136,
          23.40011057100536,
          23.998730892544852,
          24.85434484972435,
          25.183274359428182,
          25.370292086701536,
          25.55567684129368,
          25.981030066474304,
          26.119350763815604,
          26.668740582545446,
          27.046677540816173,
          27.261622401836917,
          28.23004325921415
         ],
         "yaxis": "y"
        },
        {
         "name": "Mortality Rate",
         "type": "scatter",
         "x": [
          "2020-01-22T00:00:00",
          "2020-01-23T00:00:00",
          "2020-01-24T00:00:00",
          "2020-01-25T00:00:00",
          "2020-01-26T00:00:00",
          "2020-01-27T00:00:00",
          "2020-01-28T00:00:00",
          "2020-01-29T00:00:00",
          "2020-01-30T00:00:00",
          "2020-01-31T00:00:00",
          "2020-02-01T00:00:00",
          "2020-02-02T00:00:00",
          "2020-02-03T00:00:00",
          "2020-02-04T00:00:00",
          "2020-02-05T00:00:00",
          "2020-02-06T00:00:00",
          "2020-02-07T00:00:00",
          "2020-02-08T00:00:00",
          "2020-02-09T00:00:00",
          "2020-02-10T00:00:00",
          "2020-02-11T00:00:00",
          "2020-02-12T00:00:00",
          "2020-02-13T00:00:00",
          "2020-02-14T00:00:00",
          "2020-02-15T00:00:00",
          "2020-02-16T00:00:00",
          "2020-02-17T00:00:00",
          "2020-02-18T00:00:00",
          "2020-02-19T00:00:00",
          "2020-02-20T00:00:00",
          "2020-02-21T00:00:00",
          "2020-02-22T00:00:00",
          "2020-02-23T00:00:00",
          "2020-02-24T00:00:00",
          "2020-02-25T00:00:00",
          "2020-02-26T00:00:00",
          "2020-02-27T00:00:00",
          "2020-02-28T00:00:00",
          "2020-02-29T00:00:00",
          "2020-03-01T00:00:00",
          "2020-03-02T00:00:00",
          "2020-03-03T00:00:00",
          "2020-03-04T00:00:00",
          "2020-03-05T00:00:00",
          "2020-03-06T00:00:00",
          "2020-03-07T00:00:00",
          "2020-03-08T00:00:00",
          "2020-03-09T00:00:00",
          "2020-03-10T00:00:00",
          "2020-03-11T00:00:00",
          "2020-03-12T00:00:00",
          "2020-03-13T00:00:00",
          "2020-03-14T00:00:00",
          "2020-03-15T00:00:00",
          "2020-03-16T00:00:00",
          "2020-03-17T00:00:00",
          "2020-03-18T00:00:00",
          "2020-03-19T00:00:00",
          "2020-03-20T00:00:00",
          "2020-03-21T00:00:00",
          "2020-03-22T00:00:00",
          "2020-03-23T00:00:00",
          "2020-03-24T00:00:00",
          "2020-03-25T00:00:00",
          "2020-03-26T00:00:00",
          "2020-03-27T00:00:00",
          "2020-03-28T00:00:00",
          "2020-03-29T00:00:00",
          "2020-03-30T00:00:00",
          "2020-03-31T00:00:00",
          "2020-04-01T00:00:00",
          "2020-04-02T00:00:00",
          "2020-04-03T00:00:00",
          "2020-04-04T00:00:00",
          "2020-04-05T00:00:00",
          "2020-04-06T00:00:00",
          "2020-04-07T00:00:00",
          "2020-04-08T00:00:00",
          "2020-04-09T00:00:00",
          "2020-04-10T00:00:00",
          "2020-04-11T00:00:00",
          "2020-04-12T00:00:00",
          "2020-04-13T00:00:00",
          "2020-04-14T00:00:00",
          "2020-04-15T00:00:00",
          "2020-04-16T00:00:00",
          "2020-04-17T00:00:00",
          "2020-04-18T00:00:00",
          "2020-04-19T00:00:00",
          "2020-04-20T00:00:00",
          "2020-04-21T00:00:00",
          "2020-04-22T00:00:00",
          "2020-04-23T00:00:00",
          "2020-04-24T00:00:00"
         ],
         "xaxis": "x2",
         "y": [
          3.063063063063063,
          2.756508422664625,
          2.763018065887354,
          2.920723226703755,
          2.644003777148253,
          2.801503245644004,
          2.3485120114736464,
          2.1573398215733985,
          2.0765027322404372,
          2.146095717884131,
          2.1515201860774216,
          2.1564305712753917,
          2.142749358684171,
          2.059266700150678,
          2.0408163265306123,
          2.057239275747939,
          2.0906024656896953,
          2.1712777134236685,
          2.256481781275684,
          2.368870285059514,
          2.4842086467424056,
          2.4722480208747957,
          2.270995527579924,
          2.276974598950469,
          2.4133735079383474,
          2.4850475949793616,
          2.54982254982255,
          2.6710852032260637,
          2.8053568831718247,
          2.9488575965563855,
          2.929349452780344,
          3.1272662502067456,
          3.125909982908147,
          3.304009048636421,
          3.367530933283591,
          3.4030738233595836,
          3.4003576779931364,
          3.4140078931101705,
          3.4192505784009395,
          3.3902524583856697,
          3.416049341704592,
          3.4035586575330665,
          3.4207981161431396,
          3.4203052530494658,
          3.398821218074656,
          3.3618050568804563,
          3.462466426913097,
          3.518163089221884,
          3.5941373901603955,
          3.6666269415643744,
          3.6776450605019364,
          3.721942517889981,
          3.727762509689364,
          3.845993060490782,
          3.925175988454717,
          4.009271281343828,
          4.063466952050811,
          4.065295225224854,
          4.151495221683746,
          4.2597414537562095,
          4.33759885145437,
          4.361020717293666,
          4.453754169039291,
          4.5297843855994735,
          4.5261343187478635,
          4.584259663470371,
          4.6393710846035905,
          4.710889549254311,
          4.803492891643415,
          4.910511762860545,
          5.019166742618793,
          5.228742044580939,
          5.364183601495369,
          5.395487586520217,
          5.453437778817167,
          5.543449897070926,
          5.740497133432813,
          5.845924569056796,
          5.98332654276491,
          6.060403648596487,
          6.1248175289611035,
          6.178060086208763,
          6.2317192748211045,
          6.375089060172291,
          6.525944101689888,
          6.6801941981198025,
          6.866468082409044,
          6.882078766601704,
          6.872884288569193,
          6.875735916018508,
          6.9272059449465555,
          6.976706961996372,
          7.045629474857737,
          7.013356962684527
         ],
         "yaxis": "y2"
        }
       ],
       "layout": {
        "annotations": [
         {
          "font": {
           "size": 16
          },
          "showarrow": false,
          "text": "Recovery Rate",
          "x": 0.5,
          "xanchor": "center",
          "xref": "paper",
          "y": 1,
          "yanchor": "bottom",
          "yref": "paper"
         },
         {
          "font": {
           "size": 16
          },
          "showarrow": false,
          "text": "Mortatlity Rate",
          "x": 0.5,
          "xanchor": "center",
          "xref": "paper",
          "y": 0.375,
          "yanchor": "bottom",
          "yref": "paper"
         }
        ],
        "height": 1000,
        "legend": {
         "traceorder": "normal",
         "x": -0.1,
         "y": 1.2
        },
        "template": {
         "data": {
          "bar": [
           {
            "error_x": {
             "color": "#2a3f5f"
            },
            "error_y": {
             "color": "#2a3f5f"
            },
            "marker": {
             "line": {
              "color": "#E5ECF6",
              "width": 0.5
             },
             "pattern": {
              "fillmode": "overlay",
              "size": 10,
              "solidity": 0.2
             }
            },
            "type": "bar"
           }
          ],
          "barpolar": [
           {
            "marker": {
             "line": {
              "color": "#E5ECF6",
              "width": 0.5
             },
             "pattern": {
              "fillmode": "overlay",
              "size": 10,
              "solidity": 0.2
             }
            },
            "type": "barpolar"
           }
          ],
          "carpet": [
           {
            "aaxis": {
             "endlinecolor": "#2a3f5f",
             "gridcolor": "white",
             "linecolor": "white",
             "minorgridcolor": "white",
             "startlinecolor": "#2a3f5f"
            },
            "baxis": {
             "endlinecolor": "#2a3f5f",
             "gridcolor": "white",
             "linecolor": "white",
             "minorgridcolor": "white",
             "startlinecolor": "#2a3f5f"
            },
            "type": "carpet"
           }
          ],
          "choropleth": [
           {
            "colorbar": {
             "outlinewidth": 0,
             "ticks": ""
            },
            "type": "choropleth"
           }
          ],
          "contour": [
           {
            "colorbar": {
             "outlinewidth": 0,
             "ticks": ""
            },
            "colorscale": [
             [
              0,
              "#0d0887"
             ],
             [
              0.1111111111111111,
              "#46039f"
             ],
             [
              0.2222222222222222,
              "#7201a8"
             ],
             [
              0.3333333333333333,
              "#9c179e"
             ],
             [
              0.4444444444444444,
              "#bd3786"
             ],
             [
              0.5555555555555556,
              "#d8576b"
             ],
             [
              0.6666666666666666,
              "#ed7953"
             ],
             [
              0.7777777777777778,
              "#fb9f3a"
             ],
             [
              0.8888888888888888,
              "#fdca26"
             ],
             [
              1,
              "#f0f921"
             ]
            ],
            "type": "contour"
           }
          ],
          "contourcarpet": [
           {
            "colorbar": {
             "outlinewidth": 0,
             "ticks": ""
            },
            "type": "contourcarpet"
           }
          ],
          "heatmap": [
           {
            "colorbar": {
             "outlinewidth": 0,
             "ticks": ""
            },
            "colorscale": [
             [
              0,
              "#0d0887"
             ],
             [
              0.1111111111111111,
              "#46039f"
             ],
             [
              0.2222222222222222,
              "#7201a8"
             ],
             [
              0.3333333333333333,
              "#9c179e"
             ],
             [
              0.4444444444444444,
              "#bd3786"
             ],
             [
              0.5555555555555556,
              "#d8576b"
             ],
             [
              0.6666666666666666,
              "#ed7953"
             ],
             [
              0.7777777777777778,
              "#fb9f3a"
             ],
             [
              0.8888888888888888,
              "#fdca26"
             ],
             [
              1,
              "#f0f921"
             ]
            ],
            "type": "heatmap"
           }
          ],
          "heatmapgl": [
           {
            "colorbar": {
             "outlinewidth": 0,
             "ticks": ""
            },
            "colorscale": [
             [
              0,
              "#0d0887"
             ],
             [
              0.1111111111111111,
              "#46039f"
             ],
             [
              0.2222222222222222,
              "#7201a8"
             ],
             [
              0.3333333333333333,
              "#9c179e"
             ],
             [
              0.4444444444444444,
              "#bd3786"
             ],
             [
              0.5555555555555556,
              "#d8576b"
             ],
             [
              0.6666666666666666,
              "#ed7953"
             ],
             [
              0.7777777777777778,
              "#fb9f3a"
             ],
             [
              0.8888888888888888,
              "#fdca26"
             ],
             [
              1,
              "#f0f921"
             ]
            ],
            "type": "heatmapgl"
           }
          ],
          "histogram": [
           {
            "marker": {
             "pattern": {
              "fillmode": "overlay",
              "size": 10,
              "solidity": 0.2
             }
            },
            "type": "histogram"
           }
          ],
          "histogram2d": [
           {
            "colorbar": {
             "outlinewidth": 0,
             "ticks": ""
            },
            "colorscale": [
             [
              0,
              "#0d0887"
             ],
             [
              0.1111111111111111,
              "#46039f"
             ],
             [
              0.2222222222222222,
              "#7201a8"
             ],
             [
              0.3333333333333333,
              "#9c179e"
             ],
             [
              0.4444444444444444,
              "#bd3786"
             ],
             [
              0.5555555555555556,
              "#d8576b"
             ],
             [
              0.6666666666666666,
              "#ed7953"
             ],
             [
              0.7777777777777778,
              "#fb9f3a"
             ],
             [
              0.8888888888888888,
              "#fdca26"
             ],
             [
              1,
              "#f0f921"
             ]
            ],
            "type": "histogram2d"
           }
          ],
          "histogram2dcontour": [
           {
            "colorbar": {
             "outlinewidth": 0,
             "ticks": ""
            },
            "colorscale": [
             [
              0,
              "#0d0887"
             ],
             [
              0.1111111111111111,
              "#46039f"
             ],
             [
              0.2222222222222222,
              "#7201a8"
             ],
             [
              0.3333333333333333,
              "#9c179e"
             ],
             [
              0.4444444444444444,
              "#bd3786"
             ],
             [
              0.5555555555555556,
              "#d8576b"
             ],
             [
              0.6666666666666666,
              "#ed7953"
             ],
             [
              0.7777777777777778,
              "#fb9f3a"
             ],
             [
              0.8888888888888888,
              "#fdca26"
             ],
             [
              1,
              "#f0f921"
             ]
            ],
            "type": "histogram2dcontour"
           }
          ],
          "mesh3d": [
           {
            "colorbar": {
             "outlinewidth": 0,
             "ticks": ""
            },
            "type": "mesh3d"
           }
          ],
          "parcoords": [
           {
            "line": {
             "colorbar": {
              "outlinewidth": 0,
              "ticks": ""
             }
            },
            "type": "parcoords"
           }
          ],
          "pie": [
           {
            "automargin": true,
            "type": "pie"
           }
          ],
          "scatter": [
           {
            "marker": {
             "colorbar": {
              "outlinewidth": 0,
              "ticks": ""
             }
            },
            "type": "scatter"
           }
          ],
          "scatter3d": [
           {
            "line": {
             "colorbar": {
              "outlinewidth": 0,
              "ticks": ""
             }
            },
            "marker": {
             "colorbar": {
              "outlinewidth": 0,
              "ticks": ""
             }
            },
            "type": "scatter3d"
           }
          ],
          "scattercarpet": [
           {
            "marker": {
             "colorbar": {
              "outlinewidth": 0,
              "ticks": ""
             }
            },
            "type": "scattercarpet"
           }
          ],
          "scattergeo": [
           {
            "marker": {
             "colorbar": {
              "outlinewidth": 0,
              "ticks": ""
             }
            },
            "type": "scattergeo"
           }
          ],
          "scattergl": [
           {
            "marker": {
             "colorbar": {
              "outlinewidth": 0,
              "ticks": ""
             }
            },
            "type": "scattergl"
           }
          ],
          "scattermapbox": [
           {
            "marker": {
             "colorbar": {
              "outlinewidth": 0,
              "ticks": ""
             }
            },
            "type": "scattermapbox"
           }
          ],
          "scatterpolar": [
           {
            "marker": {
             "colorbar": {
              "outlinewidth": 0,
              "ticks": ""
             }
            },
            "type": "scatterpolar"
           }
          ],
          "scatterpolargl": [
           {
            "marker": {
             "colorbar": {
              "outlinewidth": 0,
              "ticks": ""
             }
            },
            "type": "scatterpolargl"
           }
          ],
          "scatterternary": [
           {
            "marker": {
             "colorbar": {
              "outlinewidth": 0,
              "ticks": ""
             }
            },
            "type": "scatterternary"
           }
          ],
          "surface": [
           {
            "colorbar": {
             "outlinewidth": 0,
             "ticks": ""
            },
            "colorscale": [
             [
              0,
              "#0d0887"
             ],
             [
              0.1111111111111111,
              "#46039f"
             ],
             [
              0.2222222222222222,
              "#7201a8"
             ],
             [
              0.3333333333333333,
              "#9c179e"
             ],
             [
              0.4444444444444444,
              "#bd3786"
             ],
             [
              0.5555555555555556,
              "#d8576b"
             ],
             [
              0.6666666666666666,
              "#ed7953"
             ],
             [
              0.7777777777777778,
              "#fb9f3a"
             ],
             [
              0.8888888888888888,
              "#fdca26"
             ],
             [
              1,
              "#f0f921"
             ]
            ],
            "type": "surface"
           }
          ],
          "table": [
           {
            "cells": {
             "fill": {
              "color": "#EBF0F8"
             },
             "line": {
              "color": "white"
             }
            },
            "header": {
             "fill": {
              "color": "#C8D4E3"
             },
             "line": {
              "color": "white"
             }
            },
            "type": "table"
           }
          ]
         },
         "layout": {
          "annotationdefaults": {
           "arrowcolor": "#2a3f5f",
           "arrowhead": 0,
           "arrowwidth": 1
          },
          "autotypenumbers": "strict",
          "coloraxis": {
           "colorbar": {
            "outlinewidth": 0,
            "ticks": ""
           }
          },
          "colorscale": {
           "diverging": [
            [
             0,
             "#8e0152"
            ],
            [
             0.1,
             "#c51b7d"
            ],
            [
             0.2,
             "#de77ae"
            ],
            [
             0.3,
             "#f1b6da"
            ],
            [
             0.4,
             "#fde0ef"
            ],
            [
             0.5,
             "#f7f7f7"
            ],
            [
             0.6,
             "#e6f5d0"
            ],
            [
             0.7,
             "#b8e186"
            ],
            [
             0.8,
             "#7fbc41"
            ],
            [
             0.9,
             "#4d9221"
            ],
            [
             1,
             "#276419"
            ]
           ],
           "sequential": [
            [
             0,
             "#0d0887"
            ],
            [
             0.1111111111111111,
             "#46039f"
            ],
            [
             0.2222222222222222,
             "#7201a8"
            ],
            [
             0.3333333333333333,
             "#9c179e"
            ],
            [
             0.4444444444444444,
             "#bd3786"
            ],
            [
             0.5555555555555556,
             "#d8576b"
            ],
            [
             0.6666666666666666,
             "#ed7953"
            ],
            [
             0.7777777777777778,
             "#fb9f3a"
            ],
            [
             0.8888888888888888,
             "#fdca26"
            ],
            [
             1,
             "#f0f921"
            ]
           ],
           "sequentialminus": [
            [
             0,
             "#0d0887"
            ],
            [
             0.1111111111111111,
             "#46039f"
            ],
            [
             0.2222222222222222,
             "#7201a8"
            ],
            [
             0.3333333333333333,
             "#9c179e"
            ],
            [
             0.4444444444444444,
             "#bd3786"
            ],
            [
             0.5555555555555556,
             "#d8576b"
            ],
            [
             0.6666666666666666,
             "#ed7953"
            ],
            [
             0.7777777777777778,
             "#fb9f3a"
            ],
            [
             0.8888888888888888,
             "#fdca26"
            ],
            [
             1,
             "#f0f921"
            ]
           ]
          },
          "colorway": [
           "#636efa",
           "#EF553B",
           "#00cc96",
           "#ab63fa",
           "#FFA15A",
           "#19d3f3",
           "#FF6692",
           "#B6E880",
           "#FF97FF",
           "#FECB52"
          ],
          "font": {
           "color": "#2a3f5f"
          },
          "geo": {
           "bgcolor": "white",
           "lakecolor": "white",
           "landcolor": "#E5ECF6",
           "showlakes": true,
           "showland": true,
           "subunitcolor": "white"
          },
          "hoverlabel": {
           "align": "left"
          },
          "hovermode": "closest",
          "mapbox": {
           "style": "light"
          },
          "paper_bgcolor": "white",
          "plot_bgcolor": "#E5ECF6",
          "polar": {
           "angularaxis": {
            "gridcolor": "white",
            "linecolor": "white",
            "ticks": ""
           },
           "bgcolor": "#E5ECF6",
           "radialaxis": {
            "gridcolor": "white",
            "linecolor": "white",
            "ticks": ""
           }
          },
          "scene": {
           "xaxis": {
            "backgroundcolor": "#E5ECF6",
            "gridcolor": "white",
            "gridwidth": 2,
            "linecolor": "white",
            "showbackground": true,
            "ticks": "",
            "zerolinecolor": "white"
           },
           "yaxis": {
            "backgroundcolor": "#E5ECF6",
            "gridcolor": "white",
            "gridwidth": 2,
            "linecolor": "white",
            "showbackground": true,
            "ticks": "",
            "zerolinecolor": "white"
           },
           "zaxis": {
            "backgroundcolor": "#E5ECF6",
            "gridcolor": "white",
            "gridwidth": 2,
            "linecolor": "white",
            "showbackground": true,
            "ticks": "",
            "zerolinecolor": "white"
           }
          },
          "shapedefaults": {
           "line": {
            "color": "#2a3f5f"
           }
          },
          "ternary": {
           "aaxis": {
            "gridcolor": "white",
            "linecolor": "white",
            "ticks": ""
           },
           "baxis": {
            "gridcolor": "white",
            "linecolor": "white",
            "ticks": ""
           },
           "bgcolor": "#E5ECF6",
           "caxis": {
            "gridcolor": "white",
            "linecolor": "white",
            "ticks": ""
           }
          },
          "title": {
           "x": 0.05
          },
          "xaxis": {
           "automargin": true,
           "gridcolor": "white",
           "linecolor": "white",
           "ticks": "",
           "title": {
            "standoff": 15
           },
           "zerolinecolor": "white",
           "zerolinewidth": 2
          },
          "yaxis": {
           "automargin": true,
           "gridcolor": "white",
           "linecolor": "white",
           "ticks": "",
           "title": {
            "standoff": 15
           },
           "zerolinecolor": "white",
           "zerolinewidth": 2
          }
         }
        },
        "xaxis": {
         "anchor": "y",
         "domain": [
          0,
          1
         ],
         "title": {
          "text": "Date"
         }
        },
        "xaxis2": {
         "anchor": "y2",
         "domain": [
          0,
          1
         ]
        },
        "yaxis": {
         "anchor": "x",
         "domain": [
          0.625,
          1
         ],
         "title": {
          "text": "Recovery Rate"
         }
        },
        "yaxis2": {
         "anchor": "x2",
         "domain": [
          0,
          0.375
         ]
        }
       }
      }
     },
     "metadata": {},
     "output_type": "display_data"
    }
   ],
   "source": [
    "#Calculating the Mortality Rate and Recovery Rate\n",
    "datewise[\"Mortality Rate\"]=(datewise[\"Deaths\"]/datewise[\"Confirmed\"])*100\n",
    "datewise[\"Recovery Rate\"]=(datewise[\"Recovered\"]/datewise[\"Confirmed\"])*100\n",
    "datewise[\"Active Cases\"]=datewise[\"Confirmed\"]-datewise[\"Recovered\"]-datewise[\"Deaths\"]\n",
    "datewise[\"Closed Cases\"]=datewise[\"Recovered\"]+datewise[\"Deaths\"]\n",
    "\n",
    "print(\"Average Mortality Rate\",datewise[\"Mortality Rate\"].mean())\n",
    "print(\"Median Mortality Rate\",datewise[\"Mortality Rate\"].median())\n",
    "print(\"Average Recovery Rate\",datewise[\"Recovery Rate\"].mean())\n",
    "print(\"Median Recovery Rate\",datewise[\"Recovery Rate\"].median())\n",
    "\n",
    "#Plotting Mortality and Recovery Rate \n",
    "fig = make_subplots(rows=2, cols=1,\n",
    "                   subplot_titles=(\"Recovery Rate\", \"Mortatlity Rate\"))\n",
    "fig.add_trace(\n",
    "    go.Scatter(x=datewise.index, y=(datewise[\"Recovered\"]/datewise[\"Confirmed\"])*100,name=\"Recovery Rate\"),\n",
    "    row=1, col=1\n",
    ")\n",
    "fig.add_trace(\n",
    "    go.Scatter(x=datewise.index, y=(datewise[\"Deaths\"]/datewise[\"Confirmed\"])*100,name=\"Mortality Rate\"),\n",
    "    row=2, col=1\n",
    ")\n",
    "fig.update_layout(height=1000,legend=dict(x=-0.1,y=1.2,traceorder=\"normal\"))\n",
    "fig.update_xaxes(title_text=\"Date\", row=1, col=1)\n",
    "fig.update_yaxes(title_text=\"Recovery Rate\", row=1, col=1)\n",
    "fig.update_xaxes(title_text=\"Date\", row=1, col=2)\n",
    "fig.update_yaxes(title_text=\"Mortality Rate\", row=1, col=2)\n",
    "fig.show()"
   ]
  },
  {
   "cell_type": "code",
   "execution_count": 20,
   "metadata": {},
   "outputs": [
    {
     "name": "stdout",
     "output_type": "stream",
     "text": [
      "Average increase in number of Confirmed Cases every day:  29900.0\n",
      "Average increase in number of Recovered Cases every day:  8442.0\n",
      "Average increase in number of Deaths Cases every day:  2097.0\n"
     ]
    },
    {
     "data": {
      "application/vnd.plotly.v1+json": {
       "config": {
        "plotlyServerURL": "https://plot.ly"
       },
       "data": [
        {
         "mode": "lines+markers",
         "name": "Confirmed Cases",
         "type": "scatter",
         "x": [
          "2020-01-22T00:00:00",
          "2020-01-23T00:00:00",
          "2020-01-24T00:00:00",
          "2020-01-25T00:00:00",
          "2020-01-26T00:00:00",
          "2020-01-27T00:00:00",
          "2020-01-28T00:00:00",
          "2020-01-29T00:00:00",
          "2020-01-30T00:00:00",
          "2020-01-31T00:00:00",
          "2020-02-01T00:00:00",
          "2020-02-02T00:00:00",
          "2020-02-03T00:00:00",
          "2020-02-04T00:00:00",
          "2020-02-05T00:00:00",
          "2020-02-06T00:00:00",
          "2020-02-07T00:00:00",
          "2020-02-08T00:00:00",
          "2020-02-09T00:00:00",
          "2020-02-10T00:00:00",
          "2020-02-11T00:00:00",
          "2020-02-12T00:00:00",
          "2020-02-13T00:00:00",
          "2020-02-14T00:00:00",
          "2020-02-15T00:00:00",
          "2020-02-16T00:00:00",
          "2020-02-17T00:00:00",
          "2020-02-18T00:00:00",
          "2020-02-19T00:00:00",
          "2020-02-20T00:00:00",
          "2020-02-21T00:00:00",
          "2020-02-22T00:00:00",
          "2020-02-23T00:00:00",
          "2020-02-24T00:00:00",
          "2020-02-25T00:00:00",
          "2020-02-26T00:00:00",
          "2020-02-27T00:00:00",
          "2020-02-28T00:00:00",
          "2020-02-29T00:00:00",
          "2020-03-01T00:00:00",
          "2020-03-02T00:00:00",
          "2020-03-03T00:00:00",
          "2020-03-04T00:00:00",
          "2020-03-05T00:00:00",
          "2020-03-06T00:00:00",
          "2020-03-07T00:00:00",
          "2020-03-08T00:00:00",
          "2020-03-09T00:00:00",
          "2020-03-10T00:00:00",
          "2020-03-11T00:00:00",
          "2020-03-12T00:00:00",
          "2020-03-13T00:00:00",
          "2020-03-14T00:00:00",
          "2020-03-15T00:00:00",
          "2020-03-16T00:00:00",
          "2020-03-17T00:00:00",
          "2020-03-18T00:00:00",
          "2020-03-19T00:00:00",
          "2020-03-20T00:00:00",
          "2020-03-21T00:00:00",
          "2020-03-22T00:00:00",
          "2020-03-23T00:00:00",
          "2020-03-24T00:00:00",
          "2020-03-25T00:00:00",
          "2020-03-26T00:00:00",
          "2020-03-27T00:00:00",
          "2020-03-28T00:00:00",
          "2020-03-29T00:00:00",
          "2020-03-30T00:00:00",
          "2020-03-31T00:00:00",
          "2020-04-01T00:00:00",
          "2020-04-02T00:00:00",
          "2020-04-03T00:00:00",
          "2020-04-04T00:00:00",
          "2020-04-05T00:00:00",
          "2020-04-06T00:00:00",
          "2020-04-07T00:00:00",
          "2020-04-08T00:00:00",
          "2020-04-09T00:00:00",
          "2020-04-10T00:00:00",
          "2020-04-11T00:00:00",
          "2020-04-12T00:00:00",
          "2020-04-13T00:00:00",
          "2020-04-14T00:00:00",
          "2020-04-15T00:00:00",
          "2020-04-16T00:00:00",
          "2020-04-17T00:00:00",
          "2020-04-18T00:00:00",
          "2020-04-19T00:00:00",
          "2020-04-20T00:00:00",
          "2020-04-21T00:00:00",
          "2020-04-22T00:00:00",
          "2020-04-23T00:00:00",
          "2020-04-24T00:00:00"
         ],
         "y": [
          0,
          98,
          288,
          497,
          680,
          809,
          2651,
          587,
          2070,
          1690,
          2113,
          4749,
          3094,
          4011,
          3744,
          3182,
          3574,
          2729,
          3030,
          2612,
          2040,
          419,
          15148,
          6517,
          2145,
          2194,
          2034,
          1878,
          503,
          558,
          644,
          1756,
          386,
          585,
          845,
          982,
          1359,
          1368,
          1889,
          2358,
          1938,
          2535,
          2280,
          2762,
          3914,
          4036,
          3999,
          3747,
          5000,
          7283,
          2478,
          16850,
          10906,
          11348,
          14099,
          15622,
          17747,
          27798,
          29454,
          32382,
          32573,
          41161,
          39679,
          49632,
          61997,
          63700,
          67402,
          59447,
          62249,
          75098,
          75118,
          80698,
          82614,
          101491,
          74707,
          72986,
          80995,
          85008,
          84246,
          96369,
          79795,
          75166,
          70640,
          58872,
          79863,
          96592,
          87544,
          77568,
          83620,
          70880,
          76864,
          74837,
          84925,
          102308
         ]
        },
        {
         "mode": "lines+markers",
         "name": "Recovered Cases",
         "type": "scatter",
         "x": [
          "2020-01-22T00:00:00",
          "2020-01-23T00:00:00",
          "2020-01-24T00:00:00",
          "2020-01-25T00:00:00",
          "2020-01-26T00:00:00",
          "2020-01-27T00:00:00",
          "2020-01-28T00:00:00",
          "2020-01-29T00:00:00",
          "2020-01-30T00:00:00",
          "2020-01-31T00:00:00",
          "2020-02-01T00:00:00",
          "2020-02-02T00:00:00",
          "2020-02-03T00:00:00",
          "2020-02-04T00:00:00",
          "2020-02-05T00:00:00",
          "2020-02-06T00:00:00",
          "2020-02-07T00:00:00",
          "2020-02-08T00:00:00",
          "2020-02-09T00:00:00",
          "2020-02-10T00:00:00",
          "2020-02-11T00:00:00",
          "2020-02-12T00:00:00",
          "2020-02-13T00:00:00",
          "2020-02-14T00:00:00",
          "2020-02-15T00:00:00",
          "2020-02-16T00:00:00",
          "2020-02-17T00:00:00",
          "2020-02-18T00:00:00",
          "2020-02-19T00:00:00",
          "2020-02-20T00:00:00",
          "2020-02-21T00:00:00",
          "2020-02-22T00:00:00",
          "2020-02-23T00:00:00",
          "2020-02-24T00:00:00",
          "2020-02-25T00:00:00",
          "2020-02-26T00:00:00",
          "2020-02-27T00:00:00",
          "2020-02-28T00:00:00",
          "2020-02-29T00:00:00",
          "2020-03-01T00:00:00",
          "2020-03-02T00:00:00",
          "2020-03-03T00:00:00",
          "2020-03-04T00:00:00",
          "2020-03-05T00:00:00",
          "2020-03-06T00:00:00",
          "2020-03-07T00:00:00",
          "2020-03-08T00:00:00",
          "2020-03-09T00:00:00",
          "2020-03-10T00:00:00",
          "2020-03-11T00:00:00",
          "2020-03-12T00:00:00",
          "2020-03-13T00:00:00",
          "2020-03-14T00:00:00",
          "2020-03-15T00:00:00",
          "2020-03-16T00:00:00",
          "2020-03-17T00:00:00",
          "2020-03-18T00:00:00",
          "2020-03-19T00:00:00",
          "2020-03-20T00:00:00",
          "2020-03-21T00:00:00",
          "2020-03-22T00:00:00",
          "2020-03-23T00:00:00",
          "2020-03-24T00:00:00",
          "2020-03-25T00:00:00",
          "2020-03-26T00:00:00",
          "2020-03-27T00:00:00",
          "2020-03-28T00:00:00",
          "2020-03-29T00:00:00",
          "2020-03-30T00:00:00",
          "2020-03-31T00:00:00",
          "2020-04-01T00:00:00",
          "2020-04-02T00:00:00",
          "2020-04-03T00:00:00",
          "2020-04-04T00:00:00",
          "2020-04-05T00:00:00",
          "2020-04-06T00:00:00",
          "2020-04-07T00:00:00",
          "2020-04-08T00:00:00",
          "2020-04-09T00:00:00",
          "2020-04-10T00:00:00",
          "2020-04-11T00:00:00",
          "2020-04-12T00:00:00",
          "2020-04-13T00:00:00",
          "2020-04-14T00:00:00",
          "2020-04-15T00:00:00",
          "2020-04-16T00:00:00",
          "2020-04-17T00:00:00",
          "2020-04-18T00:00:00",
          "2020-04-19T00:00:00",
          "2020-04-20T00:00:00",
          "2020-04-21T00:00:00",
          "2020-04-22T00:00:00",
          "2020-04-23T00:00:00",
          "2020-04-24T00:00:00"
         ],
         "y": [
          0,
          2,
          6,
          3,
          13,
          9,
          46,
          19,
          17,
          79,
          62,
          188,
          151,
          229,
          272,
          363,
          524,
          605,
          628,
          702,
          737,
          467,
          1145,
          1763,
          1337,
          1470,
          1718,
          1769,
          1769,
          2056,
          713,
          3996,
          508,
          1833,
          2678,
          2479,
          2893,
          3434,
          3071,
          2934,
          2886,
          2627,
          2942,
          2626,
          2069,
          2493,
          2336,
          1817,
          1892,
          2599,
          1321,
          1927,
          2373,
          3410,
          2054,
          2752,
          2473,
          1649,
          2441,
          4273,
          5567,
          3715,
          6741,
          6065,
          8380,
          8765,
          8500,
          9667,
          15484,
          13468,
          15143,
          17092,
          15533,
          20356,
          13860,
          16503,
          23539,
          28607,
          25314,
          22121,
          26014,
          19612,
          26933,
          25606,
          36758,
          31088,
          26236,
          23976,
          31584,
          21835,
          34081,
          29875,
          28792,
          55115
         ]
        },
        {
         "mode": "lines+markers",
         "name": "Death Cases",
         "type": "scatter",
         "x": [
          "2020-01-22T00:00:00",
          "2020-01-23T00:00:00",
          "2020-01-24T00:00:00",
          "2020-01-25T00:00:00",
          "2020-01-26T00:00:00",
          "2020-01-27T00:00:00",
          "2020-01-28T00:00:00",
          "2020-01-29T00:00:00",
          "2020-01-30T00:00:00",
          "2020-01-31T00:00:00",
          "2020-02-01T00:00:00",
          "2020-02-02T00:00:00",
          "2020-02-03T00:00:00",
          "2020-02-04T00:00:00",
          "2020-02-05T00:00:00",
          "2020-02-06T00:00:00",
          "2020-02-07T00:00:00",
          "2020-02-08T00:00:00",
          "2020-02-09T00:00:00",
          "2020-02-10T00:00:00",
          "2020-02-11T00:00:00",
          "2020-02-12T00:00:00",
          "2020-02-13T00:00:00",
          "2020-02-14T00:00:00",
          "2020-02-15T00:00:00",
          "2020-02-16T00:00:00",
          "2020-02-17T00:00:00",
          "2020-02-18T00:00:00",
          "2020-02-19T00:00:00",
          "2020-02-20T00:00:00",
          "2020-02-21T00:00:00",
          "2020-02-22T00:00:00",
          "2020-02-23T00:00:00",
          "2020-02-24T00:00:00",
          "2020-02-25T00:00:00",
          "2020-02-26T00:00:00",
          "2020-02-27T00:00:00",
          "2020-02-28T00:00:00",
          "2020-02-29T00:00:00",
          "2020-03-01T00:00:00",
          "2020-03-02T00:00:00",
          "2020-03-03T00:00:00",
          "2020-03-04T00:00:00",
          "2020-03-05T00:00:00",
          "2020-03-06T00:00:00",
          "2020-03-07T00:00:00",
          "2020-03-08T00:00:00",
          "2020-03-09T00:00:00",
          "2020-03-10T00:00:00",
          "2020-03-11T00:00:00",
          "2020-03-12T00:00:00",
          "2020-03-13T00:00:00",
          "2020-03-14T00:00:00",
          "2020-03-15T00:00:00",
          "2020-03-16T00:00:00",
          "2020-03-17T00:00:00",
          "2020-03-18T00:00:00",
          "2020-03-19T00:00:00",
          "2020-03-20T00:00:00",
          "2020-03-21T00:00:00",
          "2020-03-22T00:00:00",
          "2020-03-23T00:00:00",
          "2020-03-24T00:00:00",
          "2020-03-25T00:00:00",
          "2020-03-26T00:00:00",
          "2020-03-27T00:00:00",
          "2020-03-28T00:00:00",
          "2020-03-29T00:00:00",
          "2020-03-30T00:00:00",
          "2020-03-31T00:00:00",
          "2020-04-01T00:00:00",
          "2020-04-02T00:00:00",
          "2020-04-03T00:00:00",
          "2020-04-04T00:00:00",
          "2020-04-05T00:00:00",
          "2020-04-06T00:00:00",
          "2020-04-07T00:00:00",
          "2020-04-08T00:00:00",
          "2020-04-09T00:00:00",
          "2020-04-10T00:00:00",
          "2020-04-11T00:00:00",
          "2020-04-12T00:00:00",
          "2020-04-13T00:00:00",
          "2020-04-14T00:00:00",
          "2020-04-15T00:00:00",
          "2020-04-16T00:00:00",
          "2020-04-17T00:00:00",
          "2020-04-18T00:00:00",
          "2020-04-19T00:00:00",
          "2020-04-20T00:00:00",
          "2020-04-21T00:00:00",
          "2020-04-22T00:00:00",
          "2020-04-23T00:00:00",
          "2020-04-24T00:00:00"
         ],
         "y": [
          0,
          1,
          8,
          16,
          14,
          26,
          49,
          2,
          38,
          42,
          46,
          103,
          64,
          66,
          72,
          70,
          85,
          87,
          100,
          107,
          100,
          5,
          253,
          152,
          143,
          104,
          98,
          139,
          115,
          125,
          4,
          207,
          11,
          160,
          79,
          62,
          44,
          58,
          69,
          55,
          89,
          75,
          94,
          94,
          112,
          98,
          245,
          193,
          266,
          353,
          105,
          684,
          415,
          621,
          686,
          779,
          828,
          1134,
          1432,
          1674,
          1650,
          1874,
          2118,
          2566,
          2789,
          3228,
          3454,
          3273,
          3657,
          4525,
          4702,
          6174,
          5804,
          5819,
          4768,
          5191,
          7300,
          6473,
          7117,
          7070,
          5977,
          5587,
          5393,
          6502,
          8193,
          9624,
          10021,
          5688,
          5534,
          4942,
          6597,
          6483,
          7792,
          6301
         ]
        }
       ],
       "layout": {
        "legend": {
         "traceorder": "normal",
         "x": 0,
         "y": 1
        },
        "template": {
         "data": {
          "bar": [
           {
            "error_x": {
             "color": "#2a3f5f"
            },
            "error_y": {
             "color": "#2a3f5f"
            },
            "marker": {
             "line": {
              "color": "#E5ECF6",
              "width": 0.5
             },
             "pattern": {
              "fillmode": "overlay",
              "size": 10,
              "solidity": 0.2
             }
            },
            "type": "bar"
           }
          ],
          "barpolar": [
           {
            "marker": {
             "line": {
              "color": "#E5ECF6",
              "width": 0.5
             },
             "pattern": {
              "fillmode": "overlay",
              "size": 10,
              "solidity": 0.2
             }
            },
            "type": "barpolar"
           }
          ],
          "carpet": [
           {
            "aaxis": {
             "endlinecolor": "#2a3f5f",
             "gridcolor": "white",
             "linecolor": "white",
             "minorgridcolor": "white",
             "startlinecolor": "#2a3f5f"
            },
            "baxis": {
             "endlinecolor": "#2a3f5f",
             "gridcolor": "white",
             "linecolor": "white",
             "minorgridcolor": "white",
             "startlinecolor": "#2a3f5f"
            },
            "type": "carpet"
           }
          ],
          "choropleth": [
           {
            "colorbar": {
             "outlinewidth": 0,
             "ticks": ""
            },
            "type": "choropleth"
           }
          ],
          "contour": [
           {
            "colorbar": {
             "outlinewidth": 0,
             "ticks": ""
            },
            "colorscale": [
             [
              0,
              "#0d0887"
             ],
             [
              0.1111111111111111,
              "#46039f"
             ],
             [
              0.2222222222222222,
              "#7201a8"
             ],
             [
              0.3333333333333333,
              "#9c179e"
             ],
             [
              0.4444444444444444,
              "#bd3786"
             ],
             [
              0.5555555555555556,
              "#d8576b"
             ],
             [
              0.6666666666666666,
              "#ed7953"
             ],
             [
              0.7777777777777778,
              "#fb9f3a"
             ],
             [
              0.8888888888888888,
              "#fdca26"
             ],
             [
              1,
              "#f0f921"
             ]
            ],
            "type": "contour"
           }
          ],
          "contourcarpet": [
           {
            "colorbar": {
             "outlinewidth": 0,
             "ticks": ""
            },
            "type": "contourcarpet"
           }
          ],
          "heatmap": [
           {
            "colorbar": {
             "outlinewidth": 0,
             "ticks": ""
            },
            "colorscale": [
             [
              0,
              "#0d0887"
             ],
             [
              0.1111111111111111,
              "#46039f"
             ],
             [
              0.2222222222222222,
              "#7201a8"
             ],
             [
              0.3333333333333333,
              "#9c179e"
             ],
             [
              0.4444444444444444,
              "#bd3786"
             ],
             [
              0.5555555555555556,
              "#d8576b"
             ],
             [
              0.6666666666666666,
              "#ed7953"
             ],
             [
              0.7777777777777778,
              "#fb9f3a"
             ],
             [
              0.8888888888888888,
              "#fdca26"
             ],
             [
              1,
              "#f0f921"
             ]
            ],
            "type": "heatmap"
           }
          ],
          "heatmapgl": [
           {
            "colorbar": {
             "outlinewidth": 0,
             "ticks": ""
            },
            "colorscale": [
             [
              0,
              "#0d0887"
             ],
             [
              0.1111111111111111,
              "#46039f"
             ],
             [
              0.2222222222222222,
              "#7201a8"
             ],
             [
              0.3333333333333333,
              "#9c179e"
             ],
             [
              0.4444444444444444,
              "#bd3786"
             ],
             [
              0.5555555555555556,
              "#d8576b"
             ],
             [
              0.6666666666666666,
              "#ed7953"
             ],
             [
              0.7777777777777778,
              "#fb9f3a"
             ],
             [
              0.8888888888888888,
              "#fdca26"
             ],
             [
              1,
              "#f0f921"
             ]
            ],
            "type": "heatmapgl"
           }
          ],
          "histogram": [
           {
            "marker": {
             "pattern": {
              "fillmode": "overlay",
              "size": 10,
              "solidity": 0.2
             }
            },
            "type": "histogram"
           }
          ],
          "histogram2d": [
           {
            "colorbar": {
             "outlinewidth": 0,
             "ticks": ""
            },
            "colorscale": [
             [
              0,
              "#0d0887"
             ],
             [
              0.1111111111111111,
              "#46039f"
             ],
             [
              0.2222222222222222,
              "#7201a8"
             ],
             [
              0.3333333333333333,
              "#9c179e"
             ],
             [
              0.4444444444444444,
              "#bd3786"
             ],
             [
              0.5555555555555556,
              "#d8576b"
             ],
             [
              0.6666666666666666,
              "#ed7953"
             ],
             [
              0.7777777777777778,
              "#fb9f3a"
             ],
             [
              0.8888888888888888,
              "#fdca26"
             ],
             [
              1,
              "#f0f921"
             ]
            ],
            "type": "histogram2d"
           }
          ],
          "histogram2dcontour": [
           {
            "colorbar": {
             "outlinewidth": 0,
             "ticks": ""
            },
            "colorscale": [
             [
              0,
              "#0d0887"
             ],
             [
              0.1111111111111111,
              "#46039f"
             ],
             [
              0.2222222222222222,
              "#7201a8"
             ],
             [
              0.3333333333333333,
              "#9c179e"
             ],
             [
              0.4444444444444444,
              "#bd3786"
             ],
             [
              0.5555555555555556,
              "#d8576b"
             ],
             [
              0.6666666666666666,
              "#ed7953"
             ],
             [
              0.7777777777777778,
              "#fb9f3a"
             ],
             [
              0.8888888888888888,
              "#fdca26"
             ],
             [
              1,
              "#f0f921"
             ]
            ],
            "type": "histogram2dcontour"
           }
          ],
          "mesh3d": [
           {
            "colorbar": {
             "outlinewidth": 0,
             "ticks": ""
            },
            "type": "mesh3d"
           }
          ],
          "parcoords": [
           {
            "line": {
             "colorbar": {
              "outlinewidth": 0,
              "ticks": ""
             }
            },
            "type": "parcoords"
           }
          ],
          "pie": [
           {
            "automargin": true,
            "type": "pie"
           }
          ],
          "scatter": [
           {
            "marker": {
             "colorbar": {
              "outlinewidth": 0,
              "ticks": ""
             }
            },
            "type": "scatter"
           }
          ],
          "scatter3d": [
           {
            "line": {
             "colorbar": {
              "outlinewidth": 0,
              "ticks": ""
             }
            },
            "marker": {
             "colorbar": {
              "outlinewidth": 0,
              "ticks": ""
             }
            },
            "type": "scatter3d"
           }
          ],
          "scattercarpet": [
           {
            "marker": {
             "colorbar": {
              "outlinewidth": 0,
              "ticks": ""
             }
            },
            "type": "scattercarpet"
           }
          ],
          "scattergeo": [
           {
            "marker": {
             "colorbar": {
              "outlinewidth": 0,
              "ticks": ""
             }
            },
            "type": "scattergeo"
           }
          ],
          "scattergl": [
           {
            "marker": {
             "colorbar": {
              "outlinewidth": 0,
              "ticks": ""
             }
            },
            "type": "scattergl"
           }
          ],
          "scattermapbox": [
           {
            "marker": {
             "colorbar": {
              "outlinewidth": 0,
              "ticks": ""
             }
            },
            "type": "scattermapbox"
           }
          ],
          "scatterpolar": [
           {
            "marker": {
             "colorbar": {
              "outlinewidth": 0,
              "ticks": ""
             }
            },
            "type": "scatterpolar"
           }
          ],
          "scatterpolargl": [
           {
            "marker": {
             "colorbar": {
              "outlinewidth": 0,
              "ticks": ""
             }
            },
            "type": "scatterpolargl"
           }
          ],
          "scatterternary": [
           {
            "marker": {
             "colorbar": {
              "outlinewidth": 0,
              "ticks": ""
             }
            },
            "type": "scatterternary"
           }
          ],
          "surface": [
           {
            "colorbar": {
             "outlinewidth": 0,
             "ticks": ""
            },
            "colorscale": [
             [
              0,
              "#0d0887"
             ],
             [
              0.1111111111111111,
              "#46039f"
             ],
             [
              0.2222222222222222,
              "#7201a8"
             ],
             [
              0.3333333333333333,
              "#9c179e"
             ],
             [
              0.4444444444444444,
              "#bd3786"
             ],
             [
              0.5555555555555556,
              "#d8576b"
             ],
             [
              0.6666666666666666,
              "#ed7953"
             ],
             [
              0.7777777777777778,
              "#fb9f3a"
             ],
             [
              0.8888888888888888,
              "#fdca26"
             ],
             [
              1,
              "#f0f921"
             ]
            ],
            "type": "surface"
           }
          ],
          "table": [
           {
            "cells": {
             "fill": {
              "color": "#EBF0F8"
             },
             "line": {
              "color": "white"
             }
            },
            "header": {
             "fill": {
              "color": "#C8D4E3"
             },
             "line": {
              "color": "white"
             }
            },
            "type": "table"
           }
          ]
         },
         "layout": {
          "annotationdefaults": {
           "arrowcolor": "#2a3f5f",
           "arrowhead": 0,
           "arrowwidth": 1
          },
          "autotypenumbers": "strict",
          "coloraxis": {
           "colorbar": {
            "outlinewidth": 0,
            "ticks": ""
           }
          },
          "colorscale": {
           "diverging": [
            [
             0,
             "#8e0152"
            ],
            [
             0.1,
             "#c51b7d"
            ],
            [
             0.2,
             "#de77ae"
            ],
            [
             0.3,
             "#f1b6da"
            ],
            [
             0.4,
             "#fde0ef"
            ],
            [
             0.5,
             "#f7f7f7"
            ],
            [
             0.6,
             "#e6f5d0"
            ],
            [
             0.7,
             "#b8e186"
            ],
            [
             0.8,
             "#7fbc41"
            ],
            [
             0.9,
             "#4d9221"
            ],
            [
             1,
             "#276419"
            ]
           ],
           "sequential": [
            [
             0,
             "#0d0887"
            ],
            [
             0.1111111111111111,
             "#46039f"
            ],
            [
             0.2222222222222222,
             "#7201a8"
            ],
            [
             0.3333333333333333,
             "#9c179e"
            ],
            [
             0.4444444444444444,
             "#bd3786"
            ],
            [
             0.5555555555555556,
             "#d8576b"
            ],
            [
             0.6666666666666666,
             "#ed7953"
            ],
            [
             0.7777777777777778,
             "#fb9f3a"
            ],
            [
             0.8888888888888888,
             "#fdca26"
            ],
            [
             1,
             "#f0f921"
            ]
           ],
           "sequentialminus": [
            [
             0,
             "#0d0887"
            ],
            [
             0.1111111111111111,
             "#46039f"
            ],
            [
             0.2222222222222222,
             "#7201a8"
            ],
            [
             0.3333333333333333,
             "#9c179e"
            ],
            [
             0.4444444444444444,
             "#bd3786"
            ],
            [
             0.5555555555555556,
             "#d8576b"
            ],
            [
             0.6666666666666666,
             "#ed7953"
            ],
            [
             0.7777777777777778,
             "#fb9f3a"
            ],
            [
             0.8888888888888888,
             "#fdca26"
            ],
            [
             1,
             "#f0f921"
            ]
           ]
          },
          "colorway": [
           "#636efa",
           "#EF553B",
           "#00cc96",
           "#ab63fa",
           "#FFA15A",
           "#19d3f3",
           "#FF6692",
           "#B6E880",
           "#FF97FF",
           "#FECB52"
          ],
          "font": {
           "color": "#2a3f5f"
          },
          "geo": {
           "bgcolor": "white",
           "lakecolor": "white",
           "landcolor": "#E5ECF6",
           "showlakes": true,
           "showland": true,
           "subunitcolor": "white"
          },
          "hoverlabel": {
           "align": "left"
          },
          "hovermode": "closest",
          "mapbox": {
           "style": "light"
          },
          "paper_bgcolor": "white",
          "plot_bgcolor": "#E5ECF6",
          "polar": {
           "angularaxis": {
            "gridcolor": "white",
            "linecolor": "white",
            "ticks": ""
           },
           "bgcolor": "#E5ECF6",
           "radialaxis": {
            "gridcolor": "white",
            "linecolor": "white",
            "ticks": ""
           }
          },
          "scene": {
           "xaxis": {
            "backgroundcolor": "#E5ECF6",
            "gridcolor": "white",
            "gridwidth": 2,
            "linecolor": "white",
            "showbackground": true,
            "ticks": "",
            "zerolinecolor": "white"
           },
           "yaxis": {
            "backgroundcolor": "#E5ECF6",
            "gridcolor": "white",
            "gridwidth": 2,
            "linecolor": "white",
            "showbackground": true,
            "ticks": "",
            "zerolinecolor": "white"
           },
           "zaxis": {
            "backgroundcolor": "#E5ECF6",
            "gridcolor": "white",
            "gridwidth": 2,
            "linecolor": "white",
            "showbackground": true,
            "ticks": "",
            "zerolinecolor": "white"
           }
          },
          "shapedefaults": {
           "line": {
            "color": "#2a3f5f"
           }
          },
          "ternary": {
           "aaxis": {
            "gridcolor": "white",
            "linecolor": "white",
            "ticks": ""
           },
           "baxis": {
            "gridcolor": "white",
            "linecolor": "white",
            "ticks": ""
           },
           "bgcolor": "#E5ECF6",
           "caxis": {
            "gridcolor": "white",
            "linecolor": "white",
            "ticks": ""
           }
          },
          "title": {
           "x": 0.05
          },
          "xaxis": {
           "automargin": true,
           "gridcolor": "white",
           "linecolor": "white",
           "ticks": "",
           "title": {
            "standoff": 15
           },
           "zerolinecolor": "white",
           "zerolinewidth": 2
          },
          "yaxis": {
           "automargin": true,
           "gridcolor": "white",
           "linecolor": "white",
           "ticks": "",
           "title": {
            "standoff": 15
           },
           "zerolinecolor": "white",
           "zerolinewidth": 2
          }
         }
        },
        "title": {
         "text": "Daily increase in different types of Cases"
        },
        "xaxis": {
         "title": {
          "text": "Date"
         }
        },
        "yaxis": {
         "title": {
          "text": "Number of Cases"
         }
        }
       }
      }
     },
     "metadata": {},
     "output_type": "display_data"
    }
   ],
   "source": [
    "print(\"Average increase in number of Confirmed Cases every day: \",np.round(datewise[\"Confirmed\"].diff().fillna(0).mean()))\n",
    "print(\"Average increase in number of Recovered Cases every day: \",np.round(datewise[\"Recovered\"].diff().fillna(0).mean()))\n",
    "print(\"Average increase in number of Deaths Cases every day: \",np.round(datewise[\"Deaths\"].diff().fillna(0).mean()))\n",
    "\n",
    "fig=go.Figure()\n",
    "fig.add_trace(go.Scatter(x=datewise.index, y=datewise[\"Confirmed\"].diff().fillna(0),mode='lines+markers',\n",
    "                    name='Confirmed Cases'))\n",
    "fig.add_trace(go.Scatter(x=datewise.index, y=datewise[\"Recovered\"].diff().fillna(0),mode='lines+markers',\n",
    "                    name='Recovered Cases'))\n",
    "fig.add_trace(go.Scatter(x=datewise.index, y=datewise[\"Deaths\"].diff().fillna(0),mode='lines+markers',\n",
    "                    name='Death Cases'))\n",
    "fig.update_layout(title=\"Daily increase in different types of Cases\",\n",
    "                 xaxis_title=\"Date\",yaxis_title=\"Number of Cases\",legend=dict(x=0,y=1,traceorder=\"normal\"))\n",
    "fig.show()"
   ]
  },
  {
   "cell_type": "markdown",
   "metadata": {},
   "source": [
    "### **FORECASTING OF COVID DATA**"
   ]
  },
  {
   "cell_type": "markdown",
   "metadata": {},
   "source": [
    "### <- Growth Factor ->\n",
    "Growth factor is the factor by which a quantity multiplies itself over time. The formula used is:\n",
    "\n",
    "**Formula: Every day's new (Confirmed,Recovered,Deaths) / new (Confirmed,Recovered,Deaths) on the previous day.**\n",
    "\n",
    "A growth factor **above 1 indicates an increase correspoding cases**.\n",
    "\n",
    "A growth factor **above 1 but trending downward** is a positive sign, whereas a **growth factor constantly above 1 is the sign of exponential growth**.\n",
    "\n",
    "A growth factor **constant at 1 indicates there is no change in any kind of cases**."
   ]
  },
  {
   "cell_type": "code",
   "execution_count": 21,
   "metadata": {},
   "outputs": [
    {
     "name": "stdout",
     "output_type": "stream",
     "text": [
      "Average growth factor of number of Confirmed Cases:  1.102621294957323\n",
      "Median growth factor of number of Confirmed Cases:  1.0604061804619676\n",
      "Average growth factor of number of Recovered Cases:  1.1229742848441908\n",
      "Median growth factor of number of Recovered Cases:  1.0737519481172388\n",
      "Average growth factor of number of Death Cases:  1.110780026794164\n",
      "Median growth factor of number of Death Cases:  1.0805655550272817\n"
     ]
    },
    {
     "data": {
      "application/vnd.plotly.v1+json": {
       "config": {
        "plotlyServerURL": "https://plot.ly"
       },
       "data": [
        {
         "mode": "lines",
         "name": "Growth Factor of Confirmed Cases",
         "type": "scatter",
         "x": [
          "2020-01-22T00:00:00",
          "2020-01-23T00:00:00",
          "2020-01-24T00:00:00",
          "2020-01-25T00:00:00",
          "2020-01-26T00:00:00",
          "2020-01-27T00:00:00",
          "2020-01-28T00:00:00",
          "2020-01-29T00:00:00",
          "2020-01-30T00:00:00",
          "2020-01-31T00:00:00",
          "2020-02-01T00:00:00",
          "2020-02-02T00:00:00",
          "2020-02-03T00:00:00",
          "2020-02-04T00:00:00",
          "2020-02-05T00:00:00",
          "2020-02-06T00:00:00",
          "2020-02-07T00:00:00",
          "2020-02-08T00:00:00",
          "2020-02-09T00:00:00",
          "2020-02-10T00:00:00",
          "2020-02-11T00:00:00",
          "2020-02-12T00:00:00",
          "2020-02-13T00:00:00",
          "2020-02-14T00:00:00",
          "2020-02-15T00:00:00",
          "2020-02-16T00:00:00",
          "2020-02-17T00:00:00",
          "2020-02-18T00:00:00",
          "2020-02-19T00:00:00",
          "2020-02-20T00:00:00",
          "2020-02-21T00:00:00",
          "2020-02-22T00:00:00",
          "2020-02-23T00:00:00",
          "2020-02-24T00:00:00",
          "2020-02-25T00:00:00",
          "2020-02-26T00:00:00",
          "2020-02-27T00:00:00",
          "2020-02-28T00:00:00",
          "2020-02-29T00:00:00",
          "2020-03-01T00:00:00",
          "2020-03-02T00:00:00",
          "2020-03-03T00:00:00",
          "2020-03-04T00:00:00",
          "2020-03-05T00:00:00",
          "2020-03-06T00:00:00",
          "2020-03-07T00:00:00",
          "2020-03-08T00:00:00",
          "2020-03-09T00:00:00",
          "2020-03-10T00:00:00",
          "2020-03-11T00:00:00",
          "2020-03-12T00:00:00",
          "2020-03-13T00:00:00",
          "2020-03-14T00:00:00",
          "2020-03-15T00:00:00",
          "2020-03-16T00:00:00",
          "2020-03-17T00:00:00",
          "2020-03-18T00:00:00",
          "2020-03-19T00:00:00",
          "2020-03-20T00:00:00",
          "2020-03-21T00:00:00",
          "2020-03-22T00:00:00",
          "2020-03-23T00:00:00",
          "2020-03-24T00:00:00",
          "2020-03-25T00:00:00",
          "2020-03-26T00:00:00",
          "2020-03-27T00:00:00",
          "2020-03-28T00:00:00",
          "2020-03-29T00:00:00",
          "2020-03-30T00:00:00",
          "2020-03-31T00:00:00",
          "2020-04-01T00:00:00",
          "2020-04-02T00:00:00",
          "2020-04-03T00:00:00",
          "2020-04-04T00:00:00",
          "2020-04-05T00:00:00",
          "2020-04-06T00:00:00",
          "2020-04-07T00:00:00",
          "2020-04-08T00:00:00",
          "2020-04-09T00:00:00",
          "2020-04-10T00:00:00",
          "2020-04-11T00:00:00",
          "2020-04-12T00:00:00",
          "2020-04-13T00:00:00",
          "2020-04-14T00:00:00",
          "2020-04-15T00:00:00",
          "2020-04-16T00:00:00",
          "2020-04-17T00:00:00",
          "2020-04-18T00:00:00",
          "2020-04-19T00:00:00",
          "2020-04-20T00:00:00",
          "2020-04-21T00:00:00",
          "2020-04-22T00:00:00",
          "2020-04-23T00:00:00",
          "2020-04-24T00:00:00"
         ],
         "y": [
          null,
          1.1765765765765765,
          1.44104134762634,
          1.5281615302869287,
          1.4728789986091795,
          1.381964117091596,
          1.9057055005124701,
          1.1052348512011474,
          1.3357664233576643,
          1.2052216150576807,
          1.212896725440806,
          1.394500747632497,
          1.1843092869482337,
          1.2017504149690659,
          1.1567051732797589,
          1.1151396728904328,
          1.115971185670712,
          1.079349848802047,
          1.0816249562242397,
          1.0650544195661378,
          1.047704791525384,
          1.0093520523179251,
          1.3349697050108353,
          1.1079509690243499,
          1.0320690119156188,
          1.0317823618032218,
          1.0285569876168814,
          1.0256347256347256,
          1.0066943490643883,
          1.0073769516532038,
          1.0084515544823422,
          1.0228517887120492,
          1.0049110039567934,
          1.0074064695828322,
          1.0106195802438105,
          1.0122116520549649,
          1.0166959470250747,
          1.0165305234665765,
          1.0224549474585136,
          1.0274144606047924,
          1.0219302712428284,
          1.0280702919974753,
          1.0245573219594157,
          1.0290357848702747,
          1.0399852890096644,
          1.0396463654223969,
          1.0377848747118184,
          1.034114808576501,
          1.0440210596749484,
          1.0614174157966638,
          1.0196877606959838,
          1.1312888120115627,
          1.075113814026847,
          1.0726974548203383,
          1.0841997766457445,
          1.0860498165754133,
          1.090009535015824,
          1.1293441593188005,
          1.121353203165879,
          1.1189784213368998,
          1.1069548742566877,
          1.12209526521556,
          1.1048923689407137,
          1.1187476373450218,
          1.132587244489878,
          1.1202815002520814,
          1.1136069820711927,
          1.089976736547837,
          1.0864401366400978,
          1.0959855008186465,
          1.0876024942652192,
          1.086529666900778,
          1.0815294142028593,
          1.0926082905913495,
          1.0623905970229028,
          1.0573737437259996,
          1.0602148091481607,
          1.059608890285086,
          1.0557512917707847,
          1.0604061804619676,
          1.0471679989407223,
          1.042430373115877,
          1.0382524313903871,
          1.030705359564392,
          1.0404125712481378,
          1.0469792880054278,
          1.0406680705196905,
          1.034625618976239,
          1.0360779528846615,
          1.029516373716935,
          1.031090593663528,
          1.0293579399660198,
          1.032365203737862,
          1.0377675685752625
         ]
        },
        {
         "mode": "lines",
         "name": "Growth Factor of Recovered Cases",
         "type": "scatter",
         "x": [
          "2020-01-22T00:00:00",
          "2020-01-23T00:00:00",
          "2020-01-24T00:00:00",
          "2020-01-25T00:00:00",
          "2020-01-26T00:00:00",
          "2020-01-27T00:00:00",
          "2020-01-28T00:00:00",
          "2020-01-29T00:00:00",
          "2020-01-30T00:00:00",
          "2020-01-31T00:00:00",
          "2020-02-01T00:00:00",
          "2020-02-02T00:00:00",
          "2020-02-03T00:00:00",
          "2020-02-04T00:00:00",
          "2020-02-05T00:00:00",
          "2020-02-06T00:00:00",
          "2020-02-07T00:00:00",
          "2020-02-08T00:00:00",
          "2020-02-09T00:00:00",
          "2020-02-10T00:00:00",
          "2020-02-11T00:00:00",
          "2020-02-12T00:00:00",
          "2020-02-13T00:00:00",
          "2020-02-14T00:00:00",
          "2020-02-15T00:00:00",
          "2020-02-16T00:00:00",
          "2020-02-17T00:00:00",
          "2020-02-18T00:00:00",
          "2020-02-19T00:00:00",
          "2020-02-20T00:00:00",
          "2020-02-21T00:00:00",
          "2020-02-22T00:00:00",
          "2020-02-23T00:00:00",
          "2020-02-24T00:00:00",
          "2020-02-25T00:00:00",
          "2020-02-26T00:00:00",
          "2020-02-27T00:00:00",
          "2020-02-28T00:00:00",
          "2020-02-29T00:00:00",
          "2020-03-01T00:00:00",
          "2020-03-02T00:00:00",
          "2020-03-03T00:00:00",
          "2020-03-04T00:00:00",
          "2020-03-05T00:00:00",
          "2020-03-06T00:00:00",
          "2020-03-07T00:00:00",
          "2020-03-08T00:00:00",
          "2020-03-09T00:00:00",
          "2020-03-10T00:00:00",
          "2020-03-11T00:00:00",
          "2020-03-12T00:00:00",
          "2020-03-13T00:00:00",
          "2020-03-14T00:00:00",
          "2020-03-15T00:00:00",
          "2020-03-16T00:00:00",
          "2020-03-17T00:00:00",
          "2020-03-18T00:00:00",
          "2020-03-19T00:00:00",
          "2020-03-20T00:00:00",
          "2020-03-21T00:00:00",
          "2020-03-22T00:00:00",
          "2020-03-23T00:00:00",
          "2020-03-24T00:00:00",
          "2020-03-25T00:00:00",
          "2020-03-26T00:00:00",
          "2020-03-27T00:00:00",
          "2020-03-28T00:00:00",
          "2020-03-29T00:00:00",
          "2020-03-30T00:00:00",
          "2020-03-31T00:00:00",
          "2020-04-01T00:00:00",
          "2020-04-02T00:00:00",
          "2020-04-03T00:00:00",
          "2020-04-04T00:00:00",
          "2020-04-05T00:00:00",
          "2020-04-06T00:00:00",
          "2020-04-07T00:00:00",
          "2020-04-08T00:00:00",
          "2020-04-09T00:00:00",
          "2020-04-10T00:00:00",
          "2020-04-11T00:00:00",
          "2020-04-12T00:00:00",
          "2020-04-13T00:00:00",
          "2020-04-14T00:00:00",
          "2020-04-15T00:00:00",
          "2020-04-16T00:00:00",
          "2020-04-17T00:00:00",
          "2020-04-18T00:00:00",
          "2020-04-19T00:00:00",
          "2020-04-20T00:00:00",
          "2020-04-21T00:00:00",
          "2020-04-22T00:00:00",
          "2020-04-23T00:00:00",
          "2020-04-24T00:00:00"
         ],
         "y": [
          null,
          1.0714285714285714,
          1.2,
          1.0833333333333333,
          1.3333333333333333,
          1.1730769230769231,
          1.7540983606557377,
          1.1775700934579438,
          1.1349206349206349,
          1.5524475524475525,
          1.2792792792792793,
          1.6619718309859155,
          1.319915254237288,
          1.3675762439807384,
          1.3192488262910798,
          1.3229537366548043,
          1.3523873570948217,
          1.300845350571855,
          1.2400611620795108,
          1.216399506781751,
          1.186771414090218,
          1.0997224001708306,
          1.2223300970873787,
          1.280063542494043,
          1.1659220650285431,
          1.1564662054284194,
          1.1581224114127933,
          1.1405865056027975,
          1.123258082497213,
          1.1275355126853173,
          1.0392253947296033,
          1.2115404976177873,
          1.0221969763173993,
          1.0783534239548602,
          1.1061561025884965,
          1.0888371259630891,
          1.0952145866245393,
          1.1031943985335217,
          1.0836534008880172,
          1.0737519481172388,
          1.067562505852608,
          1.0576071224946275,
          1.0610006427668,
          1.0513181294092357,
          1.0384593936464859,
          1.0446246375255075,
          1.040028101920869,
          1.0299365680863333,
          1.0302661888917328,
          1.04035463635799,
          1.019715535125293,
          1.0282038522334758,
          1.0337788785924755,
          1.0469541749283984,
          1.0270142304758398,
          1.0352422907488987,
          1.0305912914398812,
          1.019792829450386,
          1.0287304912784538,
          1.0488884820887154,
          1.060724726209695,
          1.0382032639881533,
          1.066770340141445,
          1.0563143576077771,
          1.0736612636686473,
          1.0717595624836258,
          1.0649306006462504,
          1.0693427253620642,
          1.1038664842093966,
          1.0818424890617404,
          1.0850596535376458,
          1.0884811902407712,
          1.0738741480907246,
          1.0901521727577106,
          1.0563066723000423,
          1.0634701475316524,
          1.0851273891108981,
          1.0953395055556667,
          1.0770216119344858,
          1.0624931139204745,
          1.0691685101676167,
          1.048772723881525,
          1.0638643466549054,
          1.0570728064994261,
          1.0775058459371527,
          1.060835311407208,
          1.0483963497981026,
          1.0421857927343172,
          1.0533226183863762,
          1.0349974274847211,
          1.0527783714137933,
          1.0439455207930346,
          1.0405695976012197,
          1.0746324236343003
         ]
        },
        {
         "mode": "lines",
         "name": "Growth Factor of Death Cases",
         "type": "scatter",
         "x": [
          "2020-01-22T00:00:00",
          "2020-01-23T00:00:00",
          "2020-01-24T00:00:00",
          "2020-01-25T00:00:00",
          "2020-01-26T00:00:00",
          "2020-01-27T00:00:00",
          "2020-01-28T00:00:00",
          "2020-01-29T00:00:00",
          "2020-01-30T00:00:00",
          "2020-01-31T00:00:00",
          "2020-02-01T00:00:00",
          "2020-02-02T00:00:00",
          "2020-02-03T00:00:00",
          "2020-02-04T00:00:00",
          "2020-02-05T00:00:00",
          "2020-02-06T00:00:00",
          "2020-02-07T00:00:00",
          "2020-02-08T00:00:00",
          "2020-02-09T00:00:00",
          "2020-02-10T00:00:00",
          "2020-02-11T00:00:00",
          "2020-02-12T00:00:00",
          "2020-02-13T00:00:00",
          "2020-02-14T00:00:00",
          "2020-02-15T00:00:00",
          "2020-02-16T00:00:00",
          "2020-02-17T00:00:00",
          "2020-02-18T00:00:00",
          "2020-02-19T00:00:00",
          "2020-02-20T00:00:00",
          "2020-02-21T00:00:00",
          "2020-02-22T00:00:00",
          "2020-02-23T00:00:00",
          "2020-02-24T00:00:00",
          "2020-02-25T00:00:00",
          "2020-02-26T00:00:00",
          "2020-02-27T00:00:00",
          "2020-02-28T00:00:00",
          "2020-02-29T00:00:00",
          "2020-03-01T00:00:00",
          "2020-03-02T00:00:00",
          "2020-03-03T00:00:00",
          "2020-03-04T00:00:00",
          "2020-03-05T00:00:00",
          "2020-03-06T00:00:00",
          "2020-03-07T00:00:00",
          "2020-03-08T00:00:00",
          "2020-03-09T00:00:00",
          "2020-03-10T00:00:00",
          "2020-03-11T00:00:00",
          "2020-03-12T00:00:00",
          "2020-03-13T00:00:00",
          "2020-03-14T00:00:00",
          "2020-03-15T00:00:00",
          "2020-03-16T00:00:00",
          "2020-03-17T00:00:00",
          "2020-03-18T00:00:00",
          "2020-03-19T00:00:00",
          "2020-03-20T00:00:00",
          "2020-03-21T00:00:00",
          "2020-03-22T00:00:00",
          "2020-03-23T00:00:00",
          "2020-03-24T00:00:00",
          "2020-03-25T00:00:00",
          "2020-03-26T00:00:00",
          "2020-03-27T00:00:00",
          "2020-03-28T00:00:00",
          "2020-03-29T00:00:00",
          "2020-03-30T00:00:00",
          "2020-03-31T00:00:00",
          "2020-04-01T00:00:00",
          "2020-04-02T00:00:00",
          "2020-04-03T00:00:00",
          "2020-04-04T00:00:00",
          "2020-04-05T00:00:00",
          "2020-04-06T00:00:00",
          "2020-04-07T00:00:00",
          "2020-04-08T00:00:00",
          "2020-04-09T00:00:00",
          "2020-04-10T00:00:00",
          "2020-04-11T00:00:00",
          "2020-04-12T00:00:00",
          "2020-04-13T00:00:00",
          "2020-04-14T00:00:00",
          "2020-04-15T00:00:00",
          "2020-04-16T00:00:00",
          "2020-04-17T00:00:00",
          "2020-04-18T00:00:00",
          "2020-04-19T00:00:00",
          "2020-04-20T00:00:00",
          "2020-04-21T00:00:00",
          "2020-04-22T00:00:00",
          "2020-04-23T00:00:00",
          "2020-04-24T00:00:00"
         ],
         "y": [
          null,
          1.0588235294117647,
          1.4444444444444444,
          1.6153846153846154,
          1.3333333333333333,
          1.4642857142857142,
          1.5975609756097562,
          1.015267175572519,
          1.2857142857142858,
          1.2456140350877194,
          1.215962441314554,
          1.3976833976833978,
          1.1767955801104972,
          1.1549295774647887,
          1.146341463414634,
          1.124113475177305,
          1.1340694006309149,
          1.1210013908205843,
          1.1240694789081886,
          1.1181015452538632,
          1.0987166831194473,
          1.004492362982929,
          1.2262969588550985,
          1.1108679795769512,
          1.0938936309914642,
          1.0624249699879953,
          1.0553672316384182,
          1.0744111349036403,
          1.057299451918286,
          1.0589066918001886,
          1.0017801513128617,
          1.0919591292758775,
          1.0044751830756713,
          1.0648035641960307,
          1.0300494484594902,
          1.0228951255539143,
          1.015884476534296,
          1.0206112295664533,
          1.024025069637883,
          1.018701122067324,
          1.0297062750333779,
          1.0243111831442464,
          1.029746835443038,
          1.0288875230485557,
          1.033452807646356,
          1.0283236994219653,
          1.068858909499719,
          1.0507494083618196,
          1.0665665665665667,
          1.0828249648052557,
          1.0227518959913326,
          1.1449152542372882,
          1.0767949666913397,
          1.1067193675889329,
          1.1065217391304347,
          1.1093179904574797,
          1.1047438330170778,
          1.1298522844383374,
          1.1451302320867538,
          1.1481547039561024,
          1.1271872350265937,
          1.1281542775080353,
          1.1283869794508092,
          1.137845823260811,
          1.1316746140408858,
          1.1346683354192741,
          1.1269946319582322,
          1.1067793292444212,
          1.1077966101694916,
          1.1204033845990102,
          1.111667893699385,
          1.1318977119784657,
          1.1095445709001,
          1.0989844693554698,
          1.073801194935455,
          1.0748263038025774,
          1.0979011600616913,
          1.0790691992915165,
          1.0805655550272817,
          1.0740663139699336,
          1.0582979761033895,
          1.0514921383937623,
          1.0472701136831772,
          1.05441823873052,
          1.0650320675641352,
          1.0717261527683581,
          1.0696865807609126,
          1.036977805515466,
          1.034693749608175,
          1.0299435302101259,
          1.0388090783946913,
          1.0367136134282462,
          1.042563884063671,
          1.03301407329009
         ]
        }
       ],
       "layout": {
        "legend": {
         "traceorder": "normal",
         "x": 0,
         "y": -0.4
        },
        "template": {
         "data": {
          "bar": [
           {
            "error_x": {
             "color": "#2a3f5f"
            },
            "error_y": {
             "color": "#2a3f5f"
            },
            "marker": {
             "line": {
              "color": "#E5ECF6",
              "width": 0.5
             },
             "pattern": {
              "fillmode": "overlay",
              "size": 10,
              "solidity": 0.2
             }
            },
            "type": "bar"
           }
          ],
          "barpolar": [
           {
            "marker": {
             "line": {
              "color": "#E5ECF6",
              "width": 0.5
             },
             "pattern": {
              "fillmode": "overlay",
              "size": 10,
              "solidity": 0.2
             }
            },
            "type": "barpolar"
           }
          ],
          "carpet": [
           {
            "aaxis": {
             "endlinecolor": "#2a3f5f",
             "gridcolor": "white",
             "linecolor": "white",
             "minorgridcolor": "white",
             "startlinecolor": "#2a3f5f"
            },
            "baxis": {
             "endlinecolor": "#2a3f5f",
             "gridcolor": "white",
             "linecolor": "white",
             "minorgridcolor": "white",
             "startlinecolor": "#2a3f5f"
            },
            "type": "carpet"
           }
          ],
          "choropleth": [
           {
            "colorbar": {
             "outlinewidth": 0,
             "ticks": ""
            },
            "type": "choropleth"
           }
          ],
          "contour": [
           {
            "colorbar": {
             "outlinewidth": 0,
             "ticks": ""
            },
            "colorscale": [
             [
              0,
              "#0d0887"
             ],
             [
              0.1111111111111111,
              "#46039f"
             ],
             [
              0.2222222222222222,
              "#7201a8"
             ],
             [
              0.3333333333333333,
              "#9c179e"
             ],
             [
              0.4444444444444444,
              "#bd3786"
             ],
             [
              0.5555555555555556,
              "#d8576b"
             ],
             [
              0.6666666666666666,
              "#ed7953"
             ],
             [
              0.7777777777777778,
              "#fb9f3a"
             ],
             [
              0.8888888888888888,
              "#fdca26"
             ],
             [
              1,
              "#f0f921"
             ]
            ],
            "type": "contour"
           }
          ],
          "contourcarpet": [
           {
            "colorbar": {
             "outlinewidth": 0,
             "ticks": ""
            },
            "type": "contourcarpet"
           }
          ],
          "heatmap": [
           {
            "colorbar": {
             "outlinewidth": 0,
             "ticks": ""
            },
            "colorscale": [
             [
              0,
              "#0d0887"
             ],
             [
              0.1111111111111111,
              "#46039f"
             ],
             [
              0.2222222222222222,
              "#7201a8"
             ],
             [
              0.3333333333333333,
              "#9c179e"
             ],
             [
              0.4444444444444444,
              "#bd3786"
             ],
             [
              0.5555555555555556,
              "#d8576b"
             ],
             [
              0.6666666666666666,
              "#ed7953"
             ],
             [
              0.7777777777777778,
              "#fb9f3a"
             ],
             [
              0.8888888888888888,
              "#fdca26"
             ],
             [
              1,
              "#f0f921"
             ]
            ],
            "type": "heatmap"
           }
          ],
          "heatmapgl": [
           {
            "colorbar": {
             "outlinewidth": 0,
             "ticks": ""
            },
            "colorscale": [
             [
              0,
              "#0d0887"
             ],
             [
              0.1111111111111111,
              "#46039f"
             ],
             [
              0.2222222222222222,
              "#7201a8"
             ],
             [
              0.3333333333333333,
              "#9c179e"
             ],
             [
              0.4444444444444444,
              "#bd3786"
             ],
             [
              0.5555555555555556,
              "#d8576b"
             ],
             [
              0.6666666666666666,
              "#ed7953"
             ],
             [
              0.7777777777777778,
              "#fb9f3a"
             ],
             [
              0.8888888888888888,
              "#fdca26"
             ],
             [
              1,
              "#f0f921"
             ]
            ],
            "type": "heatmapgl"
           }
          ],
          "histogram": [
           {
            "marker": {
             "pattern": {
              "fillmode": "overlay",
              "size": 10,
              "solidity": 0.2
             }
            },
            "type": "histogram"
           }
          ],
          "histogram2d": [
           {
            "colorbar": {
             "outlinewidth": 0,
             "ticks": ""
            },
            "colorscale": [
             [
              0,
              "#0d0887"
             ],
             [
              0.1111111111111111,
              "#46039f"
             ],
             [
              0.2222222222222222,
              "#7201a8"
             ],
             [
              0.3333333333333333,
              "#9c179e"
             ],
             [
              0.4444444444444444,
              "#bd3786"
             ],
             [
              0.5555555555555556,
              "#d8576b"
             ],
             [
              0.6666666666666666,
              "#ed7953"
             ],
             [
              0.7777777777777778,
              "#fb9f3a"
             ],
             [
              0.8888888888888888,
              "#fdca26"
             ],
             [
              1,
              "#f0f921"
             ]
            ],
            "type": "histogram2d"
           }
          ],
          "histogram2dcontour": [
           {
            "colorbar": {
             "outlinewidth": 0,
             "ticks": ""
            },
            "colorscale": [
             [
              0,
              "#0d0887"
             ],
             [
              0.1111111111111111,
              "#46039f"
             ],
             [
              0.2222222222222222,
              "#7201a8"
             ],
             [
              0.3333333333333333,
              "#9c179e"
             ],
             [
              0.4444444444444444,
              "#bd3786"
             ],
             [
              0.5555555555555556,
              "#d8576b"
             ],
             [
              0.6666666666666666,
              "#ed7953"
             ],
             [
              0.7777777777777778,
              "#fb9f3a"
             ],
             [
              0.8888888888888888,
              "#fdca26"
             ],
             [
              1,
              "#f0f921"
             ]
            ],
            "type": "histogram2dcontour"
           }
          ],
          "mesh3d": [
           {
            "colorbar": {
             "outlinewidth": 0,
             "ticks": ""
            },
            "type": "mesh3d"
           }
          ],
          "parcoords": [
           {
            "line": {
             "colorbar": {
              "outlinewidth": 0,
              "ticks": ""
             }
            },
            "type": "parcoords"
           }
          ],
          "pie": [
           {
            "automargin": true,
            "type": "pie"
           }
          ],
          "scatter": [
           {
            "marker": {
             "colorbar": {
              "outlinewidth": 0,
              "ticks": ""
             }
            },
            "type": "scatter"
           }
          ],
          "scatter3d": [
           {
            "line": {
             "colorbar": {
              "outlinewidth": 0,
              "ticks": ""
             }
            },
            "marker": {
             "colorbar": {
              "outlinewidth": 0,
              "ticks": ""
             }
            },
            "type": "scatter3d"
           }
          ],
          "scattercarpet": [
           {
            "marker": {
             "colorbar": {
              "outlinewidth": 0,
              "ticks": ""
             }
            },
            "type": "scattercarpet"
           }
          ],
          "scattergeo": [
           {
            "marker": {
             "colorbar": {
              "outlinewidth": 0,
              "ticks": ""
             }
            },
            "type": "scattergeo"
           }
          ],
          "scattergl": [
           {
            "marker": {
             "colorbar": {
              "outlinewidth": 0,
              "ticks": ""
             }
            },
            "type": "scattergl"
           }
          ],
          "scattermapbox": [
           {
            "marker": {
             "colorbar": {
              "outlinewidth": 0,
              "ticks": ""
             }
            },
            "type": "scattermapbox"
           }
          ],
          "scatterpolar": [
           {
            "marker": {
             "colorbar": {
              "outlinewidth": 0,
              "ticks": ""
             }
            },
            "type": "scatterpolar"
           }
          ],
          "scatterpolargl": [
           {
            "marker": {
             "colorbar": {
              "outlinewidth": 0,
              "ticks": ""
             }
            },
            "type": "scatterpolargl"
           }
          ],
          "scatterternary": [
           {
            "marker": {
             "colorbar": {
              "outlinewidth": 0,
              "ticks": ""
             }
            },
            "type": "scatterternary"
           }
          ],
          "surface": [
           {
            "colorbar": {
             "outlinewidth": 0,
             "ticks": ""
            },
            "colorscale": [
             [
              0,
              "#0d0887"
             ],
             [
              0.1111111111111111,
              "#46039f"
             ],
             [
              0.2222222222222222,
              "#7201a8"
             ],
             [
              0.3333333333333333,
              "#9c179e"
             ],
             [
              0.4444444444444444,
              "#bd3786"
             ],
             [
              0.5555555555555556,
              "#d8576b"
             ],
             [
              0.6666666666666666,
              "#ed7953"
             ],
             [
              0.7777777777777778,
              "#fb9f3a"
             ],
             [
              0.8888888888888888,
              "#fdca26"
             ],
             [
              1,
              "#f0f921"
             ]
            ],
            "type": "surface"
           }
          ],
          "table": [
           {
            "cells": {
             "fill": {
              "color": "#EBF0F8"
             },
             "line": {
              "color": "white"
             }
            },
            "header": {
             "fill": {
              "color": "#C8D4E3"
             },
             "line": {
              "color": "white"
             }
            },
            "type": "table"
           }
          ]
         },
         "layout": {
          "annotationdefaults": {
           "arrowcolor": "#2a3f5f",
           "arrowhead": 0,
           "arrowwidth": 1
          },
          "autotypenumbers": "strict",
          "coloraxis": {
           "colorbar": {
            "outlinewidth": 0,
            "ticks": ""
           }
          },
          "colorscale": {
           "diverging": [
            [
             0,
             "#8e0152"
            ],
            [
             0.1,
             "#c51b7d"
            ],
            [
             0.2,
             "#de77ae"
            ],
            [
             0.3,
             "#f1b6da"
            ],
            [
             0.4,
             "#fde0ef"
            ],
            [
             0.5,
             "#f7f7f7"
            ],
            [
             0.6,
             "#e6f5d0"
            ],
            [
             0.7,
             "#b8e186"
            ],
            [
             0.8,
             "#7fbc41"
            ],
            [
             0.9,
             "#4d9221"
            ],
            [
             1,
             "#276419"
            ]
           ],
           "sequential": [
            [
             0,
             "#0d0887"
            ],
            [
             0.1111111111111111,
             "#46039f"
            ],
            [
             0.2222222222222222,
             "#7201a8"
            ],
            [
             0.3333333333333333,
             "#9c179e"
            ],
            [
             0.4444444444444444,
             "#bd3786"
            ],
            [
             0.5555555555555556,
             "#d8576b"
            ],
            [
             0.6666666666666666,
             "#ed7953"
            ],
            [
             0.7777777777777778,
             "#fb9f3a"
            ],
            [
             0.8888888888888888,
             "#fdca26"
            ],
            [
             1,
             "#f0f921"
            ]
           ],
           "sequentialminus": [
            [
             0,
             "#0d0887"
            ],
            [
             0.1111111111111111,
             "#46039f"
            ],
            [
             0.2222222222222222,
             "#7201a8"
            ],
            [
             0.3333333333333333,
             "#9c179e"
            ],
            [
             0.4444444444444444,
             "#bd3786"
            ],
            [
             0.5555555555555556,
             "#d8576b"
            ],
            [
             0.6666666666666666,
             "#ed7953"
            ],
            [
             0.7777777777777778,
             "#fb9f3a"
            ],
            [
             0.8888888888888888,
             "#fdca26"
            ],
            [
             1,
             "#f0f921"
            ]
           ]
          },
          "colorway": [
           "#636efa",
           "#EF553B",
           "#00cc96",
           "#ab63fa",
           "#FFA15A",
           "#19d3f3",
           "#FF6692",
           "#B6E880",
           "#FF97FF",
           "#FECB52"
          ],
          "font": {
           "color": "#2a3f5f"
          },
          "geo": {
           "bgcolor": "white",
           "lakecolor": "white",
           "landcolor": "#E5ECF6",
           "showlakes": true,
           "showland": true,
           "subunitcolor": "white"
          },
          "hoverlabel": {
           "align": "left"
          },
          "hovermode": "closest",
          "mapbox": {
           "style": "light"
          },
          "paper_bgcolor": "white",
          "plot_bgcolor": "#E5ECF6",
          "polar": {
           "angularaxis": {
            "gridcolor": "white",
            "linecolor": "white",
            "ticks": ""
           },
           "bgcolor": "#E5ECF6",
           "radialaxis": {
            "gridcolor": "white",
            "linecolor": "white",
            "ticks": ""
           }
          },
          "scene": {
           "xaxis": {
            "backgroundcolor": "#E5ECF6",
            "gridcolor": "white",
            "gridwidth": 2,
            "linecolor": "white",
            "showbackground": true,
            "ticks": "",
            "zerolinecolor": "white"
           },
           "yaxis": {
            "backgroundcolor": "#E5ECF6",
            "gridcolor": "white",
            "gridwidth": 2,
            "linecolor": "white",
            "showbackground": true,
            "ticks": "",
            "zerolinecolor": "white"
           },
           "zaxis": {
            "backgroundcolor": "#E5ECF6",
            "gridcolor": "white",
            "gridwidth": 2,
            "linecolor": "white",
            "showbackground": true,
            "ticks": "",
            "zerolinecolor": "white"
           }
          },
          "shapedefaults": {
           "line": {
            "color": "#2a3f5f"
           }
          },
          "ternary": {
           "aaxis": {
            "gridcolor": "white",
            "linecolor": "white",
            "ticks": ""
           },
           "baxis": {
            "gridcolor": "white",
            "linecolor": "white",
            "ticks": ""
           },
           "bgcolor": "#E5ECF6",
           "caxis": {
            "gridcolor": "white",
            "linecolor": "white",
            "ticks": ""
           }
          },
          "title": {
           "x": 0.05
          },
          "xaxis": {
           "automargin": true,
           "gridcolor": "white",
           "linecolor": "white",
           "ticks": "",
           "title": {
            "standoff": 15
           },
           "zerolinecolor": "white",
           "zerolinewidth": 2
          },
          "yaxis": {
           "automargin": true,
           "gridcolor": "white",
           "linecolor": "white",
           "ticks": "",
           "title": {
            "standoff": 15
           },
           "zerolinecolor": "white",
           "zerolinewidth": 2
          }
         }
        },
        "title": {
         "text": "Datewise Growth Factor of different types of cases"
        },
        "xaxis": {
         "title": {
          "text": "Date"
         }
        },
        "yaxis": {
         "title": {
          "text": "Growth Factor"
         }
        }
       }
      }
     },
     "metadata": {},
     "output_type": "display_data"
    }
   ],
   "source": [
    "print(\"Average growth factor of number of Confirmed Cases: \",(datewise[\"Confirmed\"]/datewise[\"Confirmed\"].shift()).mean())\n",
    "print(\"Median growth factor of number of Confirmed Cases: \",(datewise[\"Confirmed\"]/datewise[\"Confirmed\"].shift()).median())\n",
    "print(\"Average growth factor of number of Recovered Cases: \",(datewise[\"Recovered\"]/datewise[\"Recovered\"].shift()).mean())\n",
    "print(\"Median growth factor of number of Recovered Cases: \",(datewise[\"Recovered\"]/datewise[\"Recovered\"].shift()).median())\n",
    "print(\"Average growth factor of number of Death Cases: \",(datewise[\"Deaths\"]/datewise[\"Deaths\"].shift()).mean())\n",
    "print(\"Median growth factor of number of Death Cases: \",(datewise[\"Deaths\"]/datewise[\"Deaths\"].shift()).median())\n",
    "\n",
    "fig=go.Figure()\n",
    "fig.add_trace(go.Scatter(x=datewise.index, y=datewise[\"Confirmed\"]/datewise[\"Confirmed\"].shift(),\n",
    "                    mode='lines',\n",
    "                    name='Growth Factor of Confirmed Cases'))\n",
    "fig.add_trace(go.Scatter(x=datewise.index, y=datewise[\"Recovered\"]/datewise[\"Recovered\"].shift(),\n",
    "                    mode='lines',\n",
    "                    name='Growth Factor of Recovered Cases'))\n",
    "fig.add_trace(go.Scatter(x=datewise.index, y=datewise[\"Deaths\"]/datewise[\"Deaths\"].shift(),\n",
    "                    mode='lines',\n",
    "                    name='Growth Factor of Death Cases'))\n",
    "fig.update_layout(title=\"Datewise Growth Factor of different types of cases\",\n",
    "                 xaxis_title=\"Date\",yaxis_title=\"Growth Factor\",\n",
    "                 legend=dict(x=0,y=-0.4,traceorder=\"normal\"))\n",
    "fig.show()"
   ]
  },
  {
   "cell_type": "code",
   "execution_count": 22,
   "metadata": {},
   "outputs": [
    {
     "data": {
      "application/vnd.plotly.v1+json": {
       "config": {
        "plotlyServerURL": "https://plot.ly"
       },
       "data": [
        {
         "mode": "lines",
         "name": "Growth Factor of Active Cases",
         "type": "scatter",
         "x": [
          "2020-01-22T00:00:00",
          "2020-01-23T00:00:00",
          "2020-01-24T00:00:00",
          "2020-01-25T00:00:00",
          "2020-01-26T00:00:00",
          "2020-01-27T00:00:00",
          "2020-01-28T00:00:00",
          "2020-01-29T00:00:00",
          "2020-01-30T00:00:00",
          "2020-01-31T00:00:00",
          "2020-02-01T00:00:00",
          "2020-02-02T00:00:00",
          "2020-02-03T00:00:00",
          "2020-02-04T00:00:00",
          "2020-02-05T00:00:00",
          "2020-02-06T00:00:00",
          "2020-02-07T00:00:00",
          "2020-02-08T00:00:00",
          "2020-02-09T00:00:00",
          "2020-02-10T00:00:00",
          "2020-02-11T00:00:00",
          "2020-02-12T00:00:00",
          "2020-02-13T00:00:00",
          "2020-02-14T00:00:00",
          "2020-02-15T00:00:00",
          "2020-02-16T00:00:00",
          "2020-02-17T00:00:00",
          "2020-02-18T00:00:00",
          "2020-02-19T00:00:00",
          "2020-02-20T00:00:00",
          "2020-02-21T00:00:00",
          "2020-02-22T00:00:00",
          "2020-02-23T00:00:00",
          "2020-02-24T00:00:00",
          "2020-02-25T00:00:00",
          "2020-02-26T00:00:00",
          "2020-02-27T00:00:00",
          "2020-02-28T00:00:00",
          "2020-02-29T00:00:00",
          "2020-03-01T00:00:00",
          "2020-03-02T00:00:00",
          "2020-03-03T00:00:00",
          "2020-03-04T00:00:00",
          "2020-03-05T00:00:00",
          "2020-03-06T00:00:00",
          "2020-03-07T00:00:00",
          "2020-03-08T00:00:00",
          "2020-03-09T00:00:00",
          "2020-03-10T00:00:00",
          "2020-03-11T00:00:00",
          "2020-03-12T00:00:00",
          "2020-03-13T00:00:00",
          "2020-03-14T00:00:00",
          "2020-03-15T00:00:00",
          "2020-03-16T00:00:00",
          "2020-03-17T00:00:00",
          "2020-03-18T00:00:00",
          "2020-03-19T00:00:00",
          "2020-03-20T00:00:00",
          "2020-03-21T00:00:00",
          "2020-03-22T00:00:00",
          "2020-03-23T00:00:00",
          "2020-03-24T00:00:00",
          "2020-03-25T00:00:00",
          "2020-03-26T00:00:00",
          "2020-03-27T00:00:00",
          "2020-03-28T00:00:00",
          "2020-03-29T00:00:00",
          "2020-03-30T00:00:00",
          "2020-03-31T00:00:00",
          "2020-04-01T00:00:00",
          "2020-04-02T00:00:00",
          "2020-04-03T00:00:00",
          "2020-04-04T00:00:00",
          "2020-04-05T00:00:00",
          "2020-04-06T00:00:00",
          "2020-04-07T00:00:00",
          "2020-04-08T00:00:00",
          "2020-04-09T00:00:00",
          "2020-04-10T00:00:00",
          "2020-04-11T00:00:00",
          "2020-04-12T00:00:00",
          "2020-04-13T00:00:00",
          "2020-04-14T00:00:00",
          "2020-04-15T00:00:00",
          "2020-04-16T00:00:00",
          "2020-04-17T00:00:00",
          "2020-04-18T00:00:00",
          "2020-04-19T00:00:00",
          "2020-04-20T00:00:00",
          "2020-04-21T00:00:00",
          "2020-04-22T00:00:00",
          "2020-04-23T00:00:00",
          "2020-04-24T00:00:00"
         ],
         "y": [
          null,
          1.1862745098039216,
          1.4528925619834712,
          1.5437997724687145,
          1.4812085482682387,
          1.3850746268656717,
          1.918103448275862,
          1.1059925093632959,
          1.3411784625804266,
          1.1980810503724277,
          1.2112750263435195,
          1.3878207916485428,
          1.1804676236444556,
          1.19732370433305,
          1.1507894270001775,
          1.105942654539849,
          1.1033209046241768,
          1.0643357968542733,
          1.068310632362978,
          1.050081942168273,
          1.0318220294148768,
          0.998641269515728,
          1.3529804384658828,
          1.0873178506375227,
          1.011604369525006,
          1.0106950026737507,
          1.0037207079585602,
          0.9994898739988777,
          0.9765052144473366,
          0.9717237534408865,
          0.998691169878978,
          0.9560698000071811,
          0.9975025819171909,
          0.9734949738338164,
          0.9630274200409947,
          0.9686960363037629,
          0.967290591381133,
          0.9544840887174542,
          0.9719135178824004,
          0.9854238854238854,
          0.9756909444665839,
          0.9959876988131277,
          0.9817633578579182,
          1.0010319663873806,
          1.0425370020372597,
          1.0340208127324952,
          1.032286709624536,
          1.038313077618722,
          1.0603730296979224,
          1.0867657664876993,
          1.0193927774807823,
          1.2574910938714985,
          1.116741925278265,
          1.0942232409601318,
          1.1336777564638179,
          1.1255138479425322,
          1.133237412726082,
          1.2035908162351774,
          1.1729801736496173,
          1.1523938546680887,
          1.1268434217108554,
          1.1579181020705331,
          1.1181621605042404,
          1.1405838545095457,
          1.1527976936650945,
          1.1348372914151306,
          1.1274127725284018,
          1.094789985161995,
          1.0802548316171419,
          1.098414985342449,
          1.086722878409419,
          1.0829193286410395,
          1.0816964577358787,
          1.0928298333362092,
          1.0632481813567924,
          1.054408000602506,
          1.0504576865076292,
          1.0478156481132987,
          1.0473583431206328,
          1.0586236386484222,
          1.0394065442363272,
          1.039627980604361,
          1.0292279396339374,
          1.019837190358906,
          1.025373070329017,
          1.03960707625638,
          1.0349666845976004,
          1.0315567717548975,
          1.0296960911407278,
          1.0273518511168223,
          1.0218443920593288,
          1.0227320391251717,
          1.0279234057301294,
          1.0229789591810472
         ]
        },
        {
         "mode": "lines",
         "name": "Growth Factor of Closed Cases",
         "type": "scatter",
         "x": [
          "2020-01-22T00:00:00",
          "2020-01-23T00:00:00",
          "2020-01-24T00:00:00",
          "2020-01-25T00:00:00",
          "2020-01-26T00:00:00",
          "2020-01-27T00:00:00",
          "2020-01-28T00:00:00",
          "2020-01-29T00:00:00",
          "2020-01-30T00:00:00",
          "2020-01-31T00:00:00",
          "2020-02-01T00:00:00",
          "2020-02-02T00:00:00",
          "2020-02-03T00:00:00",
          "2020-02-04T00:00:00",
          "2020-02-05T00:00:00",
          "2020-02-06T00:00:00",
          "2020-02-07T00:00:00",
          "2020-02-08T00:00:00",
          "2020-02-09T00:00:00",
          "2020-02-10T00:00:00",
          "2020-02-11T00:00:00",
          "2020-02-12T00:00:00",
          "2020-02-13T00:00:00",
          "2020-02-14T00:00:00",
          "2020-02-15T00:00:00",
          "2020-02-16T00:00:00",
          "2020-02-17T00:00:00",
          "2020-02-18T00:00:00",
          "2020-02-19T00:00:00",
          "2020-02-20T00:00:00",
          "2020-02-21T00:00:00",
          "2020-02-22T00:00:00",
          "2020-02-23T00:00:00",
          "2020-02-24T00:00:00",
          "2020-02-25T00:00:00",
          "2020-02-26T00:00:00",
          "2020-02-27T00:00:00",
          "2020-02-28T00:00:00",
          "2020-02-29T00:00:00",
          "2020-03-01T00:00:00",
          "2020-03-02T00:00:00",
          "2020-03-03T00:00:00",
          "2020-03-04T00:00:00",
          "2020-03-05T00:00:00",
          "2020-03-06T00:00:00",
          "2020-03-07T00:00:00",
          "2020-03-08T00:00:00",
          "2020-03-09T00:00:00",
          "2020-03-10T00:00:00",
          "2020-03-11T00:00:00",
          "2020-03-12T00:00:00",
          "2020-03-13T00:00:00",
          "2020-03-14T00:00:00",
          "2020-03-15T00:00:00",
          "2020-03-16T00:00:00",
          "2020-03-17T00:00:00",
          "2020-03-18T00:00:00",
          "2020-03-19T00:00:00",
          "2020-03-20T00:00:00",
          "2020-03-21T00:00:00",
          "2020-03-22T00:00:00",
          "2020-03-23T00:00:00",
          "2020-03-24T00:00:00",
          "2020-03-25T00:00:00",
          "2020-03-26T00:00:00",
          "2020-03-27T00:00:00",
          "2020-03-28T00:00:00",
          "2020-03-29T00:00:00",
          "2020-03-30T00:00:00",
          "2020-03-31T00:00:00",
          "2020-04-01T00:00:00",
          "2020-04-02T00:00:00",
          "2020-04-03T00:00:00",
          "2020-04-04T00:00:00",
          "2020-04-05T00:00:00",
          "2020-04-06T00:00:00",
          "2020-04-07T00:00:00",
          "2020-04-08T00:00:00",
          "2020-04-09T00:00:00",
          "2020-04-10T00:00:00",
          "2020-04-11T00:00:00",
          "2020-04-12T00:00:00",
          "2020-04-13T00:00:00",
          "2020-04-14T00:00:00",
          "2020-04-15T00:00:00",
          "2020-04-16T00:00:00",
          "2020-04-17T00:00:00",
          "2020-04-18T00:00:00",
          "2020-04-19T00:00:00",
          "2020-04-20T00:00:00",
          "2020-04-21T00:00:00",
          "2020-04-22T00:00:00",
          "2020-04-23T00:00:00",
          "2020-04-24T00:00:00"
         ],
         "y": [
          null,
          1.0666666666666667,
          1.2916666666666667,
          1.3064516129032258,
          1.3333333333333333,
          1.3240740740740742,
          1.6643356643356644,
          1.088235294117647,
          1.2123552123552124,
          1.3853503184713376,
          1.2482758620689656,
          1.5359116022099448,
          1.2577937649880095,
          1.2812202097235463,
          1.255952380952381,
          1.2565165876777251,
          1.2871287128712872,
          1.2534798534798535,
          1.2127410870835769,
          1.1949397590361446,
          1.1687840290381126,
          1.0814354727398205,
          1.223037651563497,
          1.2498043308113749,
          1.1544723932783634,
          1.1423017810324563,
          1.1437277404036408,
          1.1320323853020553,
          1.115165963689712,
          1.1195527051471796,
          1.0351057579318448,
          1.1988080034057045,
          1.0204782196969697,
          1.0770598925105364,
          1.0989732912119472,
          1.08300395256917,
          1.088586595885866,
          1.0967554237898645,
          1.0793269838061794,
          1.0699623153804743,
          1.0650813790689535,
          1.0554973606917657,
          1.059078791180992,
          1.0499770326136886,
          1.038166068772421,
          1.0436739372281967,
          1.0416848361516224,
          1.0311637570157215,
          1.032447224394058,
          1.0429907086476569,
          1.0199111955095088,
          1.0357455780077762,
          1.036851496926839,
          1.0513876317835882,
          1.0332225913621262,
          1.041436853099256,
          1.0371964617724942,
          1.0302348825587206,
          1.0408419365384007,
          1.0602520718931734,
          1.0689638696977515,
          1.049961561153523,
          1.0754246307096336,
          1.0683297180043383,
          1.0827670532439142,
          1.082079745951791,
          1.075607025621889,
          1.0760903440530163,
          1.1045950568576128,
          1.0890116848552007,
          1.0901492266109434,
          1.096949745812151,
          1.081053463300487,
          1.0919766816710765,
          1.0599437504424665,
          1.0658619370586486,
          1.087840378261365,
          1.0918519371908704,
          1.077772368758678,
          1.0649511603586765,
          1.066839942250758,
          1.0493505832217025,
          1.060330974914662,
          1.0565145378667469,
          1.0748877541670485,
          1.0631002052089598,
          1.0528598587565678,
          1.0410764852907577,
          1.0493702690372413,
          1.033940175956053,
          1.0498673570962727,
          1.0424543613863584,
          1.040978538464985,
          1.0660853247021556
         ]
        }
       ],
       "layout": {
        "legend": {
         "traceorder": "normal",
         "x": 0,
         "y": -0.4
        },
        "template": {
         "data": {
          "bar": [
           {
            "error_x": {
             "color": "#2a3f5f"
            },
            "error_y": {
             "color": "#2a3f5f"
            },
            "marker": {
             "line": {
              "color": "#E5ECF6",
              "width": 0.5
             },
             "pattern": {
              "fillmode": "overlay",
              "size": 10,
              "solidity": 0.2
             }
            },
            "type": "bar"
           }
          ],
          "barpolar": [
           {
            "marker": {
             "line": {
              "color": "#E5ECF6",
              "width": 0.5
             },
             "pattern": {
              "fillmode": "overlay",
              "size": 10,
              "solidity": 0.2
             }
            },
            "type": "barpolar"
           }
          ],
          "carpet": [
           {
            "aaxis": {
             "endlinecolor": "#2a3f5f",
             "gridcolor": "white",
             "linecolor": "white",
             "minorgridcolor": "white",
             "startlinecolor": "#2a3f5f"
            },
            "baxis": {
             "endlinecolor": "#2a3f5f",
             "gridcolor": "white",
             "linecolor": "white",
             "minorgridcolor": "white",
             "startlinecolor": "#2a3f5f"
            },
            "type": "carpet"
           }
          ],
          "choropleth": [
           {
            "colorbar": {
             "outlinewidth": 0,
             "ticks": ""
            },
            "type": "choropleth"
           }
          ],
          "contour": [
           {
            "colorbar": {
             "outlinewidth": 0,
             "ticks": ""
            },
            "colorscale": [
             [
              0,
              "#0d0887"
             ],
             [
              0.1111111111111111,
              "#46039f"
             ],
             [
              0.2222222222222222,
              "#7201a8"
             ],
             [
              0.3333333333333333,
              "#9c179e"
             ],
             [
              0.4444444444444444,
              "#bd3786"
             ],
             [
              0.5555555555555556,
              "#d8576b"
             ],
             [
              0.6666666666666666,
              "#ed7953"
             ],
             [
              0.7777777777777778,
              "#fb9f3a"
             ],
             [
              0.8888888888888888,
              "#fdca26"
             ],
             [
              1,
              "#f0f921"
             ]
            ],
            "type": "contour"
           }
          ],
          "contourcarpet": [
           {
            "colorbar": {
             "outlinewidth": 0,
             "ticks": ""
            },
            "type": "contourcarpet"
           }
          ],
          "heatmap": [
           {
            "colorbar": {
             "outlinewidth": 0,
             "ticks": ""
            },
            "colorscale": [
             [
              0,
              "#0d0887"
             ],
             [
              0.1111111111111111,
              "#46039f"
             ],
             [
              0.2222222222222222,
              "#7201a8"
             ],
             [
              0.3333333333333333,
              "#9c179e"
             ],
             [
              0.4444444444444444,
              "#bd3786"
             ],
             [
              0.5555555555555556,
              "#d8576b"
             ],
             [
              0.6666666666666666,
              "#ed7953"
             ],
             [
              0.7777777777777778,
              "#fb9f3a"
             ],
             [
              0.8888888888888888,
              "#fdca26"
             ],
             [
              1,
              "#f0f921"
             ]
            ],
            "type": "heatmap"
           }
          ],
          "heatmapgl": [
           {
            "colorbar": {
             "outlinewidth": 0,
             "ticks": ""
            },
            "colorscale": [
             [
              0,
              "#0d0887"
             ],
             [
              0.1111111111111111,
              "#46039f"
             ],
             [
              0.2222222222222222,
              "#7201a8"
             ],
             [
              0.3333333333333333,
              "#9c179e"
             ],
             [
              0.4444444444444444,
              "#bd3786"
             ],
             [
              0.5555555555555556,
              "#d8576b"
             ],
             [
              0.6666666666666666,
              "#ed7953"
             ],
             [
              0.7777777777777778,
              "#fb9f3a"
             ],
             [
              0.8888888888888888,
              "#fdca26"
             ],
             [
              1,
              "#f0f921"
             ]
            ],
            "type": "heatmapgl"
           }
          ],
          "histogram": [
           {
            "marker": {
             "pattern": {
              "fillmode": "overlay",
              "size": 10,
              "solidity": 0.2
             }
            },
            "type": "histogram"
           }
          ],
          "histogram2d": [
           {
            "colorbar": {
             "outlinewidth": 0,
             "ticks": ""
            },
            "colorscale": [
             [
              0,
              "#0d0887"
             ],
             [
              0.1111111111111111,
              "#46039f"
             ],
             [
              0.2222222222222222,
              "#7201a8"
             ],
             [
              0.3333333333333333,
              "#9c179e"
             ],
             [
              0.4444444444444444,
              "#bd3786"
             ],
             [
              0.5555555555555556,
              "#d8576b"
             ],
             [
              0.6666666666666666,
              "#ed7953"
             ],
             [
              0.7777777777777778,
              "#fb9f3a"
             ],
             [
              0.8888888888888888,
              "#fdca26"
             ],
             [
              1,
              "#f0f921"
             ]
            ],
            "type": "histogram2d"
           }
          ],
          "histogram2dcontour": [
           {
            "colorbar": {
             "outlinewidth": 0,
             "ticks": ""
            },
            "colorscale": [
             [
              0,
              "#0d0887"
             ],
             [
              0.1111111111111111,
              "#46039f"
             ],
             [
              0.2222222222222222,
              "#7201a8"
             ],
             [
              0.3333333333333333,
              "#9c179e"
             ],
             [
              0.4444444444444444,
              "#bd3786"
             ],
             [
              0.5555555555555556,
              "#d8576b"
             ],
             [
              0.6666666666666666,
              "#ed7953"
             ],
             [
              0.7777777777777778,
              "#fb9f3a"
             ],
             [
              0.8888888888888888,
              "#fdca26"
             ],
             [
              1,
              "#f0f921"
             ]
            ],
            "type": "histogram2dcontour"
           }
          ],
          "mesh3d": [
           {
            "colorbar": {
             "outlinewidth": 0,
             "ticks": ""
            },
            "type": "mesh3d"
           }
          ],
          "parcoords": [
           {
            "line": {
             "colorbar": {
              "outlinewidth": 0,
              "ticks": ""
             }
            },
            "type": "parcoords"
           }
          ],
          "pie": [
           {
            "automargin": true,
            "type": "pie"
           }
          ],
          "scatter": [
           {
            "marker": {
             "colorbar": {
              "outlinewidth": 0,
              "ticks": ""
             }
            },
            "type": "scatter"
           }
          ],
          "scatter3d": [
           {
            "line": {
             "colorbar": {
              "outlinewidth": 0,
              "ticks": ""
             }
            },
            "marker": {
             "colorbar": {
              "outlinewidth": 0,
              "ticks": ""
             }
            },
            "type": "scatter3d"
           }
          ],
          "scattercarpet": [
           {
            "marker": {
             "colorbar": {
              "outlinewidth": 0,
              "ticks": ""
             }
            },
            "type": "scattercarpet"
           }
          ],
          "scattergeo": [
           {
            "marker": {
             "colorbar": {
              "outlinewidth": 0,
              "ticks": ""
             }
            },
            "type": "scattergeo"
           }
          ],
          "scattergl": [
           {
            "marker": {
             "colorbar": {
              "outlinewidth": 0,
              "ticks": ""
             }
            },
            "type": "scattergl"
           }
          ],
          "scattermapbox": [
           {
            "marker": {
             "colorbar": {
              "outlinewidth": 0,
              "ticks": ""
             }
            },
            "type": "scattermapbox"
           }
          ],
          "scatterpolar": [
           {
            "marker": {
             "colorbar": {
              "outlinewidth": 0,
              "ticks": ""
             }
            },
            "type": "scatterpolar"
           }
          ],
          "scatterpolargl": [
           {
            "marker": {
             "colorbar": {
              "outlinewidth": 0,
              "ticks": ""
             }
            },
            "type": "scatterpolargl"
           }
          ],
          "scatterternary": [
           {
            "marker": {
             "colorbar": {
              "outlinewidth": 0,
              "ticks": ""
             }
            },
            "type": "scatterternary"
           }
          ],
          "surface": [
           {
            "colorbar": {
             "outlinewidth": 0,
             "ticks": ""
            },
            "colorscale": [
             [
              0,
              "#0d0887"
             ],
             [
              0.1111111111111111,
              "#46039f"
             ],
             [
              0.2222222222222222,
              "#7201a8"
             ],
             [
              0.3333333333333333,
              "#9c179e"
             ],
             [
              0.4444444444444444,
              "#bd3786"
             ],
             [
              0.5555555555555556,
              "#d8576b"
             ],
             [
              0.6666666666666666,
              "#ed7953"
             ],
             [
              0.7777777777777778,
              "#fb9f3a"
             ],
             [
              0.8888888888888888,
              "#fdca26"
             ],
             [
              1,
              "#f0f921"
             ]
            ],
            "type": "surface"
           }
          ],
          "table": [
           {
            "cells": {
             "fill": {
              "color": "#EBF0F8"
             },
             "line": {
              "color": "white"
             }
            },
            "header": {
             "fill": {
              "color": "#C8D4E3"
             },
             "line": {
              "color": "white"
             }
            },
            "type": "table"
           }
          ]
         },
         "layout": {
          "annotationdefaults": {
           "arrowcolor": "#2a3f5f",
           "arrowhead": 0,
           "arrowwidth": 1
          },
          "autotypenumbers": "strict",
          "coloraxis": {
           "colorbar": {
            "outlinewidth": 0,
            "ticks": ""
           }
          },
          "colorscale": {
           "diverging": [
            [
             0,
             "#8e0152"
            ],
            [
             0.1,
             "#c51b7d"
            ],
            [
             0.2,
             "#de77ae"
            ],
            [
             0.3,
             "#f1b6da"
            ],
            [
             0.4,
             "#fde0ef"
            ],
            [
             0.5,
             "#f7f7f7"
            ],
            [
             0.6,
             "#e6f5d0"
            ],
            [
             0.7,
             "#b8e186"
            ],
            [
             0.8,
             "#7fbc41"
            ],
            [
             0.9,
             "#4d9221"
            ],
            [
             1,
             "#276419"
            ]
           ],
           "sequential": [
            [
             0,
             "#0d0887"
            ],
            [
             0.1111111111111111,
             "#46039f"
            ],
            [
             0.2222222222222222,
             "#7201a8"
            ],
            [
             0.3333333333333333,
             "#9c179e"
            ],
            [
             0.4444444444444444,
             "#bd3786"
            ],
            [
             0.5555555555555556,
             "#d8576b"
            ],
            [
             0.6666666666666666,
             "#ed7953"
            ],
            [
             0.7777777777777778,
             "#fb9f3a"
            ],
            [
             0.8888888888888888,
             "#fdca26"
            ],
            [
             1,
             "#f0f921"
            ]
           ],
           "sequentialminus": [
            [
             0,
             "#0d0887"
            ],
            [
             0.1111111111111111,
             "#46039f"
            ],
            [
             0.2222222222222222,
             "#7201a8"
            ],
            [
             0.3333333333333333,
             "#9c179e"
            ],
            [
             0.4444444444444444,
             "#bd3786"
            ],
            [
             0.5555555555555556,
             "#d8576b"
            ],
            [
             0.6666666666666666,
             "#ed7953"
            ],
            [
             0.7777777777777778,
             "#fb9f3a"
            ],
            [
             0.8888888888888888,
             "#fdca26"
            ],
            [
             1,
             "#f0f921"
            ]
           ]
          },
          "colorway": [
           "#636efa",
           "#EF553B",
           "#00cc96",
           "#ab63fa",
           "#FFA15A",
           "#19d3f3",
           "#FF6692",
           "#B6E880",
           "#FF97FF",
           "#FECB52"
          ],
          "font": {
           "color": "#2a3f5f"
          },
          "geo": {
           "bgcolor": "white",
           "lakecolor": "white",
           "landcolor": "#E5ECF6",
           "showlakes": true,
           "showland": true,
           "subunitcolor": "white"
          },
          "hoverlabel": {
           "align": "left"
          },
          "hovermode": "closest",
          "mapbox": {
           "style": "light"
          },
          "paper_bgcolor": "white",
          "plot_bgcolor": "#E5ECF6",
          "polar": {
           "angularaxis": {
            "gridcolor": "white",
            "linecolor": "white",
            "ticks": ""
           },
           "bgcolor": "#E5ECF6",
           "radialaxis": {
            "gridcolor": "white",
            "linecolor": "white",
            "ticks": ""
           }
          },
          "scene": {
           "xaxis": {
            "backgroundcolor": "#E5ECF6",
            "gridcolor": "white",
            "gridwidth": 2,
            "linecolor": "white",
            "showbackground": true,
            "ticks": "",
            "zerolinecolor": "white"
           },
           "yaxis": {
            "backgroundcolor": "#E5ECF6",
            "gridcolor": "white",
            "gridwidth": 2,
            "linecolor": "white",
            "showbackground": true,
            "ticks": "",
            "zerolinecolor": "white"
           },
           "zaxis": {
            "backgroundcolor": "#E5ECF6",
            "gridcolor": "white",
            "gridwidth": 2,
            "linecolor": "white",
            "showbackground": true,
            "ticks": "",
            "zerolinecolor": "white"
           }
          },
          "shapedefaults": {
           "line": {
            "color": "#2a3f5f"
           }
          },
          "ternary": {
           "aaxis": {
            "gridcolor": "white",
            "linecolor": "white",
            "ticks": ""
           },
           "baxis": {
            "gridcolor": "white",
            "linecolor": "white",
            "ticks": ""
           },
           "bgcolor": "#E5ECF6",
           "caxis": {
            "gridcolor": "white",
            "linecolor": "white",
            "ticks": ""
           }
          },
          "title": {
           "x": 0.05
          },
          "xaxis": {
           "automargin": true,
           "gridcolor": "white",
           "linecolor": "white",
           "ticks": "",
           "title": {
            "standoff": 15
           },
           "zerolinecolor": "white",
           "zerolinewidth": 2
          },
          "yaxis": {
           "automargin": true,
           "gridcolor": "white",
           "linecolor": "white",
           "ticks": "",
           "title": {
            "standoff": 15
           },
           "zerolinecolor": "white",
           "zerolinewidth": 2
          }
         }
        },
        "title": {
         "text": "Datewise Growth Factor of Active and Closed Cases"
        },
        "xaxis": {
         "title": {
          "text": "Date"
         }
        },
        "yaxis": {
         "title": {
          "text": "Growth Factor"
         }
        }
       }
      }
     },
     "metadata": {},
     "output_type": "display_data"
    }
   ],
   "source": [
    "fig=go.Figure()\n",
    "fig.add_trace(go.Scatter(x=datewise.index, \n",
    "                         y=(datewise[\"Confirmed\"]-datewise[\"Recovered\"]-datewise[\"Deaths\"])/(datewise[\"Confirmed\"]-datewise[\"Recovered\"]-datewise[\"Deaths\"]).shift(),\n",
    "                    mode='lines',\n",
    "                    name='Growth Factor of Active Cases'))\n",
    "fig.add_trace(go.Scatter(x=datewise.index, y=(datewise[\"Recovered\"]+datewise[\"Deaths\"])/(datewise[\"Recovered\"]+datewise[\"Deaths\"]).shift(),\n",
    "                    mode='lines',\n",
    "                    name='Growth Factor of Closed Cases'))\n",
    "fig.update_layout(title=\"Datewise Growth Factor of Active and Closed Cases\",\n",
    "                 xaxis_title=\"Date\",yaxis_title=\"Growth Factor\",\n",
    "                 legend=dict(x=0,y=-0.4,traceorder=\"normal\"))\n",
    "fig.show()"
   ]
  },
  {
   "cell_type": "markdown",
   "metadata": {},
   "source": [
    "#### Growth Factor constantly above 1 is an clear indication of Exponential increase in all form of cases."
   ]
  },
  {
   "cell_type": "markdown",
   "metadata": {},
   "source": [
    "### <- Rate of Doubling for Confirmed Cases around the World ->"
   ]
  },
  {
   "cell_type": "code",
   "execution_count": 23,
   "metadata": {},
   "outputs": [],
   "source": [
    "c=600  #This value should be always >=557 as number of confirmed cases on day 1 was 557, otherwise it'll give index out of bound error\n",
    "double_days=[]\n",
    "C=[]\n",
    "while(1):\n",
    "    double_days.append(datewise[datewise[\"Confirmed\"]<=c].iloc[[-1]][\"Days Since\"][0])\n",
    "    C.append(c)\n",
    "    c=c*2\n",
    "    if(c < datewise[\"Confirmed\"].max()):\n",
    "        continue\n",
    "    else:\n",
    "        break"
   ]
  },
  {
   "cell_type": "code",
   "execution_count": 24,
   "metadata": {},
   "outputs": [
    {
     "data": {
      "text/html": [
       "<div>\n",
       "<style scoped>\n",
       "    .dataframe tbody tr th:only-of-type {\n",
       "        vertical-align: middle;\n",
       "    }\n",
       "\n",
       "    .dataframe tbody tr th {\n",
       "        vertical-align: top;\n",
       "    }\n",
       "\n",
       "    .dataframe thead th {\n",
       "        text-align: right;\n",
       "    }\n",
       "</style>\n",
       "<table border=\"1\" class=\"dataframe\">\n",
       "  <thead>\n",
       "    <tr style=\"text-align: right;\">\n",
       "      <th></th>\n",
       "      <th>No. of cases</th>\n",
       "      <th>Days since first Case</th>\n",
       "      <th>Number of days for doubling</th>\n",
       "    </tr>\n",
       "  </thead>\n",
       "  <tbody>\n",
       "    <tr>\n",
       "      <th>0</th>\n",
       "      <td>600</td>\n",
       "      <td>0 days</td>\n",
       "      <td>0 days</td>\n",
       "    </tr>\n",
       "    <tr>\n",
       "      <th>1</th>\n",
       "      <td>1200</td>\n",
       "      <td>2 days</td>\n",
       "      <td>2 days</td>\n",
       "    </tr>\n",
       "    <tr>\n",
       "      <th>2</th>\n",
       "      <td>2400</td>\n",
       "      <td>4 days</td>\n",
       "      <td>2 days</td>\n",
       "    </tr>\n",
       "    <tr>\n",
       "      <th>3</th>\n",
       "      <td>4800</td>\n",
       "      <td>5 days</td>\n",
       "      <td>1 days</td>\n",
       "    </tr>\n",
       "    <tr>\n",
       "      <th>4</th>\n",
       "      <td>9600</td>\n",
       "      <td>8 days</td>\n",
       "      <td>3 days</td>\n",
       "    </tr>\n",
       "    <tr>\n",
       "      <th>5</th>\n",
       "      <td>19200</td>\n",
       "      <td>11 days</td>\n",
       "      <td>3 days</td>\n",
       "    </tr>\n",
       "    <tr>\n",
       "      <th>6</th>\n",
       "      <td>38400</td>\n",
       "      <td>17 days</td>\n",
       "      <td>6 days</td>\n",
       "    </tr>\n",
       "    <tr>\n",
       "      <th>7</th>\n",
       "      <td>76800</td>\n",
       "      <td>29 days</td>\n",
       "      <td>12 days</td>\n",
       "    </tr>\n",
       "    <tr>\n",
       "      <th>8</th>\n",
       "      <td>153600</td>\n",
       "      <td>51 days</td>\n",
       "      <td>22 days</td>\n",
       "    </tr>\n",
       "    <tr>\n",
       "      <th>9</th>\n",
       "      <td>307200</td>\n",
       "      <td>59 days</td>\n",
       "      <td>8 days</td>\n",
       "    </tr>\n",
       "    <tr>\n",
       "      <th>10</th>\n",
       "      <td>614400</td>\n",
       "      <td>65 days</td>\n",
       "      <td>6 days</td>\n",
       "    </tr>\n",
       "    <tr>\n",
       "      <th>11</th>\n",
       "      <td>1228800</td>\n",
       "      <td>73 days</td>\n",
       "      <td>8 days</td>\n",
       "    </tr>\n",
       "    <tr>\n",
       "      <th>12</th>\n",
       "      <td>2457600</td>\n",
       "      <td>88 days</td>\n",
       "      <td>15 days</td>\n",
       "    </tr>\n",
       "  </tbody>\n",
       "</table>\n",
       "</div>"
      ],
      "text/plain": [
       "    No. of cases Days since first Case Number of days for doubling\n",
       "0            600                0 days                      0 days\n",
       "1           1200                2 days                      2 days\n",
       "2           2400                4 days                      2 days\n",
       "3           4800                5 days                      1 days\n",
       "4           9600                8 days                      3 days\n",
       "5          19200               11 days                      3 days\n",
       "6          38400               17 days                      6 days\n",
       "7          76800               29 days                     12 days\n",
       "8         153600               51 days                     22 days\n",
       "9         307200               59 days                      8 days\n",
       "10        614400               65 days                      6 days\n",
       "11       1228800               73 days                      8 days\n",
       "12       2457600               88 days                     15 days"
      ]
     },
     "execution_count": 24,
     "metadata": {},
     "output_type": "execute_result"
    }
   ],
   "source": [
    "doubling_rate=pd.DataFrame(list(zip(C,double_days)),columns=[\"No. of cases\",\"Days since first Case\"])\n",
    "doubling_rate[\"Number of days for doubling\"]=doubling_rate[\"Days since first Case\"].diff().fillna(doubling_rate[\"Days since first Case\"])\n",
    "doubling_rate"
   ]
  },
  {
   "cell_type": "markdown",
   "metadata": {},
   "source": [
    "#### Doubling Rate is fluctuating very much, which ideally supposed to increase if we are successfully faltening the curve."
   ]
  },
  {
   "cell_type": "markdown",
   "metadata": {},
   "source": [
    "### <- Number of days requried for increase in Confirmed Cases by 300K ->"
   ]
  },
  {
   "cell_type": "code",
   "execution_count": 25,
   "metadata": {},
   "outputs": [],
   "source": [
    "c1=100000\n",
    "days_300k=[]\n",
    "C1=[]\n",
    "while(1):\n",
    "    days_300k.append(datewise[datewise[\"Confirmed\"]<=c1].iloc[[-1]][\"Days Since\"][0])\n",
    "    C1.append(c1)\n",
    "    c1=c1+300000\n",
    "    if(c1<datewise[\"Confirmed\"].max()):\n",
    "        continue\n",
    "    else:\n",
    "        break"
   ]
  },
  {
   "cell_type": "code",
   "execution_count": 26,
   "metadata": {},
   "outputs": [
    {
     "data": {
      "application/vnd.plotly.v1+json": {
       "config": {
        "plotlyServerURL": "https://plot.ly"
       },
       "data": [
        {
         "mode": "lines+markers",
         "name": "Weekly Growth of Confirmed Cases",
         "type": "scatter",
         "x": [
          100000,
          400000,
          700000,
          1000000,
          1300000,
          1600000,
          1900000,
          2200000,
          2500000,
          2800000
         ],
         "y": [
          43,
          18,
          5,
          4,
          4,
          4,
          3,
          4,
          4,
          3
         ]
        }
       ],
       "layout": {
        "template": {
         "data": {
          "bar": [
           {
            "error_x": {
             "color": "#2a3f5f"
            },
            "error_y": {
             "color": "#2a3f5f"
            },
            "marker": {
             "line": {
              "color": "#E5ECF6",
              "width": 0.5
             },
             "pattern": {
              "fillmode": "overlay",
              "size": 10,
              "solidity": 0.2
             }
            },
            "type": "bar"
           }
          ],
          "barpolar": [
           {
            "marker": {
             "line": {
              "color": "#E5ECF6",
              "width": 0.5
             },
             "pattern": {
              "fillmode": "overlay",
              "size": 10,
              "solidity": 0.2
             }
            },
            "type": "barpolar"
           }
          ],
          "carpet": [
           {
            "aaxis": {
             "endlinecolor": "#2a3f5f",
             "gridcolor": "white",
             "linecolor": "white",
             "minorgridcolor": "white",
             "startlinecolor": "#2a3f5f"
            },
            "baxis": {
             "endlinecolor": "#2a3f5f",
             "gridcolor": "white",
             "linecolor": "white",
             "minorgridcolor": "white",
             "startlinecolor": "#2a3f5f"
            },
            "type": "carpet"
           }
          ],
          "choropleth": [
           {
            "colorbar": {
             "outlinewidth": 0,
             "ticks": ""
            },
            "type": "choropleth"
           }
          ],
          "contour": [
           {
            "colorbar": {
             "outlinewidth": 0,
             "ticks": ""
            },
            "colorscale": [
             [
              0,
              "#0d0887"
             ],
             [
              0.1111111111111111,
              "#46039f"
             ],
             [
              0.2222222222222222,
              "#7201a8"
             ],
             [
              0.3333333333333333,
              "#9c179e"
             ],
             [
              0.4444444444444444,
              "#bd3786"
             ],
             [
              0.5555555555555556,
              "#d8576b"
             ],
             [
              0.6666666666666666,
              "#ed7953"
             ],
             [
              0.7777777777777778,
              "#fb9f3a"
             ],
             [
              0.8888888888888888,
              "#fdca26"
             ],
             [
              1,
              "#f0f921"
             ]
            ],
            "type": "contour"
           }
          ],
          "contourcarpet": [
           {
            "colorbar": {
             "outlinewidth": 0,
             "ticks": ""
            },
            "type": "contourcarpet"
           }
          ],
          "heatmap": [
           {
            "colorbar": {
             "outlinewidth": 0,
             "ticks": ""
            },
            "colorscale": [
             [
              0,
              "#0d0887"
             ],
             [
              0.1111111111111111,
              "#46039f"
             ],
             [
              0.2222222222222222,
              "#7201a8"
             ],
             [
              0.3333333333333333,
              "#9c179e"
             ],
             [
              0.4444444444444444,
              "#bd3786"
             ],
             [
              0.5555555555555556,
              "#d8576b"
             ],
             [
              0.6666666666666666,
              "#ed7953"
             ],
             [
              0.7777777777777778,
              "#fb9f3a"
             ],
             [
              0.8888888888888888,
              "#fdca26"
             ],
             [
              1,
              "#f0f921"
             ]
            ],
            "type": "heatmap"
           }
          ],
          "heatmapgl": [
           {
            "colorbar": {
             "outlinewidth": 0,
             "ticks": ""
            },
            "colorscale": [
             [
              0,
              "#0d0887"
             ],
             [
              0.1111111111111111,
              "#46039f"
             ],
             [
              0.2222222222222222,
              "#7201a8"
             ],
             [
              0.3333333333333333,
              "#9c179e"
             ],
             [
              0.4444444444444444,
              "#bd3786"
             ],
             [
              0.5555555555555556,
              "#d8576b"
             ],
             [
              0.6666666666666666,
              "#ed7953"
             ],
             [
              0.7777777777777778,
              "#fb9f3a"
             ],
             [
              0.8888888888888888,
              "#fdca26"
             ],
             [
              1,
              "#f0f921"
             ]
            ],
            "type": "heatmapgl"
           }
          ],
          "histogram": [
           {
            "marker": {
             "pattern": {
              "fillmode": "overlay",
              "size": 10,
              "solidity": 0.2
             }
            },
            "type": "histogram"
           }
          ],
          "histogram2d": [
           {
            "colorbar": {
             "outlinewidth": 0,
             "ticks": ""
            },
            "colorscale": [
             [
              0,
              "#0d0887"
             ],
             [
              0.1111111111111111,
              "#46039f"
             ],
             [
              0.2222222222222222,
              "#7201a8"
             ],
             [
              0.3333333333333333,
              "#9c179e"
             ],
             [
              0.4444444444444444,
              "#bd3786"
             ],
             [
              0.5555555555555556,
              "#d8576b"
             ],
             [
              0.6666666666666666,
              "#ed7953"
             ],
             [
              0.7777777777777778,
              "#fb9f3a"
             ],
             [
              0.8888888888888888,
              "#fdca26"
             ],
             [
              1,
              "#f0f921"
             ]
            ],
            "type": "histogram2d"
           }
          ],
          "histogram2dcontour": [
           {
            "colorbar": {
             "outlinewidth": 0,
             "ticks": ""
            },
            "colorscale": [
             [
              0,
              "#0d0887"
             ],
             [
              0.1111111111111111,
              "#46039f"
             ],
             [
              0.2222222222222222,
              "#7201a8"
             ],
             [
              0.3333333333333333,
              "#9c179e"
             ],
             [
              0.4444444444444444,
              "#bd3786"
             ],
             [
              0.5555555555555556,
              "#d8576b"
             ],
             [
              0.6666666666666666,
              "#ed7953"
             ],
             [
              0.7777777777777778,
              "#fb9f3a"
             ],
             [
              0.8888888888888888,
              "#fdca26"
             ],
             [
              1,
              "#f0f921"
             ]
            ],
            "type": "histogram2dcontour"
           }
          ],
          "mesh3d": [
           {
            "colorbar": {
             "outlinewidth": 0,
             "ticks": ""
            },
            "type": "mesh3d"
           }
          ],
          "parcoords": [
           {
            "line": {
             "colorbar": {
              "outlinewidth": 0,
              "ticks": ""
             }
            },
            "type": "parcoords"
           }
          ],
          "pie": [
           {
            "automargin": true,
            "type": "pie"
           }
          ],
          "scatter": [
           {
            "marker": {
             "colorbar": {
              "outlinewidth": 0,
              "ticks": ""
             }
            },
            "type": "scatter"
           }
          ],
          "scatter3d": [
           {
            "line": {
             "colorbar": {
              "outlinewidth": 0,
              "ticks": ""
             }
            },
            "marker": {
             "colorbar": {
              "outlinewidth": 0,
              "ticks": ""
             }
            },
            "type": "scatter3d"
           }
          ],
          "scattercarpet": [
           {
            "marker": {
             "colorbar": {
              "outlinewidth": 0,
              "ticks": ""
             }
            },
            "type": "scattercarpet"
           }
          ],
          "scattergeo": [
           {
            "marker": {
             "colorbar": {
              "outlinewidth": 0,
              "ticks": ""
             }
            },
            "type": "scattergeo"
           }
          ],
          "scattergl": [
           {
            "marker": {
             "colorbar": {
              "outlinewidth": 0,
              "ticks": ""
             }
            },
            "type": "scattergl"
           }
          ],
          "scattermapbox": [
           {
            "marker": {
             "colorbar": {
              "outlinewidth": 0,
              "ticks": ""
             }
            },
            "type": "scattermapbox"
           }
          ],
          "scatterpolar": [
           {
            "marker": {
             "colorbar": {
              "outlinewidth": 0,
              "ticks": ""
             }
            },
            "type": "scatterpolar"
           }
          ],
          "scatterpolargl": [
           {
            "marker": {
             "colorbar": {
              "outlinewidth": 0,
              "ticks": ""
             }
            },
            "type": "scatterpolargl"
           }
          ],
          "scatterternary": [
           {
            "marker": {
             "colorbar": {
              "outlinewidth": 0,
              "ticks": ""
             }
            },
            "type": "scatterternary"
           }
          ],
          "surface": [
           {
            "colorbar": {
             "outlinewidth": 0,
             "ticks": ""
            },
            "colorscale": [
             [
              0,
              "#0d0887"
             ],
             [
              0.1111111111111111,
              "#46039f"
             ],
             [
              0.2222222222222222,
              "#7201a8"
             ],
             [
              0.3333333333333333,
              "#9c179e"
             ],
             [
              0.4444444444444444,
              "#bd3786"
             ],
             [
              0.5555555555555556,
              "#d8576b"
             ],
             [
              0.6666666666666666,
              "#ed7953"
             ],
             [
              0.7777777777777778,
              "#fb9f3a"
             ],
             [
              0.8888888888888888,
              "#fdca26"
             ],
             [
              1,
              "#f0f921"
             ]
            ],
            "type": "surface"
           }
          ],
          "table": [
           {
            "cells": {
             "fill": {
              "color": "#EBF0F8"
             },
             "line": {
              "color": "white"
             }
            },
            "header": {
             "fill": {
              "color": "#C8D4E3"
             },
             "line": {
              "color": "white"
             }
            },
            "type": "table"
           }
          ]
         },
         "layout": {
          "annotationdefaults": {
           "arrowcolor": "#2a3f5f",
           "arrowhead": 0,
           "arrowwidth": 1
          },
          "autotypenumbers": "strict",
          "coloraxis": {
           "colorbar": {
            "outlinewidth": 0,
            "ticks": ""
           }
          },
          "colorscale": {
           "diverging": [
            [
             0,
             "#8e0152"
            ],
            [
             0.1,
             "#c51b7d"
            ],
            [
             0.2,
             "#de77ae"
            ],
            [
             0.3,
             "#f1b6da"
            ],
            [
             0.4,
             "#fde0ef"
            ],
            [
             0.5,
             "#f7f7f7"
            ],
            [
             0.6,
             "#e6f5d0"
            ],
            [
             0.7,
             "#b8e186"
            ],
            [
             0.8,
             "#7fbc41"
            ],
            [
             0.9,
             "#4d9221"
            ],
            [
             1,
             "#276419"
            ]
           ],
           "sequential": [
            [
             0,
             "#0d0887"
            ],
            [
             0.1111111111111111,
             "#46039f"
            ],
            [
             0.2222222222222222,
             "#7201a8"
            ],
            [
             0.3333333333333333,
             "#9c179e"
            ],
            [
             0.4444444444444444,
             "#bd3786"
            ],
            [
             0.5555555555555556,
             "#d8576b"
            ],
            [
             0.6666666666666666,
             "#ed7953"
            ],
            [
             0.7777777777777778,
             "#fb9f3a"
            ],
            [
             0.8888888888888888,
             "#fdca26"
            ],
            [
             1,
             "#f0f921"
            ]
           ],
           "sequentialminus": [
            [
             0,
             "#0d0887"
            ],
            [
             0.1111111111111111,
             "#46039f"
            ],
            [
             0.2222222222222222,
             "#7201a8"
            ],
            [
             0.3333333333333333,
             "#9c179e"
            ],
            [
             0.4444444444444444,
             "#bd3786"
            ],
            [
             0.5555555555555556,
             "#d8576b"
            ],
            [
             0.6666666666666666,
             "#ed7953"
            ],
            [
             0.7777777777777778,
             "#fb9f3a"
            ],
            [
             0.8888888888888888,
             "#fdca26"
            ],
            [
             1,
             "#f0f921"
            ]
           ]
          },
          "colorway": [
           "#636efa",
           "#EF553B",
           "#00cc96",
           "#ab63fa",
           "#FFA15A",
           "#19d3f3",
           "#FF6692",
           "#B6E880",
           "#FF97FF",
           "#FECB52"
          ],
          "font": {
           "color": "#2a3f5f"
          },
          "geo": {
           "bgcolor": "white",
           "lakecolor": "white",
           "landcolor": "#E5ECF6",
           "showlakes": true,
           "showland": true,
           "subunitcolor": "white"
          },
          "hoverlabel": {
           "align": "left"
          },
          "hovermode": "closest",
          "mapbox": {
           "style": "light"
          },
          "paper_bgcolor": "white",
          "plot_bgcolor": "#E5ECF6",
          "polar": {
           "angularaxis": {
            "gridcolor": "white",
            "linecolor": "white",
            "ticks": ""
           },
           "bgcolor": "#E5ECF6",
           "radialaxis": {
            "gridcolor": "white",
            "linecolor": "white",
            "ticks": ""
           }
          },
          "scene": {
           "xaxis": {
            "backgroundcolor": "#E5ECF6",
            "gridcolor": "white",
            "gridwidth": 2,
            "linecolor": "white",
            "showbackground": true,
            "ticks": "",
            "zerolinecolor": "white"
           },
           "yaxis": {
            "backgroundcolor": "#E5ECF6",
            "gridcolor": "white",
            "gridwidth": 2,
            "linecolor": "white",
            "showbackground": true,
            "ticks": "",
            "zerolinecolor": "white"
           },
           "zaxis": {
            "backgroundcolor": "#E5ECF6",
            "gridcolor": "white",
            "gridwidth": 2,
            "linecolor": "white",
            "showbackground": true,
            "ticks": "",
            "zerolinecolor": "white"
           }
          },
          "shapedefaults": {
           "line": {
            "color": "#2a3f5f"
           }
          },
          "ternary": {
           "aaxis": {
            "gridcolor": "white",
            "linecolor": "white",
            "ticks": ""
           },
           "baxis": {
            "gridcolor": "white",
            "linecolor": "white",
            "ticks": ""
           },
           "bgcolor": "#E5ECF6",
           "caxis": {
            "gridcolor": "white",
            "linecolor": "white",
            "ticks": ""
           }
          },
          "title": {
           "x": 0.05
          },
          "xaxis": {
           "automargin": true,
           "gridcolor": "white",
           "linecolor": "white",
           "ticks": "",
           "title": {
            "standoff": 15
           },
           "zerolinecolor": "white",
           "zerolinewidth": 2
          },
          "yaxis": {
           "automargin": true,
           "gridcolor": "white",
           "linecolor": "white",
           "ticks": "",
           "title": {
            "standoff": 15
           },
           "zerolinecolor": "white",
           "zerolinewidth": 2
          }
         }
        },
        "title": {
         "text": "Number of Days required for increase in number of cases by 300K"
        },
        "xaxis": {
         "title": {
          "text": "Number of Cases"
         }
        },
        "yaxis": {
         "title": {
          "text": "Number of Days"
         }
        }
       }
      }
     },
     "metadata": {},
     "output_type": "display_data"
    }
   ],
   "source": [
    "rate_300k=pd.DataFrame(list(zip(C1,days_300k)),columns=[\"No. of Cases\",\"Days Since first Case\"])\n",
    "rate_300k[\"Days requried for rise of 300K\"]=rate_300k[\"Days Since first Case\"].diff().fillna(rate_300k[\"Days Since first Case\"].iloc[[0]][0])\n",
    "\n",
    "fig=go.Figure()\n",
    "fig.add_trace(go.Scatter(x=rate_300k[\"No. of Cases\"], y=rate_300k[\"Days requried for rise of 300K\"].dt.days,\n",
    "                    mode='lines+markers',\n",
    "                    name='Weekly Growth of Confirmed Cases'))\n",
    "fig.update_layout(title=\"Number of Days required for increase in number of cases by 300K\",\n",
    "                 xaxis_title=\"Number of Cases\",yaxis_title=\"Number of Days\")\n",
    "fig.show()"
   ]
  },
  {
   "cell_type": "markdown",
   "metadata": {},
   "source": [
    "It's hardly taking a day or two for rise in cases by 300k, which is pretty much a clear indication that we are still not able to \"Flatten the curve\""
   ]
  },
  {
   "cell_type": "markdown",
   "metadata": {},
   "source": [
    "## <- Countrywise Analysis ->"
   ]
  },
  {
   "cell_type": "code",
   "execution_count": 27,
   "metadata": {},
   "outputs": [],
   "source": [
    "country_last_24_confirmed=[]\n",
    "country_last_24_recovered=[]\n",
    "country_last_24_deaths=[]\n",
    "for country in countrywise.index:\n",
    "    country_last_24_confirmed.append((grouped_country.loc[country].iloc[-1]-grouped_country.loc[country].iloc[-2])[\"Confirmed\"])\n",
    "    country_last_24_recovered.append((grouped_country.loc[country].iloc[-1]-grouped_country.loc[country].iloc[-2])[\"Recovered\"])\n",
    "    country_last_24_deaths.append((grouped_country.loc[country].iloc[-1]-grouped_country.loc[country].iloc[-2])[\"Deaths\"])"
   ]
  },
  {
   "cell_type": "code",
   "execution_count": 28,
   "metadata": {},
   "outputs": [],
   "source": [
    "Last_24_Hours_country=pd.DataFrame(list(zip(countrywise.index,country_last_24_confirmed,country_last_24_recovered,country_last_24_deaths)),\n",
    "                                   columns=[\"Country Name\",\"Last 24 Hours Confirmed\",\"Last 24 Hours Recovered\",\"Last 24 Hours Deaths\"])"
   ]
  },
  {
   "cell_type": "code",
   "execution_count": 29,
   "metadata": {},
   "outputs": [
    {
     "data": {
      "text/plain": [
       "Text(0.5, 1.0, 'Top 15 Countries with Highest Number of Death Cases in Last 24 Hours')"
      ]
     },
     "execution_count": 29,
     "metadata": {},
     "output_type": "execute_result"
    },
    {
     "data": {
      "image/png": "[encoded data removed]",
      "text/plain": [
       "<Figure size 720x1440 with 3 Axes>"
      ]
     },
     "metadata": {
      "needs_background": "light"
     },
     "output_type": "display_data"
    }
   ],
   "source": [
    "Top_15_Confirmed_24hr=Last_24_Hours_country.sort_values([\"Last 24 Hours Confirmed\"],ascending=False).head(15)\n",
    "Top_15_Recoverd_24hr=Last_24_Hours_country.sort_values([\"Last 24 Hours Recovered\"],ascending=False).head(15)\n",
    "Top_15_Deaths_24hr=Last_24_Hours_country.sort_values([\"Last 24 Hours Deaths\"],ascending=False).head(15)\n",
    "\n",
    "\n",
    "fig, (ax1, ax2, ax3) = plt.subplots(3, 1,figsize=(10,20))\n",
    "sns.barplot(x=Top_15_Confirmed_24hr[\"Last 24 Hours Confirmed\"],y=Top_15_Confirmed_24hr[\"Country Name\"],ax=ax1)\n",
    "ax1.set_title(\"Top 15 Countries with Highest Number of Confirmed Cases in Last 24 Hours\")\n",
    "sns.barplot(x=Top_15_Recoverd_24hr[\"Last 24 Hours Recovered\"],y=Top_15_Recoverd_24hr[\"Country Name\"],ax=ax2)\n",
    "ax2.set_title(\"Top 15 Countries with Highest Number of Recovered Cases in Last 24 Hours\")\n",
    "sns.barplot(x=Top_15_Deaths_24hr[\"Last 24 Hours Deaths\"],y=Top_15_Deaths_24hr[\"Country Name\"],ax=ax3)\n",
    "ax3.set_title(\"Top 15 Countries with Highest Number of Death Cases in Last 24 Hours\")"
   ]
  },
  {
   "cell_type": "markdown",
   "metadata": {},
   "source": [
    "### <- Proportion of Countries in Confirmed, Recovered and Death Cases ->"
   ]
  },
  {
   "cell_type": "code",
   "execution_count": 30,
   "metadata": {},
   "outputs": [],
   "source": [
    "Last_24_Hours_country[\"Proportion of Confirmed\"]=(Last_24_Hours_country[\"Last 24 Hours Confirmed\"]/(datewise[\"Confirmed\"].iloc[-1]-datewise[\"Confirmed\"].iloc[-2]))*100\n",
    "Last_24_Hours_country[\"Proportion of Recovered\"]=(Last_24_Hours_country[\"Last 24 Hours Recovered\"]/(datewise[\"Recovered\"].iloc[-1]-datewise[\"Recovered\"].iloc[-2]))*100\n",
    "Last_24_Hours_country[\"Proportion of Deaths\"]=(Last_24_Hours_country[\"Last 24 Hours Deaths\"]/(datewise[\"Deaths\"].iloc[-1]-datewise[\"Deaths\"].iloc[-2]))*100"
   ]
  },
  {
   "cell_type": "code",
   "execution_count": 31,
   "metadata": {},
   "outputs": [
    {
     "data": {
      "text/html": [
       "<style type=\"text/css\">\n",
       "#T_9e92d_row0_col1, #T_9e92d_row0_col2, #T_9e92d_row0_col3 {\n",
       "  background-color: #67000d;\n",
       "  color: #f1f1f1;\n",
       "}\n",
       "#T_9e92d_row1_col1 {\n",
       "  background-color: #fca588;\n",
       "  color: #000000;\n",
       "}\n",
       "#T_9e92d_row1_col2, #T_9e92d_row4_col2, #T_9e92d_row12_col3, #T_9e92d_row15_col2, #T_9e92d_row15_col3, #T_9e92d_row17_col2, #T_9e92d_row20_col2, #T_9e92d_row20_col3, #T_9e92d_row21_col3, #T_9e92d_row23_col2, #T_9e92d_row25_col2, #T_9e92d_row25_col3, #T_9e92d_row26_col3, #T_9e92d_row28_col2, #T_9e92d_row29_col2, #T_9e92d_row30_col2, #T_9e92d_row34_col2, #T_9e92d_row34_col3, #T_9e92d_row35_col2, #T_9e92d_row35_col3, #T_9e92d_row36_col3, #T_9e92d_row37_col3, #T_9e92d_row38_col2, #T_9e92d_row39_col3, #T_9e92d_row40_col3, #T_9e92d_row41_col2, #T_9e92d_row41_col3, #T_9e92d_row42_col2, #T_9e92d_row42_col3, #T_9e92d_row43_col3, #T_9e92d_row45_col2, #T_9e92d_row46_col2, #T_9e92d_row47_col2, #T_9e92d_row48_col1, #T_9e92d_row49_col1, #T_9e92d_row49_col2, #T_9e92d_row49_col3, #T_9e92d_row50_col1, #T_9e92d_row50_col2, #T_9e92d_row50_col3, #T_9e92d_row51_col1, #T_9e92d_row51_col2, #T_9e92d_row51_col3, #T_9e92d_row52_col1, #T_9e92d_row52_col2, #T_9e92d_row53_col1, #T_9e92d_row53_col2, #T_9e92d_row53_col3, #T_9e92d_row54_col1, #T_9e92d_row54_col3, #T_9e92d_row55_col1, #T_9e92d_row55_col2, #T_9e92d_row55_col3, #T_9e92d_row56_col1, #T_9e92d_row56_col2, #T_9e92d_row56_col3, #T_9e92d_row57_col1, #T_9e92d_row57_col2, #T_9e92d_row57_col3, #T_9e92d_row58_col1, #T_9e92d_row58_col3, #T_9e92d_row59_col1, #T_9e92d_row59_col3, #T_9e92d_row60_col1, #T_9e92d_row60_col2, #T_9e92d_row60_col3, #T_9e92d_row61_col1, #T_9e92d_row61_col2, #T_9e92d_row61_col3, #T_9e92d_row62_col1, #T_9e92d_row62_col2, #T_9e92d_row62_col3, #T_9e92d_row63_col1, #T_9e92d_row63_col2, #T_9e92d_row64_col1, #T_9e92d_row64_col2, #T_9e92d_row64_col3, #T_9e92d_row65_col1, #T_9e92d_row66_col1, #T_9e92d_row66_col3, #T_9e92d_row67_col1, #T_9e92d_row67_col2, #T_9e92d_row67_col3, #T_9e92d_row68_col1, #T_9e92d_row68_col2, #T_9e92d_row68_col3, #T_9e92d_row69_col1, #T_9e92d_row69_col2, #T_9e92d_row69_col3, #T_9e92d_row70_col1, #T_9e92d_row70_col2, #T_9e92d_row70_col3, #T_9e92d_row71_col1, #T_9e92d_row71_col2, #T_9e92d_row71_col3, #T_9e92d_row72_col1, #T_9e92d_row72_col2, #T_9e92d_row72_col3, #T_9e92d_row73_col1, #T_9e92d_row73_col2, #T_9e92d_row73_col3, #T_9e92d_row74_col1, #T_9e92d_row74_col2, #T_9e92d_row74_col3, #T_9e92d_row75_col1, #T_9e92d_row75_col2, #T_9e92d_row75_col3, #T_9e92d_row76_col1, #T_9e92d_row76_col2, #T_9e92d_row76_col3, #T_9e92d_row77_col1, #T_9e92d_row77_col2, #T_9e92d_row77_col3, #T_9e92d_row78_col1, #T_9e92d_row78_col3, #T_9e92d_row79_col1, #T_9e92d_row79_col3, #T_9e92d_row80_col1, #T_9e92d_row80_col2, #T_9e92d_row80_col3, #T_9e92d_row81_col1, #T_9e92d_row81_col2, #T_9e92d_row81_col3, #T_9e92d_row82_col1, #T_9e92d_row82_col2, #T_9e92d_row82_col3, #T_9e92d_row83_col1, #T_9e92d_row83_col2, #T_9e92d_row83_col3, #T_9e92d_row84_col1, #T_9e92d_row84_col2, #T_9e92d_row84_col3, #T_9e92d_row85_col1, #T_9e92d_row85_col2, #T_9e92d_row85_col3, #T_9e92d_row86_col1, #T_9e92d_row86_col2, #T_9e92d_row86_col3, #T_9e92d_row87_col1, #T_9e92d_row87_col2, #T_9e92d_row87_col3, #T_9e92d_row88_col1, #T_9e92d_row88_col2, #T_9e92d_row88_col3, #T_9e92d_row89_col1, #T_9e92d_row89_col2, #T_9e92d_row89_col3, #T_9e92d_row90_col1, #T_9e92d_row90_col2, #T_9e92d_row90_col3, #T_9e92d_row91_col1, #T_9e92d_row91_col2, #T_9e92d_row91_col3, #T_9e92d_row92_col1, #T_9e92d_row92_col2, #T_9e92d_row92_col3, #T_9e92d_row93_col1, #T_9e92d_row93_col3, #T_9e92d_row94_col1, #T_9e92d_row94_col2, #T_9e92d_row94_col3, #T_9e92d_row95_col1, #T_9e92d_row95_col2, #T_9e92d_row95_col3, #T_9e92d_row96_col1, #T_9e92d_row96_col2, #T_9e92d_row96_col3, #T_9e92d_row97_col1, #T_9e92d_row97_col2, #T_9e92d_row97_col3, #T_9e92d_row98_col1, #T_9e92d_row98_col2, #T_9e92d_row98_col3, #T_9e92d_row99_col1, #T_9e92d_row99_col3, #T_9e92d_row100_col1, #T_9e92d_row100_col2, #T_9e92d_row100_col3, #T_9e92d_row101_col1, #T_9e92d_row101_col2, #T_9e92d_row101_col3, #T_9e92d_row102_col1, #T_9e92d_row102_col3, #T_9e92d_row103_col1, #T_9e92d_row103_col2, #T_9e92d_row103_col3, #T_9e92d_row104_col1, #T_9e92d_row104_col2, #T_9e92d_row104_col3, #T_9e92d_row105_col1, #T_9e92d_row105_col2, #T_9e92d_row105_col3, #T_9e92d_row106_col1, #T_9e92d_row106_col2, #T_9e92d_row106_col3, #T_9e92d_row107_col1, #T_9e92d_row107_col2, #T_9e92d_row107_col3, #T_9e92d_row108_col1, #T_9e92d_row108_col2, #T_9e92d_row108_col3, #T_9e92d_row109_col1, #T_9e92d_row109_col2, #T_9e92d_row109_col3, #T_9e92d_row110_col1, #T_9e92d_row110_col2, #T_9e92d_row110_col3, #T_9e92d_row111_col1, #T_9e92d_row111_col2, #T_9e92d_row111_col3, #T_9e92d_row112_col1, #T_9e92d_row112_col2, #T_9e92d_row112_col3, #T_9e92d_row113_col1, #T_9e92d_row113_col2, #T_9e92d_row113_col3, #T_9e92d_row114_col1, #T_9e92d_row114_col2, #T_9e92d_row114_col3, #T_9e92d_row115_col1, #T_9e92d_row115_col3, #T_9e92d_row116_col1, #T_9e92d_row116_col2, #T_9e92d_row116_col3, #T_9e92d_row117_col1, #T_9e92d_row117_col2, #T_9e92d_row117_col3, #T_9e92d_row118_col1, #T_9e92d_row118_col2, #T_9e92d_row118_col3, #T_9e92d_row119_col1, #T_9e92d_row119_col2, #T_9e92d_row119_col3, #T_9e92d_row120_col1, #T_9e92d_row120_col2, #T_9e92d_row120_col3, #T_9e92d_row121_col1, #T_9e92d_row121_col2, #T_9e92d_row121_col3, #T_9e92d_row122_col1, #T_9e92d_row122_col2, #T_9e92d_row122_col3, #T_9e92d_row123_col1, #T_9e92d_row123_col2, #T_9e92d_row123_col3, #T_9e92d_row124_col1, #T_9e92d_row124_col2, #T_9e92d_row124_col3, #T_9e92d_row125_col1, #T_9e92d_row125_col2, #T_9e92d_row125_col3, #T_9e92d_row126_col1, #T_9e92d_row126_col2, #T_9e92d_row126_col3, #T_9e92d_row127_col1, #T_9e92d_row127_col2, #T_9e92d_row127_col3, #T_9e92d_row128_col1, #T_9e92d_row128_col2, #T_9e92d_row128_col3, #T_9e92d_row129_col1, #T_9e92d_row129_col2, #T_9e92d_row129_col3, #T_9e92d_row130_col1, #T_9e92d_row130_col2, #T_9e92d_row130_col3, #T_9e92d_row131_col1, #T_9e92d_row131_col2, #T_9e92d_row131_col3, #T_9e92d_row132_col1, #T_9e92d_row132_col2, #T_9e92d_row132_col3, #T_9e92d_row133_col1, #T_9e92d_row133_col2, #T_9e92d_row133_col3, #T_9e92d_row134_col1, #T_9e92d_row134_col2, #T_9e92d_row134_col3, #T_9e92d_row135_col1, #T_9e92d_row135_col2, #T_9e92d_row135_col3, #T_9e92d_row136_col1, #T_9e92d_row136_col2, #T_9e92d_row136_col3, #T_9e92d_row137_col1, #T_9e92d_row137_col2, #T_9e92d_row137_col3, #T_9e92d_row138_col1, #T_9e92d_row138_col2, #T_9e92d_row138_col3, #T_9e92d_row139_col1, #T_9e92d_row139_col2, #T_9e92d_row139_col3, #T_9e92d_row140_col1, #T_9e92d_row140_col2, #T_9e92d_row140_col3, #T_9e92d_row141_col1, #T_9e92d_row141_col2, #T_9e92d_row141_col3, #T_9e92d_row142_col1, #T_9e92d_row142_col2, #T_9e92d_row142_col3, #T_9e92d_row143_col1, #T_9e92d_row143_col2, #T_9e92d_row143_col3, #T_9e92d_row144_col1, #T_9e92d_row144_col2, #T_9e92d_row144_col3, #T_9e92d_row145_col1, #T_9e92d_row145_col2, #T_9e92d_row145_col3, #T_9e92d_row146_col1, #T_9e92d_row146_col2, #T_9e92d_row146_col3, #T_9e92d_row147_col1, #T_9e92d_row147_col2, #T_9e92d_row147_col3, #T_9e92d_row148_col1, #T_9e92d_row148_col2, #T_9e92d_row148_col3, #T_9e92d_row149_col1, #T_9e92d_row149_col2, #T_9e92d_row149_col3, #T_9e92d_row150_col1, #T_9e92d_row150_col2, #T_9e92d_row150_col3, #T_9e92d_row151_col1, #T_9e92d_row151_col2, #T_9e92d_row151_col3, #T_9e92d_row152_col1, #T_9e92d_row152_col2, #T_9e92d_row152_col3, #T_9e92d_row153_col1, #T_9e92d_row153_col2, #T_9e92d_row153_col3, #T_9e92d_row154_col1, #T_9e92d_row154_col2, #T_9e92d_row154_col3, #T_9e92d_row155_col1, #T_9e92d_row155_col2, #T_9e92d_row155_col3, #T_9e92d_row156_col1, #T_9e92d_row156_col2, #T_9e92d_row156_col3, #T_9e92d_row157_col1, #T_9e92d_row157_col2, #T_9e92d_row157_col3, #T_9e92d_row158_col1, #T_9e92d_row158_col2, #T_9e92d_row158_col3, #T_9e92d_row159_col1, #T_9e92d_row159_col2, #T_9e92d_row159_col3, #T_9e92d_row160_col1, #T_9e92d_row160_col2, #T_9e92d_row160_col3, #T_9e92d_row161_col1, #T_9e92d_row161_col2, #T_9e92d_row161_col3, #T_9e92d_row162_col1, #T_9e92d_row162_col2, #T_9e92d_row162_col3, #T_9e92d_row163_col1, #T_9e92d_row163_col2, #T_9e92d_row163_col3, #T_9e92d_row164_col1, #T_9e92d_row164_col2, #T_9e92d_row164_col3, #T_9e92d_row165_col1, #T_9e92d_row165_col2, #T_9e92d_row165_col3, #T_9e92d_row166_col1, #T_9e92d_row166_col2, #T_9e92d_row166_col3, #T_9e92d_row167_col1, #T_9e92d_row167_col2, #T_9e92d_row167_col3, #T_9e92d_row168_col1, #T_9e92d_row168_col2, #T_9e92d_row168_col3, #T_9e92d_row169_col1, #T_9e92d_row169_col2, #T_9e92d_row169_col3, #T_9e92d_row170_col1, #T_9e92d_row170_col2, #T_9e92d_row170_col3, #T_9e92d_row171_col1, #T_9e92d_row171_col2, #T_9e92d_row171_col3, #T_9e92d_row172_col1, #T_9e92d_row172_col2, #T_9e92d_row172_col3, #T_9e92d_row173_col1, #T_9e92d_row173_col2, #T_9e92d_row173_col3, #T_9e92d_row174_col1, #T_9e92d_row174_col2, #T_9e92d_row174_col3, #T_9e92d_row175_col1, #T_9e92d_row175_col2, #T_9e92d_row175_col3, #T_9e92d_row176_col1, #T_9e92d_row176_col2, #T_9e92d_row176_col3, #T_9e92d_row177_col1, #T_9e92d_row177_col2, #T_9e92d_row177_col3, #T_9e92d_row178_col1, #T_9e92d_row178_col2, #T_9e92d_row178_col3, #T_9e92d_row179_col1, #T_9e92d_row179_col2, #T_9e92d_row179_col3, #T_9e92d_row180_col1, #T_9e92d_row180_col2, #T_9e92d_row180_col3, #T_9e92d_row181_col1, #T_9e92d_row181_col2, #T_9e92d_row181_col3, #T_9e92d_row182_col1, #T_9e92d_row182_col2, #T_9e92d_row182_col3, #T_9e92d_row183_col1, #T_9e92d_row183_col2, #T_9e92d_row183_col3, #T_9e92d_row184_col1, #T_9e92d_row184_col2, #T_9e92d_row184_col3, #T_9e92d_row185_col1, #T_9e92d_row185_col2, #T_9e92d_row185_col3, #T_9e92d_row186_col1, #T_9e92d_row186_col2, #T_9e92d_row186_col3 {\n",
       "  background-color: #fff5f0;\n",
       "  color: #000000;\n",
       "}\n",
       "#T_9e92d_row1_col3, #T_9e92d_row18_col3, #T_9e92d_row21_col2, #T_9e92d_row28_col3, #T_9e92d_row31_col1, #T_9e92d_row31_col2, #T_9e92d_row32_col1, #T_9e92d_row32_col3, #T_9e92d_row33_col1, #T_9e92d_row34_col1, #T_9e92d_row39_col2, #T_9e92d_row47_col3, #T_9e92d_row65_col2 {\n",
       "  background-color: #fff4ee;\n",
       "  color: #000000;\n",
       "}\n",
       "#T_9e92d_row2_col1, #T_9e92d_row2_col3, #T_9e92d_row5_col3 {\n",
       "  background-color: #fdcebb;\n",
       "  color: #000000;\n",
       "}\n",
       "#T_9e92d_row2_col2 {\n",
       "  background-color: #fdd4c2;\n",
       "  color: #000000;\n",
       "}\n",
       "#T_9e92d_row3_col1 {\n",
       "  background-color: #fdd5c4;\n",
       "  color: #000000;\n",
       "}\n",
       "#T_9e92d_row3_col2 {\n",
       "  background-color: #ffefe8;\n",
       "  color: #000000;\n",
       "}\n",
       "#T_9e92d_row3_col3, #T_9e92d_row10_col3, #T_9e92d_row22_col3, #T_9e92d_row26_col2 {\n",
       "  background-color: #fff0e9;\n",
       "  color: #000000;\n",
       "}\n",
       "#T_9e92d_row4_col1 {\n",
       "  background-color: #fed9c9;\n",
       "  color: #000000;\n",
       "}\n",
       "#T_9e92d_row4_col3 {\n",
       "  background-color: #fc8e6e;\n",
       "  color: #000000;\n",
       "}\n",
       "#T_9e92d_row5_col1, #T_9e92d_row23_col3 {\n",
       "  background-color: #fee3d6;\n",
       "  color: #000000;\n",
       "}\n",
       "#T_9e92d_row5_col2, #T_9e92d_row17_col3 {\n",
       "  background-color: #ffece3;\n",
       "  color: #000000;\n",
       "}\n",
       "#T_9e92d_row6_col1 {\n",
       "  background-color: #fee7db;\n",
       "  color: #000000;\n",
       "}\n",
       "#T_9e92d_row6_col2 {\n",
       "  background-color: #fdd2bf;\n",
       "  color: #000000;\n",
       "}\n",
       "#T_9e92d_row6_col3, #T_9e92d_row8_col1 {\n",
       "  background-color: #ffece4;\n",
       "  color: #000000;\n",
       "}\n",
       "#T_9e92d_row7_col1 {\n",
       "  background-color: #fee7dc;\n",
       "  color: #000000;\n",
       "}\n",
       "#T_9e92d_row7_col2 {\n",
       "  background-color: #fed8c7;\n",
       "  color: #000000;\n",
       "}\n",
       "#T_9e92d_row7_col3 {\n",
       "  background-color: #fdc7b2;\n",
       "  color: #000000;\n",
       "}\n",
       "#T_9e92d_row8_col2 {\n",
       "  background-color: #fc9c7d;\n",
       "  color: #000000;\n",
       "}\n",
       "#T_9e92d_row8_col3, #T_9e92d_row13_col2 {\n",
       "  background-color: #fee6da;\n",
       "  color: #000000;\n",
       "}\n",
       "#T_9e92d_row9_col1, #T_9e92d_row10_col1 {\n",
       "  background-color: #ffeee7;\n",
       "  color: #000000;\n",
       "}\n",
       "#T_9e92d_row9_col2, #T_9e92d_row23_col1, #T_9e92d_row29_col3, #T_9e92d_row32_col2 {\n",
       "  background-color: #fff2ec;\n",
       "  color: #000000;\n",
       "}\n",
       "#T_9e92d_row9_col3 {\n",
       "  background-color: #fee5d9;\n",
       "  color: #000000;\n",
       "}\n",
       "#T_9e92d_row10_col2, #T_9e92d_row14_col1, #T_9e92d_row15_col1, #T_9e92d_row16_col2, #T_9e92d_row54_col2 {\n",
       "  background-color: #fff1ea;\n",
       "  color: #000000;\n",
       "}\n",
       "#T_9e92d_row11_col1, #T_9e92d_row12_col1, #T_9e92d_row13_col1 {\n",
       "  background-color: #fff0e8;\n",
       "  color: #000000;\n",
       "}\n",
       "#T_9e92d_row11_col2 {\n",
       "  background-color: #fcbea5;\n",
       "  color: #000000;\n",
       "}\n",
       "#T_9e92d_row11_col3 {\n",
       "  background-color: #fee8de;\n",
       "  color: #000000;\n",
       "}\n",
       "#T_9e92d_row12_col2, #T_9e92d_row14_col3, #T_9e92d_row22_col2, #T_9e92d_row24_col2, #T_9e92d_row24_col3, #T_9e92d_row33_col2, #T_9e92d_row33_col3, #T_9e92d_row35_col1, #T_9e92d_row36_col1, #T_9e92d_row37_col1, #T_9e92d_row37_col2, #T_9e92d_row38_col1, #T_9e92d_row38_col3, #T_9e92d_row39_col1, #T_9e92d_row40_col1, #T_9e92d_row40_col2, #T_9e92d_row41_col1, #T_9e92d_row42_col1, #T_9e92d_row43_col1, #T_9e92d_row43_col2, #T_9e92d_row44_col1, #T_9e92d_row45_col1, #T_9e92d_row45_col3, #T_9e92d_row46_col1, #T_9e92d_row46_col3, #T_9e92d_row47_col1, #T_9e92d_row48_col2, #T_9e92d_row48_col3, #T_9e92d_row52_col3, #T_9e92d_row58_col2, #T_9e92d_row63_col3, #T_9e92d_row65_col3, #T_9e92d_row66_col2, #T_9e92d_row79_col2, #T_9e92d_row93_col2, #T_9e92d_row99_col2, #T_9e92d_row102_col2, #T_9e92d_row115_col2 {\n",
       "  background-color: #fff4ef;\n",
       "  color: #000000;\n",
       "}\n",
       "#T_9e92d_row13_col3 {\n",
       "  background-color: #ffeee6;\n",
       "  color: #000000;\n",
       "}\n",
       "#T_9e92d_row14_col2, #T_9e92d_row18_col2, #T_9e92d_row24_col1, #T_9e92d_row25_col1, #T_9e92d_row26_col1, #T_9e92d_row27_col1, #T_9e92d_row28_col1, #T_9e92d_row29_col1, #T_9e92d_row30_col1, #T_9e92d_row59_col2 {\n",
       "  background-color: #fff3ed;\n",
       "  color: #000000;\n",
       "}\n",
       "#T_9e92d_row16_col1, #T_9e92d_row17_col1, #T_9e92d_row18_col1, #T_9e92d_row19_col1, #T_9e92d_row19_col2, #T_9e92d_row20_col1, #T_9e92d_row21_col1, #T_9e92d_row22_col1, #T_9e92d_row30_col3, #T_9e92d_row31_col3, #T_9e92d_row36_col2, #T_9e92d_row44_col2, #T_9e92d_row44_col3 {\n",
       "  background-color: #fff2eb;\n",
       "  color: #000000;\n",
       "}\n",
       "#T_9e92d_row16_col3 {\n",
       "  background-color: #feeae1;\n",
       "  color: #000000;\n",
       "}\n",
       "#T_9e92d_row19_col3 {\n",
       "  background-color: #fee9df;\n",
       "  color: #000000;\n",
       "}\n",
       "#T_9e92d_row27_col2 {\n",
       "  background-color: #fee8dd;\n",
       "  color: #000000;\n",
       "}\n",
       "#T_9e92d_row27_col3 {\n",
       "  background-color: #fdcbb6;\n",
       "  color: #000000;\n",
       "}\n",
       "#T_9e92d_row78_col2 {\n",
       "  background-color: #fee1d4;\n",
       "  color: #000000;\n",
       "}\n",
       "</style>\n",
       "<table id=\"T_9e92d\">\n",
       "  <thead>\n",
       "    <tr>\n",
       "      <th class=\"blank level0\" >&nbsp;</th>\n",
       "      <th id=\"T_9e92d_level0_col0\" class=\"col_heading level0 col0\" >Country Name</th>\n",
       "      <th id=\"T_9e92d_level0_col1\" class=\"col_heading level0 col1\" >Proportion of Confirmed</th>\n",
       "      <th id=\"T_9e92d_level0_col2\" class=\"col_heading level0 col2\" >Proportion of Recovered</th>\n",
       "      <th id=\"T_9e92d_level0_col3\" class=\"col_heading level0 col3\" >Proportion of Deaths</th>\n",
       "    </tr>\n",
       "  </thead>\n",
       "  <tbody>\n",
       "    <tr>\n",
       "      <th id=\"T_9e92d_level0_row0\" class=\"row_heading level0 row0\" >0</th>\n",
       "      <td id=\"T_9e92d_row0_col0\" class=\"data row0 col0\" >US</td>\n",
       "      <td id=\"T_9e92d_row0_col1\" class=\"data row0 col1\" >35.347187</td>\n",
       "      <td id=\"T_9e92d_row0_col2\" class=\"data row0 col2\" >34.248390</td>\n",
       "      <td id=\"T_9e92d_row0_col3\" class=\"data row0 col3\" >31.661641</td>\n",
       "    </tr>\n",
       "    <tr>\n",
       "      <th id=\"T_9e92d_level0_row1\" class=\"row_heading level0 row1\" >17</th>\n",
       "      <td id=\"T_9e92d_row1_col0\" class=\"data row1 col0\" >Ecuador</td>\n",
       "      <td id=\"T_9e92d_row1_col1\" class=\"data row1 col1\" >11.275756</td>\n",
       "      <td id=\"T_9e92d_row1_col2\" class=\"data row1 col2\" >0.068947</td>\n",
       "      <td id=\"T_9e92d_row1_col3\" class=\"data row1 col3\" >0.253928</td>\n",
       "    </tr>\n",
       "    <tr>\n",
       "      <th id=\"T_9e92d_level0_row2\" class=\"row_heading level0 row2\" >1</th>\n",
       "      <td id=\"T_9e92d_row2_col0\" class=\"data row2 col0\" >Spain</td>\n",
       "      <td id=\"T_9e92d_row2_col1\" class=\"data row2 col1\" >6.587950</td>\n",
       "      <td id=\"T_9e92d_row2_col2\" class=\"data row2 col2\" >5.633675</td>\n",
       "      <td id=\"T_9e92d_row2_col3\" class=\"data row2 col3\" >5.824472</td>\n",
       "    </tr>\n",
       "    <tr>\n",
       "      <th id=\"T_9e92d_level0_row3\" class=\"row_heading level0 row3\" >9</th>\n",
       "      <td id=\"T_9e92d_row3_col0\" class=\"data row3 col0\" >Russia</td>\n",
       "      <td id=\"T_9e92d_row3_col1\" class=\"data row3 col1\" >5.717050</td>\n",
       "      <td id=\"T_9e92d_row3_col2\" class=\"data row3 col2\" >1.228341</td>\n",
       "      <td id=\"T_9e92d_row3_col3\" class=\"data row3 col3\" >0.952230</td>\n",
       "    </tr>\n",
       "    <tr>\n",
       "      <th id=\"T_9e92d_level0_row4\" class=\"row_heading level0 row4\" >5</th>\n",
       "      <td id=\"T_9e92d_row4_col0\" class=\"data row4 col0\" >UK</td>\n",
       "      <td id=\"T_9e92d_row4_col1\" class=\"data row4 col1\" >5.272315</td>\n",
       "      <td id=\"T_9e92d_row4_col2\" class=\"data row4 col2\" >0.021773</td>\n",
       "      <td id=\"T_9e92d_row4_col3\" class=\"data row4 col3\" >12.315505</td>\n",
       "    </tr>\n",
       "    <tr>\n",
       "      <th id=\"T_9e92d_level0_row5\" class=\"row_heading level0 row5\" >10</th>\n",
       "      <td id=\"T_9e92d_row5_col0\" class=\"data row5 col0\" >Brazil</td>\n",
       "      <td id=\"T_9e92d_row5_col1\" class=\"data row5 col1\" >3.916605</td>\n",
       "      <td id=\"T_9e92d_row5_col2\" class=\"data row5 col2\" >1.963168</td>\n",
       "      <td id=\"T_9e92d_row5_col3\" class=\"data row5 col3\" >5.919695</td>\n",
       "    </tr>\n",
       "    <tr>\n",
       "      <th id=\"T_9e92d_level0_row6\" class=\"row_heading level0 row6\" >6</th>\n",
       "      <td id=\"T_9e92d_row6_col0\" class=\"data row6 col0\" >Turkey</td>\n",
       "      <td id=\"T_9e92d_row6_col1\" class=\"data row6 col1\" >3.051570</td>\n",
       "      <td id=\"T_9e92d_row6_col2\" class=\"data row6 col2\" >5.889504</td>\n",
       "      <td id=\"T_9e92d_row6_col3\" class=\"data row6 col3\" >1.729884</td>\n",
       "    </tr>\n",
       "    <tr>\n",
       "      <th id=\"T_9e92d_level0_row7\" class=\"row_heading level0 row7\" >2</th>\n",
       "      <td id=\"T_9e92d_row7_col0\" class=\"data row7 col0\" >Italy</td>\n",
       "      <td id=\"T_9e92d_row7_col1\" class=\"data row7 col1\" >2.952848</td>\n",
       "      <td id=\"T_9e92d_row7_col2\" class=\"data row7 col2\" >5.301642</td>\n",
       "      <td id=\"T_9e92d_row7_col3\" class=\"data row7 col3\" >6.665609</td>\n",
       "    </tr>\n",
       "    <tr>\n",
       "      <th id=\"T_9e92d_level0_row8\" class=\"row_heading level0 row8\" >4</th>\n",
       "      <td id=\"T_9e92d_row8_col0\" class=\"data row8 col0\" >Germany</td>\n",
       "      <td id=\"T_9e92d_row8_col1\" class=\"data row8 col1\" >1.827814</td>\n",
       "      <td id=\"T_9e92d_row8_col2\" class=\"data row8 col2\" >11.793523</td>\n",
       "      <td id=\"T_9e92d_row8_col3\" class=\"data row8 col3\" >2.936042</td>\n",
       "    </tr>\n",
       "    <tr>\n",
       "      <th id=\"T_9e92d_level0_row9\" class=\"row_heading level0 row9\" >11</th>\n",
       "      <td id=\"T_9e92d_row9_col0\" class=\"data row9 col0\" >Belgium</td>\n",
       "      <td id=\"T_9e92d_row9_col1\" class=\"data row9 col1\" >1.462251</td>\n",
       "      <td id=\"T_9e92d_row9_col2\" class=\"data row9 col2\" >0.584233</td>\n",
       "      <td id=\"T_9e92d_row9_col3\" class=\"data row9 col3\" >2.999524</td>\n",
       "    </tr>\n",
       "    <tr>\n",
       "      <th id=\"T_9e92d_level0_row10\" class=\"row_heading level0 row10\" >15</th>\n",
       "      <td id=\"T_9e92d_row10_col0\" class=\"data row10 col0\" >India</td>\n",
       "      <td id=\"T_9e92d_row10_col1\" class=\"data row10 col1\" >1.420221</td>\n",
       "      <td id=\"T_9e92d_row10_col2\" class=\"data row10 col2\" >0.881793</td>\n",
       "      <td id=\"T_9e92d_row10_col3\" class=\"data row10 col3\" >0.936359</td>\n",
       "    </tr>\n",
       "    <tr>\n",
       "      <th id=\"T_9e92d_level0_row11\" class=\"row_heading level0 row11\" >24</th>\n",
       "      <td id=\"T_9e92d_row11_col0\" class=\"data row11 col0\" >Mexico</td>\n",
       "      <td id=\"T_9e92d_row11_col1\" class=\"data row11 col1\" >1.211049</td>\n",
       "      <td id=\"T_9e92d_row11_col2\" class=\"data row11 col2\" >8.204663</td>\n",
       "      <td id=\"T_9e92d_row11_col3\" class=\"data row11 col3\" >2.412316</td>\n",
       "    </tr>\n",
       "    <tr>\n",
       "      <th id=\"T_9e92d_level0_row12\" class=\"row_heading level0 row12\" >21</th>\n",
       "      <td id=\"T_9e92d_row12_col0\" class=\"data row12 col0\" >Saudi Arabia</td>\n",
       "      <td id=\"T_9e92d_row12_col1\" class=\"data row12 col1\" >1.145560</td>\n",
       "      <td id=\"T_9e92d_row12_col2\" class=\"data row12 col2\" >0.224984</td>\n",
       "      <td id=\"T_9e92d_row12_col3\" class=\"data row12 col3\" >0.095223</td>\n",
       "    </tr>\n",
       "    <tr>\n",
       "      <th id=\"T_9e92d_level0_row13\" class=\"row_heading level0 row13\" >7</th>\n",
       "      <td id=\"T_9e92d_row13_col0\" class=\"data row13 col0\" >Iran</td>\n",
       "      <td id=\"T_9e92d_row13_col1\" class=\"data row13 col1\" >1.141651</td>\n",
       "      <td id=\"T_9e92d_row13_col2\" class=\"data row13 col2\" >3.186065</td>\n",
       "      <td id=\"T_9e92d_row13_col3\" class=\"data row13 col3\" >1.475956</td>\n",
       "    </tr>\n",
       "    <tr>\n",
       "      <th id=\"T_9e92d_level0_row14\" class=\"row_heading level0 row14\" >37</th>\n",
       "      <td id=\"T_9e92d_row14_col0\" class=\"data row14 col0\" >Ukraine</td>\n",
       "      <td id=\"T_9e92d_row14_col1\" class=\"data row14 col1\" >0.933456</td>\n",
       "      <td id=\"T_9e92d_row14_col2\" class=\"data row14 col2\" >0.504400</td>\n",
       "      <td id=\"T_9e92d_row14_col3\" class=\"data row14 col3\" >0.222187</td>\n",
       "    </tr>\n",
       "    <tr>\n",
       "      <th id=\"T_9e92d_level0_row15\" class=\"row_heading level0 row15\" >27</th>\n",
       "      <td id=\"T_9e92d_row15_col0\" class=\"data row15 col0\" >Singapore</td>\n",
       "      <td id=\"T_9e92d_row15_col1\" class=\"data row15 col1\" >0.876764</td>\n",
       "      <td id=\"T_9e92d_row15_col2\" class=\"data row15 col2\" >0.058060</td>\n",
       "      <td id=\"T_9e92d_row15_col3\" class=\"data row15 col3\" >0.000000</td>\n",
       "    </tr>\n",
       "    <tr>\n",
       "      <th id=\"T_9e92d_level0_row16\" class=\"row_heading level0 row16\" >20</th>\n",
       "      <td id=\"T_9e92d_row16_col0\" class=\"data row16 col0\" >Sweden</td>\n",
       "      <td id=\"T_9e92d_row16_col1\" class=\"data row16 col1\" >0.793682</td>\n",
       "      <td id=\"T_9e92d_row16_col2\" class=\"data row16 col2\" >0.825547</td>\n",
       "      <td id=\"T_9e92d_row16_col3\" class=\"data row16 col3\" >2.079035</td>\n",
       "    </tr>\n",
       "    <tr>\n",
       "      <th id=\"T_9e92d_level0_row17\" class=\"row_heading level0 row17\" >13</th>\n",
       "      <td id=\"T_9e92d_row17_col0\" class=\"data row17 col0\" >Netherlands</td>\n",
       "      <td id=\"T_9e92d_row17_col1\" class=\"data row17 col1\" >0.789772</td>\n",
       "      <td id=\"T_9e92d_row17_col2\" class=\"data row17 col2\" >0.001814</td>\n",
       "      <td id=\"T_9e92d_row17_col3\" class=\"data row17 col3\" >1.777496</td>\n",
       "    </tr>\n",
       "    <tr>\n",
       "      <th id=\"T_9e92d_level0_row18\" class=\"row_heading level0 row18\" >28</th>\n",
       "      <td id=\"T_9e92d_row18_col0\" class=\"data row18 col0\" >Pakistan</td>\n",
       "      <td id=\"T_9e92d_row18_col1\" class=\"data row18 col1\" >0.767291</td>\n",
       "      <td id=\"T_9e92d_row18_col2\" class=\"data row18 col2\" >0.413680</td>\n",
       "      <td id=\"T_9e92d_row18_col3\" class=\"data row18 col3\" >0.253928</td>\n",
       "    </tr>\n",
       "    <tr>\n",
       "      <th id=\"T_9e92d_level0_row19\" class=\"row_heading level0 row19\" >12</th>\n",
       "      <td id=\"T_9e92d_row19_col0\" class=\"data row19 col0\" >Canada</td>\n",
       "      <td id=\"T_9e92d_row19_col1\" class=\"data row19 col1\" >0.752629</td>\n",
       "      <td id=\"T_9e92d_row19_col2\" class=\"data row19 col2\" >0.703983</td>\n",
       "      <td id=\"T_9e92d_row19_col3\" class=\"data row19 col3\" >2.301222</td>\n",
       "    </tr>\n",
       "    <tr>\n",
       "      <th id=\"T_9e92d_level0_row20\" class=\"row_heading level0 row20\" >34</th>\n",
       "      <td id=\"T_9e92d_row20_col0\" class=\"data row20 col0\" >Qatar</td>\n",
       "      <td id=\"T_9e92d_row20_col1\" class=\"data row20 col1\" >0.743832</td>\n",
       "      <td id=\"T_9e92d_row20_col2\" class=\"data row20 col2\" >0.107049</td>\n",
       "      <td id=\"T_9e92d_row20_col3\" class=\"data row20 col3\" >0.000000</td>\n",
       "    </tr>\n",
       "    <tr>\n",
       "      <th id=\"T_9e92d_level0_row21\" class=\"row_heading level0 row21\" >33</th>\n",
       "      <td id=\"T_9e92d_row21_col0\" class=\"data row21 col0\" >Belarus</td>\n",
       "      <td id=\"T_9e92d_row21_col1\" class=\"data row21 col1\" >0.734058</td>\n",
       "      <td id=\"T_9e92d_row21_col2\" class=\"data row21 col2\" >0.330219</td>\n",
       "      <td id=\"T_9e92d_row21_col3\" class=\"data row21 col3\" >0.047611</td>\n",
       "    </tr>\n",
       "    <tr>\n",
       "      <th id=\"T_9e92d_level0_row22\" class=\"row_heading level0 row22\" >18</th>\n",
       "      <td id=\"T_9e92d_row22_col0\" class=\"data row22 col0\" >Peru</td>\n",
       "      <td id=\"T_9e92d_row22_col1\" class=\"data row22 col1\" >0.717441</td>\n",
       "      <td id=\"T_9e92d_row22_col2\" class=\"data row22 col2\" >0.134265</td>\n",
       "      <td id=\"T_9e92d_row22_col3\" class=\"data row22 col3\" >0.983971</td>\n",
       "    </tr>\n",
       "    <tr>\n",
       "      <th id=\"T_9e92d_level0_row23\" class=\"row_heading level0 row23\" >19</th>\n",
       "      <td id=\"T_9e92d_row23_col0\" class=\"data row23 col0\" >Ireland</td>\n",
       "      <td id=\"T_9e92d_row23_col1\" class=\"data row23 col1\" >0.563983</td>\n",
       "      <td id=\"T_9e92d_row23_col2\" class=\"data row23 col2\" >0.000000</td>\n",
       "      <td id=\"T_9e92d_row23_col3\" class=\"data row23 col3\" >3.491509</td>\n",
       "    </tr>\n",
       "    <tr>\n",
       "      <th id=\"T_9e92d_level0_row24\" class=\"row_heading level0 row24\" >32</th>\n",
       "      <td id=\"T_9e92d_row24_col0\" class=\"data row24 col0\" >United Arab Emirates</td>\n",
       "      <td id=\"T_9e92d_row24_col1\" class=\"data row24 col1\" >0.513156</td>\n",
       "      <td id=\"T_9e92d_row24_col2\" class=\"data row24 col2\" >0.223170</td>\n",
       "      <td id=\"T_9e92d_row24_col3\" class=\"data row24 col3\" >0.126964</td>\n",
       "    </tr>\n",
       "    <tr>\n",
       "      <th id=\"T_9e92d_level0_row25\" class=\"row_heading level0 row25\" >47</th>\n",
       "      <td id=\"T_9e92d_row25_col0\" class=\"data row25 col0\" >Bangladesh</td>\n",
       "      <td id=\"T_9e92d_row25_col1\" class=\"data row25 col1\" >0.491653</td>\n",
       "      <td id=\"T_9e92d_row25_col2\" class=\"data row25 col2\" >0.007258</td>\n",
       "      <td id=\"T_9e92d_row25_col3\" class=\"data row25 col3\" >0.063482</td>\n",
       "    </tr>\n",
       "    <tr>\n",
       "      <th id=\"T_9e92d_level0_row26\" class=\"row_heading level0 row26\" >26</th>\n",
       "      <td id=\"T_9e92d_row26_col0\" class=\"data row26 col0\" >Chile</td>\n",
       "      <td id=\"T_9e92d_row26_col1\" class=\"data row26 col1\" >0.482856</td>\n",
       "      <td id=\"T_9e92d_row26_col2\" class=\"data row26 col2\" >0.948925</td>\n",
       "      <td id=\"T_9e92d_row26_col3\" class=\"data row26 col3\" >0.095223</td>\n",
       "    </tr>\n",
       "    <tr>\n",
       "      <th id=\"T_9e92d_level0_row27\" class=\"row_heading level0 row27\" >3</th>\n",
       "      <td id=\"T_9e92d_row27_col0\" class=\"data row27 col0\" >France</td>\n",
       "      <td id=\"T_9e92d_row27_col1\" class=\"data row27 col1\" >0.480901</td>\n",
       "      <td id=\"T_9e92d_row27_col2\" class=\"data row27 col2\" >2.737912</td>\n",
       "      <td id=\"T_9e92d_row27_col3\" class=\"data row27 col3\" >6.189494</td>\n",
       "    </tr>\n",
       "    <tr>\n",
       "      <th id=\"T_9e92d_level0_row28\" class=\"row_heading level0 row28\" >25</th>\n",
       "      <td id=\"T_9e92d_row28_col0\" class=\"data row28 col0\" >Japan</td>\n",
       "      <td id=\"T_9e92d_row28_col1\" class=\"data row28 col1\" >0.450600</td>\n",
       "      <td id=\"T_9e92d_row28_col2\" class=\"data row28 col2\" >0.065318</td>\n",
       "      <td id=\"T_9e92d_row28_col3\" class=\"data row28 col3\" >0.269798</td>\n",
       "    </tr>\n",
       "    <tr>\n",
       "      <th id=\"T_9e92d_level0_row29\" class=\"row_heading level0 row29\" >16</th>\n",
       "      <td id=\"T_9e92d_row29_col0\" class=\"data row29 col0\" >Portugal</td>\n",
       "      <td id=\"T_9e92d_row29_col1\" class=\"data row29 col1\" >0.433984</td>\n",
       "      <td id=\"T_9e92d_row29_col2\" class=\"data row29 col2\" >0.048988</td>\n",
       "      <td id=\"T_9e92d_row29_col3\" class=\"data row29 col3\" >0.539597</td>\n",
       "    </tr>\n",
       "    <tr>\n",
       "      <th id=\"T_9e92d_level0_row30\" class=\"row_heading level0 row30\" >36</th>\n",
       "      <td id=\"T_9e92d_row30_col0\" class=\"data row30 col0\" >Indonesia</td>\n",
       "      <td id=\"T_9e92d_row30_col1\" class=\"data row30 col1\" >0.426164</td>\n",
       "      <td id=\"T_9e92d_row30_col2\" class=\"data row30 col2\" >0.076204</td>\n",
       "      <td id=\"T_9e92d_row30_col3\" class=\"data row30 col3\" >0.666561</td>\n",
       "    </tr>\n",
       "    <tr>\n",
       "      <th id=\"T_9e92d_level0_row31\" class=\"row_heading level0 row31\" >29</th>\n",
       "      <td id=\"T_9e92d_row31_col0\" class=\"data row31 col0\" >Poland</td>\n",
       "      <td id=\"T_9e92d_row31_col1\" class=\"data row31 col1\" >0.372405</td>\n",
       "      <td id=\"T_9e92d_row31_col2\" class=\"data row31 col2\" >0.370135</td>\n",
       "      <td id=\"T_9e92d_row31_col3\" class=\"data row31 col3\" >0.634820</td>\n",
       "    </tr>\n",
       "    <tr>\n",
       "      <th id=\"T_9e92d_level0_row32\" class=\"row_heading level0 row32\" >31</th>\n",
       "      <td id=\"T_9e92d_row32_col0\" class=\"data row32 col0\" >Romania</td>\n",
       "      <td id=\"T_9e92d_row32_col1\" class=\"data row32 col1\" >0.313758</td>\n",
       "      <td id=\"T_9e92d_row32_col2\" class=\"data row32 col2\" >0.615078</td>\n",
       "      <td id=\"T_9e92d_row32_col3\" class=\"data row32 col3\" >0.349151</td>\n",
       "    </tr>\n",
       "    <tr>\n",
       "      <th id=\"T_9e92d_level0_row33\" class=\"row_heading level0 row33\" >46</th>\n",
       "      <td id=\"T_9e92d_row33_col0\" class=\"data row33 col0\" >Colombia</td>\n",
       "      <td id=\"T_9e92d_row33_col1\" class=\"data row33 col1\" >0.312781</td>\n",
       "      <td id=\"T_9e92d_row33_col2\" class=\"data row33 col2\" >0.137893</td>\n",
       "      <td id=\"T_9e92d_row33_col3\" class=\"data row33 col3\" >0.158705</td>\n",
       "    </tr>\n",
       "    <tr>\n",
       "      <th id=\"T_9e92d_level0_row34\" class=\"row_heading level0 row34\" >58</th>\n",
       "      <td id=\"T_9e92d_row34_col0\" class=\"data row34 col0\" >Bahrain</td>\n",
       "      <td id=\"T_9e92d_row34_col1\" class=\"data row34 col1\" >0.294210</td>\n",
       "      <td id=\"T_9e92d_row34_col2\" class=\"data row34 col2\" >0.056246</td>\n",
       "      <td id=\"T_9e92d_row34_col3\" class=\"data row34 col3\" >0.000000</td>\n",
       "    </tr>\n",
       "    <tr>\n",
       "      <th id=\"T_9e92d_level0_row35\" class=\"row_heading level0 row35\" >49</th>\n",
       "      <td id=\"T_9e92d_row35_col0\" class=\"data row35 col0\" >South Africa</td>\n",
       "      <td id=\"T_9e92d_row35_col1\" class=\"data row35 col1\" >0.260977</td>\n",
       "      <td id=\"T_9e92d_row35_col2\" class=\"data row35 col2\" >0.000000</td>\n",
       "      <td id=\"T_9e92d_row35_col3\" class=\"data row35 col3\" >0.063482</td>\n",
       "    </tr>\n",
       "    <tr>\n",
       "      <th id=\"T_9e92d_level0_row36\" class=\"row_heading level0 row36\" >23</th>\n",
       "      <td id=\"T_9e92d_row36_col0\" class=\"data row36 col0\" >Israel</td>\n",
       "      <td id=\"T_9e92d_row36_col1\" class=\"data row36 col1\" >0.249247</td>\n",
       "      <td id=\"T_9e92d_row36_col2\" class=\"data row36 col2\" >0.711240</td>\n",
       "      <td id=\"T_9e92d_row36_col3\" class=\"data row36 col3\" >0.031741</td>\n",
       "    </tr>\n",
       "    <tr>\n",
       "      <th id=\"T_9e92d_level0_row37\" class=\"row_heading level0 row37\" >57</th>\n",
       "      <td id=\"T_9e92d_row37_col0\" class=\"data row37 col0\" >Kuwait</td>\n",
       "      <td id=\"T_9e92d_row37_col1\" class=\"data row37 col1\" >0.210150</td>\n",
       "      <td id=\"T_9e92d_row37_col2\" class=\"data row37 col2\" >0.208655</td>\n",
       "      <td id=\"T_9e92d_row37_col3\" class=\"data row37 col3\" >0.015870</td>\n",
       "    </tr>\n",
       "    <tr>\n",
       "      <th id=\"T_9e92d_level0_row38\" class=\"row_heading level0 row38\" >40</th>\n",
       "      <td id=\"T_9e92d_row38_col0\" class=\"data row38 col0\" >Philippines</td>\n",
       "      <td id=\"T_9e92d_row38_col1\" class=\"data row38 col1\" >0.206240</td>\n",
       "      <td id=\"T_9e92d_row38_col2\" class=\"data row38 col2\" >0.072576</td>\n",
       "      <td id=\"T_9e92d_row38_col3\" class=\"data row38 col3\" >0.238057</td>\n",
       "    </tr>\n",
       "    <tr>\n",
       "      <th id=\"T_9e92d_level0_row39\" class=\"row_heading level0 row39\" >43</th>\n",
       "      <td id=\"T_9e92d_row39_col0\" class=\"data row39 col0\" >Dominican Republic</td>\n",
       "      <td id=\"T_9e92d_row39_col1\" class=\"data row39 col1\" >0.201353</td>\n",
       "      <td id=\"T_9e92d_row39_col2\" class=\"data row39 col2\" >0.330219</td>\n",
       "      <td id=\"T_9e92d_row39_col3\" class=\"data row39 col3\" >0.031741</td>\n",
       "    </tr>\n",
       "    <tr>\n",
       "      <th id=\"T_9e92d_level0_row40\" class=\"row_heading level0 row40\" >50</th>\n",
       "      <td id=\"T_9e92d_row40_col0\" class=\"data row40 col0\" >Egypt</td>\n",
       "      <td id=\"T_9e92d_row40_col1\" class=\"data row40 col1\" >0.196466</td>\n",
       "      <td id=\"T_9e92d_row40_col2\" class=\"data row40 col2\" >0.128822</td>\n",
       "      <td id=\"T_9e92d_row40_col3\" class=\"data row40 col3\" >0.111093</td>\n",
       "    </tr>\n",
       "    <tr>\n",
       "      <th id=\"T_9e92d_level0_row41\" class=\"row_heading level0 row41\" >60</th>\n",
       "      <td id=\"T_9e92d_row41_col0\" class=\"data row41 col0\" >Kazakhstan</td>\n",
       "      <td id=\"T_9e92d_row41_col1\" class=\"data row41 col1\" >0.188646</td>\n",
       "      <td id=\"T_9e92d_row41_col2\" class=\"data row41 col2\" >0.079833</td>\n",
       "      <td id=\"T_9e92d_row41_col3\" class=\"data row41 col3\" >0.079352</td>\n",
       "    </tr>\n",
       "    <tr>\n",
       "      <th id=\"T_9e92d_level0_row42\" class=\"row_heading level0 row42\" >51</th>\n",
       "      <td id=\"T_9e92d_row42_col0\" class=\"data row42 col0\" >Morocco</td>\n",
       "      <td id=\"T_9e92d_row42_col1\" class=\"data row42 col1\" >0.185714</td>\n",
       "      <td id=\"T_9e92d_row42_col2\" class=\"data row42 col2\" >0.054432</td>\n",
       "      <td id=\"T_9e92d_row42_col3\" class=\"data row42 col3\" >0.047611</td>\n",
       "    </tr>\n",
       "    <tr>\n",
       "      <th id=\"T_9e92d_level0_row43\" class=\"row_heading level0 row43\" >55</th>\n",
       "      <td id=\"T_9e92d_row43_col0\" class=\"data row43 col0\" >Moldova</td>\n",
       "      <td id=\"T_9e92d_row43_col1\" class=\"data row43 col1\" >0.179849</td>\n",
       "      <td id=\"T_9e92d_row43_col2\" class=\"data row43 col2\" >0.170552</td>\n",
       "      <td id=\"T_9e92d_row43_col3\" class=\"data row43 col3\" >0.063482</td>\n",
       "    </tr>\n",
       "    <tr>\n",
       "      <th id=\"T_9e92d_level0_row44\" class=\"row_heading level0 row44\" >14</th>\n",
       "      <td id=\"T_9e92d_row44_col0\" class=\"data row44 col0\" >Switzerland</td>\n",
       "      <td id=\"T_9e92d_row44_col1\" class=\"data row44 col1\" >0.176917</td>\n",
       "      <td id=\"T_9e92d_row44_col2\" class=\"data row44 col2\" >0.725755</td>\n",
       "      <td id=\"T_9e92d_row44_col3\" class=\"data row44 col3\" >0.634820</td>\n",
       "    </tr>\n",
       "    <tr>\n",
       "      <th id=\"T_9e92d_level0_row45\" class=\"row_heading level0 row45\" >45</th>\n",
       "      <td id=\"T_9e92d_row45_col0\" class=\"data row45 col0\" >Panama</td>\n",
       "      <td id=\"T_9e92d_row45_col1\" class=\"data row45 col1\" >0.168120</td>\n",
       "      <td id=\"T_9e92d_row45_col2\" class=\"data row45 col2\" >0.087091</td>\n",
       "      <td id=\"T_9e92d_row45_col3\" class=\"data row45 col3\" >0.126964</td>\n",
       "    </tr>\n",
       "    <tr>\n",
       "      <th id=\"T_9e92d_level0_row46\" class=\"row_heading level0 row46\" >53</th>\n",
       "      <td id=\"T_9e92d_row46_col0\" class=\"data row46 col0\" >Argentina</td>\n",
       "      <td id=\"T_9e92d_row46_col1\" class=\"data row46 col1\" >0.168120</td>\n",
       "      <td id=\"T_9e92d_row46_col2\" class=\"data row46 col2\" >0.103420</td>\n",
       "      <td id=\"T_9e92d_row46_col3\" class=\"data row46 col3\" >0.174575</td>\n",
       "    </tr>\n",
       "    <tr>\n",
       "      <th id=\"T_9e92d_level0_row47\" class=\"row_heading level0 row47\" >61</th>\n",
       "      <td id=\"T_9e92d_row47_col0\" class=\"data row47 col0\" >Hungary</td>\n",
       "      <td id=\"T_9e92d_row47_col1\" class=\"data row47 col1\" >0.155413</td>\n",
       "      <td id=\"T_9e92d_row47_col2\" class=\"data row47 col2\" >0.123378</td>\n",
       "      <td id=\"T_9e92d_row47_col3\" class=\"data row47 col3\" >0.365021</td>\n",
       "    </tr>\n",
       "    <tr>\n",
       "      <th id=\"T_9e92d_level0_row48\" class=\"row_heading level0 row48\" >35</th>\n",
       "      <td id=\"T_9e92d_row48_col0\" class=\"data row48 col0\" >Denmark</td>\n",
       "      <td id=\"T_9e92d_row48_col1\" class=\"data row48 col1\" >0.133909</td>\n",
       "      <td id=\"T_9e92d_row48_col2\" class=\"data row48 col2\" >0.257643</td>\n",
       "      <td id=\"T_9e92d_row48_col3\" class=\"data row48 col3\" >0.142834</td>\n",
       "    </tr>\n",
       "    <tr>\n",
       "      <th id=\"T_9e92d_level0_row49\" class=\"row_heading level0 row49\" >80</th>\n",
       "      <td id=\"T_9e92d_row49_col0\" class=\"data row49 col0\" >Bulgaria</td>\n",
       "      <td id=\"T_9e92d_row49_col1\" class=\"data row49 col1\" >0.133909</td>\n",
       "      <td id=\"T_9e92d_row49_col2\" class=\"data row49 col2\" >0.012701</td>\n",
       "      <td id=\"T_9e92d_row49_col3\" class=\"data row49 col3\" >0.031741</td>\n",
       "    </tr>\n",
       "    <tr>\n",
       "      <th id=\"T_9e92d_level0_row50\" class=\"row_heading level0 row50\" >122</th>\n",
       "      <td id=\"T_9e92d_row50_col0\" class=\"data row50 col0\" >Equatorial Guinea</td>\n",
       "      <td id=\"T_9e92d_row50_col1\" class=\"data row50 col1\" >0.127067</td>\n",
       "      <td id=\"T_9e92d_row50_col2\" class=\"data row50 col2\" >0.000000</td>\n",
       "      <td id=\"T_9e92d_row50_col3\" class=\"data row50 col3\" >0.000000</td>\n",
       "    </tr>\n",
       "    <tr>\n",
       "      <th id=\"T_9e92d_level0_row51\" class=\"row_heading level0 row51\" >79</th>\n",
       "      <td id=\"T_9e92d_row51_col0\" class=\"data row51 col0\" >Ghana</td>\n",
       "      <td id=\"T_9e92d_row51_col1\" class=\"data row51 col1\" >0.122180</td>\n",
       "      <td id=\"T_9e92d_row51_col2\" class=\"data row51 col2\" >0.063504</td>\n",
       "      <td id=\"T_9e92d_row51_col3\" class=\"data row51 col3\" >0.015870</td>\n",
       "    </tr>\n",
       "    <tr>\n",
       "      <th id=\"T_9e92d_level0_row52\" class=\"row_heading level0 row52\" >54</th>\n",
       "      <td id=\"T_9e92d_row52_col0\" class=\"data row52 col0\" >Algeria</td>\n",
       "      <td id=\"T_9e92d_row52_col1\" class=\"data row52 col1\" >0.117293</td>\n",
       "      <td id=\"T_9e92d_row52_col2\" class=\"data row52 col2\" >0.096163</td>\n",
       "      <td id=\"T_9e92d_row52_col3\" class=\"data row52 col3\" >0.126964</td>\n",
       "    </tr>\n",
       "    <tr>\n",
       "      <th id=\"T_9e92d_level0_row53\" class=\"row_heading level0 row53\" >81</th>\n",
       "      <td id=\"T_9e92d_row53_col0\" class=\"data row53 col0\" >Nigeria</td>\n",
       "      <td id=\"T_9e92d_row53_col1\" class=\"data row53 col1\" >0.111428</td>\n",
       "      <td id=\"T_9e92d_row53_col2\" class=\"data row53 col2\" >0.019958</td>\n",
       "      <td id=\"T_9e92d_row53_col3\" class=\"data row53 col3\" >0.015870</td>\n",
       "    </tr>\n",
       "    <tr>\n",
       "      <th id=\"T_9e92d_level0_row54\" class=\"row_heading level0 row54\" >48</th>\n",
       "      <td id=\"T_9e92d_row54_col0\" class=\"data row54 col0\" >Finland</td>\n",
       "      <td id=\"T_9e92d_row54_col1\" class=\"data row54 col1\" >0.108496</td>\n",
       "      <td id=\"T_9e92d_row54_col2\" class=\"data row54 col2\" >0.907194</td>\n",
       "      <td id=\"T_9e92d_row54_col3\" class=\"data row54 col3\" >0.079352</td>\n",
       "    </tr>\n",
       "    <tr>\n",
       "      <th id=\"T_9e92d_level0_row55\" class=\"row_heading level0 row55\" >87</th>\n",
       "      <td id=\"T_9e92d_row55_col0\" class=\"data row55 col0\" >Bolivia</td>\n",
       "      <td id=\"T_9e92d_row55_col1\" class=\"data row55 col1\" >0.101654</td>\n",
       "      <td id=\"T_9e92d_row55_col2\" class=\"data row55 col2\" >0.018144</td>\n",
       "      <td id=\"T_9e92d_row55_col3\" class=\"data row55 col3\" >0.015870</td>\n",
       "    </tr>\n",
       "    <tr>\n",
       "      <th id=\"T_9e92d_level0_row56\" class=\"row_heading level0 row56\" >71</th>\n",
       "      <td id=\"T_9e92d_row56_col0\" class=\"data row56 col0\" >Cameroon</td>\n",
       "      <td id=\"T_9e92d_row56_col1\" class=\"data row56 col1\" >0.093834</td>\n",
       "      <td id=\"T_9e92d_row56_col2\" class=\"data row56 col2\" >0.000000</td>\n",
       "      <td id=\"T_9e92d_row56_col3\" class=\"data row56 col3\" >0.000000</td>\n",
       "    </tr>\n",
       "    <tr>\n",
       "      <th id=\"T_9e92d_level0_row57\" class=\"row_heading level0 row57\" >85</th>\n",
       "      <td id=\"T_9e92d_row57_col0\" class=\"data row57 col0\" >Guinea</td>\n",
       "      <td id=\"T_9e92d_row57_col1\" class=\"data row57 col1\" >0.089925</td>\n",
       "      <td id=\"T_9e92d_row57_col2\" class=\"data row57 col2\" >0.038102</td>\n",
       "      <td id=\"T_9e92d_row57_col3\" class=\"data row57 col3\" >0.000000</td>\n",
       "    </tr>\n",
       "    <tr>\n",
       "      <th id=\"T_9e92d_level0_row58\" class=\"row_heading level0 row58\" >44</th>\n",
       "      <td id=\"T_9e92d_row58_col0\" class=\"data row58 col0\" >Malaysia</td>\n",
       "      <td id=\"T_9e92d_row58_col1\" class=\"data row58 col1\" >0.086015</td>\n",
       "      <td id=\"T_9e92d_row58_col2\" class=\"data row58 col2\" >0.219541</td>\n",
       "      <td id=\"T_9e92d_row58_col3\" class=\"data row58 col3\" >0.015870</td>\n",
       "    </tr>\n",
       "    <tr>\n",
       "      <th id=\"T_9e92d_level0_row59\" class=\"row_heading level0 row59\" >39</th>\n",
       "      <td id=\"T_9e92d_row59_col0\" class=\"data row59 col0\" >Czech Republic</td>\n",
       "      <td id=\"T_9e92d_row59_col1\" class=\"data row59 col1\" >0.084060</td>\n",
       "      <td id=\"T_9e92d_row59_col2\" class=\"data row59 col2\" >0.397351</td>\n",
       "      <td id=\"T_9e92d_row59_col3\" class=\"data row59 col3\" >0.063482</td>\n",
       "    </tr>\n",
       "    <tr>\n",
       "      <th id=\"T_9e92d_level0_row60\" class=\"row_heading level0 row60\" >64</th>\n",
       "      <td id=\"T_9e92d_row60_col0\" class=\"data row60 col0\" >Oman</td>\n",
       "      <td id=\"T_9e92d_row60_col1\" class=\"data row60 col1\" >0.072331</td>\n",
       "      <td id=\"T_9e92d_row60_col2\" class=\"data row60 col2\" >0.032659</td>\n",
       "      <td id=\"T_9e92d_row60_col3\" class=\"data row60 col3\" >0.015870</td>\n",
       "    </tr>\n",
       "    <tr>\n",
       "      <th id=\"T_9e92d_level0_row61\" class=\"row_heading level0 row61\" >82</th>\n",
       "      <td id=\"T_9e92d_row61_col0\" class=\"data row61 col0\" >Ivory Coast</td>\n",
       "      <td id=\"T_9e92d_row61_col1\" class=\"data row61 col1\" >0.071353</td>\n",
       "      <td id=\"T_9e92d_row61_col2\" class=\"data row61 col2\" >0.108863</td>\n",
       "      <td id=\"T_9e92d_row61_col3\" class=\"data row61 col3\" >0.000000</td>\n",
       "    </tr>\n",
       "    <tr>\n",
       "      <th id=\"T_9e92d_level0_row62\" class=\"row_heading level0 row62\" >68</th>\n",
       "      <td id=\"T_9e92d_row62_col0\" class=\"data row62 col0\" >Armenia</td>\n",
       "      <td id=\"T_9e92d_row62_col1\" class=\"data row62 col1\" >0.071353</td>\n",
       "      <td id=\"T_9e92d_row62_col2\" class=\"data row62 col2\" >0.125193</td>\n",
       "      <td id=\"T_9e92d_row62_col3\" class=\"data row62 col3\" >0.047611</td>\n",
       "    </tr>\n",
       "    <tr>\n",
       "      <th id=\"T_9e92d_level0_row63\" class=\"row_heading level0 row63\" >98</th>\n",
       "      <td id=\"T_9e92d_row63_col0\" class=\"data row63 col0\" >Honduras</td>\n",
       "      <td id=\"T_9e92d_row63_col1\" class=\"data row63 col1\" >0.070376</td>\n",
       "      <td id=\"T_9e92d_row63_col2\" class=\"data row63 col2\" >0.048988</td>\n",
       "      <td id=\"T_9e92d_row63_col3\" class=\"data row63 col3\" >0.126964</td>\n",
       "    </tr>\n",
       "    <tr>\n",
       "      <th id=\"T_9e92d_level0_row64\" class=\"row_heading level0 row64\" >76</th>\n",
       "      <td id=\"T_9e92d_row64_col0\" class=\"data row64 col0\" >Afghanistan</td>\n",
       "      <td id=\"T_9e92d_row64_col1\" class=\"data row64 col1\" >0.070376</td>\n",
       "      <td id=\"T_9e92d_row64_col2\" class=\"data row64 col2\" >0.016329</td>\n",
       "      <td id=\"T_9e92d_row64_col3\" class=\"data row64 col3\" >0.015870</td>\n",
       "    </tr>\n",
       "    <tr>\n",
       "      <th id=\"T_9e92d_level0_row65\" class=\"row_heading level0 row65\" >22</th>\n",
       "      <td id=\"T_9e92d_row65_col0\" class=\"data row65 col0\" >Austria</td>\n",
       "      <td id=\"T_9e92d_row65_col1\" class=\"data row65 col1\" >0.067443</td>\n",
       "      <td id=\"T_9e92d_row65_col2\" class=\"data row65 col2\" >0.322961</td>\n",
       "      <td id=\"T_9e92d_row65_col3\" class=\"data row65 col3\" >0.126964</td>\n",
       "    </tr>\n",
       "    <tr>\n",
       "      <th id=\"T_9e92d_level0_row66\" class=\"row_heading level0 row66\" >56</th>\n",
       "      <td id=\"T_9e92d_row66_col0\" class=\"data row66 col0\" >Thailand</td>\n",
       "      <td id=\"T_9e92d_row66_col1\" class=\"data row66 col1\" >0.066466</td>\n",
       "      <td id=\"T_9e92d_row66_col2\" class=\"data row66 col2\" >0.212283</td>\n",
       "      <td id=\"T_9e92d_row66_col3\" class=\"data row66 col3\" >0.015870</td>\n",
       "    </tr>\n",
       "    <tr>\n",
       "      <th id=\"T_9e92d_level0_row67\" class=\"row_heading level0 row67\" >100</th>\n",
       "      <td id=\"T_9e92d_row67_col0\" class=\"data row67 col0\" >Senegal</td>\n",
       "      <td id=\"T_9e92d_row67_col1\" class=\"data row67 col1\" >0.064511</td>\n",
       "      <td id=\"T_9e92d_row67_col2\" class=\"data row67 col2\" >0.009072</td>\n",
       "      <td id=\"T_9e92d_row67_col3\" class=\"data row67 col3\" >0.015870</td>\n",
       "    </tr>\n",
       "    <tr>\n",
       "      <th id=\"T_9e92d_level0_row68\" class=\"row_heading level0 row68\" >38</th>\n",
       "      <td id=\"T_9e92d_row68_col0\" class=\"data row68 col0\" >Norway</td>\n",
       "      <td id=\"T_9e92d_row68_col1\" class=\"data row68 col1\" >0.060601</td>\n",
       "      <td id=\"T_9e92d_row68_col2\" class=\"data row68 col2\" >0.000000</td>\n",
       "      <td id=\"T_9e92d_row68_col3\" class=\"data row68 col3\" >0.079352</td>\n",
       "    </tr>\n",
       "    <tr>\n",
       "      <th id=\"T_9e92d_level0_row69\" class=\"row_heading level0 row69\" >109</th>\n",
       "      <td id=\"T_9e92d_row69_col0\" class=\"data row69 col0\" >Sri Lanka</td>\n",
       "      <td id=\"T_9e92d_row69_col1\" class=\"data row69 col1\" >0.050827</td>\n",
       "      <td id=\"T_9e92d_row69_col2\" class=\"data row69 col2\" >0.003629</td>\n",
       "      <td id=\"T_9e92d_row69_col3\" class=\"data row69 col3\" >0.000000</td>\n",
       "    </tr>\n",
       "    <tr>\n",
       "      <th id=\"T_9e92d_level0_row70\" class=\"row_heading level0 row70\" >78</th>\n",
       "      <td id=\"T_9e92d_row70_col0\" class=\"data row70 col0\" >Cuba</td>\n",
       "      <td id=\"T_9e92d_row70_col1\" class=\"data row70 col1\" >0.048872</td>\n",
       "      <td id=\"T_9e92d_row70_col2\" class=\"data row70 col2\" >0.092534</td>\n",
       "      <td id=\"T_9e92d_row70_col3\" class=\"data row70 col3\" >0.095223</td>\n",
       "    </tr>\n",
       "    <tr>\n",
       "      <th id=\"T_9e92d_level0_row71\" class=\"row_heading level0 row71\" >63</th>\n",
       "      <td id=\"T_9e92d_row71_col0\" class=\"data row71 col0\" >Uzbekistan</td>\n",
       "      <td id=\"T_9e92d_row71_col1\" class=\"data row71 col1\" >0.044962</td>\n",
       "      <td id=\"T_9e92d_row71_col2\" class=\"data row71 col2\" >0.108863</td>\n",
       "      <td id=\"T_9e92d_row71_col3\" class=\"data row71 col3\" >0.015870</td>\n",
       "    </tr>\n",
       "    <tr>\n",
       "      <th id=\"T_9e92d_level0_row72\" class=\"row_heading level0 row72\" >107</th>\n",
       "      <td id=\"T_9e92d_row72_col0\" class=\"data row72 col0\" >Guatemala</td>\n",
       "      <td id=\"T_9e92d_row72_col1\" class=\"data row72 col1\" >0.044962</td>\n",
       "      <td id=\"T_9e92d_row72_col2\" class=\"data row72 col2\" >0.000000</td>\n",
       "      <td id=\"T_9e92d_row72_col3\" class=\"data row72 col3\" >0.000000</td>\n",
       "    </tr>\n",
       "    <tr>\n",
       "      <th id=\"T_9e92d_level0_row73\" class=\"row_heading level0 row73\" >69</th>\n",
       "      <td id=\"T_9e92d_row73_col0\" class=\"data row73 col0\" >Azerbaijan</td>\n",
       "      <td id=\"T_9e92d_row73_col1\" class=\"data row73 col1\" >0.043007</td>\n",
       "      <td id=\"T_9e92d_row73_col2\" class=\"data row73 col2\" >0.117935</td>\n",
       "      <td id=\"T_9e92d_row73_col3\" class=\"data row73 col3\" >0.015870</td>\n",
       "    </tr>\n",
       "    <tr>\n",
       "      <th id=\"T_9e92d_level0_row74\" class=\"row_heading level0 row74\" >75</th>\n",
       "      <td id=\"T_9e92d_row74_col0\" class=\"data row74 col0\" >Slovakia</td>\n",
       "      <td id=\"T_9e92d_row74_col1\" class=\"data row74 col1\" >0.034210</td>\n",
       "      <td id=\"T_9e92d_row74_col2\" class=\"data row74 col2\" >0.121564</td>\n",
       "      <td id=\"T_9e92d_row74_col3\" class=\"data row74 col3\" >0.031741</td>\n",
       "    </tr>\n",
       "    <tr>\n",
       "      <th id=\"T_9e92d_level0_row75\" class=\"row_heading level0 row75\" >96</th>\n",
       "      <td id=\"T_9e92d_row75_col0\" class=\"data row75 col0\" >Kyrgyzstan</td>\n",
       "      <td id=\"T_9e92d_row75_col1\" class=\"data row75 col1\" >0.033233</td>\n",
       "      <td id=\"T_9e92d_row75_col2\" class=\"data row75 col2\" >0.078019</td>\n",
       "      <td id=\"T_9e92d_row75_col3\" class=\"data row75 col3\" >0.000000</td>\n",
       "    </tr>\n",
       "    <tr>\n",
       "      <th id=\"T_9e92d_level0_row76\" class=\"row_heading level0 row76\" >66</th>\n",
       "      <td id=\"T_9e92d_row76_col0\" class=\"data row76 col0\" >Iraq</td>\n",
       "      <td id=\"T_9e92d_row76_col1\" class=\"data row76 col1\" >0.030301</td>\n",
       "      <td id=\"T_9e92d_row76_col2\" class=\"data row76 col2\" >0.059875</td>\n",
       "      <td id=\"T_9e92d_row76_col3\" class=\"data row76 col3\" >0.047611</td>\n",
       "    </tr>\n",
       "    <tr>\n",
       "      <th id=\"T_9e92d_level0_row77\" class=\"row_heading level0 row77\" >118</th>\n",
       "      <td id=\"T_9e92d_row77_col0\" class=\"data row77 col0\" >Jamaica</td>\n",
       "      <td id=\"T_9e92d_row77_col1\" class=\"data row77 col1\" >0.030301</td>\n",
       "      <td id=\"T_9e92d_row77_col2\" class=\"data row77 col2\" >0.000000</td>\n",
       "      <td id=\"T_9e92d_row77_col3\" class=\"data row77 col3\" >0.015870</td>\n",
       "    </tr>\n",
       "    <tr>\n",
       "      <th id=\"T_9e92d_level0_row78\" class=\"row_heading level0 row78\" >52</th>\n",
       "      <td id=\"T_9e92d_row78_col0\" class=\"data row78 col0\" >Luxembourg</td>\n",
       "      <td id=\"T_9e92d_row78_col1\" class=\"data row78 col1\" >0.029323</td>\n",
       "      <td id=\"T_9e92d_row78_col2\" class=\"data row78 col2\" >4.134990</td>\n",
       "      <td id=\"T_9e92d_row78_col3\" class=\"data row78 col3\" >0.031741</td>\n",
       "    </tr>\n",
       "    <tr>\n",
       "      <th id=\"T_9e92d_level0_row79\" class=\"row_heading level0 row79\" >62</th>\n",
       "      <td id=\"T_9e92d_row79_col0\" class=\"data row79 col0\" >Croatia</td>\n",
       "      <td id=\"T_9e92d_row79_col1\" class=\"data row79 col1\" >0.027368</td>\n",
       "      <td id=\"T_9e92d_row79_col2\" class=\"data row79 col2\" >0.179624</td>\n",
       "      <td id=\"T_9e92d_row79_col3\" class=\"data row79 col3\" >0.015870</td>\n",
       "    </tr>\n",
       "    <tr>\n",
       "      <th id=\"T_9e92d_level0_row80\" class=\"row_heading level0 row80\" >59</th>\n",
       "      <td id=\"T_9e92d_row80_col0\" class=\"data row80 col0\" >Greece</td>\n",
       "      <td id=\"T_9e92d_row80_col1\" class=\"data row80 col1\" >0.026391</td>\n",
       "      <td id=\"T_9e92d_row80_col2\" class=\"data row80 col2\" >0.000000</td>\n",
       "      <td id=\"T_9e92d_row80_col3\" class=\"data row80 col3\" >0.079352</td>\n",
       "    </tr>\n",
       "    <tr>\n",
       "      <th id=\"T_9e92d_level0_row81\" class=\"row_heading level0 row81\" >77</th>\n",
       "      <td id=\"T_9e92d_row81_col0\" class=\"data row81 col0\" >North Macedonia</td>\n",
       "      <td id=\"T_9e92d_row81_col1\" class=\"data row81 col1\" >0.025413</td>\n",
       "      <td id=\"T_9e92d_row81_col2\" class=\"data row81 col2\" >0.065318</td>\n",
       "      <td id=\"T_9e92d_row81_col3\" class=\"data row81 col3\" >0.015870</td>\n",
       "    </tr>\n",
       "    <tr>\n",
       "      <th id=\"T_9e92d_level0_row82\" class=\"row_heading level0 row82\" >119</th>\n",
       "      <td id=\"T_9e92d_row82_col0\" class=\"data row82 col0\" >El Salvador</td>\n",
       "      <td id=\"T_9e92d_row82_col1\" class=\"data row82 col1\" >0.023459</td>\n",
       "      <td id=\"T_9e92d_row82_col2\" class=\"data row82 col2\" >0.014515</td>\n",
       "      <td id=\"T_9e92d_row82_col3\" class=\"data row82 col3\" >0.000000</td>\n",
       "    </tr>\n",
       "    <tr>\n",
       "      <th id=\"T_9e92d_level0_row83\" class=\"row_heading level0 row83\" >124</th>\n",
       "      <td id=\"T_9e92d_row83_col0\" class=\"data row83 col0\" >Rwanda</td>\n",
       "      <td id=\"T_9e92d_row83_col1\" class=\"data row83 col1\" >0.021504</td>\n",
       "      <td id=\"T_9e92d_row83_col2\" class=\"data row83 col2\" >0.000000</td>\n",
       "      <td id=\"T_9e92d_row83_col3\" class=\"data row83 col3\" >0.000000</td>\n",
       "    </tr>\n",
       "    <tr>\n",
       "      <th id=\"T_9e92d_level0_row84\" class=\"row_heading level0 row84\" >129</th>\n",
       "      <td id=\"T_9e92d_row84_col0\" class=\"data row84 col0\" >Maldives</td>\n",
       "      <td id=\"T_9e92d_row84_col1\" class=\"data row84 col1\" >0.020526</td>\n",
       "      <td id=\"T_9e92d_row84_col2\" class=\"data row84 col2\" >0.000000</td>\n",
       "      <td id=\"T_9e92d_row84_col3\" class=\"data row84 col3\" >0.000000</td>\n",
       "    </tr>\n",
       "    <tr>\n",
       "      <th id=\"T_9e92d_level0_row85\" class=\"row_heading level0 row85\" >146</th>\n",
       "      <td id=\"T_9e92d_row85_col0\" class=\"data row85 col0\" >Mozambique</td>\n",
       "      <td id=\"T_9e92d_row85_col1\" class=\"data row85 col1\" >0.018571</td>\n",
       "      <td id=\"T_9e92d_row85_col2\" class=\"data row85 col2\" >0.005443</td>\n",
       "      <td id=\"T_9e92d_row85_col3\" class=\"data row85 col3\" >0.000000</td>\n",
       "    </tr>\n",
       "    <tr>\n",
       "      <th id=\"T_9e92d_level0_row86\" class=\"row_heading level0 row86\" >105</th>\n",
       "      <td id=\"T_9e92d_row86_col0\" class=\"data row86 col0\" >Georgia</td>\n",
       "      <td id=\"T_9e92d_row86_col1\" class=\"data row86 col1\" >0.018571</td>\n",
       "      <td id=\"T_9e92d_row86_col2\" class=\"data row86 col2\" >0.038102</td>\n",
       "      <td id=\"T_9e92d_row86_col3\" class=\"data row86 col3\" >0.000000</td>\n",
       "    </tr>\n",
       "    <tr>\n",
       "      <th id=\"T_9e92d_level0_row87\" class=\"row_heading level0 row87\" >139</th>\n",
       "      <td id=\"T_9e92d_row87_col0\" class=\"data row87 col0\" >Sierra Leone</td>\n",
       "      <td id=\"T_9e92d_row87_col1\" class=\"data row87 col1\" >0.017594</td>\n",
       "      <td id=\"T_9e92d_row87_col2\" class=\"data row87 col2\" >0.000000</td>\n",
       "      <td id=\"T_9e92d_row87_col3\" class=\"data row87 col3\" >0.015870</td>\n",
       "    </tr>\n",
       "    <tr>\n",
       "      <th id=\"T_9e92d_level0_row88\" class=\"row_heading level0 row88\" >110</th>\n",
       "      <td id=\"T_9e92d_row88_col0\" class=\"data row88 col0\" >Congo (Kinshasa)</td>\n",
       "      <td id=\"T_9e92d_row88_col1\" class=\"data row88 col1\" >0.016616</td>\n",
       "      <td id=\"T_9e92d_row88_col2\" class=\"data row88 col2\" >0.001814</td>\n",
       "      <td id=\"T_9e92d_row88_col3\" class=\"data row88 col3\" >0.000000</td>\n",
       "    </tr>\n",
       "    <tr>\n",
       "      <th id=\"T_9e92d_level0_row89\" class=\"row_heading level0 row89\" >133</th>\n",
       "      <td id=\"T_9e92d_row89_col0\" class=\"data row89 col0\" >Liberia</td>\n",
       "      <td id=\"T_9e92d_row89_col1\" class=\"data row89 col1\" >0.015639</td>\n",
       "      <td id=\"T_9e92d_row89_col2\" class=\"data row89 col2\" >0.009072</td>\n",
       "      <td id=\"T_9e92d_row89_col3\" class=\"data row89 col3\" >0.000000</td>\n",
       "    </tr>\n",
       "    <tr>\n",
       "      <th id=\"T_9e92d_level0_row90\" class=\"row_heading level0 row90\" >41</th>\n",
       "      <td id=\"T_9e92d_row90_col0\" class=\"data row90 col0\" >Australia</td>\n",
       "      <td id=\"T_9e92d_row90_col1\" class=\"data row90 col1\" >0.015639</td>\n",
       "      <td id=\"T_9e92d_row90_col2\" class=\"data row90 col2\" >0.000000</td>\n",
       "      <td id=\"T_9e92d_row90_col3\" class=\"data row90 col3\" >0.063482</td>\n",
       "    </tr>\n",
       "    <tr>\n",
       "      <th id=\"T_9e92d_level0_row91\" class=\"row_heading level0 row91\" >114</th>\n",
       "      <td id=\"T_9e92d_row91_col0\" class=\"data row91 col0\" >Mali</td>\n",
       "      <td id=\"T_9e92d_row91_col1\" class=\"data row91 col1\" >0.015639</td>\n",
       "      <td id=\"T_9e92d_row91_col2\" class=\"data row91 col2\" >0.018144</td>\n",
       "      <td id=\"T_9e92d_row91_col3\" class=\"data row91 col3\" >0.000000</td>\n",
       "    </tr>\n",
       "    <tr>\n",
       "      <th id=\"T_9e92d_level0_row92\" class=\"row_heading level0 row92\" >111</th>\n",
       "      <td id=\"T_9e92d_row92_col0\" class=\"data row92 col0\" >Kenya</td>\n",
       "      <td id=\"T_9e92d_row92_col1\" class=\"data row92 col1\" >0.015639</td>\n",
       "      <td id=\"T_9e92d_row92_col2\" class=\"data row92 col2\" >0.009072</td>\n",
       "      <td id=\"T_9e92d_row92_col3\" class=\"data row92 col3\" >0.000000</td>\n",
       "    </tr>\n",
       "    <tr>\n",
       "      <th id=\"T_9e92d_level0_row93\" class=\"row_heading level0 row93\" >8</th>\n",
       "      <td id=\"T_9e92d_row93_col0\" class=\"data row93 col0\" >Mainland China</td>\n",
       "      <td id=\"T_9e92d_row93_col1\" class=\"data row93 col1\" >0.014662</td>\n",
       "      <td id=\"T_9e92d_row93_col2\" class=\"data row93 col2\" >0.181439</td>\n",
       "      <td id=\"T_9e92d_row93_col3\" class=\"data row93 col3\" >0.000000</td>\n",
       "    </tr>\n",
       "    <tr>\n",
       "      <th id=\"T_9e92d_level0_row94\" class=\"row_heading level0 row94\" >117</th>\n",
       "      <td id=\"T_9e92d_row94_col0\" class=\"data row94 col0\" >Tanzania</td>\n",
       "      <td id=\"T_9e92d_row94_col1\" class=\"data row94 col1\" >0.014662</td>\n",
       "      <td id=\"T_9e92d_row94_col2\" class=\"data row94 col2\" >0.067132</td>\n",
       "      <td id=\"T_9e92d_row94_col3\" class=\"data row94 col3\" >0.000000</td>\n",
       "    </tr>\n",
       "    <tr>\n",
       "      <th id=\"T_9e92d_level0_row95\" class=\"row_heading level0 row95\" >95</th>\n",
       "      <td id=\"T_9e92d_row95_col0\" class=\"data row95 col0\" >Albania</td>\n",
       "      <td id=\"T_9e92d_row95_col1\" class=\"data row95 col1\" >0.014662</td>\n",
       "      <td id=\"T_9e92d_row95_col2\" class=\"data row95 col2\" >0.016329</td>\n",
       "      <td id=\"T_9e92d_row95_col3\" class=\"data row95 col3\" >0.000000</td>\n",
       "    </tr>\n",
       "    <tr>\n",
       "      <th id=\"T_9e92d_level0_row96\" class=\"row_heading level0 row96\" >123</th>\n",
       "      <td id=\"T_9e92d_row96_col0\" class=\"data row96 col0\" >Congo (Brazzaville)</td>\n",
       "      <td id=\"T_9e92d_row96_col1\" class=\"data row96 col1\" >0.013684</td>\n",
       "      <td id=\"T_9e92d_row96_col2\" class=\"data row96 col2\" >0.005443</td>\n",
       "      <td id=\"T_9e92d_row96_col3\" class=\"data row96 col3\" >0.000000</td>\n",
       "    </tr>\n",
       "    <tr>\n",
       "      <th id=\"T_9e92d_level0_row97\" class=\"row_heading level0 row97\" >67</th>\n",
       "      <td id=\"T_9e92d_row97_col0\" class=\"data row97 col0\" >Estonia</td>\n",
       "      <td id=\"T_9e92d_row97_col1\" class=\"data row97 col1\" >0.012707</td>\n",
       "      <td id=\"T_9e92d_row97_col2\" class=\"data row97 col2\" >0.025401</td>\n",
       "      <td id=\"T_9e92d_row97_col3\" class=\"data row97 col3\" >0.015870</td>\n",
       "    </tr>\n",
       "    <tr>\n",
       "      <th id=\"T_9e92d_level0_row98\" class=\"row_heading level0 row98\" >97</th>\n",
       "      <td id=\"T_9e92d_row98_col0\" class=\"data row98 col0\" >Burkina Faso</td>\n",
       "      <td id=\"T_9e92d_row98_col1\" class=\"data row98 col1\" >0.012707</td>\n",
       "      <td id=\"T_9e92d_row98_col2\" class=\"data row98 col2\" >0.027216</td>\n",
       "      <td id=\"T_9e92d_row98_col3\" class=\"data row98 col3\" >0.000000</td>\n",
       "    </tr>\n",
       "    <tr>\n",
       "      <th id=\"T_9e92d_level0_row99\" class=\"row_heading level0 row99\" >84</th>\n",
       "      <td id=\"T_9e92d_row99_col0\" class=\"data row99 col0\" >Djibouti</td>\n",
       "      <td id=\"T_9e92d_row99_col1\" class=\"data row99 col1\" >0.012707</td>\n",
       "      <td id=\"T_9e92d_row99_col2\" class=\"data row99 col2\" >0.141522</td>\n",
       "      <td id=\"T_9e92d_row99_col3\" class=\"data row99 col3\" >0.000000</td>\n",
       "    </tr>\n",
       "    <tr>\n",
       "      <th id=\"T_9e92d_level0_row100\" class=\"row_heading level0 row100\" >73</th>\n",
       "      <td id=\"T_9e92d_row100_col0\" class=\"data row100 col0\" >Lithuania</td>\n",
       "      <td id=\"T_9e92d_row100_col1\" class=\"data row100 col1\" >0.011729</td>\n",
       "      <td id=\"T_9e92d_row100_col2\" class=\"data row100 col2\" >0.056246</td>\n",
       "      <td id=\"T_9e92d_row100_col3\" class=\"data row100 col3\" >0.000000</td>\n",
       "    </tr>\n",
       "    <tr>\n",
       "      <th id=\"T_9e92d_level0_row101\" class=\"row_heading level0 row101\" >101</th>\n",
       "      <td id=\"T_9e92d_row101_col0\" class=\"data row101 col0\" >San Marino</td>\n",
       "      <td id=\"T_9e92d_row101_col1\" class=\"data row101 col1\" >0.011729</td>\n",
       "      <td id=\"T_9e92d_row101_col2\" class=\"data row101 col2\" >0.001814</td>\n",
       "      <td id=\"T_9e92d_row101_col3\" class=\"data row101 col3\" >0.000000</td>\n",
       "    </tr>\n",
       "    <tr>\n",
       "      <th id=\"T_9e92d_level0_row102\" class=\"row_heading level0 row102\" >30</th>\n",
       "      <td id=\"T_9e92d_row102_col0\" class=\"data row102 col0\" >South Korea</td>\n",
       "      <td id=\"T_9e92d_row102_col1\" class=\"data row102 col1\" >0.009774</td>\n",
       "      <td id=\"T_9e92d_row102_col2\" class=\"data row102 col2\" >0.243128</td>\n",
       "      <td id=\"T_9e92d_row102_col3\" class=\"data row102 col3\" >0.000000</td>\n",
       "    </tr>\n",
       "    <tr>\n",
       "      <th id=\"T_9e92d_level0_row103\" class=\"row_heading level0 row103\" >121</th>\n",
       "      <td id=\"T_9e92d_row103_col0\" class=\"data row103 col0\" >Paraguay</td>\n",
       "      <td id=\"T_9e92d_row103_col1\" class=\"data row103 col1\" >0.009774</td>\n",
       "      <td id=\"T_9e92d_row103_col2\" class=\"data row103 col2\" >0.019958</td>\n",
       "      <td id=\"T_9e92d_row103_col3\" class=\"data row103 col3\" >0.000000</td>\n",
       "    </tr>\n",
       "    <tr>\n",
       "      <th id=\"T_9e92d_level0_row104\" class=\"row_heading level0 row104\" >94</th>\n",
       "      <td id=\"T_9e92d_row104_col0\" class=\"data row104 col0\" >Niger</td>\n",
       "      <td id=\"T_9e92d_row104_col1\" class=\"data row104 col1\" >0.009774</td>\n",
       "      <td id=\"T_9e92d_row104_col2\" class=\"data row104 col2\" >0.059875</td>\n",
       "      <td id=\"T_9e92d_row104_col3\" class=\"data row104 col3\" >0.000000</td>\n",
       "    </tr>\n",
       "    <tr>\n",
       "      <th id=\"T_9e92d_level0_row105\" class=\"row_heading level0 row105\" >88</th>\n",
       "      <td id=\"T_9e92d_row105_col0\" class=\"data row105 col0\" >Cyprus</td>\n",
       "      <td id=\"T_9e92d_row105_col1\" class=\"data row105 col1\" >0.008797</td>\n",
       "      <td id=\"T_9e92d_row105_col2\" class=\"data row105 col2\" >0.000000</td>\n",
       "      <td id=\"T_9e92d_row105_col3\" class=\"data row105 col3\" >0.015870</td>\n",
       "    </tr>\n",
       "    <tr>\n",
       "      <th id=\"T_9e92d_level0_row106\" class=\"row_heading level0 row106\" >90</th>\n",
       "      <td id=\"T_9e92d_row106_col0\" class=\"data row106 col0\" >Andorra</td>\n",
       "      <td id=\"T_9e92d_row106_col1\" class=\"data row106 col1\" >0.007820</td>\n",
       "      <td id=\"T_9e92d_row106_col2\" class=\"data row106 col2\" >0.019958</td>\n",
       "      <td id=\"T_9e92d_row106_col3\" class=\"data row106 col3\" >0.047611</td>\n",
       "    </tr>\n",
       "    <tr>\n",
       "      <th id=\"T_9e92d_level0_row107\" class=\"row_heading level0 row107\" >138</th>\n",
       "      <td id=\"T_9e92d_row107_col0\" class=\"data row107 col0\" >Zambia</td>\n",
       "      <td id=\"T_9e92d_row107_col1\" class=\"data row107 col1\" >0.007820</td>\n",
       "      <td id=\"T_9e92d_row107_col2\" class=\"data row107 col2\" >0.000000</td>\n",
       "      <td id=\"T_9e92d_row107_col3\" class=\"data row107 col3\" >0.000000</td>\n",
       "    </tr>\n",
       "    <tr>\n",
       "      <th id=\"T_9e92d_level0_row108\" class=\"row_heading level0 row108\" >72</th>\n",
       "      <td id=\"T_9e92d_row108_col0\" class=\"data row108 col0\" >Bosnia and Herzegovina</td>\n",
       "      <td id=\"T_9e92d_row108_col1\" class=\"data row108 col1\" >0.007820</td>\n",
       "      <td id=\"T_9e92d_row108_col2\" class=\"data row108 col2\" >0.096163</td>\n",
       "      <td id=\"T_9e92d_row108_col3\" class=\"data row108 col3\" >0.015870</td>\n",
       "    </tr>\n",
       "    <tr>\n",
       "      <th id=\"T_9e92d_level0_row109\" class=\"row_heading level0 row109\" >92</th>\n",
       "      <td id=\"T_9e92d_row109_col0\" class=\"data row109 col0\" >Lebanon</td>\n",
       "      <td id=\"T_9e92d_row109_col1\" class=\"data row109 col1\" >0.007820</td>\n",
       "      <td id=\"T_9e92d_row109_col2\" class=\"data row109 col2\" >0.000000</td>\n",
       "      <td id=\"T_9e92d_row109_col3\" class=\"data row109 col3\" >0.000000</td>\n",
       "    </tr>\n",
       "    <tr>\n",
       "      <th id=\"T_9e92d_level0_row110\" class=\"row_heading level0 row110\" >74</th>\n",
       "      <td id=\"T_9e92d_row110_col0\" class=\"data row110 col0\" >Slovenia</td>\n",
       "      <td id=\"T_9e92d_row110_col1\" class=\"data row110 col1\" >0.006842</td>\n",
       "      <td id=\"T_9e92d_row110_col2\" class=\"data row110 col2\" >0.000000</td>\n",
       "      <td id=\"T_9e92d_row110_col3\" class=\"data row110 col3\" >0.015870</td>\n",
       "    </tr>\n",
       "    <tr>\n",
       "      <th id=\"T_9e92d_level0_row111\" class=\"row_heading level0 row111\" >153</th>\n",
       "      <td id=\"T_9e92d_row111_col0\" class=\"data row111 col0\" >Chad</td>\n",
       "      <td id=\"T_9e92d_row111_col1\" class=\"data row111 col1\" >0.006842</td>\n",
       "      <td id=\"T_9e92d_row111_col2\" class=\"data row111 col2\" >0.000000</td>\n",
       "      <td id=\"T_9e92d_row111_col3\" class=\"data row111 col3\" >0.000000</td>\n",
       "    </tr>\n",
       "    <tr>\n",
       "      <th id=\"T_9e92d_level0_row112\" class=\"row_heading level0 row112\" >116</th>\n",
       "      <td id=\"T_9e92d_row112_col0\" class=\"data row112 col0\" >Venezuela</td>\n",
       "      <td id=\"T_9e92d_row112_col1\" class=\"data row112 col1\" >0.006842</td>\n",
       "      <td id=\"T_9e92d_row112_col2\" class=\"data row112 col2\" >0.010886</td>\n",
       "      <td id=\"T_9e92d_row112_col3\" class=\"data row112 col3\" >0.000000</td>\n",
       "    </tr>\n",
       "    <tr>\n",
       "      <th id=\"T_9e92d_level0_row113\" class=\"row_heading level0 row113\" >137</th>\n",
       "      <td id=\"T_9e92d_row113_col0\" class=\"data row113 col0\" >Cabo Verde</td>\n",
       "      <td id=\"T_9e92d_row113_col1\" class=\"data row113 col1\" >0.005865</td>\n",
       "      <td id=\"T_9e92d_row113_col2\" class=\"data row113 col2\" >0.000000</td>\n",
       "      <td id=\"T_9e92d_row113_col3\" class=\"data row113 col3\" >0.000000</td>\n",
       "    </tr>\n",
       "    <tr>\n",
       "      <th id=\"T_9e92d_level0_row114\" class=\"row_heading level0 row114\" >99</th>\n",
       "      <td id=\"T_9e92d_row114_col0\" class=\"data row114 col0\" >Uruguay</td>\n",
       "      <td id=\"T_9e92d_row114_col1\" class=\"data row114 col1\" >0.005865</td>\n",
       "      <td id=\"T_9e92d_row114_col2\" class=\"data row114 col2\" >0.027216</td>\n",
       "      <td id=\"T_9e92d_row114_col3\" class=\"data row114 col3\" >0.000000</td>\n",
       "    </tr>\n",
       "    <tr>\n",
       "      <th id=\"T_9e92d_level0_row115\" class=\"row_heading level0 row115\" >89</th>\n",
       "      <td id=\"T_9e92d_row115_col0\" class=\"data row115 col0\" >Latvia</td>\n",
       "      <td id=\"T_9e92d_row115_col1\" class=\"data row115 col1\" >0.005865</td>\n",
       "      <td id=\"T_9e92d_row115_col2\" class=\"data row115 col2\" >0.243128</td>\n",
       "      <td id=\"T_9e92d_row115_col3\" class=\"data row115 col3\" >0.015870</td>\n",
       "    </tr>\n",
       "    <tr>\n",
       "      <th id=\"T_9e92d_level0_row116\" class=\"row_heading level0 row116\" >126</th>\n",
       "      <td id=\"T_9e92d_row116_col0\" class=\"data row116 col0\" >Gabon</td>\n",
       "      <td id=\"T_9e92d_row116_col1\" class=\"data row116 col1\" >0.004887</td>\n",
       "      <td id=\"T_9e92d_row116_col2\" class=\"data row116 col2\" >0.003629</td>\n",
       "      <td id=\"T_9e92d_row116_col3\" class=\"data row116 col3\" >0.015870</td>\n",
       "    </tr>\n",
       "    <tr>\n",
       "      <th id=\"T_9e92d_level0_row117\" class=\"row_heading level0 row117\" >70</th>\n",
       "      <td id=\"T_9e92d_row117_col0\" class=\"data row117 col0\" >New Zealand</td>\n",
       "      <td id=\"T_9e92d_row117_col1\" class=\"data row117 col1\" >0.004887</td>\n",
       "      <td id=\"T_9e92d_row117_col2\" class=\"data row117 col2\" >0.041731</td>\n",
       "      <td id=\"T_9e92d_row117_col3\" class=\"data row117 col3\" >0.015870</td>\n",
       "    </tr>\n",
       "    <tr>\n",
       "      <th id=\"T_9e92d_level0_row118\" class=\"row_heading level0 row118\" >127</th>\n",
       "      <td id=\"T_9e92d_row118_col0\" class=\"data row118 col0\" >Burma</td>\n",
       "      <td id=\"T_9e92d_row118_col1\" class=\"data row118 col1\" >0.004887</td>\n",
       "      <td id=\"T_9e92d_row118_col2\" class=\"data row118 col2\" >0.000000</td>\n",
       "      <td id=\"T_9e92d_row118_col3\" class=\"data row118 col3\" >0.000000</td>\n",
       "    </tr>\n",
       "    <tr>\n",
       "      <th id=\"T_9e92d_level0_row119\" class=\"row_heading level0 row119\" >156</th>\n",
       "      <td id=\"T_9e92d_row119_col0\" class=\"data row119 col0\" >Eswatini</td>\n",
       "      <td id=\"T_9e92d_row119_col1\" class=\"data row119 col1\" >0.004887</td>\n",
       "      <td id=\"T_9e92d_row119_col2\" class=\"data row119 col2\" >0.003629</td>\n",
       "      <td id=\"T_9e92d_row119_col3\" class=\"data row119 col3\" >0.000000</td>\n",
       "    </tr>\n",
       "    <tr>\n",
       "      <th id=\"T_9e92d_level0_row120\" class=\"row_heading level0 row120\" >86</th>\n",
       "      <td id=\"T_9e92d_row120_col0\" class=\"data row120 col0\" >Tunisia</td>\n",
       "      <td id=\"T_9e92d_row120_col1\" class=\"data row120 col1\" >0.003910</td>\n",
       "      <td id=\"T_9e92d_row120_col2\" class=\"data row120 col2\" >0.007258</td>\n",
       "      <td id=\"T_9e92d_row120_col3\" class=\"data row120 col3\" >0.000000</td>\n",
       "    </tr>\n",
       "    <tr>\n",
       "      <th id=\"T_9e92d_level0_row121\" class=\"row_heading level0 row121\" >106</th>\n",
       "      <td id=\"T_9e92d_row121_col0\" class=\"data row121 col0\" >Jordan</td>\n",
       "      <td id=\"T_9e92d_row121_col1\" class=\"data row121 col1\" >0.003910</td>\n",
       "      <td id=\"T_9e92d_row121_col2\" class=\"data row121 col2\" >0.014515</td>\n",
       "      <td id=\"T_9e92d_row121_col3\" class=\"data row121 col3\" >0.000000</td>\n",
       "    </tr>\n",
       "    <tr>\n",
       "      <th id=\"T_9e92d_level0_row122\" class=\"row_heading level0 row122\" >103</th>\n",
       "      <td id=\"T_9e92d_row122_col0\" class=\"data row122 col0\" >West Bank and Gaza</td>\n",
       "      <td id=\"T_9e92d_row122_col1\" class=\"data row122 col1\" >0.003910</td>\n",
       "      <td id=\"T_9e92d_row122_col2\" class=\"data row122 col2\" >0.000000</td>\n",
       "      <td id=\"T_9e92d_row122_col3\" class=\"data row122 col3\" >0.000000</td>\n",
       "    </tr>\n",
       "    <tr>\n",
       "      <th id=\"T_9e92d_level0_row123\" class=\"row_heading level0 row123\" >115</th>\n",
       "      <td id=\"T_9e92d_row123_col0\" class=\"data row123 col0\" >Montenegro</td>\n",
       "      <td id=\"T_9e92d_row123_col1\" class=\"data row123 col1\" >0.002932</td>\n",
       "      <td id=\"T_9e92d_row123_col2\" class=\"data row123 col2\" >0.000000</td>\n",
       "      <td id=\"T_9e92d_row123_col3\" class=\"data row123 col3\" >0.015870</td>\n",
       "    </tr>\n",
       "    <tr>\n",
       "      <th id=\"T_9e92d_level0_row124\" class=\"row_heading level0 row124\" >143</th>\n",
       "      <td id=\"T_9e92d_row124_col0\" class=\"data row124 col0\" >Guyana</td>\n",
       "      <td id=\"T_9e92d_row124_col1\" class=\"data row124 col1\" >0.002932</td>\n",
       "      <td id=\"T_9e92d_row124_col2\" class=\"data row124 col2\" >0.005443</td>\n",
       "      <td id=\"T_9e92d_row124_col3\" class=\"data row124 col3\" >0.000000</td>\n",
       "    </tr>\n",
       "    <tr>\n",
       "      <th id=\"T_9e92d_level0_row125\" class=\"row_heading level0 row125\" >120</th>\n",
       "      <td id=\"T_9e92d_row125_col0\" class=\"data row125 col0\" >Vietnam</td>\n",
       "      <td id=\"T_9e92d_row125_col1\" class=\"data row125 col1\" >0.001955</td>\n",
       "      <td id=\"T_9e92d_row125_col2\" class=\"data row125 col2\" >-0.007258</td>\n",
       "      <td id=\"T_9e92d_row125_col3\" class=\"data row125 col3\" >0.000000</td>\n",
       "    </tr>\n",
       "    <tr>\n",
       "      <th id=\"T_9e92d_level0_row126\" class=\"row_heading level0 row126\" >104</th>\n",
       "      <td id=\"T_9e92d_row126_col0\" class=\"data row126 col0\" >Malta</td>\n",
       "      <td id=\"T_9e92d_row126_col1\" class=\"data row126 col1\" >0.001955</td>\n",
       "      <td id=\"T_9e92d_row126_col2\" class=\"data row126 col2\" >0.034473</td>\n",
       "      <td id=\"T_9e92d_row126_col3\" class=\"data row126 col3\" >0.000000</td>\n",
       "    </tr>\n",
       "    <tr>\n",
       "      <th id=\"T_9e92d_level0_row127\" class=\"row_heading level0 row127\" >136</th>\n",
       "      <td id=\"T_9e92d_row127_col0\" class=\"data row127 col0\" >Togo</td>\n",
       "      <td id=\"T_9e92d_row127_col1\" class=\"data row127 col1\" >0.001955</td>\n",
       "      <td id=\"T_9e92d_row127_col2\" class=\"data row127 col2\" >0.000000</td>\n",
       "      <td id=\"T_9e92d_row127_col3\" class=\"data row127 col3\" >0.000000</td>\n",
       "    </tr>\n",
       "    <tr>\n",
       "      <th id=\"T_9e92d_level0_row128\" class=\"row_heading level0 row128\" >149</th>\n",
       "      <td id=\"T_9e92d_row128_col0\" class=\"data row128 col0\" >Guinea-Bissau</td>\n",
       "      <td id=\"T_9e92d_row128_col1\" class=\"data row128 col1\" >0.001955</td>\n",
       "      <td id=\"T_9e92d_row128_col2\" class=\"data row128 col2\" >0.000000</td>\n",
       "      <td id=\"T_9e92d_row128_col3\" class=\"data row128 col3\" >0.000000</td>\n",
       "    </tr>\n",
       "    <tr>\n",
       "      <th id=\"T_9e92d_level0_row129\" class=\"row_heading level0 row129\" >172</th>\n",
       "      <td id=\"T_9e92d_row129_col0\" class=\"data row129 col0\" >Saint Vincent and the Grenadines</td>\n",
       "      <td id=\"T_9e92d_row129_col1\" class=\"data row129 col1\" >0.000977</td>\n",
       "      <td id=\"T_9e92d_row129_col2\" class=\"data row129 col2\" >0.003629</td>\n",
       "      <td id=\"T_9e92d_row129_col3\" class=\"data row129 col3\" >0.000000</td>\n",
       "    </tr>\n",
       "    <tr>\n",
       "      <th id=\"T_9e92d_level0_row130\" class=\"row_heading level0 row130\" >155</th>\n",
       "      <td id=\"T_9e92d_row130_col0\" class=\"data row130 col0\" >Mongolia</td>\n",
       "      <td id=\"T_9e92d_row130_col1\" class=\"data row130 col1\" >0.000977</td>\n",
       "      <td id=\"T_9e92d_row130_col2\" class=\"data row130 col2\" >0.000000</td>\n",
       "      <td id=\"T_9e92d_row130_col3\" class=\"data row130 col3\" >0.000000</td>\n",
       "    </tr>\n",
       "    <tr>\n",
       "      <th id=\"T_9e92d_level0_row131\" class=\"row_heading level0 row131\" >147</th>\n",
       "      <td id=\"T_9e92d_row131_col0\" class=\"data row131 col0\" >Libya</td>\n",
       "      <td id=\"T_9e92d_row131_col1\" class=\"data row131 col1\" >0.000977</td>\n",
       "      <td id=\"T_9e92d_row131_col2\" class=\"data row131 col2\" >0.005443</td>\n",
       "      <td id=\"T_9e92d_row131_col3\" class=\"data row131 col3\" >0.000000</td>\n",
       "    </tr>\n",
       "    <tr>\n",
       "      <th id=\"T_9e92d_level0_row132\" class=\"row_heading level0 row132\" >161</th>\n",
       "      <td id=\"T_9e92d_row132_col0\" class=\"data row132 col0\" >Timor-Leste</td>\n",
       "      <td id=\"T_9e92d_row132_col1\" class=\"data row132 col1\" >0.000977</td>\n",
       "      <td id=\"T_9e92d_row132_col2\" class=\"data row132 col2\" >0.001814</td>\n",
       "      <td id=\"T_9e92d_row132_col3\" class=\"data row132 col3\" >0.000000</td>\n",
       "    </tr>\n",
       "    <tr>\n",
       "      <th id=\"T_9e92d_level0_row133\" class=\"row_heading level0 row133\" >144</th>\n",
       "      <td id=\"T_9e92d_row133_col0\" class=\"data row133 col0\" >Bahamas</td>\n",
       "      <td id=\"T_9e92d_row133_col1\" class=\"data row133 col1\" >0.000977</td>\n",
       "      <td id=\"T_9e92d_row133_col2\" class=\"data row133 col2\" >0.001814</td>\n",
       "      <td id=\"T_9e92d_row133_col3\" class=\"data row133 col3\" >0.000000</td>\n",
       "    </tr>\n",
       "    <tr>\n",
       "      <th id=\"T_9e92d_level0_row134\" class=\"row_heading level0 row134\" >142</th>\n",
       "      <td id=\"T_9e92d_row134_col0\" class=\"data row134 col0\" >Uganda</td>\n",
       "      <td id=\"T_9e92d_row134_col1\" class=\"data row134 col1\" >0.000977</td>\n",
       "      <td id=\"T_9e92d_row134_col2\" class=\"data row134 col2\" >0.000000</td>\n",
       "      <td id=\"T_9e92d_row134_col3\" class=\"data row134 col3\" >0.000000</td>\n",
       "    </tr>\n",
       "    <tr>\n",
       "      <th id=\"T_9e92d_level0_row135\" class=\"row_heading level0 row135\" >158</th>\n",
       "      <td id=\"T_9e92d_row135_col0\" class=\"data row135 col0\" >Zimbabwe</td>\n",
       "      <td id=\"T_9e92d_row135_col1\" class=\"data row135 col1\" >0.000977</td>\n",
       "      <td id=\"T_9e92d_row135_col2\" class=\"data row135 col2\" >0.000000</td>\n",
       "      <td id=\"T_9e92d_row135_col3\" class=\"data row135 col3\" >0.000000</td>\n",
       "    </tr>\n",
       "    <tr>\n",
       "      <th id=\"T_9e92d_level0_row136\" class=\"row_heading level0 row136\" >141</th>\n",
       "      <td id=\"T_9e92d_row136_col0\" class=\"data row136 col0\" >Barbados</td>\n",
       "      <td id=\"T_9e92d_row136_col1\" class=\"data row136 col1\" >0.000977</td>\n",
       "      <td id=\"T_9e92d_row136_col2\" class=\"data row136 col2\" >0.001814</td>\n",
       "      <td id=\"T_9e92d_row136_col3\" class=\"data row136 col3\" >0.000000</td>\n",
       "    </tr>\n",
       "    <tr>\n",
       "      <th id=\"T_9e92d_level0_row137\" class=\"row_heading level0 row137\" >150</th>\n",
       "      <td id=\"T_9e92d_row137_col0\" class=\"data row137 col0\" >Nepal</td>\n",
       "      <td id=\"T_9e92d_row137_col1\" class=\"data row137 col1\" >0.000977</td>\n",
       "      <td id=\"T_9e92d_row137_col2\" class=\"data row137 col2\" >0.001814</td>\n",
       "      <td id=\"T_9e92d_row137_col3\" class=\"data row137 col3\" >0.000000</td>\n",
       "    </tr>\n",
       "    <tr>\n",
       "      <th id=\"T_9e92d_level0_row138\" class=\"row_heading level0 row138\" >93</th>\n",
       "      <td id=\"T_9e92d_row138_col0\" class=\"data row138 col0\" >Costa Rica</td>\n",
       "      <td id=\"T_9e92d_row138_col1\" class=\"data row138 col1\" >0.000977</td>\n",
       "      <td id=\"T_9e92d_row138_col2\" class=\"data row138 col2\" >0.036288</td>\n",
       "      <td id=\"T_9e92d_row138_col3\" class=\"data row138 col3\" >0.000000</td>\n",
       "    </tr>\n",
       "    <tr>\n",
       "      <th id=\"T_9e92d_level0_row139\" class=\"row_heading level0 row139\" >108</th>\n",
       "      <td id=\"T_9e92d_row139_col0\" class=\"data row139 col0\" >Taiwan</td>\n",
       "      <td id=\"T_9e92d_row139_col1\" class=\"data row139 col1\" >0.000977</td>\n",
       "      <td id=\"T_9e92d_row139_col2\" class=\"data row139 col2\" >0.019958</td>\n",
       "      <td id=\"T_9e92d_row139_col3\" class=\"data row139 col3\" >0.000000</td>\n",
       "    </tr>\n",
       "    <tr>\n",
       "      <th id=\"T_9e92d_level0_row140\" class=\"row_heading level0 row140\" >132</th>\n",
       "      <td id=\"T_9e92d_row140_col0\" class=\"data row140 col0\" >Ethiopia</td>\n",
       "      <td id=\"T_9e92d_row140_col1\" class=\"data row140 col1\" >0.000977</td>\n",
       "      <td id=\"T_9e92d_row140_col2\" class=\"data row140 col2\" >0.007258</td>\n",
       "      <td id=\"T_9e92d_row140_col3\" class=\"data row140 col3\" >0.000000</td>\n",
       "    </tr>\n",
       "    <tr>\n",
       "      <th id=\"T_9e92d_level0_row141\" class=\"row_heading level0 row141\" >131</th>\n",
       "      <td id=\"T_9e92d_row141_col0\" class=\"data row141 col0\" >Madagascar</td>\n",
       "      <td id=\"T_9e92d_row141_col1\" class=\"data row141 col1\" >0.000977</td>\n",
       "      <td id=\"T_9e92d_row141_col2\" class=\"data row141 col2\" >0.005443</td>\n",
       "      <td id=\"T_9e92d_row141_col3\" class=\"data row141 col3\" >0.000000</td>\n",
       "    </tr>\n",
       "    <tr>\n",
       "      <th id=\"T_9e92d_level0_row142\" class=\"row_heading level0 row142\" >135</th>\n",
       "      <td id=\"T_9e92d_row142_col0\" class=\"data row142 col0\" >Monaco</td>\n",
       "      <td id=\"T_9e92d_row142_col1\" class=\"data row142 col1\" >0.000000</td>\n",
       "      <td id=\"T_9e92d_row142_col2\" class=\"data row142 col2\" >0.010886</td>\n",
       "      <td id=\"T_9e92d_row142_col3\" class=\"data row142 col3\" >0.000000</td>\n",
       "    </tr>\n",
       "    <tr>\n",
       "      <th id=\"T_9e92d_level0_row143\" class=\"row_heading level0 row143\" >167</th>\n",
       "      <td id=\"T_9e92d_row143_col0\" class=\"data row143 col0\" >Central African Republic</td>\n",
       "      <td id=\"T_9e92d_row143_col1\" class=\"data row143 col1\" >0.000000</td>\n",
       "      <td id=\"T_9e92d_row143_col2\" class=\"data row143 col2\" >0.000000</td>\n",
       "      <td id=\"T_9e92d_row143_col3\" class=\"data row143 col3\" >0.000000</td>\n",
       "    </tr>\n",
       "    <tr>\n",
       "      <th id=\"T_9e92d_level0_row144\" class=\"row_heading level0 row144\" >168</th>\n",
       "      <td id=\"T_9e92d_row144_col0\" class=\"data row144 col0\" >Dominica</td>\n",
       "      <td id=\"T_9e92d_row144_col1\" class=\"data row144 col1\" >0.000000</td>\n",
       "      <td id=\"T_9e92d_row144_col2\" class=\"data row144 col2\" >0.001814</td>\n",
       "      <td id=\"T_9e92d_row144_col3\" class=\"data row144 col3\" >0.000000</td>\n",
       "    </tr>\n",
       "    <tr>\n",
       "      <th id=\"T_9e92d_level0_row145\" class=\"row_heading level0 row145\" >169</th>\n",
       "      <td id=\"T_9e92d_row145_col0\" class=\"data row145 col0\" >Grenada</td>\n",
       "      <td id=\"T_9e92d_row145_col1\" class=\"data row145 col1\" >0.000000</td>\n",
       "      <td id=\"T_9e92d_row145_col2\" class=\"data row145 col2\" >0.001814</td>\n",
       "      <td id=\"T_9e92d_row145_col3\" class=\"data row145 col3\" >0.000000</td>\n",
       "    </tr>\n",
       "    <tr>\n",
       "      <th id=\"T_9e92d_level0_row146\" class=\"row_heading level0 row146\" >170</th>\n",
       "      <td id=\"T_9e92d_row146_col0\" class=\"data row146 col0\" >Saint Kitts and Nevis</td>\n",
       "      <td id=\"T_9e92d_row146_col1\" class=\"data row146 col1\" >0.000000</td>\n",
       "      <td id=\"T_9e92d_row146_col2\" class=\"data row146 col2\" >0.001814</td>\n",
       "      <td id=\"T_9e92d_row146_col3\" class=\"data row146 col3\" >0.000000</td>\n",
       "    </tr>\n",
       "    <tr>\n",
       "      <th id=\"T_9e92d_level0_row147\" class=\"row_heading level0 row147\" >171</th>\n",
       "      <td id=\"T_9e92d_row147_col0\" class=\"data row147 col0\" >Saint Lucia</td>\n",
       "      <td id=\"T_9e92d_row147_col1\" class=\"data row147 col1\" >0.000000</td>\n",
       "      <td id=\"T_9e92d_row147_col2\" class=\"data row147 col2\" >0.000000</td>\n",
       "      <td id=\"T_9e92d_row147_col3\" class=\"data row147 col3\" >0.000000</td>\n",
       "    </tr>\n",
       "    <tr>\n",
       "      <th id=\"T_9e92d_level0_row148\" class=\"row_heading level0 row148\" >42</th>\n",
       "      <td id=\"T_9e92d_row148_col0\" class=\"data row148 col0\" >Serbia</td>\n",
       "      <td id=\"T_9e92d_row148_col1\" class=\"data row148 col1\" >0.000000</td>\n",
       "      <td id=\"T_9e92d_row148_col2\" class=\"data row148 col2\" >0.000000</td>\n",
       "      <td id=\"T_9e92d_row148_col3\" class=\"data row148 col3\" >0.000000</td>\n",
       "    </tr>\n",
       "    <tr>\n",
       "      <th id=\"T_9e92d_level0_row149\" class=\"row_heading level0 row149\" >173</th>\n",
       "      <td id=\"T_9e92d_row149_col0\" class=\"data row149 col0\" >Burundi</td>\n",
       "      <td id=\"T_9e92d_row149_col1\" class=\"data row149 col1\" >0.000000</td>\n",
       "      <td id=\"T_9e92d_row149_col2\" class=\"data row149 col2\" >0.000000</td>\n",
       "      <td id=\"T_9e92d_row149_col3\" class=\"data row149 col3\" >0.000000</td>\n",
       "    </tr>\n",
       "    <tr>\n",
       "      <th id=\"T_9e92d_level0_row150\" class=\"row_heading level0 row150\" >174</th>\n",
       "      <td id=\"T_9e92d_row150_col0\" class=\"data row150 col0\" >Seychelles</td>\n",
       "      <td id=\"T_9e92d_row150_col1\" class=\"data row150 col1\" >0.000000</td>\n",
       "      <td id=\"T_9e92d_row150_col2\" class=\"data row150 col2\" >0.000000</td>\n",
       "      <td id=\"T_9e92d_row150_col3\" class=\"data row150 col3\" >0.000000</td>\n",
       "    </tr>\n",
       "    <tr>\n",
       "      <th id=\"T_9e92d_level0_row151\" class=\"row_heading level0 row151\" >175</th>\n",
       "      <td id=\"T_9e92d_row151_col0\" class=\"data row151 col0\" >Nicaragua</td>\n",
       "      <td id=\"T_9e92d_row151_col1\" class=\"data row151 col1\" >0.000000</td>\n",
       "      <td id=\"T_9e92d_row151_col2\" class=\"data row151 col2\" >0.000000</td>\n",
       "      <td id=\"T_9e92d_row151_col3\" class=\"data row151 col3\" >0.000000</td>\n",
       "    </tr>\n",
       "    <tr>\n",
       "      <th id=\"T_9e92d_level0_row152\" class=\"row_heading level0 row152\" >177</th>\n",
       "      <td id=\"T_9e92d_row152_col0\" class=\"data row152 col0\" >Suriname</td>\n",
       "      <td id=\"T_9e92d_row152_col1\" class=\"data row152 col1\" >0.000000</td>\n",
       "      <td id=\"T_9e92d_row152_col2\" class=\"data row152 col2\" >0.001814</td>\n",
       "      <td id=\"T_9e92d_row152_col3\" class=\"data row152 col3\" >0.000000</td>\n",
       "    </tr>\n",
       "    <tr>\n",
       "      <th id=\"T_9e92d_level0_row153\" class=\"row_heading level0 row153\" >176</th>\n",
       "      <td id=\"T_9e92d_row153_col0\" class=\"data row153 col0\" >Gambia</td>\n",
       "      <td id=\"T_9e92d_row153_col1\" class=\"data row153 col1\" >0.000000</td>\n",
       "      <td id=\"T_9e92d_row153_col2\" class=\"data row153 col2\" >0.010886</td>\n",
       "      <td id=\"T_9e92d_row153_col3\" class=\"data row153 col3\" >0.000000</td>\n",
       "    </tr>\n",
       "    <tr>\n",
       "      <th id=\"T_9e92d_level0_row154\" class=\"row_heading level0 row154\" >165</th>\n",
       "      <td id=\"T_9e92d_row154_col0\" class=\"data row154 col0\" >Fiji</td>\n",
       "      <td id=\"T_9e92d_row154_col1\" class=\"data row154 col1\" >0.000000</td>\n",
       "      <td id=\"T_9e92d_row154_col2\" class=\"data row154 col2\" >0.003629</td>\n",
       "      <td id=\"T_9e92d_row154_col3\" class=\"data row154 col3\" >0.000000</td>\n",
       "    </tr>\n",
       "    <tr>\n",
       "      <th id=\"T_9e92d_level0_row155\" class=\"row_heading level0 row155\" >178</th>\n",
       "      <td id=\"T_9e92d_row155_col0\" class=\"data row155 col0\" >Holy See</td>\n",
       "      <td id=\"T_9e92d_row155_col1\" class=\"data row155 col1\" >0.000000</td>\n",
       "      <td id=\"T_9e92d_row155_col2\" class=\"data row155 col2\" >0.000000</td>\n",
       "      <td id=\"T_9e92d_row155_col3\" class=\"data row155 col3\" >0.000000</td>\n",
       "    </tr>\n",
       "    <tr>\n",
       "      <th id=\"T_9e92d_level0_row156\" class=\"row_heading level0 row156\" >179</th>\n",
       "      <td id=\"T_9e92d_row156_col0\" class=\"data row156 col0\" >MS Zaandam</td>\n",
       "      <td id=\"T_9e92d_row156_col1\" class=\"data row156 col1\" >0.000000</td>\n",
       "      <td id=\"T_9e92d_row156_col2\" class=\"data row156 col2\" >0.000000</td>\n",
       "      <td id=\"T_9e92d_row156_col3\" class=\"data row156 col3\" >0.000000</td>\n",
       "    </tr>\n",
       "    <tr>\n",
       "      <th id=\"T_9e92d_level0_row157\" class=\"row_heading level0 row157\" >180</th>\n",
       "      <td id=\"T_9e92d_row157_col0\" class=\"data row157 col0\" >Papua New Guinea</td>\n",
       "      <td id=\"T_9e92d_row157_col1\" class=\"data row157 col1\" >0.000000</td>\n",
       "      <td id=\"T_9e92d_row157_col2\" class=\"data row157 col2\" >0.000000</td>\n",
       "      <td id=\"T_9e92d_row157_col3\" class=\"data row157 col3\" >0.000000</td>\n",
       "    </tr>\n",
       "    <tr>\n",
       "      <th id=\"T_9e92d_level0_row158\" class=\"row_heading level0 row158\" >181</th>\n",
       "      <td id=\"T_9e92d_row158_col0\" class=\"data row158 col0\" >Mauritania</td>\n",
       "      <td id=\"T_9e92d_row158_col1\" class=\"data row158 col1\" >0.000000</td>\n",
       "      <td id=\"T_9e92d_row158_col2\" class=\"data row158 col2\" >0.000000</td>\n",
       "      <td id=\"T_9e92d_row158_col3\" class=\"data row158 col3\" >0.000000</td>\n",
       "    </tr>\n",
       "    <tr>\n",
       "      <th id=\"T_9e92d_level0_row159\" class=\"row_heading level0 row159\" >182</th>\n",
       "      <td id=\"T_9e92d_row159_col0\" class=\"data row159 col0\" >Bhutan</td>\n",
       "      <td id=\"T_9e92d_row159_col1\" class=\"data row159 col1\" >0.000000</td>\n",
       "      <td id=\"T_9e92d_row159_col2\" class=\"data row159 col2\" >0.000000</td>\n",
       "      <td id=\"T_9e92d_row159_col3\" class=\"data row159 col3\" >0.000000</td>\n",
       "    </tr>\n",
       "    <tr>\n",
       "      <th id=\"T_9e92d_level0_row160\" class=\"row_heading level0 row160\" >183</th>\n",
       "      <td id=\"T_9e92d_row160_col0\" class=\"data row160 col0\" >Western Sahara</td>\n",
       "      <td id=\"T_9e92d_row160_col1\" class=\"data row160 col1\" >0.000000</td>\n",
       "      <td id=\"T_9e92d_row160_col2\" class=\"data row160 col2\" >0.000000</td>\n",
       "      <td id=\"T_9e92d_row160_col3\" class=\"data row160 col3\" >0.000000</td>\n",
       "    </tr>\n",
       "    <tr>\n",
       "      <th id=\"T_9e92d_level0_row161\" class=\"row_heading level0 row161\" >184</th>\n",
       "      <td id=\"T_9e92d_row161_col0\" class=\"data row161 col0\" >South Sudan</td>\n",
       "      <td id=\"T_9e92d_row161_col1\" class=\"data row161 col1\" >0.000000</td>\n",
       "      <td id=\"T_9e92d_row161_col2\" class=\"data row161 col2\" >0.000000</td>\n",
       "      <td id=\"T_9e92d_row161_col3\" class=\"data row161 col3\" >0.000000</td>\n",
       "    </tr>\n",
       "    <tr>\n",
       "      <th id=\"T_9e92d_level0_row162\" class=\"row_heading level0 row162\" >185</th>\n",
       "      <td id=\"T_9e92d_row162_col0\" class=\"data row162 col0\" >Sao Tome and Principe</td>\n",
       "      <td id=\"T_9e92d_row162_col1\" class=\"data row162 col1\" >0.000000</td>\n",
       "      <td id=\"T_9e92d_row162_col2\" class=\"data row162 col2\" >0.000000</td>\n",
       "      <td id=\"T_9e92d_row162_col3\" class=\"data row162 col3\" >0.000000</td>\n",
       "    </tr>\n",
       "    <tr>\n",
       "      <th id=\"T_9e92d_level0_row163\" class=\"row_heading level0 row163\" >166</th>\n",
       "      <td id=\"T_9e92d_row163_col0\" class=\"data row163 col0\" >Namibia</td>\n",
       "      <td id=\"T_9e92d_row163_col1\" class=\"data row163 col1\" >0.000000</td>\n",
       "      <td id=\"T_9e92d_row163_col2\" class=\"data row163 col2\" >0.000000</td>\n",
       "      <td id=\"T_9e92d_row163_col3\" class=\"data row163 col3\" >0.000000</td>\n",
       "    </tr>\n",
       "    <tr>\n",
       "      <th id=\"T_9e92d_level0_row164\" class=\"row_heading level0 row164\" >163</th>\n",
       "      <td id=\"T_9e92d_row164_col0\" class=\"data row164 col0\" >Laos</td>\n",
       "      <td id=\"T_9e92d_row164_col1\" class=\"data row164 col1\" >0.000000</td>\n",
       "      <td id=\"T_9e92d_row164_col2\" class=\"data row164 col2\" >0.000000</td>\n",
       "      <td id=\"T_9e92d_row164_col3\" class=\"data row164 col3\" >0.000000</td>\n",
       "    </tr>\n",
       "    <tr>\n",
       "      <th id=\"T_9e92d_level0_row165\" class=\"row_heading level0 row165\" >164</th>\n",
       "      <td id=\"T_9e92d_row165_col0\" class=\"data row165 col0\" >Belize</td>\n",
       "      <td id=\"T_9e92d_row165_col1\" class=\"data row165 col1\" >0.000000</td>\n",
       "      <td id=\"T_9e92d_row165_col2\" class=\"data row165 col2\" >0.000000</td>\n",
       "      <td id=\"T_9e92d_row165_col3\" class=\"data row165 col3\" >0.000000</td>\n",
       "    </tr>\n",
       "    <tr>\n",
       "      <th id=\"T_9e92d_level0_row166\" class=\"row_heading level0 row166\" >140</th>\n",
       "      <td id=\"T_9e92d_row166_col0\" class=\"data row166 col0\" >Liechtenstein</td>\n",
       "      <td id=\"T_9e92d_row166_col1\" class=\"data row166 col1\" >0.000000</td>\n",
       "      <td id=\"T_9e92d_row166_col2\" class=\"data row166 col2\" >0.000000</td>\n",
       "      <td id=\"T_9e92d_row166_col3\" class=\"data row166 col3\" >0.000000</td>\n",
       "    </tr>\n",
       "    <tr>\n",
       "      <th id=\"T_9e92d_level0_row167\" class=\"row_heading level0 row167\" >134</th>\n",
       "      <td id=\"T_9e92d_row167_col0\" class=\"data row167 col0\" >Trinidad and Tobago</td>\n",
       "      <td id=\"T_9e92d_row167_col1\" class=\"data row167 col1\" >0.000000</td>\n",
       "      <td id=\"T_9e92d_row167_col2\" class=\"data row167 col2\" >0.000000</td>\n",
       "      <td id=\"T_9e92d_row167_col3\" class=\"data row167 col3\" >0.000000</td>\n",
       "    </tr>\n",
       "    <tr>\n",
       "      <th id=\"T_9e92d_level0_row168\" class=\"row_heading level0 row168\" >130</th>\n",
       "      <td id=\"T_9e92d_row168_col0\" class=\"data row168 col0\" >Cambodia</td>\n",
       "      <td id=\"T_9e92d_row168_col1\" class=\"data row168 col1\" >0.000000</td>\n",
       "      <td id=\"T_9e92d_row168_col2\" class=\"data row168 col2\" >0.012701</td>\n",
       "      <td id=\"T_9e92d_row168_col3\" class=\"data row168 col3\" >0.000000</td>\n",
       "    </tr>\n",
       "    <tr>\n",
       "      <th id=\"T_9e92d_level0_row169\" class=\"row_heading level0 row169\" >145</th>\n",
       "      <td id=\"T_9e92d_row169_col0\" class=\"data row169 col0\" >Haiti</td>\n",
       "      <td id=\"T_9e92d_row169_col1\" class=\"data row169 col1\" >0.000000</td>\n",
       "      <td id=\"T_9e92d_row169_col2\" class=\"data row169 col2\" >0.007258</td>\n",
       "      <td id=\"T_9e92d_row169_col3\" class=\"data row169 col3\" >0.015870</td>\n",
       "    </tr>\n",
       "    <tr>\n",
       "      <th id=\"T_9e92d_level0_row170\" class=\"row_heading level0 row170\" >128</th>\n",
       "      <td id=\"T_9e92d_row170_col0\" class=\"data row170 col0\" >Brunei</td>\n",
       "      <td id=\"T_9e92d_row170_col1\" class=\"data row170 col1\" >0.000000</td>\n",
       "      <td id=\"T_9e92d_row170_col2\" class=\"data row170 col2\" >0.001814</td>\n",
       "      <td id=\"T_9e92d_row170_col3\" class=\"data row170 col3\" >0.000000</td>\n",
       "    </tr>\n",
       "    <tr>\n",
       "      <th id=\"T_9e92d_level0_row171\" class=\"row_heading level0 row171\" >125</th>\n",
       "      <td id=\"T_9e92d_row171_col0\" class=\"data row171 col0\" >Sudan</td>\n",
       "      <td id=\"T_9e92d_row171_col1\" class=\"data row171 col1\" >0.000000</td>\n",
       "      <td id=\"T_9e92d_row171_col2\" class=\"data row171 col2\" >0.000000</td>\n",
       "      <td id=\"T_9e92d_row171_col3\" class=\"data row171 col3\" >0.000000</td>\n",
       "    </tr>\n",
       "    <tr>\n",
       "      <th id=\"T_9e92d_level0_row172\" class=\"row_heading level0 row172\" >148</th>\n",
       "      <td id=\"T_9e92d_row172_col0\" class=\"data row172 col0\" >Benin</td>\n",
       "      <td id=\"T_9e92d_row172_col1\" class=\"data row172 col1\" >0.000000</td>\n",
       "      <td id=\"T_9e92d_row172_col2\" class=\"data row172 col2\" >0.000000</td>\n",
       "      <td id=\"T_9e92d_row172_col3\" class=\"data row172 col3\" >0.000000</td>\n",
       "    </tr>\n",
       "    <tr>\n",
       "      <th id=\"T_9e92d_level0_row173\" class=\"row_heading level0 row173\" >113</th>\n",
       "      <td id=\"T_9e92d_row173_col0\" class=\"data row173 col0\" >Somalia</td>\n",
       "      <td id=\"T_9e92d_row173_col1\" class=\"data row173 col1\" >0.000000</td>\n",
       "      <td id=\"T_9e92d_row173_col2\" class=\"data row173 col2\" >0.000000</td>\n",
       "      <td id=\"T_9e92d_row173_col3\" class=\"data row173 col3\" >0.000000</td>\n",
       "    </tr>\n",
       "    <tr>\n",
       "      <th id=\"T_9e92d_level0_row174\" class=\"row_heading level0 row174\" >112</th>\n",
       "      <td id=\"T_9e92d_row174_col0\" class=\"data row174 col0\" >Mauritius</td>\n",
       "      <td id=\"T_9e92d_row174_col1\" class=\"data row174 col1\" >0.000000</td>\n",
       "      <td id=\"T_9e92d_row174_col2\" class=\"data row174 col2\" >0.034473</td>\n",
       "      <td id=\"T_9e92d_row174_col3\" class=\"data row174 col3\" >0.000000</td>\n",
       "    </tr>\n",
       "    <tr>\n",
       "      <th id=\"T_9e92d_level0_row175\" class=\"row_heading level0 row175\" >151</th>\n",
       "      <td id=\"T_9e92d_row175_col0\" class=\"data row175 col0\" >Macau</td>\n",
       "      <td id=\"T_9e92d_row175_col1\" class=\"data row175 col1\" >0.000000</td>\n",
       "      <td id=\"T_9e92d_row175_col2\" class=\"data row175 col2\" >0.000000</td>\n",
       "      <td id=\"T_9e92d_row175_col3\" class=\"data row175 col3\" >0.000000</td>\n",
       "    </tr>\n",
       "    <tr>\n",
       "      <th id=\"T_9e92d_level0_row176\" class=\"row_heading level0 row176\" >152</th>\n",
       "      <td id=\"T_9e92d_row176_col0\" class=\"data row176 col0\" >Syria</td>\n",
       "      <td id=\"T_9e92d_row176_col1\" class=\"data row176 col1\" >0.000000</td>\n",
       "      <td id=\"T_9e92d_row176_col2\" class=\"data row176 col2\" >0.000000</td>\n",
       "      <td id=\"T_9e92d_row176_col3\" class=\"data row176 col3\" >0.000000</td>\n",
       "    </tr>\n",
       "    <tr>\n",
       "      <th id=\"T_9e92d_level0_row177\" class=\"row_heading level0 row177\" >154</th>\n",
       "      <td id=\"T_9e92d_row177_col0\" class=\"data row177 col0\" >Eritrea</td>\n",
       "      <td id=\"T_9e92d_row177_col1\" class=\"data row177 col1\" >0.000000</td>\n",
       "      <td id=\"T_9e92d_row177_col2\" class=\"data row177 col2\" >0.009072</td>\n",
       "      <td id=\"T_9e92d_row177_col3\" class=\"data row177 col3\" >0.000000</td>\n",
       "    </tr>\n",
       "    <tr>\n",
       "      <th id=\"T_9e92d_level0_row178\" class=\"row_heading level0 row178\" >102</th>\n",
       "      <td id=\"T_9e92d_row178_col0\" class=\"data row178 col0\" >Kosovo</td>\n",
       "      <td id=\"T_9e92d_row178_col1\" class=\"data row178 col1\" >0.000000</td>\n",
       "      <td id=\"T_9e92d_row178_col2\" class=\"data row178 col2\" >0.000000</td>\n",
       "      <td id=\"T_9e92d_row178_col3\" class=\"data row178 col3\" >0.000000</td>\n",
       "    </tr>\n",
       "    <tr>\n",
       "      <th id=\"T_9e92d_level0_row179\" class=\"row_heading level0 row179\" >91</th>\n",
       "      <td id=\"T_9e92d_row179_col0\" class=\"data row179 col0\" >Diamond Princess</td>\n",
       "      <td id=\"T_9e92d_row179_col1\" class=\"data row179 col1\" >0.000000</td>\n",
       "      <td id=\"T_9e92d_row179_col2\" class=\"data row179 col2\" >0.000000</td>\n",
       "      <td id=\"T_9e92d_row179_col3\" class=\"data row179 col3\" >0.000000</td>\n",
       "    </tr>\n",
       "    <tr>\n",
       "      <th id=\"T_9e92d_level0_row180\" class=\"row_heading level0 row180\" >157</th>\n",
       "      <td id=\"T_9e92d_row180_col0\" class=\"data row180 col0\" >Malawi</td>\n",
       "      <td id=\"T_9e92d_row180_col1\" class=\"data row180 col1\" >0.000000</td>\n",
       "      <td id=\"T_9e92d_row180_col2\" class=\"data row180 col2\" >0.001814</td>\n",
       "      <td id=\"T_9e92d_row180_col3\" class=\"data row180 col3\" >0.000000</td>\n",
       "    </tr>\n",
       "    <tr>\n",
       "      <th id=\"T_9e92d_level0_row181\" class=\"row_heading level0 row181\" >83</th>\n",
       "      <td id=\"T_9e92d_row181_col0\" class=\"data row181 col0\" >Hong Kong</td>\n",
       "      <td id=\"T_9e92d_row181_col1\" class=\"data row181 col1\" >0.000000</td>\n",
       "      <td id=\"T_9e92d_row181_col2\" class=\"data row181 col2\" >0.047174</td>\n",
       "      <td id=\"T_9e92d_row181_col3\" class=\"data row181 col3\" >0.000000</td>\n",
       "    </tr>\n",
       "    <tr>\n",
       "      <th id=\"T_9e92d_level0_row182\" class=\"row_heading level0 row182\" >159</th>\n",
       "      <td id=\"T_9e92d_row182_col0\" class=\"data row182 col0\" >Angola</td>\n",
       "      <td id=\"T_9e92d_row182_col1\" class=\"data row182 col1\" >0.000000</td>\n",
       "      <td id=\"T_9e92d_row182_col2\" class=\"data row182 col2\" >0.000000</td>\n",
       "      <td id=\"T_9e92d_row182_col3\" class=\"data row182 col3\" >0.000000</td>\n",
       "    </tr>\n",
       "    <tr>\n",
       "      <th id=\"T_9e92d_level0_row183\" class=\"row_heading level0 row183\" >160</th>\n",
       "      <td id=\"T_9e92d_row183_col0\" class=\"data row183 col0\" >Antigua and Barbuda</td>\n",
       "      <td id=\"T_9e92d_row183_col1\" class=\"data row183 col1\" >0.000000</td>\n",
       "      <td id=\"T_9e92d_row183_col2\" class=\"data row183 col2\" >0.001814</td>\n",
       "      <td id=\"T_9e92d_row183_col3\" class=\"data row183 col3\" >0.000000</td>\n",
       "    </tr>\n",
       "    <tr>\n",
       "      <th id=\"T_9e92d_level0_row184\" class=\"row_heading level0 row184\" >65</th>\n",
       "      <td id=\"T_9e92d_row184_col0\" class=\"data row184 col0\" >Iceland</td>\n",
       "      <td id=\"T_9e92d_row184_col1\" class=\"data row184 col1\" >0.000000</td>\n",
       "      <td id=\"T_9e92d_row184_col2\" class=\"data row184 col2\" >0.059875</td>\n",
       "      <td id=\"T_9e92d_row184_col3\" class=\"data row184 col3\" >0.000000</td>\n",
       "    </tr>\n",
       "    <tr>\n",
       "      <th id=\"T_9e92d_level0_row185\" class=\"row_heading level0 row185\" >162</th>\n",
       "      <td id=\"T_9e92d_row185_col0\" class=\"data row185 col0\" >Botswana</td>\n",
       "      <td id=\"T_9e92d_row185_col1\" class=\"data row185 col1\" >0.000000</td>\n",
       "      <td id=\"T_9e92d_row185_col2\" class=\"data row185 col2\" >0.000000</td>\n",
       "      <td id=\"T_9e92d_row185_col3\" class=\"data row185 col3\" >0.000000</td>\n",
       "    </tr>\n",
       "    <tr>\n",
       "      <th id=\"T_9e92d_level0_row186\" class=\"row_heading level0 row186\" >186</th>\n",
       "      <td id=\"T_9e92d_row186_col0\" class=\"data row186 col0\" >Yemen</td>\n",
       "      <td id=\"T_9e92d_row186_col1\" class=\"data row186 col1\" >0.000000</td>\n",
       "      <td id=\"T_9e92d_row186_col2\" class=\"data row186 col2\" >0.001814</td>\n",
       "      <td id=\"T_9e92d_row186_col3\" class=\"data row186 col3\" >0.000000</td>\n",
       "    </tr>\n",
       "  </tbody>\n",
       "</table>\n"
      ],
      "text/plain": [
       "<pandas.io.formats.style.Styler at 0x255c0bf95a0>"
      ]
     },
     "execution_count": 31,
     "metadata": {},
     "output_type": "execute_result"
    }
   ],
   "source": [
    "Last_24_Hours_country[[\"Country Name\",\"Proportion of Confirmed\",\"Proportion of Recovered\",\"Proportion of Deaths\"]].sort_values([\"Proportion of Confirmed\"],ascending=False).style.background_gradient(cmap=\"Reds\")"
   ]
  },
  {
   "cell_type": "code",
   "execution_count": 32,
   "metadata": {
    "colab": {
     "base_uri": "https://localhost:8080/",
     "height": 121
    },
    "colab_type": "code",
    "id": "zrVntjFaKCN7",
    "outputId": "f1b64dd4-2893-4a70-8e0e-934aaf340d95"
   },
   "outputs": [
    {
     "name": "stdout",
     "output_type": "stream",
     "text": [
      "Confirmed    24530.0\n",
      "Recovered     5498.0\n",
      "Deaths         780.0\n",
      "Name: 2020-04-24 00:00:00, dtype: float64\n",
      "Total Active Cases 18252.0\n",
      "Total Closed Cases 6278.0\n"
     ]
    }
   ],
   "source": [
    "#Data Anlaysis for India\n",
    "india_data = covid[covid[\"Country/Region\"]==\"India\"]\n",
    "datewise_india = india_data.groupby([\"ObservationDate\"]).agg({\"Confirmed\":\"sum\",\"Recovered\":\"sum\",\"Deaths\":\"sum\"})\n",
    "print(datewise_india.iloc[-1])\n",
    "print(\"Total Active Cases\",datewise_india[\"Confirmed\"].iloc[-1]-datewise_india[\"Recovered\"].iloc[-1]-datewise_india[\"Deaths\"].iloc[-1])\n",
    "print(\"Total Closed Cases\",datewise_india[\"Recovered\"].iloc[-1]+datewise_india[\"Deaths\"].iloc[-1])"
   ]
  },
  {
   "cell_type": "code",
   "execution_count": 33,
   "metadata": {
    "colab": {
     "base_uri": "https://localhost:8080/",
     "height": 121
    },
    "colab_type": "code",
    "id": "PBvvKaqBLI3R",
    "outputId": "fd322fb4-c5c7-4dd6-9d44-37559c5f1bdd"
   },
   "outputs": [
    {
     "name": "stdout",
     "output_type": "stream",
     "text": [
      "Confirmed    905333.0\n",
      "Recovered     99079.0\n",
      "Deaths        51949.0\n",
      "Name: 2020-04-24 00:00:00, dtype: float64\n",
      "Total Active Cases 754305.0\n",
      "Total Closed Cases 151028.0\n"
     ]
    }
   ],
   "source": [
    "#Data Anlaysis for US\n",
    "us_data = covid[covid[\"Country/Region\"]==\"US\"]\n",
    "datewise_us = us_data.groupby([\"ObservationDate\"]).agg({\"Confirmed\":\"sum\",\"Recovered\":\"sum\",\"Deaths\":\"sum\"})\n",
    "print(datewise_us.iloc[-1])\n",
    "print(\"Total Active Cases\",datewise_us[\"Confirmed\"].iloc[-1]-datewise_us[\"Recovered\"].iloc[-1]-datewise_us[\"Deaths\"].iloc[-1])\n",
    "print(\"Total Closed Cases\",datewise_us[\"Recovered\"].iloc[-1]+datewise_us[\"Deaths\"].iloc[-1])"
   ]
  },
  {
   "cell_type": "code",
   "execution_count": 34,
   "metadata": {
    "colab": {
     "base_uri": "https://localhost:8080/",
     "height": 367
    },
    "colab_type": "code",
    "id": "24HqY4g_Lj7M",
    "outputId": "cffdb2be-d8e3-4f24-d0a5-8f2d4e8e2b4f"
   },
   "outputs": [
    {
     "name": "stderr",
     "output_type": "stream",
     "text": [
      "C:\\Users\\abhis\\AppData\\Local\\Temp\\ipykernel_15064\\526559355.py:1: FutureWarning:\n",
      "\n",
      "weekofyear and week have been deprecated, please use DatetimeIndex.isocalendar().week instead, which returns a Series. To exactly reproduce the behavior of week and weekofyear and return an Index, you may call pd.Int64Index(idx.isocalendar().week)\n",
      "\n"
     ]
    },
    {
     "data": {
      "text/plain": [
       "Text(0.5, 1.0, 'Weekly Progress of different types of cases')"
      ]
     },
     "execution_count": 34,
     "metadata": {},
     "output_type": "execute_result"
    },
    {
     "data": {
      "image/png": "[encoded data removed]",
      "text/plain": [
       "<Figure size 576x360 with 1 Axes>"
      ]
     },
     "metadata": {
      "needs_background": "light"
     },
     "output_type": "display_data"
    }
   ],
   "source": [
    "datewise_india[\"WeekofYear\"] = datewise_india.index.weekofyear\n",
    "week_num_india = []\n",
    "india_weekwise_confirmed = []\n",
    "india_weekwise_recovered = []\n",
    "india_weekwise_deaths = []\n",
    "w = 1\n",
    "for i in list(datewise_india[\"WeekofYear\"].unique()):\n",
    "    india_weekwise_confirmed.append(datewise_india[datewise_india[\"WeekofYear\"]==i][\"Confirmed\"].iloc[-1])\n",
    "    india_weekwise_recovered.append(datewise_india[datewise_india[\"WeekofYear\"]==i][\"Recovered\"].iloc[-1])\n",
    "    india_weekwise_deaths.append(datewise_india[datewise_india[\"WeekofYear\"]==i][\"Deaths\"].iloc[-1])\n",
    "    week_num_india.append(w)\n",
    "    w=w+1\n",
    "plt.figure(figsize=(8,5))\n",
    "plt.plot(week_num_india,india_weekwise_confirmed,linewidth=3)\n",
    "plt.plot(week_num_india,india_weekwise_recovered,linewidth =3)\n",
    "plt.plot(week_num_india,india_weekwise_deaths,linewidth = 3)\n",
    "plt.xlabel(\"WeekNumber\")\n",
    "plt.ylabel(\"Number of cases\")\n",
    "plt.title(\"Weekly Progress of different types of cases\")"
   ]
  },
  {
   "cell_type": "code",
   "execution_count": 35,
   "metadata": {
    "colab": {
     "base_uri": "https://localhost:8080/",
     "height": 104
    },
    "colab_type": "code",
    "id": "xIQfC2KtMdz4",
    "outputId": "a2b96a80-6a58-4c37-b03d-7d0ec0bec5c7"
   },
   "outputs": [
    {
     "name": "stdout",
     "output_type": "stream",
     "text": [
      "It took 86 days in India to reach 24530.0 Confirmed Cases\n",
      "It took 44 days in Italy to reach number of Confirmed Cases\n",
      "It took 59 days in US to reach number of Confirmed Cases\n",
      "It took 49 days in Spain to reach number of Confirmed Cases\n",
      "It took 14 days in China to reach number of Confirmed Cases\n"
     ]
    }
   ],
   "source": [
    "max_ind = datewise_india[\"Confirmed\"].max()\n",
    "china_data = covid[covid[\"Country/Region\"]==\"Mainland China\"]\n",
    "Italy_data = covid[covid[\"Country/Region\"]==\"Italy\"]\n",
    "US_data = covid[covid[\"Country/Region\"]==\"US\"]\n",
    "spain_data = covid[covid[\"Country/Region\"]==\"Spain\"]\n",
    "datewise_china = china_data.groupby([\"ObservationDate\"]).agg({\"Confirmed\":\"sum\",\"Recovered\":\"sum\",\"Deaths\":\"sum\"})\n",
    "datewise_Italy = Italy_data.groupby([\"ObservationDate\"]).agg({\"Confirmed\":\"sum\",\"Recovered\":\"sum\",\"Deaths\":\"sum\"})\n",
    "datewise_US=US_data.groupby([\"ObservationDate\"]).agg({\"Confirmed\":\"sum\",\"Recovered\":\"sum\",\"Deaths\":\"sum\"})\n",
    "datewise_Spain=spain_data.groupby([\"ObservationDate\"]).agg({\"Confirmed\":\"sum\",\"Recovered\":\"sum\",\"Deaths\":\"sum\"})\n",
    "print(\"It took\",datewise_india[datewise_india[\"Confirmed\"]>0].shape[0],\"days in India to reach\",max_ind,\"Confirmed Cases\")\n",
    "print(\"It took\",datewise_Italy[(datewise_Italy[\"Confirmed\"]>0)&(datewise_Italy[\"Confirmed\"]<=max_ind)].shape[0],\"days in Italy to reach number of Confirmed Cases\")\n",
    "print(\"It took\",datewise_US[(datewise_US[\"Confirmed\"]>0)&(datewise_US[\"Confirmed\"]<=max_ind)].shape[0],\"days in US to reach number of Confirmed Cases\")\n",
    "print(\"It took\",datewise_Spain[(datewise_Spain[\"Confirmed\"]>0)&(datewise_Spain[\"Confirmed\"]<=max_ind)].shape[0],\"days in Spain to reach number of Confirmed Cases\")\n",
    "print(\"It took\",datewise_china[(datewise_china[\"Confirmed\"]>0)&(datewise_china[\"Confirmed\"]<=max_ind)].shape[0],\"days in China to reach number of Confirmed Cases\")"
   ]
  },
  {
   "cell_type": "markdown",
   "metadata": {},
   "source": [
    "### **MACHINE LEARNING MODEL IMPLEMENTATION**"
   ]
  },
  {
   "cell_type": "code",
   "execution_count": 36,
   "metadata": {
    "colab": {},
    "colab_type": "code",
    "id": "YvJTmn_IQQW-"
   },
   "outputs": [],
   "source": [
    "datewise[\"Days Since\"]=datewise.index-datewise.index[0]\n",
    "datewise[\"Days Since\"] = datewise[\"Days Since\"].dt.days\n",
    "train_ml = datewise.iloc[:int(datewise.shape[0]*0.95)]\n",
    "valid_ml = datewise.iloc[:int(datewise.shape[0]*0.95):]\n",
    "model_scores=[]"
   ]
  },
  {
   "cell_type": "code",
   "execution_count": 37,
   "metadata": {
    "colab": {
     "base_uri": "https://localhost:8080/",
     "height": 107
    },
    "colab_type": "code",
    "id": "eqEkxiSTSFYM",
    "outputId": "d9735999-6df0-4848-9779-5dbc768b6bc5"
   },
   "outputs": [
    {
     "name": "stderr",
     "output_type": "stream",
     "text": [
      "C:\\Users\\abhis\\AppData\\Roaming\\Python\\Python310\\site-packages\\sklearn\\linear_model\\_base.py:141: FutureWarning:\n",
      "\n",
      "'normalize' was deprecated in version 1.0 and will be removed in 1.2.\n",
      "If you wish to scale the data, use Pipeline with a StandardScaler in a preprocessing stage. To reproduce the previous behavior:\n",
      "\n",
      "from sklearn.pipeline import make_pipeline\n",
      "\n",
      "model = make_pipeline(StandardScaler(with_mean=False), LinearRegression())\n",
      "\n",
      "If you wish to pass a sample_weight parameter, you need to pass it as a fit parameter to each step of the pipeline as follows:\n",
      "\n",
      "kwargs = {s[0] + '__sample_weight': sample_weight for s in model.steps}\n",
      "model.fit(X, y, **kwargs)\n",
      "\n",
      "\n",
      "\n",
      "C:\\Users\\abhis\\AppData\\Roaming\\Python\\Python310\\site-packages\\sklearn\\utils\\validation.py:993: DataConversionWarning:\n",
      "\n",
      "A column-vector y was passed when a 1d array was expected. Please change the shape of y to (n_samples, ), for example using ravel().\n",
      "\n"
     ]
    },
    {
     "data": {
      "text/plain": [
       "SVR(C=1, degree=5, epsilon=0.001, kernel='poly')"
      ]
     },
     "execution_count": 37,
     "metadata": {},
     "output_type": "execute_result"
    }
   ],
   "source": [
    "lin_reg = LinearRegression(normalize=True)\n",
    "svm = SVR(C=1,degree=5,kernel='poly',epsilon=0.001)\n",
    "lin_reg.fit(np.array(train_ml[\"Days Since\"]).reshape(-1,1),np.array(train_ml[\"Confirmed\"]).reshape(-1,1))\n",
    "svm.fit(np.array(train_ml[\"Days Since\"]).reshape(-1,1),np.array(train_ml[\"Confirmed\"]).reshape(-1,1))"
   ]
  },
  {
   "cell_type": "code",
   "execution_count": 38,
   "metadata": {
    "colab": {},
    "colab_type": "code",
    "id": "-vdSWf-vSs-i"
   },
   "outputs": [],
   "source": [
    "prediction_valid_lin_reg = lin_reg.predict(np.array(valid_ml[\"Days Since\"]).reshape(-1,1))\n",
    "prediction_valid_svm = svm.predict(np.array(valid_ml[\"Days Since\"]).reshape(-1,1))"
   ]
  },
  {
   "cell_type": "code",
   "execution_count": 55,
   "metadata": {
    "colab": {
     "base_uri": "https://localhost:8080/",
     "height": 202
    },
    "colab_type": "code",
    "id": "H5Ru-3q_THpI",
    "outputId": "e1d7d9d3-4043-46c7-c752-c384f49dd415"
   },
   "outputs": [
    {
     "data": {
      "text/html": [
       "<div>\n",
       "<style scoped>\n",
       "    .dataframe tbody tr th:only-of-type {\n",
       "        vertical-align: middle;\n",
       "    }\n",
       "\n",
       "    .dataframe tbody tr th {\n",
       "        vertical-align: top;\n",
       "    }\n",
       "\n",
       "    .dataframe thead th {\n",
       "        text-align: right;\n",
       "    }\n",
       "</style>\n",
       "<table border=\"1\" class=\"dataframe\">\n",
       "  <thead>\n",
       "    <tr style=\"text-align: right;\">\n",
       "      <th></th>\n",
       "      <th>Dates</th>\n",
       "      <th>LR</th>\n",
       "      <th>SVR</th>\n",
       "    </tr>\n",
       "  </thead>\n",
       "  <tbody>\n",
       "    <tr>\n",
       "      <th>0</th>\n",
       "      <td>2020-04-25</td>\n",
       "      <td>1560529</td>\n",
       "      <td>3322586</td>\n",
       "    </tr>\n",
       "    <tr>\n",
       "      <th>1</th>\n",
       "      <td>2020-04-26</td>\n",
       "      <td>1582219</td>\n",
       "      <td>3500761</td>\n",
       "    </tr>\n",
       "    <tr>\n",
       "      <th>2</th>\n",
       "      <td>2020-04-27</td>\n",
       "      <td>1603909</td>\n",
       "      <td>3686599</td>\n",
       "    </tr>\n",
       "    <tr>\n",
       "      <th>3</th>\n",
       "      <td>2020-04-28</td>\n",
       "      <td>1625599</td>\n",
       "      <td>3880344</td>\n",
       "    </tr>\n",
       "    <tr>\n",
       "      <th>4</th>\n",
       "      <td>2020-04-29</td>\n",
       "      <td>1647289</td>\n",
       "      <td>4082245</td>\n",
       "    </tr>\n",
       "  </tbody>\n",
       "</table>\n",
       "</div>"
      ],
      "text/plain": [
       "       Dates      LR     SVR\n",
       "0 2020-04-25 1560529 3322586\n",
       "1 2020-04-26 1582219 3500761\n",
       "2 2020-04-27 1603909 3686599\n",
       "3 2020-04-28 1625599 3880344\n",
       "4 2020-04-29 1647289 4082245"
      ]
     },
     "execution_count": 55,
     "metadata": {},
     "output_type": "execute_result"
    }
   ],
   "source": [
    "new_date = []\n",
    "new_prediction_lr=[]\n",
    "new_prediction_svm=[]\n",
    "for i in range(1,18):\n",
    "  new_date.append(datewise.index[-1]+timedelta(days=i))\n",
    "  new_prediction_lr.append(lin_reg.predict(np.array(datewise[\"Days Since\"].max()+i).reshape(-1,1))[0][0])\n",
    "  new_prediction_svm.append(svm.predict(np.array(datewise[\"Days Since\"].max()+i).reshape(-1,1))[0])\n",
    "pd.set_option(\"display.float_format\",lambda x: '%.f' % x)\n",
    "model_predictions=pd.DataFrame(zip(new_date,new_prediction_lr,new_prediction_svm),columns = [\"Dates\",\"LR\",\"SVR\"])\n",
    "model_predictions.head(5)"
   ]
  },
  {
   "cell_type": "code",
   "execution_count": 56,
   "metadata": {
    "colab": {},
    "colab_type": "code",
    "id": "X6Pt_-i5UZU_"
   },
   "outputs": [],
   "source": [
    "model_train=datewise.iloc[:int(datewise.shape[0]*0.85)]\n",
    "valid=datewise.iloc[int(datewise.shape[0]*0.85):]"
   ]
  },
  {
   "cell_type": "code",
   "execution_count": 42,
   "metadata": {
    "colab": {},
    "colab_type": "code",
    "id": "qd34fQ4IVzLR"
   },
   "outputs": [
    {
     "name": "stderr",
     "output_type": "stream",
     "text": [
      "C:\\Users\\abhis\\AppData\\Local\\Temp\\ipykernel_15064\\4165006727.py:1: FutureWarning:\n",
      "\n",
      "the 'smoothing_slope'' keyword is deprecated, use 'smoothing_trend' instead.\n",
      "\n"
     ]
    }
   ],
   "source": [
    "holt=Holt(np.asarray(model_train[\"Confirmed\"])).fit(smoothing_level=1.4,smoothing_slope=0.2)\n",
    "y_pred = valid.copy()\n",
    "y_pred[\"Holt\"]=holt.forecast(len(valid))"
   ]
  },
  {
   "cell_type": "code",
   "execution_count": 43,
   "metadata": {
    "colab": {
     "base_uri": "https://localhost:8080/",
     "height": 202
    },
    "colab_type": "code",
    "id": "ddhHqG1wWUXW",
    "outputId": "6d0440c7-33f8-4b3f-f3f5-a8e1c1dfd02a"
   },
   "outputs": [
    {
     "data": {
      "text/html": [
       "<div>\n",
       "<style scoped>\n",
       "    .dataframe tbody tr th:only-of-type {\n",
       "        vertical-align: middle;\n",
       "    }\n",
       "\n",
       "    .dataframe tbody tr th {\n",
       "        vertical-align: top;\n",
       "    }\n",
       "\n",
       "    .dataframe thead th {\n",
       "        text-align: right;\n",
       "    }\n",
       "</style>\n",
       "<table border=\"1\" class=\"dataframe\">\n",
       "  <thead>\n",
       "    <tr style=\"text-align: right;\">\n",
       "      <th></th>\n",
       "      <th>Dates</th>\n",
       "      <th>LR</th>\n",
       "      <th>SVR</th>\n",
       "      <th>Holts Linear Model Prediction</th>\n",
       "    </tr>\n",
       "  </thead>\n",
       "  <tbody>\n",
       "    <tr>\n",
       "      <th>0</th>\n",
       "      <td>2020-04-25</td>\n",
       "      <td>1560529</td>\n",
       "      <td>3322586</td>\n",
       "      <td>2855246</td>\n",
       "    </tr>\n",
       "    <tr>\n",
       "      <th>1</th>\n",
       "      <td>2020-04-26</td>\n",
       "      <td>1582219</td>\n",
       "      <td>3500761</td>\n",
       "      <td>2933902</td>\n",
       "    </tr>\n",
       "    <tr>\n",
       "      <th>2</th>\n",
       "      <td>2020-04-27</td>\n",
       "      <td>1603909</td>\n",
       "      <td>3686599</td>\n",
       "      <td>3012558</td>\n",
       "    </tr>\n",
       "    <tr>\n",
       "      <th>3</th>\n",
       "      <td>2020-04-28</td>\n",
       "      <td>1625599</td>\n",
       "      <td>3880344</td>\n",
       "      <td>3091214</td>\n",
       "    </tr>\n",
       "    <tr>\n",
       "      <th>4</th>\n",
       "      <td>2020-04-29</td>\n",
       "      <td>1647289</td>\n",
       "      <td>4082245</td>\n",
       "      <td>3169870</td>\n",
       "    </tr>\n",
       "  </tbody>\n",
       "</table>\n",
       "</div>"
      ],
      "text/plain": [
       "       Dates      LR     SVR  Holts Linear Model Prediction\n",
       "0 2020-04-25 1560529 3322586                        2855246\n",
       "1 2020-04-26 1582219 3500761                        2933902\n",
       "2 2020-04-27 1603909 3686599                        3012558\n",
       "3 2020-04-28 1625599 3880344                        3091214\n",
       "4 2020-04-29 1647289 4082245                        3169870"
      ]
     },
     "execution_count": 43,
     "metadata": {},
     "output_type": "execute_result"
    }
   ],
   "source": [
    "holt_new_date=[]\n",
    "holt_new_prediction=[]\n",
    "for i in range(1,18):\n",
    "   holt_new_date.append(datewise.index[-1]+timedelta(days=i))\n",
    "   holt_new_prediction.append(holt.forecast((len(valid)+i))[-1])\n",
    "\n",
    "model_predictions[\"Holts Linear Model Prediction\"]=holt_new_prediction\n",
    "model_predictions.head()"
   ]
  },
  {
   "cell_type": "code",
   "execution_count": null,
   "metadata": {
    "colab": {},
    "colab_type": "code",
    "id": "DqPWG2EeW2r9"
   },
   "outputs": [],
   "source": []
  }
 ],
 "metadata": {
  "colab": {
   "name": "covid.ipynb",
   "provenance": []
  },
  "kernelspec": {
   "display_name": "Python 3 (ipykernel)",
   "language": "python",
   "name": "python3"
  },
  "language_info": {
   "codemirror_mode": {
    "name": "ipython",
    "version": 3
   },
   "file_extension": ".py",
   "mimetype": "text/x-python",
   "name": "python",
   "nbconvert_exporter": "python",
   "pygments_lexer": "ipython3",
   "version": "3.10.2"
  }
 },
 "nbformat": 4,
 "nbformat_minor": 1
}
